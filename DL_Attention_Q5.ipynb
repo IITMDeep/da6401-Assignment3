{
 "cells": [
  {
   "cell_type": "code",
   "execution_count": 2,
   "metadata": {
    "_cell_guid": "b1076dfc-b9ad-4769-8c92-a6c4dae69d19",
    "_uuid": "8f2839f25d086af736a60e9eeb907d3b93b6e0e5",
    "execution": {
     "iopub.execute_input": "2025-05-19T07:06:57.157697Z",
     "iopub.status.busy": "2025-05-19T07:06:57.156896Z",
     "iopub.status.idle": "2025-05-19T07:07:04.163271Z",
     "shell.execute_reply": "2025-05-19T07:07:04.162528Z",
     "shell.execute_reply.started": "2025-05-19T07:06:57.157663Z"
    },
    "trusted": true
   },
   "outputs": [
    {
     "name": "stdout",
     "output_type": "stream",
     "text": [
      "cuda\n"
     ]
    }
   ],
   "source": [
    "# Import Lib\n",
    "\n",
    "import torch.nn as nn\n",
    "import torch.optim as optim\n",
    "import numpy as np\n",
    "import pandas as pd\n",
    "import torch\n",
    "from torch.autograd import Variable \n",
    "import copy\n",
    "from matplotlib.font_manager import FontProperties\n",
    "import torch.nn.functional as F\n",
    "from tqdm import tqdm\n",
    "from torch.utils.data import DataLoader, TensorDataset\n",
    "import random\n",
    "import heapq\n",
    "import wandb\n",
    "import matplotlib.pyplot as plt\n",
    "# Set device (CUDA if available)\n",
    "device = torch.device(\"cuda\" if torch.cuda.is_available() else \"cpu\")\n",
    "print(device)"
   ]
  },
  {
   "cell_type": "code",
   "execution_count": null,
   "metadata": {
    "execution": {
     "iopub.execute_input": "2025-05-19T07:07:04.164967Z",
     "iopub.status.busy": "2025-05-19T07:07:04.164593Z",
     "iopub.status.idle": "2025-05-19T07:07:08.332983Z",
     "shell.execute_reply": "2025-05-19T07:07:08.331993Z",
     "shell.execute_reply.started": "2025-05-19T07:07:04.164947Z"
    },
    "trusted": true
   },
   "outputs": [
    {
     "name": "stdout",
     "output_type": "stream",
     "text": [
      "\u001b[34m\u001b[1mwandb\u001b[0m: \u001b[33mWARNING\u001b[0m If you're specifying your api key in code, ensure this code is not shared publicly.\n",
      "\u001b[34m\u001b[1mwandb\u001b[0m: \u001b[33mWARNING\u001b[0m Consider setting the WANDB_API_KEY environment variable, or running `wandb login` from the command line.\n",
      "\u001b[34m\u001b[1mwandb\u001b[0m: No netrc file found, creating one.\n",
      "\u001b[34m\u001b[1mwandb\u001b[0m: Appending key for api.wandb.ai to your netrc file: /root/.netrc\n",
      "\u001b[34m\u001b[1mwandb\u001b[0m: W&B API key is configured. Use \u001b[1m`wandb login --relogin`\u001b[0m to force relogin\n"
     ]
    }
   ],
   "source": [
    "# !wandb login 6a66920f640c7001ec17ad4aa7a5da8b378aee61"
   ]
  },
  {
   "cell_type": "markdown",
   "metadata": {},
   "source": [
    "## PREPROCESSING"
   ]
  },
  {
   "cell_type": "code",
   "execution_count": 4,
   "metadata": {
    "execution": {
     "iopub.execute_input": "2025-05-19T07:07:08.334486Z",
     "iopub.status.busy": "2025-05-19T07:07:08.334186Z",
     "iopub.status.idle": "2025-05-19T07:07:10.380586Z",
     "shell.execute_reply": "2025-05-19T07:07:10.379786Z",
     "shell.execute_reply.started": "2025-05-19T07:07:08.334461Z"
    },
    "trusted": true
   },
   "outputs": [
    {
     "name": "stdout",
     "output_type": "stream",
     "text": [
      "Input Lookup Table: {'': 0, '^': 1, '$': 2, 'ँ': 3, 'ं': 4, 'ः': 5, 'अ': 6, 'आ': 7, 'इ': 8, 'ई': 9, 'उ': 10, 'ऊ': 11, 'ऋ': 12, 'ए': 13, 'ऐ': 14, 'ऑ': 15, 'ओ': 16, 'औ': 17, 'क': 18, 'ख': 19, 'ग': 20, 'घ': 21, 'ङ': 22, 'च': 23, 'छ': 24, 'ज': 25, 'झ': 26, 'ञ': 27, 'ट': 28, 'ठ': 29, 'ड': 30, 'ढ': 31, 'ण': 32, 'त': 33, 'थ': 34, 'द': 35, 'ध': 36, 'न': 37, 'प': 38, 'फ': 39, 'ब': 40, 'भ': 41, 'म': 42, 'य': 43, 'र': 44, 'ल': 45, 'व': 46, 'श': 47, 'ष': 48, 'स': 49, 'ह': 50, '़': 51, 'ा': 52, 'ि': 53, 'ी': 54, 'ु': 55, 'ू': 56, 'ृ': 57, 'ॅ': 58, 'े': 59, 'ै': 60, 'ॉ': 61, 'ो': 62, 'ौ': 63, '्': 64, 'ॐ': 65}\n",
      "\n",
      "\n",
      " Output Lookup Table {'': 0, '^': 1, '$': 2, 'a': 3, 'b': 4, 'c': 5, 'd': 6, 'e': 7, 'f': 8, 'g': 9, 'h': 10, 'i': 11, 'j': 12, 'k': 13, 'l': 14, 'm': 15, 'n': 16, 'o': 17, 'p': 18, 'q': 19, 'r': 20, 's': 21, 't': 22, 'u': 23, 'v': 24, 'w': 25, 'x': 26, 'y': 27, 'z': 28}\n",
      "\n",
      " tensor([6, 4, 2, 0, 0, 0, 0, 0, 0, 0, 0, 0, 0, 0, 0, 0, 0, 0, 0, 0, 0]) tensor([ 1,  3, 16,  2,  0,  0,  0,  0,  0,  0,  0,  0,  0,  0,  0,  0,  0,  0,\n",
      "         0,  0,  0])\n",
      "Training Input: torch.Size([21, 44204]) torch.Size([21, 44204])\n",
      "Validation torch.Size([21, 4358]) torch.Size([21, 4358])\n",
      "          0           1  2\n",
      "0       अं$        ^an$  3\n",
      "1  अंकगणित$  ^ankganit$  3\n",
      "2     अंकल$     ^uncle$  4\n",
      "3    अंकुर$     ^ankur$  4\n",
      "4   अंकुरण$   ^ankuran$  3\n"
     ]
    }
   ],
   "source": [
    "def encode(x, max_length, char_to_idx):\n",
    "    encoded = np.zeros(max_length, dtype=int)\n",
    "    encoder = np.array([char_to_idx[char] for char in x])\n",
    "    length = min(max_length, len(encoder))\n",
    "    encoded[:length] = encoder[:length]\n",
    "\n",
    "    return torch.tensor(encoded, dtype=torch.int64), length\n",
    "\n",
    "def get_tensor_object(df, max_input_length, max_output_length, char_to_idx_input, char_to_idx_output):\n",
    "    # Encode unique inputs and outputs into tensors\n",
    "    encoded_inputs = []\n",
    "    encoded_outputs = []\n",
    "\n",
    "    # Encode the input column\n",
    "    for input_str in df[0]:\n",
    "        encoded_input, input_length = encode(input_str, max_input_length, char_to_idx_input)\n",
    "        encoded_inputs.append(encoded_input)\n",
    "\n",
    "    # Encode the output column\n",
    "    for output_str in df[1]:\n",
    "        encoded_output, output_length = encode(output_str, max_output_length, char_to_idx_output)\n",
    "        encoded_outputs.append(encoded_output)\n",
    "\n",
    "    # Stack tensors column-wise\n",
    "    \n",
    "#     tensor_inputs = torch.stack(encoded_inputs, dim=1)\n",
    "#     tensor_outputs = torch.stack(encoded_outputs, dim=1)\n",
    "    tensor_inputs = torch.stack(encoded_inputs)\n",
    "    tensor_outputs = torch.stack(encoded_outputs)\n",
    "\n",
    "    return tensor_inputs, tensor_outputs\n",
    "\n",
    "def load_dataset(path):\n",
    "    \"\"\"\n",
    "    Load a dataset from a TSV file.\n",
    "    Args:\n",
    "    - path (str): Path to the TSV file.\n",
    "    Returns:\n",
    "    - df (pd.DataFrame): Loaded DataFrame.\n",
    "    - max_input_length (int): Maximum length for input sequences.\n",
    "    - max_output_length (int): Maximum length for output sequences.\n",
    "    \"\"\"\n",
    "    df = pd.read_csv(path, header=None, encoding='utf-8', sep='\\t')  # Changed separator to tab\n",
    "    \n",
    "    # Convert values to strings before adding special characters\n",
    "    df[0] = df[0].astype(str).apply(lambda x: x + '$')\n",
    "    df[1] = df[1].astype(str).apply(lambda x: '^' + x + '$')\n",
    "    \n",
    "    # Determine maximum length for input and output sequences\n",
    "    max_input_length = max(len(x) for x in df[0].unique())\n",
    "    max_output_length = max(len(x) for x in df[1].unique())\n",
    "    return df, max_input_length, max_output_length\n",
    "\n",
    "def look_up_table(vocab1, vocab2, vocab3):\n",
    "    # Combine all vocabularies into one set\n",
    "    vocab = set(''.join(vocab1) + ''.join(vocab2) + ''.join(vocab3))\n",
    "    vocab.discard('^')  \n",
    "    vocab.discard('$')  \n",
    "    vocab_to_int = {\"\": 0, '^':1, '$':2}\n",
    "    for v_i, v in enumerate(sorted(vocab), len(vocab_to_int)):\n",
    "        vocab_to_int[v] = v_i\n",
    "    int_to_vocab = {v_i: v for v, v_i in vocab_to_int.items()}\n",
    "    return vocab_to_int, int_to_vocab\n",
    "\n",
    "\n",
    "\n",
    "\n",
    "# Load Dataset\n",
    "df_train, train_input_len, train_out_len = load_dataset('/kaggle/input/dakshina-dataset-ass-3/dakshina_dataset_v1.0/hi/lexicons/hi.translit.sampled.train.tsv')\n",
    "df_val, val_input_len, val_out_len = load_dataset('/kaggle/input/dakshina-dataset-ass-3/dakshina_dataset_v1.0/hi/lexicons/hi.translit.sampled.dev.tsv')\n",
    "df_test, test_input_len, test_out_len = load_dataset('/kaggle/input/dakshina-dataset-ass-3/dakshina_dataset_v1.0/hi/lexicons/hi.translit.sampled.test.tsv')\n",
    "\n",
    "input_max_len = max(train_input_len, val_input_len, test_input_len) + 1\n",
    "output_max_len = max(train_out_len, val_out_len, test_out_len) + 1\n",
    "\n",
    "\n",
    "# Create Look Up Table\n",
    "input_char_to_int, input_int_to_char = look_up_table(df_train[0], df_val[0], df_test[0])\n",
    "output_char_to_int, output_int_to_char = look_up_table(df_train[1], df_val[1], df_test[1])\n",
    "\n",
    "print(\"Input Lookup Table:\", input_char_to_int)\n",
    "print(\"\\n\\n Output Lookup Table\", output_char_to_int)\n",
    "\n",
    "# Data Embedding and Converting them into Tensor\n",
    "train_inputs, train_outputs = get_tensor_object(df_train, input_max_len, input_max_len, input_char_to_int, output_char_to_int)\n",
    "val_inputs, val_outputs = get_tensor_object(df_val, input_max_len, input_max_len, input_char_to_int, output_char_to_int)\n",
    "test_inputs, test_outputs = get_tensor_object(df_test, input_max_len, input_max_len, input_char_to_int, output_char_to_int)\n",
    "\n",
    "# Transpose column wise\n",
    "train_inputs, train_outputs = torch.transpose(train_inputs, 0, 1), torch.transpose(train_outputs, 0, 1)\n",
    "val_inputs, val_outputs = torch.transpose(val_inputs, 0, 1), torch.transpose(val_outputs, 0, 1)\n",
    "test_inputs, test_outputs = torch.transpose(test_inputs, 0, 1), torch.transpose(test_outputs, 0, 1)\n",
    "\n",
    "\n",
    "print(\"\\n\", train_inputs[:,0],train_outputs[:,0])\n",
    "print(\"Training Input:\", train_inputs.shape, train_outputs.shape)\n",
    "\n",
    "print(\"Validation\", val_inputs.shape, val_inputs.shape)\n",
    "print(df_train.head())"
   ]
  },
  {
   "cell_type": "markdown",
   "metadata": {},
   "source": [
    "# Create Seq2Seq CLass"
   ]
  },
  {
   "cell_type": "code",
   "execution_count": 5,
   "metadata": {
    "execution": {
     "iopub.execute_input": "2025-05-19T07:07:10.382158Z",
     "iopub.status.busy": "2025-05-19T07:07:10.381878Z",
     "iopub.status.idle": "2025-05-19T07:07:10.403260Z",
     "shell.execute_reply": "2025-05-19T07:07:10.402440Z",
     "shell.execute_reply.started": "2025-05-19T07:07:10.382103Z"
    },
    "trusted": true
   },
   "outputs": [],
   "source": [
    "class Encoder(nn.Module): \n",
    "    def __init__(self, input_size, embedding_size, hidden_size, num_layers, dropout, bidirectional, cell_type):\n",
    "        super(Encoder, self).__init__()\n",
    "        self.bidirectional = bidirectional\n",
    "        self.dropout = nn.Dropout(dropout)\n",
    "        self.num_layers = num_layers\n",
    "        self.hidden_size = hidden_size\n",
    "        self.cell_type = cell_type\n",
    "        \n",
    "        # Define embedding layer\n",
    "        self.embedding = nn.Embedding(input_size, embedding_size)\n",
    "        \n",
    "        # Define RNN layer with specific cell type\n",
    "        if cell_type == 'LSTM':\n",
    "            self.rnn = nn.LSTM(embedding_size, hidden_size, num_layers, dropout=dropout, bidirectional=bidirectional)\n",
    "        elif cell_type == 'GRU':\n",
    "            self.rnn = nn.GRU(embedding_size, hidden_size, num_layers, dropout=dropout, bidirectional=bidirectional)\n",
    "        elif cell_type == 'RNN':\n",
    "            self.rnn = nn.RNN(embedding_size, hidden_size, num_layers, dropout=dropout, bidirectional=bidirectional)\n",
    "        else:\n",
    "            raise ValueError(\"Invalid RNN type. Choose from 'LSTM', 'GRU', or 'RNN'.\")\n",
    "        \n",
    "        \n",
    "    def forward(self, x): # x shape: (seq_length, N) where N is batch size\n",
    "        # Perform dropout on the input\n",
    "        embedding = self.embedding(x)\n",
    "        embedding = self.dropout(embedding) # embedding shape: (seq_length, N, embedding_size)\n",
    "        \n",
    "        if self.cell_type == \"LSTM\":\n",
    "            # Pass through the LSTM layer\n",
    "            outputs, (hidden, cell) = self.rnn(embedding) # outputs shape: (seq_length, N, hidden_size)\n",
    "            if self.bidirectional:\n",
    "                # Sum the bidirectional outputs\n",
    "                outputs = outputs[:, :, :self.hidden_size] + outputs[:, :, self.hidden_size:]\n",
    "                hidden = torch.cat((hidden[: self.num_layers], hidden[self.num_layers:]), dim=0)\n",
    "\n",
    "            # Return hidden state and cell state\n",
    "            return outputs, hidden, cell\n",
    "        elif self.cell_type == \"GRU\" or self.cell_type == \"RNN\":\n",
    "            # Pass through the RNN/GRU layer\n",
    "            outputs, hidden = self.rnn(embedding) # outputs shape: (seq_length, N, hidden_size)\n",
    "            if self.bidirectional:\n",
    "                # Sum the bidirectional outputs\n",
    "                outputs = outputs[:, :, :self.hidden_size] + outputs[:, :, self.hidden_size:]\n",
    "                hidden = torch.cat((hidden[: self.num_layers], hidden[self.num_layers:]), dim=0)\n",
    "\n",
    "            # Return output (max_seq, N, hidden size)\n",
    "            return outputs, hidden \n",
    "        else:\n",
    "            print(\"Encoder Failed to initialize!\")\n",
    "            return None\n",
    "\n",
    "class Attention(nn.Module):\n",
    "    def __init__(self, hidden_size):\n",
    "        super(Attention, self).__init__()\n",
    "        self.hidden_size = hidden_size\n",
    "      \n",
    "    def dot_score(self, hidden_state, encoder_states):\n",
    "        return torch.sum(hidden_state * encoder_states, dim=2)\n",
    "    \n",
    "    def forward(self, hidden, encoder_outputs):\n",
    "        attn_scores = self.dot_score(hidden, encoder_outputs)\n",
    "        attn_scores = attn_scores.t()  # Transpose to match dimensions\n",
    "        attention_weights = F.softmax(attn_scores, dim=1).unsqueeze(1)\n",
    "        return attention_weights\n",
    "\n",
    "class Decoder(nn.Module):\n",
    "    def __init__(self, input_size, embedding_size, hidden_size, output_size, num_layers, dropout, bidirection_type, cell_type):\n",
    "        super(Decoder, self).__init__()\n",
    "        self.bidirectional = bidirection_type\n",
    "        self.dropout = nn.Dropout(dropout)  \n",
    "        self.num_layers = num_layers \n",
    "        self.hidden_size = hidden_size\n",
    "        self.embedding_size = embedding_size\n",
    "        self.cell_type = cell_type\n",
    "        \n",
    "        \n",
    "        # Define embedding layer\n",
    "        self.embedding = nn.Embedding(input_size, embedding_size)\n",
    "        \n",
    "        # Define RNN layer with specific cell type\n",
    "        if cell_type == 'LSTM':\n",
    "            self.rnn = nn.LSTM(embedding_size, hidden_size, num_layers, dropout=dropout)\n",
    "        elif cell_type == 'GRU':\n",
    "            self.rnn = nn.GRU(embedding_size, hidden_size, num_layers, dropout=dropout)\n",
    "        elif cell_type == 'RNN':\n",
    "            self.rnn = nn.RNN(embedding_size, hidden_size, num_layers, dropout=dropout)\n",
    "        else:\n",
    "            raise ValueError(\"Invalid RNN type. Choose from 'LSTM', 'GRU', or 'RNN'.\")\n",
    "        \n",
    "        \n",
    "            \n",
    "        # Define fully connected layer\n",
    "        self.concat = nn.Linear(hidden_size * 2, hidden_size)\n",
    "        self.fc = nn.Linear(hidden_size, output_size)  \n",
    "        \n",
    "        # Attention Class object\n",
    "        self.attn = Attention(hidden_size)\n",
    "        \n",
    "        # Softmax layer\n",
    "        self.log_softmax = nn.LogSoftmax(dim=1)\n",
    "    \n",
    "    def forward(self, x, encoder_outputs, hidden, cell): # x shape: (N) where N is for batch size, we want it to be (1, N), seq_length\n",
    "        \n",
    "        \n",
    "        # Ensure x has the shape (1, N)\n",
    "        x = x.unsqueeze(0)\n",
    "        \n",
    "        # Perform dropout on the input\n",
    "        embedding = self.embedding(x)\n",
    "        embedding = self.dropout(embedding)  # embedding shape: (1, N, embedding_size)\n",
    "        \n",
    "        if self.cell_type == \"LSTM\":\n",
    "            # Pass through the LSTM layer\n",
    "            outputs, (hidden, cell) = self.rnn(embedding, (hidden, cell))  # outputs shape: (1, N, hidden_size * num_directions)\n",
    "            \n",
    "            # Calculate attention weights\n",
    "            attention_weights = self.attn(outputs, encoder_outputs)\n",
    "            context = attention_weights.bmm(encoder_outputs.transpose(0, 1))\n",
    "            \n",
    "            # Concatenate  context vector and GRU output\n",
    "            outputs = outputs.squeeze(0)\n",
    "            context = context.squeeze(1)\n",
    "            concat_input = torch.cat((outputs, context), 1)\n",
    "            concat_output = torch.tanh(self.concat(concat_input))\n",
    "            \n",
    "            # Pass through fully connected layer\n",
    "            out = self.fc(concat_output)\n",
    "            predictions = self.log_softmax(out)\n",
    "\n",
    "            return predictions, hidden, cell, attention_weights.squeeze(1)\n",
    "        \n",
    "        elif self.cell_type == \"GRU\" or self.cell_type == \"RNN\":\n",
    "            # Pass through the  layer\n",
    "            outputs, hidden = self.rnn(embedding, hidden)  # outputs shape: (1, N, hidden_size * num_directions)\n",
    "            \n",
    "            # Calculate attention weights\n",
    "            attention_weights = self.attn(outputs, encoder_outputs)\n",
    "            context = attention_weights.bmm(encoder_outputs.transpose(0, 1))\n",
    "            \n",
    "            # Concatenate  context vector and GRU output\n",
    "            outputs = outputs.squeeze(0)\n",
    "            context = context.squeeze(1)\n",
    "            concat_input = torch.cat((outputs, context), 1)\n",
    "            concat_output = torch.tanh(self.concat(concat_input))\n",
    "\n",
    "            \n",
    "            # Pass through fully connected layer\n",
    "            out = self.fc(concat_output)\n",
    "            predictions = self.log_softmax(out)\n",
    "            \n",
    "            return predictions, hidden, attention_weights.squeeze(1)\n",
    "    \n",
    "        else:\n",
    "            print(\"Encoder Failed to initialized!!!!!!!!\")\n",
    "            return None\n",
    "        \n",
    "class Seq2Seq(nn.Module):\n",
    "\n",
    "    def __init__(self, encoder, decoder, output_char_to_int, teacher_forcing, cell_type):\n",
    "\n",
    "        super(Seq2Seq, self).__init__()  \n",
    "        # Initialize encoder and decoder\n",
    "        self.decoder = decoder\n",
    "        self.encoder = encoder\n",
    "        self.cell_type = cell_type\n",
    "        self.target_vocab_size =  len(output_char_to_int)\n",
    "        self.teacher_force_ratio = teacher_forcing\n",
    "    \n",
    "#     def create_mask(self, input_sequence):\n",
    "#         return (input_sequence != 0).permute(1, 0)\n",
    "    \n",
    "    def forward(self, source, target):\n",
    "        \n",
    "        # Get batch size, target length, and target vocabulary size\n",
    "        batch_size = source.shape[1]\n",
    "        target_len = target.shape[0]\n",
    "        target_vocab_size = self.target_vocab_size\n",
    "        teacher_force_ratio = self.teacher_force_ratio\n",
    "        \n",
    "        # Initialize outputs tensor\n",
    "        outputs = torch.zeros(target_len, batch_size, target_vocab_size).to(device)\n",
    "        # Grab the first input to the Decoder which will be <SOS> token i.e '^'\n",
    "        x = target[0,:]\n",
    "        \n",
    "        # Get hidden state and cell state from encoder\n",
    "        if self.cell_type == 'LSTM':\n",
    "            encoder_outputs, hidden, cell = self.encoder(source)\n",
    "            hidden =  hidden[:self.decoder.num_layers]\n",
    "            cell =  cell[:self.decoder.num_layers]\n",
    "        else:\n",
    "            encoder_outputs, hidden = self.encoder(source)\n",
    "            hidden =  hidden[:self.decoder.num_layers]\n",
    "        \n",
    "        for t in range(1, target_len):\n",
    "            # Use previous hidden and cell states as context from encoder at start\n",
    "            if self.cell_type == 'LSTM':\n",
    "                output, hidden, cell, _ = self.decoder(x, encoder_outputs, hidden, cell)\n",
    "            else:\n",
    "                output, hidden, _ = self.decoder(x, encoder_outputs, hidden, None)\n",
    "            #output, hidden, cell = self.decoder(x, hidden, cell)\n",
    "                \n",
    "            # Store next output prediction\n",
    "            outputs[t], best_guess = output, output.argmax(1)\n",
    "            # Get the best word the Decoder predicted (index in the vocabulary)\n",
    "            x = best_guess if random.random() >= teacher_force_ratio else target[t]\n",
    "\n",
    "        return outputs"
   ]
  },
  {
   "cell_type": "markdown",
   "metadata": {},
   "source": [
    "## TRAINING"
   ]
  },
  {
   "cell_type": "code",
   "execution_count": 6,
   "metadata": {
    "execution": {
     "iopub.execute_input": "2025-05-19T07:07:10.404449Z",
     "iopub.status.busy": "2025-05-19T07:07:10.404209Z",
     "iopub.status.idle": "2025-05-19T07:07:10.549479Z",
     "shell.execute_reply": "2025-05-19T07:07:10.548643Z",
     "shell.execute_reply.started": "2025-05-19T07:07:10.404432Z"
    },
    "trusted": true
   },
   "outputs": [],
   "source": [
    "# BEAM SEARCH FUNCTION\n",
    "def beam_search(model, input_seq, max_length, input_char_index, output_char_index, reverse_target_char_index, beam_width, length_penalty, cell_type):\n",
    "    if len(input_seq) > max_length:\n",
    "        print(\"Input Length is exceeding max length!!!!\")\n",
    "        return \"\"\n",
    "    \n",
    "    # Create np array of zero of length i/p \n",
    "    input_data = np.zeros((max_length, 1), dtype=int) # (N,1)\n",
    "    \n",
    "    # Encode the input\n",
    "    for idx, char in enumerate(input_seq):\n",
    "        input_data[idx, 0] = input_char_index[char]\n",
    "    input_data[idx+1, 0] = input_char_index[\"$\"] # EOS\n",
    "    \n",
    "    # Convert to tensor\n",
    "    input_tensor = torch.tensor(input_data, dtype=torch.int64).to(device) # N,1\n",
    "    \n",
    "    with torch.no_grad():\n",
    "        if cell_type == 'LSTM':\n",
    "            encoder_outputs, hidden, cell = model.encoder(input_tensor)\n",
    "            hidden =  hidden[:model.decoder.num_layers]\n",
    "            cell =  cell[:model.decoder.num_layers]\n",
    "        else:\n",
    "            encoder_outputs, hidden = model.encoder(input_tensor)\n",
    "            hidden =  hidden[:model.decoder.num_layers]\n",
    "    \n",
    "    # Initialize beam\n",
    "    out_t = output_char_index['^']\n",
    "    out_reshape = np.array(out_t).reshape(1,)\n",
    "    hidden_par = hidden.unsqueeze(0)\n",
    "    initial_sequence = torch.tensor(out_reshape).to(device)\n",
    "    beam = [(0.0, initial_sequence, hidden_par)]  # [(score, sequence, hidden)]\n",
    "\n",
    "    for _ in range(len(output_char_index)):\n",
    "        candidates = []\n",
    "        for score, seq, hidden in beam:\n",
    "            if seq[-1].item() == output_char_index['$']:\n",
    "                # If the sequence ends with the end token, add it to the candidates\n",
    "                candidates.append((score, seq, hidden))\n",
    "                continue\n",
    "            \n",
    "            last_token = np.array(seq[-1].item()).reshape(1,)\n",
    "            x = torch.tensor(last_token).to(device)\n",
    "            \n",
    "            if cell_type == 'LSTM':\n",
    "                output, hidden, cell, _ = model.decoder(x, encoder_outputs, hidden.squeeze(0), cell)\n",
    "            else:\n",
    "                output, hidden, _ = model.decoder(x, encoder_outputs, hidden.squeeze(0), None)\n",
    "                \n",
    "            probabilities = F.softmax(output, dim=1)\n",
    "            topk_probs, topk_tokens = torch.topk(probabilities, k=beam_width)\n",
    "\n",
    "            for prob, token in zip(topk_probs[0], topk_tokens[0]):\n",
    "                new_seq = torch.cat((seq, token.unsqueeze(0)), dim=0)\n",
    "                seq_length_norm_factor = (len(new_seq) - 1) / 5\n",
    "                candidate_score = score + torch.log(prob).item() / (seq_length_norm_factor ** length_penalty)\n",
    "                candidates.append((candidate_score, new_seq, hidden.unsqueeze(0)))\n",
    "\n",
    "        # Select top-k candidates based on the accumulated scores\n",
    "        beam = heapq.nlargest(beam_width, candidates, key=lambda x: x[0])\n",
    "\n",
    "    best_score, best_sequence, _ = max(beam, key=lambda x: x[0])  # Select the best sequence from the beam as the output\n",
    "\n",
    "    # Convert the best sequence indices to characters\n",
    "    return ''.join([reverse_target_char_index[token.item()] for token in best_sequence[1:]])\n",
    "\n",
    "\n",
    "# TRAINING FUNCTION\n",
    "def train(model, num_epochs, criterion, optimizer, train_batch_x, train_batch_y, val_batch_x, val_batch_y, df_val, input_char_to_int, output_char_to_int, output_int_to_char, beam_width, length_penalty, cell_type, max_length):\n",
    "    for epoch in range(num_epochs):\n",
    "        total_words = 0\n",
    "        correct_pred = 0\n",
    "        total_loss = 0\n",
    "        accuracy = 0\n",
    "        model.train()\n",
    "        \n",
    "        # Use tqdm for progress tracking\n",
    "        train_data_iterator = tqdm(zip(train_batch_x, train_batch_y), total=len(train_batch_x))\n",
    "        \n",
    "        for (x, y) in train_data_iterator:\n",
    "            # Get input and targets and move to device\n",
    "            target, inp_data = y.to(device), x.to(device)\n",
    "            \n",
    "            # Forward propagation\n",
    "            optimizer.zero_grad()\n",
    "            output = model(inp_data, target)\n",
    "            \n",
    "            target = target.reshape(-1)\n",
    "            output = output.reshape(-1, output.shape[2])\n",
    "            \n",
    "            pad_mask = (target != 0)  \n",
    "            target = target[pad_mask] # Select non-padding elements\n",
    "            output = output[pad_mask] \n",
    "            \n",
    "            # Calculate loss\n",
    "            loss = criterion(output, target)\n",
    "            \n",
    "            # Backpropagation\n",
    "            loss.backward()\n",
    "            \n",
    "            # Clip gradients to avoid exploding gradients\n",
    "            torch.nn.utils.clip_grad_norm_(model.parameters(), max_norm=1)\n",
    "            \n",
    "            # Update parameters\n",
    "            optimizer.step()\n",
    "            \n",
    "            # Accumulate total loss\n",
    "            total_loss += loss.item()\n",
    "            # Update total words processed\n",
    "            total_words += target.size(0)\n",
    "            # Calculate number of correct predictions\n",
    "            correct_pred += torch.sum(torch.argmax(output, dim=1) == target).item()\n",
    "            \n",
    "        # Calculate average loss per batch\n",
    "        avg_loss = total_loss / len(train_batch_x)\n",
    "        # Calculate accuracy\n",
    "        accuracy = 100*correct_pred / total_words\n",
    "        \n",
    "        \n",
    "        # Validation\n",
    "        model.eval()\n",
    "        with torch.no_grad():\n",
    "            val_total_loss = 0\n",
    "            val_total_words = 0\n",
    "            val_correct_pred = 0\n",
    "\n",
    "            val_data_iterator = tqdm(zip(val_batch_x, val_batch_y), total=len(val_batch_x))\n",
    "            for x_val, y_val in val_data_iterator:\n",
    "                target_val, inp_data_val = y_val.to(device), x_val.to(device)\n",
    "                output_val = model(inp_data_val, target_val)\n",
    "                \n",
    "                \n",
    "                target_val = target_val.reshape(-1)\n",
    "                output_val = output_val.reshape(-1, output_val.shape[2])\n",
    "                \n",
    "                pad_mask = (target_val != 0)  \n",
    "                target_val = target_val[pad_mask] # Select non-padding elements\n",
    "                output_val = output_val[pad_mask] \n",
    "            \n",
    "                val_loss = criterion(output_val, target_val)\n",
    "                val_total_loss += val_loss.item()\n",
    "                val_total_words += target_val.size(0)\n",
    "                val_correct_pred += torch.sum(torch.argmax(output_val, dim=1) == target_val).item()\n",
    "\n",
    "            # Calculate validation statistics\n",
    "            val_accuracy = 100*val_correct_pred / val_total_words\n",
    "            val_avg_loss = val_total_loss / len(val_batch_x)\n",
    "\n",
    "            \n",
    "        # Total word predict correct over training\n",
    "        beam_val_pred = 0\n",
    "        beam_val = 0\n",
    "        for i in tqdm(range(df_val.shape[0])):\n",
    "            input_seq = df_val.iloc[i, 0][:-1] \n",
    "            true_seq = df_val.iloc[i, 1][1:-1]\n",
    "            predicted_output = beam_search(model, input_seq, max_length, input_char_to_int, output_char_to_int, output_int_to_char, beam_width, length_penalty, cell_type)\n",
    "            if true_seq == predicted_output[:-1]:\n",
    "                beam_val_pred+=1\n",
    "        beam_val = 100*beam_val_pred/df_val.shape[0]\n",
    "        \n",
    "        # Print statistics\n",
    "        print(f\"Epoch {epoch + 1} / {num_epochs} ===========================>\")\n",
    "        print(f\"Train Accuracy Char: {accuracy:.4f}, Train Average Loss: {avg_loss:.4f}\")\n",
    "        print(f\"Validation Accuracy Char: {val_accuracy:.4f}, Validation Average Loss: {val_avg_loss:.4f}\")\n",
    "        print(f\"Beam Val Word Accuracy: {beam_val:.4f} Correct Prediction : {beam_val_pred}/{df_val.shape[0]}\")    \n",
    "#         wandb.log({\n",
    "#                 \"train_accuracy_char\": accuracy,\n",
    "#                 \"train_loss\": avg_loss,\n",
    "#                 \"val_accuracy_char\": val_accuracy,\n",
    "#                 \"val_loss\": val_avg_loss,\n",
    "#                 \"beam_val_accuracy_word\" : beam_val,\n",
    "#             })\n",
    "        \n",
    "    return model, beam_val"
   ]
  },
  {
   "cell_type": "markdown",
   "metadata": {},
   "source": [
    "## SWEEP RUN"
   ]
  },
  {
   "cell_type": "code",
   "execution_count": null,
   "metadata": {
    "execution": {
     "iopub.execute_input": "2025-05-18T19:01:43.071356Z",
     "iopub.status.busy": "2025-05-18T19:01:43.070733Z"
    },
    "trusted": true
   },
   "outputs": [
    {
     "name": "stderr",
     "output_type": "stream",
     "text": [
      "\u001b[34m\u001b[1mwandb\u001b[0m: Using wandb-core as the SDK backend.  Please refer to https://wandb.me/wandb-core for more information.\n"
     ]
    },
    {
     "name": "stdout",
     "output_type": "stream",
     "text": [
      "Create sweep with ID: b3yonf3b\n",
      "Sweep URL: https://wandb.ai/cs24m019-iitm/DL_Assignment_3/sweeps/b3yonf3b\n"
     ]
    },
    {
     "name": "stderr",
     "output_type": "stream",
     "text": [
      "\u001b[34m\u001b[1mwandb\u001b[0m: Agent Starting Run: o6r96u2i with config:\n",
      "\u001b[34m\u001b[1mwandb\u001b[0m: \tbatch_size: 32\n",
      "\u001b[34m\u001b[1mwandb\u001b[0m: \tbeam_search_width: 1\n",
      "\u001b[34m\u001b[1mwandb\u001b[0m: \tbidirectional: True\n",
      "\u001b[34m\u001b[1mwandb\u001b[0m: \tcell_type: LSTM\n",
      "\u001b[34m\u001b[1mwandb\u001b[0m: \tdropout: 0.3\n",
      "\u001b[34m\u001b[1mwandb\u001b[0m: \tembedding_size: 256\n",
      "\u001b[34m\u001b[1mwandb\u001b[0m: \thidden_size: 512\n",
      "\u001b[34m\u001b[1mwandb\u001b[0m: \tlearning_rate: 0.01\n",
      "\u001b[34m\u001b[1mwandb\u001b[0m: \tlength_penalty: 0.6\n",
      "\u001b[34m\u001b[1mwandb\u001b[0m: \tnum_epochs: 10\n",
      "\u001b[34m\u001b[1mwandb\u001b[0m: \tnum_layers: 2\n",
      "\u001b[34m\u001b[1mwandb\u001b[0m: \toptimizer: adagrad\n",
      "\u001b[34m\u001b[1mwandb\u001b[0m: \tteacher_forcing: 0.7\n",
      "\u001b[34m\u001b[1mwandb\u001b[0m: Currently logged in as: \u001b[33mcs24m019\u001b[0m (\u001b[33mcs24m019-iitm\u001b[0m) to \u001b[32mhttps://api.wandb.ai\u001b[0m. Use \u001b[1m`wandb login --relogin`\u001b[0m to force relogin\n"
     ]
    },
    {
     "data": {
      "text/html": [
       "Ignoring project 'DL_Assignment_3' when running a sweep."
      ],
      "text/plain": [
       "<IPython.core.display.HTML object>"
      ]
     },
     "metadata": {},
     "output_type": "display_data"
    },
    {
     "data": {
      "text/html": [
       "Tracking run with wandb version 0.19.9"
      ],
      "text/plain": [
       "<IPython.core.display.HTML object>"
      ]
     },
     "metadata": {},
     "output_type": "display_data"
    },
    {
     "data": {
      "text/html": [
       "Run data is saved locally in <code>/kaggle/working/wandb/run-20250518_190156-o6r96u2i</code>"
      ],
      "text/plain": [
       "<IPython.core.display.HTML object>"
      ]
     },
     "metadata": {},
     "output_type": "display_data"
    },
    {
     "data": {
      "text/html": [
       "Syncing run <strong><a href='https://wandb.ai/cs24m019-iitm/DL_Assignment_3/runs/o6r96u2i' target=\"_blank\">rare-sweep-1</a></strong> to <a href='https://wandb.ai/cs24m019-iitm/DL_Assignment_3' target=\"_blank\">Weights & Biases</a> (<a href='https://wandb.me/developer-guide' target=\"_blank\">docs</a>)<br>Sweep page: <a href='https://wandb.ai/cs24m019-iitm/DL_Assignment_3/sweeps/b3yonf3b' target=\"_blank\">https://wandb.ai/cs24m019-iitm/DL_Assignment_3/sweeps/b3yonf3b</a>"
      ],
      "text/plain": [
       "<IPython.core.display.HTML object>"
      ]
     },
     "metadata": {},
     "output_type": "display_data"
    },
    {
     "data": {
      "text/html": [
       " View project at <a href='https://wandb.ai/cs24m019-iitm/DL_Assignment_3' target=\"_blank\">https://wandb.ai/cs24m019-iitm/DL_Assignment_3</a>"
      ],
      "text/plain": [
       "<IPython.core.display.HTML object>"
      ]
     },
     "metadata": {},
     "output_type": "display_data"
    },
    {
     "data": {
      "text/html": [
       " View sweep at <a href='https://wandb.ai/cs24m019-iitm/DL_Assignment_3/sweeps/b3yonf3b' target=\"_blank\">https://wandb.ai/cs24m019-iitm/DL_Assignment_3/sweeps/b3yonf3b</a>"
      ],
      "text/plain": [
       "<IPython.core.display.HTML object>"
      ]
     },
     "metadata": {},
     "output_type": "display_data"
    },
    {
     "data": {
      "text/html": [
       " View run at <a href='https://wandb.ai/cs24m019-iitm/DL_Assignment_3/runs/o6r96u2i' target=\"_blank\">https://wandb.ai/cs24m019-iitm/DL_Assignment_3/runs/o6r96u2i</a>"
      ],
      "text/plain": [
       "<IPython.core.display.HTML object>"
      ]
     },
     "metadata": {},
     "output_type": "display_data"
    },
    {
     "name": "stdout",
     "output_type": "stream",
     "text": [
      "Seq2Seq(\n",
      "  (decoder): Decoder(\n",
      "    (dropout): Dropout(p=0.3, inplace=False)\n",
      "    (embedding): Embedding(29, 256)\n",
      "    (rnn): LSTM(256, 512, num_layers=2, dropout=0.3)\n",
      "    (concat): Linear(in_features=1024, out_features=512, bias=True)\n",
      "    (fc): Linear(in_features=512, out_features=29, bias=True)\n",
      "    (attn): Attention()\n",
      "    (log_softmax): LogSoftmax(dim=1)\n",
      "  )\n",
      "  (encoder): Encoder(\n",
      "    (dropout): Dropout(p=0.3, inplace=False)\n",
      "    (embedding): Embedding(66, 256)\n",
      "    (rnn): LSTM(256, 512, num_layers=2, dropout=0.3, bidirectional=True)\n",
      "  )\n",
      ")\n",
      "Total Trainable Parameters: 13695773\n"
     ]
    },
    {
     "name": "stderr",
     "output_type": "stream",
     "text": [
      "100%|██████████| 1382/1382 [01:23<00:00, 16.51it/s]\n",
      "100%|██████████| 137/137 [00:02<00:00, 63.84it/s]\n",
      "100%|██████████| 4358/4358 [00:43<00:00, 100.24it/s]\n"
     ]
    },
    {
     "name": "stdout",
     "output_type": "stream",
     "text": [
      "Epoch 1 / 10 ===========================>\n",
      "Train Accuracy Char: 43.9837, Train Average Loss: 1.9792\n",
      "Validation Accuracy Char: 45.1528, Validation Average Loss: 1.9368\n",
      "Beam Val Word Accuracy: 1.7210 Correct Prediction : 75/4358\n"
     ]
    },
    {
     "name": "stderr",
     "output_type": "stream",
     "text": [
      "100%|██████████| 1382/1382 [01:23<00:00, 16.56it/s]\n",
      "100%|██████████| 137/137 [00:02<00:00, 64.06it/s]\n",
      "100%|██████████| 4358/4358 [00:44<00:00, 97.68it/s] \n"
     ]
    },
    {
     "name": "stdout",
     "output_type": "stream",
     "text": [
      "Epoch 2 / 10 ===========================>\n",
      "Train Accuracy Char: 65.3587, Train Average Loss: 1.1614\n",
      "Validation Accuracy Char: 61.0524, Validation Average Loss: 1.2733\n",
      "Beam Val Word Accuracy: 14.0431 Correct Prediction : 612/4358\n"
     ]
    },
    {
     "name": "stderr",
     "output_type": "stream",
     "text": [
      "100%|██████████| 1382/1382 [01:23<00:00, 16.53it/s]\n",
      "100%|██████████| 137/137 [00:02<00:00, 64.15it/s]\n",
      "100%|██████████| 4358/4358 [00:45<00:00, 96.49it/s] \n"
     ]
    },
    {
     "name": "stdout",
     "output_type": "stream",
     "text": [
      "Epoch 3 / 10 ===========================>\n",
      "Train Accuracy Char: 71.4050, Train Average Loss: 0.9501\n",
      "Validation Accuracy Char: 70.5131, Validation Average Loss: 0.9862\n",
      "Beam Val Word Accuracy: 28.8206 Correct Prediction : 1256/4358\n"
     ]
    },
    {
     "name": "stderr",
     "output_type": "stream",
     "text": [
      "100%|██████████| 1382/1382 [01:23<00:00, 16.47it/s]\n",
      "100%|██████████| 137/137 [00:02<00:00, 64.40it/s]\n",
      "100%|██████████| 4358/4358 [00:45<00:00, 95.47it/s] \n"
     ]
    },
    {
     "name": "stdout",
     "output_type": "stream",
     "text": [
      "Epoch 4 / 10 ===========================>\n",
      "Train Accuracy Char: 75.7527, Train Average Loss: 0.8133\n",
      "Validation Accuracy Char: 75.7316, Validation Average Loss: 0.8182\n",
      "Beam Val Word Accuracy: 39.3988 Correct Prediction : 1717/4358\n"
     ]
    },
    {
     "name": "stderr",
     "output_type": "stream",
     "text": [
      "100%|██████████| 1382/1382 [01:24<00:00, 16.42it/s]\n",
      "100%|██████████| 137/137 [00:02<00:00, 62.44it/s]\n",
      "100%|██████████| 4358/4358 [00:45<00:00, 95.37it/s] \n"
     ]
    },
    {
     "name": "stdout",
     "output_type": "stream",
     "text": [
      "Epoch 5 / 10 ===========================>\n",
      "Train Accuracy Char: 77.4431, Train Average Loss: 0.7544\n",
      "Validation Accuracy Char: 76.4485, Validation Average Loss: 0.7919\n",
      "Beam Val Word Accuracy: 41.5328 Correct Prediction : 1810/4358\n"
     ]
    },
    {
     "name": "stderr",
     "output_type": "stream",
     "text": [
      "100%|██████████| 1382/1382 [01:24<00:00, 16.41it/s]\n",
      "100%|██████████| 137/137 [00:02<00:00, 64.04it/s]\n",
      "100%|██████████| 4358/4358 [00:45<00:00, 95.22it/s] \n"
     ]
    },
    {
     "name": "stdout",
     "output_type": "stream",
     "text": [
      "Epoch 6 / 10 ===========================>\n",
      "Train Accuracy Char: 78.1840, Train Average Loss: 0.7238\n",
      "Validation Accuracy Char: 77.2039, Validation Average Loss: 0.7669\n",
      "Beam Val Word Accuracy: 43.1620 Correct Prediction : 1881/4358\n"
     ]
    },
    {
     "name": "stderr",
     "output_type": "stream",
     "text": [
      "100%|██████████| 1382/1382 [01:24<00:00, 16.43it/s]\n",
      "100%|██████████| 137/137 [00:02<00:00, 64.00it/s]\n",
      "100%|██████████| 4358/4358 [00:45<00:00, 95.88it/s] \n"
     ]
    },
    {
     "name": "stdout",
     "output_type": "stream",
     "text": [
      "Epoch 7 / 10 ===========================>\n",
      "Train Accuracy Char: 78.6950, Train Average Loss: 0.7018\n",
      "Validation Accuracy Char: 77.5662, Validation Average Loss: 0.7510\n",
      "Beam Val Word Accuracy: 43.9651 Correct Prediction : 1916/4358\n"
     ]
    },
    {
     "name": "stderr",
     "output_type": "stream",
     "text": [
      "100%|██████████| 1382/1382 [01:23<00:00, 16.45it/s]\n",
      "100%|██████████| 137/137 [00:02<00:00, 63.28it/s]\n",
      "100%|██████████| 4358/4358 [00:45<00:00, 94.97it/s] \n"
     ]
    },
    {
     "name": "stdout",
     "output_type": "stream",
     "text": [
      "Epoch 8 / 10 ===========================>\n",
      "Train Accuracy Char: 78.9930, Train Average Loss: 0.6898\n",
      "Validation Accuracy Char: 77.5662, Validation Average Loss: 0.7526\n",
      "Beam Val Word Accuracy: 44.3323 Correct Prediction : 1932/4358\n"
     ]
    },
    {
     "name": "stderr",
     "output_type": "stream",
     "text": [
      "100%|██████████| 1382/1382 [01:24<00:00, 16.41it/s]\n",
      "100%|██████████| 137/137 [00:02<00:00, 61.91it/s]\n",
      "100%|██████████| 4358/4358 [00:45<00:00, 95.22it/s] \n"
     ]
    },
    {
     "name": "stdout",
     "output_type": "stream",
     "text": [
      "Epoch 9 / 10 ===========================>\n",
      "Train Accuracy Char: 79.4728, Train Average Loss: 0.6713\n",
      "Validation Accuracy Char: 77.4532, Validation Average Loss: 0.7500\n",
      "Beam Val Word Accuracy: 44.0799 Correct Prediction : 1921/4358\n"
     ]
    },
    {
     "name": "stderr",
     "output_type": "stream",
     "text": [
      "100%|██████████| 1382/1382 [01:24<00:00, 16.43it/s]\n",
      "100%|██████████| 137/137 [00:02<00:00, 61.46it/s]\n",
      "100%|██████████| 4358/4358 [00:45<00:00, 95.73it/s] "
     ]
    },
    {
     "name": "stdout",
     "output_type": "stream",
     "text": [
      "Epoch 10 / 10 ===========================>\n",
      "Train Accuracy Char: 79.6727, Train Average Loss: 0.6618\n",
      "Validation Accuracy Char: 77.7075, Validation Average Loss: 0.7452\n",
      "Beam Val Word Accuracy: 44.7912 Correct Prediction : 1952/4358\n"
     ]
    },
    {
     "name": "stderr",
     "output_type": "stream",
     "text": [
      "\n"
     ]
    },
    {
     "data": {
      "text/html": [],
      "text/plain": [
       "<IPython.core.display.HTML object>"
      ]
     },
     "metadata": {},
     "output_type": "display_data"
    },
    {
     "data": {
      "text/html": [
       "<br>    <style><br>        .wandb-row {<br>            display: flex;<br>            flex-direction: row;<br>            flex-wrap: wrap;<br>            justify-content: flex-start;<br>            width: 100%;<br>        }<br>        .wandb-col {<br>            display: flex;<br>            flex-direction: column;<br>            flex-basis: 100%;<br>            flex: 1;<br>            padding: 10px;<br>        }<br>    </style><br><div class=\"wandb-row\"><div class=\"wandb-col\"><h3>Run history:</h3><br/><table class=\"wandb\"><tr><td>accuracy</td><td>▁</td></tr></table><br/></div><div class=\"wandb-col\"><h3>Run summary:</h3><br/><table class=\"wandb\"><tr><td>accuracy</td><td>44.79119</td></tr></table><br/></div></div>"
      ],
      "text/plain": [
       "<IPython.core.display.HTML object>"
      ]
     },
     "metadata": {},
     "output_type": "display_data"
    },
    {
     "data": {
      "text/html": [
       " View run <strong style=\"color:#cdcd00\">attention_cell_LSTM_bs_32_ep_10_op_adagrad_drop_0.3_bsw_1_emb_256_hs_512_elayer_2_dlayer_2</strong> at: <a href='https://wandb.ai/cs24m019-iitm/DL_Assignment_3/runs/o6r96u2i' target=\"_blank\">https://wandb.ai/cs24m019-iitm/DL_Assignment_3/runs/o6r96u2i</a><br> View project at: <a href='https://wandb.ai/cs24m019-iitm/DL_Assignment_3' target=\"_blank\">https://wandb.ai/cs24m019-iitm/DL_Assignment_3</a><br>Synced 5 W&B file(s), 0 media file(s), 0 artifact file(s) and 0 other file(s)"
      ],
      "text/plain": [
       "<IPython.core.display.HTML object>"
      ]
     },
     "metadata": {},
     "output_type": "display_data"
    },
    {
     "data": {
      "text/html": [
       "Find logs at: <code>./wandb/run-20250518_190156-o6r96u2i/logs</code>"
      ],
      "text/plain": [
       "<IPython.core.display.HTML object>"
      ]
     },
     "metadata": {},
     "output_type": "display_data"
    },
    {
     "name": "stderr",
     "output_type": "stream",
     "text": [
      "\u001b[34m\u001b[1mwandb\u001b[0m: Agent Starting Run: 7avf6ppv with config:\n",
      "\u001b[34m\u001b[1mwandb\u001b[0m: \tbatch_size: 32\n",
      "\u001b[34m\u001b[1mwandb\u001b[0m: \tbeam_search_width: 1\n",
      "\u001b[34m\u001b[1mwandb\u001b[0m: \tbidirectional: True\n",
      "\u001b[34m\u001b[1mwandb\u001b[0m: \tcell_type: LSTM\n",
      "\u001b[34m\u001b[1mwandb\u001b[0m: \tdropout: 0.3\n",
      "\u001b[34m\u001b[1mwandb\u001b[0m: \tembedding_size: 256\n",
      "\u001b[34m\u001b[1mwandb\u001b[0m: \thidden_size: 1024\n",
      "\u001b[34m\u001b[1mwandb\u001b[0m: \tlearning_rate: 0.01\n",
      "\u001b[34m\u001b[1mwandb\u001b[0m: \tlength_penalty: 0.6\n",
      "\u001b[34m\u001b[1mwandb\u001b[0m: \tnum_epochs: 10\n",
      "\u001b[34m\u001b[1mwandb\u001b[0m: \tnum_layers: 2\n",
      "\u001b[34m\u001b[1mwandb\u001b[0m: \toptimizer: adagrad\n",
      "\u001b[34m\u001b[1mwandb\u001b[0m: \tteacher_forcing: 0.7\n"
     ]
    },
    {
     "data": {
      "text/html": [
       "Ignoring project 'DL_Assignment_3' when running a sweep."
      ],
      "text/plain": [
       "<IPython.core.display.HTML object>"
      ]
     },
     "metadata": {},
     "output_type": "display_data"
    },
    {
     "data": {
      "text/html": [
       "Tracking run with wandb version 0.19.9"
      ],
      "text/plain": [
       "<IPython.core.display.HTML object>"
      ]
     },
     "metadata": {},
     "output_type": "display_data"
    },
    {
     "data": {
      "text/html": [
       "Run data is saved locally in <code>/kaggle/working/wandb/run-20250518_192409-7avf6ppv</code>"
      ],
      "text/plain": [
       "<IPython.core.display.HTML object>"
      ]
     },
     "metadata": {},
     "output_type": "display_data"
    },
    {
     "data": {
      "text/html": [
       "Syncing run <strong><a href='https://wandb.ai/cs24m019-iitm/DL_Assignment_3/runs/7avf6ppv' target=\"_blank\">bright-sweep-2</a></strong> to <a href='https://wandb.ai/cs24m019-iitm/DL_Assignment_3' target=\"_blank\">Weights & Biases</a> (<a href='https://wandb.me/developer-guide' target=\"_blank\">docs</a>)<br>Sweep page: <a href='https://wandb.ai/cs24m019-iitm/DL_Assignment_3/sweeps/b3yonf3b' target=\"_blank\">https://wandb.ai/cs24m019-iitm/DL_Assignment_3/sweeps/b3yonf3b</a>"
      ],
      "text/plain": [
       "<IPython.core.display.HTML object>"
      ]
     },
     "metadata": {},
     "output_type": "display_data"
    },
    {
     "data": {
      "text/html": [
       " View project at <a href='https://wandb.ai/cs24m019-iitm/DL_Assignment_3' target=\"_blank\">https://wandb.ai/cs24m019-iitm/DL_Assignment_3</a>"
      ],
      "text/plain": [
       "<IPython.core.display.HTML object>"
      ]
     },
     "metadata": {},
     "output_type": "display_data"
    },
    {
     "data": {
      "text/html": [
       " View sweep at <a href='https://wandb.ai/cs24m019-iitm/DL_Assignment_3/sweeps/b3yonf3b' target=\"_blank\">https://wandb.ai/cs24m019-iitm/DL_Assignment_3/sweeps/b3yonf3b</a>"
      ],
      "text/plain": [
       "<IPython.core.display.HTML object>"
      ]
     },
     "metadata": {},
     "output_type": "display_data"
    },
    {
     "data": {
      "text/html": [
       " View run at <a href='https://wandb.ai/cs24m019-iitm/DL_Assignment_3/runs/7avf6ppv' target=\"_blank\">https://wandb.ai/cs24m019-iitm/DL_Assignment_3/runs/7avf6ppv</a>"
      ],
      "text/plain": [
       "<IPython.core.display.HTML object>"
      ]
     },
     "metadata": {},
     "output_type": "display_data"
    },
    {
     "name": "stdout",
     "output_type": "stream",
     "text": [
      "Seq2Seq(\n",
      "  (decoder): Decoder(\n",
      "    (dropout): Dropout(p=0.3, inplace=False)\n",
      "    (embedding): Embedding(29, 256)\n",
      "    (rnn): LSTM(256, 1024, num_layers=2, dropout=0.3)\n",
      "    (concat): Linear(in_features=2048, out_features=1024, bias=True)\n",
      "    (fc): Linear(in_features=1024, out_features=29, bias=True)\n",
      "    (attn): Attention()\n",
      "    (log_softmax): LogSoftmax(dim=1)\n",
      "  )\n",
      "  (encoder): Encoder(\n",
      "    (dropout): Dropout(p=0.3, inplace=False)\n",
      "    (embedding): Embedding(66, 256)\n",
      "    (rnn): LSTM(256, 1024, num_layers=2, dropout=0.3, bidirectional=True)\n",
      "  )\n",
      ")\n",
      "Total Trainable Parameters: 51484445\n"
     ]
    },
    {
     "name": "stderr",
     "output_type": "stream",
     "text": [
      "100%|██████████| 1382/1382 [03:03<00:00,  7.55it/s]\n",
      "100%|██████████| 137/137 [00:05<00:00, 27.11it/s]\n",
      "100%|██████████| 4358/4358 [01:01<00:00, 71.33it/s]\n"
     ]
    },
    {
     "name": "stdout",
     "output_type": "stream",
     "text": [
      "Epoch 1 / 10 ===========================>\n",
      "Train Accuracy Char: 31.1412, Train Average Loss: 2.5072\n",
      "Validation Accuracy Char: 21.4445, Validation Average Loss: 2.9423\n",
      "Beam Val Word Accuracy: 0.0000 Correct Prediction : 0/4358\n"
     ]
    },
    {
     "name": "stderr",
     "output_type": "stream",
     "text": [
      "100%|██████████| 1382/1382 [03:02<00:00,  7.56it/s]\n",
      "100%|██████████| 137/137 [00:05<00:00, 26.82it/s]\n",
      "100%|██████████| 4358/4358 [01:02<00:00, 69.81it/s]\n"
     ]
    },
    {
     "name": "stdout",
     "output_type": "stream",
     "text": [
      "Epoch 2 / 10 ===========================>\n",
      "Train Accuracy Char: 34.9939, Train Average Loss: 2.3444\n",
      "Validation Accuracy Char: 26.8044, Validation Average Loss: 2.8029\n",
      "Beam Val Word Accuracy: 0.0000 Correct Prediction : 0/4358\n"
     ]
    },
    {
     "name": "stderr",
     "output_type": "stream",
     "text": [
      "100%|██████████| 1382/1382 [03:03<00:00,  7.53it/s]\n",
      "100%|██████████| 137/137 [00:05<00:00, 26.95it/s]\n",
      "100%|██████████| 4358/4358 [01:04<00:00, 67.41it/s]\n"
     ]
    },
    {
     "name": "stdout",
     "output_type": "stream",
     "text": [
      "Epoch 3 / 10 ===========================>\n",
      "Train Accuracy Char: 63.0858, Train Average Loss: 1.3773\n",
      "Validation Accuracy Char: 69.2412, Validation Average Loss: 1.1509\n",
      "Beam Val Word Accuracy: 21.5925 Correct Prediction : 941/4358\n"
     ]
    },
    {
     "name": "stderr",
     "output_type": "stream",
     "text": [
      "100%|██████████| 1382/1382 [03:04<00:00,  7.51it/s]\n",
      "100%|██████████| 137/137 [00:05<00:00, 26.87it/s]\n",
      "100%|██████████| 4358/4358 [01:04<00:00, 67.06it/s]\n"
     ]
    },
    {
     "name": "stdout",
     "output_type": "stream",
     "text": [
      "Epoch 4 / 10 ===========================>\n",
      "Train Accuracy Char: 74.2231, Train Average Loss: 0.9355\n",
      "Validation Accuracy Char: 72.6817, Validation Average Loss: 0.9724\n",
      "Beam Val Word Accuracy: 30.1744 Correct Prediction : 1315/4358\n"
     ]
    },
    {
     "name": "stderr",
     "output_type": "stream",
     "text": [
      "100%|██████████| 1382/1382 [03:03<00:00,  7.52it/s]\n",
      "100%|██████████| 137/137 [00:05<00:00, 26.79it/s]\n",
      "100%|██████████| 4358/4358 [01:04<00:00, 67.12it/s]\n"
     ]
    },
    {
     "name": "stdout",
     "output_type": "stream",
     "text": [
      "Epoch 5 / 10 ===========================>\n",
      "Train Accuracy Char: 76.1683, Train Average Loss: 0.8326\n",
      "Validation Accuracy Char: 75.5749, Validation Average Loss: 0.8469\n",
      "Beam Val Word Accuracy: 38.9628 Correct Prediction : 1698/4358\n"
     ]
    },
    {
     "name": "stderr",
     "output_type": "stream",
     "text": [
      "100%|██████████| 1382/1382 [03:03<00:00,  7.51it/s]\n",
      "100%|██████████| 137/137 [00:05<00:00, 26.67it/s]\n",
      "100%|██████████| 4358/4358 [01:04<00:00, 67.67it/s]\n"
     ]
    },
    {
     "name": "stdout",
     "output_type": "stream",
     "text": [
      "Epoch 6 / 10 ===========================>\n",
      "Train Accuracy Char: 77.2311, Train Average Loss: 0.7835\n",
      "Validation Accuracy Char: 76.6875, Validation Average Loss: 0.8041\n",
      "Beam Val Word Accuracy: 42.1065 Correct Prediction : 1835/4358\n"
     ]
    },
    {
     "name": "stderr",
     "output_type": "stream",
     "text": [
      "100%|██████████| 1382/1382 [03:03<00:00,  7.51it/s]\n",
      "100%|██████████| 137/137 [00:05<00:00, 26.88it/s]\n",
      "100%|██████████| 4358/4358 [01:05<00:00, 66.99it/s]\n"
     ]
    },
    {
     "name": "stdout",
     "output_type": "stream",
     "text": [
      "Epoch 7 / 10 ===========================>\n",
      "Train Accuracy Char: 77.7209, Train Average Loss: 0.7573\n",
      "Validation Accuracy Char: 77.3067, Validation Average Loss: 0.7729\n",
      "Beam Val Word Accuracy: 42.5654 Correct Prediction : 1855/4358\n"
     ]
    },
    {
     "name": "stderr",
     "output_type": "stream",
     "text": [
      "100%|██████████| 1382/1382 [03:03<00:00,  7.51it/s]\n",
      "100%|██████████| 137/137 [00:05<00:00, 26.55it/s]\n",
      "100%|██████████| 4358/4358 [01:04<00:00, 67.35it/s]\n"
     ]
    },
    {
     "name": "stdout",
     "output_type": "stream",
     "text": [
      "Epoch 8 / 10 ===========================>\n",
      "Train Accuracy Char: 78.1159, Train Average Loss: 0.7405\n",
      "Validation Accuracy Char: 77.2964, Validation Average Loss: 0.7711\n",
      "Beam Val Word Accuracy: 43.7816 Correct Prediction : 1908/4358\n"
     ]
    },
    {
     "name": "stderr",
     "output_type": "stream",
     "text": [
      "100%|██████████| 1382/1382 [03:04<00:00,  7.51it/s]\n",
      "100%|██████████| 137/137 [00:05<00:00, 26.81it/s]\n",
      "100%|██████████| 4358/4358 [01:05<00:00, 66.83it/s]\n"
     ]
    },
    {
     "name": "stdout",
     "output_type": "stream",
     "text": [
      "Epoch 9 / 10 ===========================>\n",
      "Train Accuracy Char: 78.4788, Train Average Loss: 0.7229\n",
      "Validation Accuracy Char: 77.6844, Validation Average Loss: 0.7506\n",
      "Beam Val Word Accuracy: 43.5291 Correct Prediction : 1897/4358\n"
     ]
    },
    {
     "name": "stderr",
     "output_type": "stream",
     "text": [
      "100%|██████████| 1382/1382 [03:03<00:00,  7.51it/s]\n",
      "100%|██████████| 137/137 [00:05<00:00, 27.04it/s]\n",
      "100%|██████████| 4358/4358 [01:04<00:00, 67.24it/s]"
     ]
    },
    {
     "name": "stdout",
     "output_type": "stream",
     "text": [
      "Epoch 10 / 10 ===========================>\n",
      "Train Accuracy Char: 78.8445, Train Average Loss: 0.7064\n",
      "Validation Accuracy Char: 77.6998, Validation Average Loss: 0.7525\n",
      "Beam Val Word Accuracy: 44.0340 Correct Prediction : 1919/4358\n"
     ]
    },
    {
     "name": "stderr",
     "output_type": "stream",
     "text": [
      "\n"
     ]
    },
    {
     "data": {
      "text/html": [],
      "text/plain": [
       "<IPython.core.display.HTML object>"
      ]
     },
     "metadata": {},
     "output_type": "display_data"
    },
    {
     "data": {
      "text/html": [
       "<br>    <style><br>        .wandb-row {<br>            display: flex;<br>            flex-direction: row;<br>            flex-wrap: wrap;<br>            justify-content: flex-start;<br>            width: 100%;<br>        }<br>        .wandb-col {<br>            display: flex;<br>            flex-direction: column;<br>            flex-basis: 100%;<br>            flex: 1;<br>            padding: 10px;<br>        }<br>    </style><br><div class=\"wandb-row\"><div class=\"wandb-col\"><h3>Run history:</h3><br/><table class=\"wandb\"><tr><td>accuracy</td><td>▁</td></tr></table><br/></div><div class=\"wandb-col\"><h3>Run summary:</h3><br/><table class=\"wandb\"><tr><td>accuracy</td><td>44.03396</td></tr></table><br/></div></div>"
      ],
      "text/plain": [
       "<IPython.core.display.HTML object>"
      ]
     },
     "metadata": {},
     "output_type": "display_data"
    },
    {
     "data": {
      "text/html": [
       " View run <strong style=\"color:#cdcd00\">attention_cell_LSTM_bs_32_ep_10_op_adagrad_drop_0.3_bsw_1_emb_256_hs_1024_elayer_2_dlayer_2</strong> at: <a href='https://wandb.ai/cs24m019-iitm/DL_Assignment_3/runs/7avf6ppv' target=\"_blank\">https://wandb.ai/cs24m019-iitm/DL_Assignment_3/runs/7avf6ppv</a><br> View project at: <a href='https://wandb.ai/cs24m019-iitm/DL_Assignment_3' target=\"_blank\">https://wandb.ai/cs24m019-iitm/DL_Assignment_3</a><br>Synced 5 W&B file(s), 0 media file(s), 0 artifact file(s) and 0 other file(s)"
      ],
      "text/plain": [
       "<IPython.core.display.HTML object>"
      ]
     },
     "metadata": {},
     "output_type": "display_data"
    },
    {
     "data": {
      "text/html": [
       "Find logs at: <code>./wandb/run-20250518_192409-7avf6ppv/logs</code>"
      ],
      "text/plain": [
       "<IPython.core.display.HTML object>"
      ]
     },
     "metadata": {},
     "output_type": "display_data"
    },
    {
     "name": "stderr",
     "output_type": "stream",
     "text": [
      "\u001b[34m\u001b[1mwandb\u001b[0m: Agent Starting Run: oeoaop1q with config:\n",
      "\u001b[34m\u001b[1mwandb\u001b[0m: \tbatch_size: 32\n",
      "\u001b[34m\u001b[1mwandb\u001b[0m: \tbeam_search_width: 1\n",
      "\u001b[34m\u001b[1mwandb\u001b[0m: \tbidirectional: True\n",
      "\u001b[34m\u001b[1mwandb\u001b[0m: \tcell_type: GRU\n",
      "\u001b[34m\u001b[1mwandb\u001b[0m: \tdropout: 0.3\n",
      "\u001b[34m\u001b[1mwandb\u001b[0m: \tembedding_size: 256\n",
      "\u001b[34m\u001b[1mwandb\u001b[0m: \thidden_size: 512\n",
      "\u001b[34m\u001b[1mwandb\u001b[0m: \tlearning_rate: 0.01\n",
      "\u001b[34m\u001b[1mwandb\u001b[0m: \tlength_penalty: 0.6\n",
      "\u001b[34m\u001b[1mwandb\u001b[0m: \tnum_epochs: 10\n",
      "\u001b[34m\u001b[1mwandb\u001b[0m: \tnum_layers: 2\n",
      "\u001b[34m\u001b[1mwandb\u001b[0m: \toptimizer: adagrad\n",
      "\u001b[34m\u001b[1mwandb\u001b[0m: \tteacher_forcing: 0.7\n"
     ]
    },
    {
     "data": {
      "text/html": [
       "Ignoring project 'DL_Assignment_3' when running a sweep."
      ],
      "text/plain": [
       "<IPython.core.display.HTML object>"
      ]
     },
     "metadata": {},
     "output_type": "display_data"
    },
    {
     "data": {
      "text/html": [
       "Tracking run with wandb version 0.19.9"
      ],
      "text/plain": [
       "<IPython.core.display.HTML object>"
      ]
     },
     "metadata": {},
     "output_type": "display_data"
    },
    {
     "data": {
      "text/html": [
       "Run data is saved locally in <code>/kaggle/working/wandb/run-20250518_200638-oeoaop1q</code>"
      ],
      "text/plain": [
       "<IPython.core.display.HTML object>"
      ]
     },
     "metadata": {},
     "output_type": "display_data"
    },
    {
     "data": {
      "text/html": [
       "Syncing run <strong><a href='https://wandb.ai/cs24m019-iitm/DL_Assignment_3/runs/oeoaop1q' target=\"_blank\">proud-sweep-3</a></strong> to <a href='https://wandb.ai/cs24m019-iitm/DL_Assignment_3' target=\"_blank\">Weights & Biases</a> (<a href='https://wandb.me/developer-guide' target=\"_blank\">docs</a>)<br>Sweep page: <a href='https://wandb.ai/cs24m019-iitm/DL_Assignment_3/sweeps/b3yonf3b' target=\"_blank\">https://wandb.ai/cs24m019-iitm/DL_Assignment_3/sweeps/b3yonf3b</a>"
      ],
      "text/plain": [
       "<IPython.core.display.HTML object>"
      ]
     },
     "metadata": {},
     "output_type": "display_data"
    },
    {
     "data": {
      "text/html": [
       " View project at <a href='https://wandb.ai/cs24m019-iitm/DL_Assignment_3' target=\"_blank\">https://wandb.ai/cs24m019-iitm/DL_Assignment_3</a>"
      ],
      "text/plain": [
       "<IPython.core.display.HTML object>"
      ]
     },
     "metadata": {},
     "output_type": "display_data"
    },
    {
     "data": {
      "text/html": [
       " View sweep at <a href='https://wandb.ai/cs24m019-iitm/DL_Assignment_3/sweeps/b3yonf3b' target=\"_blank\">https://wandb.ai/cs24m019-iitm/DL_Assignment_3/sweeps/b3yonf3b</a>"
      ],
      "text/plain": [
       "<IPython.core.display.HTML object>"
      ]
     },
     "metadata": {},
     "output_type": "display_data"
    },
    {
     "data": {
      "text/html": [
       " View run at <a href='https://wandb.ai/cs24m019-iitm/DL_Assignment_3/runs/oeoaop1q' target=\"_blank\">https://wandb.ai/cs24m019-iitm/DL_Assignment_3/runs/oeoaop1q</a>"
      ],
      "text/plain": [
       "<IPython.core.display.HTML object>"
      ]
     },
     "metadata": {},
     "output_type": "display_data"
    },
    {
     "name": "stdout",
     "output_type": "stream",
     "text": [
      "Seq2Seq(\n",
      "  (decoder): Decoder(\n",
      "    (dropout): Dropout(p=0.3, inplace=False)\n",
      "    (embedding): Embedding(29, 256)\n",
      "    (rnn): GRU(256, 512, num_layers=2, dropout=0.3)\n",
      "    (concat): Linear(in_features=1024, out_features=512, bias=True)\n",
      "    (fc): Linear(in_features=512, out_features=29, bias=True)\n",
      "    (attn): Attention()\n",
      "    (log_softmax): LogSoftmax(dim=1)\n",
      "  )\n",
      "  (encoder): Encoder(\n",
      "    (dropout): Dropout(p=0.3, inplace=False)\n",
      "    (embedding): Embedding(66, 256)\n",
      "    (rnn): GRU(256, 512, num_layers=2, dropout=0.3, bidirectional=True)\n",
      "  )\n",
      ")\n",
      "Total Trainable Parameters: 10412829\n"
     ]
    },
    {
     "name": "stderr",
     "output_type": "stream",
     "text": [
      "100%|██████████| 1382/1382 [01:19<00:00, 17.48it/s]\n",
      "100%|██████████| 137/137 [00:02<00:00, 62.00it/s]\n",
      "100%|██████████| 4358/4358 [00:41<00:00, 106.06it/s]\n"
     ]
    },
    {
     "name": "stdout",
     "output_type": "stream",
     "text": [
      "Epoch 1 / 10 ===========================>\n",
      "Train Accuracy Char: 45.0027, Train Average Loss: 1.9547\n",
      "Validation Accuracy Char: 49.3898, Validation Average Loss: 1.8099\n",
      "Beam Val Word Accuracy: 8.7655 Correct Prediction : 382/4358\n"
     ]
    },
    {
     "name": "stderr",
     "output_type": "stream",
     "text": [
      "100%|██████████| 1382/1382 [01:19<00:00, 17.46it/s]\n",
      "100%|██████████| 137/137 [00:02<00:00, 60.98it/s]\n",
      "100%|██████████| 4358/4358 [00:43<00:00, 100.09it/s]\n"
     ]
    },
    {
     "name": "stdout",
     "output_type": "stream",
     "text": [
      "Epoch 2 / 10 ===========================>\n",
      "Train Accuracy Char: 70.7597, Train Average Loss: 1.0298\n",
      "Validation Accuracy Char: 71.4741, Validation Average Loss: 0.9997\n",
      "Beam Val Word Accuracy: 31.9413 Correct Prediction : 1392/4358\n"
     ]
    },
    {
     "name": "stderr",
     "output_type": "stream",
     "text": [
      "100%|██████████| 1382/1382 [01:18<00:00, 17.50it/s]\n",
      "100%|██████████| 137/137 [00:02<00:00, 60.77it/s]\n",
      "100%|██████████| 4358/4358 [00:44<00:00, 99.01it/s] \n"
     ]
    },
    {
     "name": "stdout",
     "output_type": "stream",
     "text": [
      "Epoch 3 / 10 ===========================>\n",
      "Train Accuracy Char: 74.7240, Train Average Loss: 0.8732\n",
      "Validation Accuracy Char: 74.6062, Validation Average Loss: 0.8756\n",
      "Beam Val Word Accuracy: 38.0450 Correct Prediction : 1658/4358\n"
     ]
    },
    {
     "name": "stderr",
     "output_type": "stream",
     "text": [
      "100%|██████████| 1382/1382 [01:18<00:00, 17.51it/s]\n",
      "100%|██████████| 137/137 [00:02<00:00, 61.21it/s]\n",
      "100%|██████████| 4358/4358 [00:43<00:00, 99.40it/s] \n"
     ]
    },
    {
     "name": "stdout",
     "output_type": "stream",
     "text": [
      "Epoch 4 / 10 ===========================>\n",
      "Train Accuracy Char: 75.9939, Train Average Loss: 0.8209\n",
      "Validation Accuracy Char: 75.3385, Validation Average Loss: 0.8313\n",
      "Beam Val Word Accuracy: 39.4218 Correct Prediction : 1718/4358\n"
     ]
    },
    {
     "name": "stderr",
     "output_type": "stream",
     "text": [
      "100%|██████████| 1382/1382 [01:18<00:00, 17.50it/s]\n",
      "100%|██████████| 137/137 [00:02<00:00, 61.36it/s]\n",
      "100%|██████████| 4358/4358 [00:44<00:00, 98.63it/s] \n"
     ]
    },
    {
     "name": "stdout",
     "output_type": "stream",
     "text": [
      "Epoch 5 / 10 ===========================>\n",
      "Train Accuracy Char: 76.7589, Train Average Loss: 0.7876\n",
      "Validation Accuracy Char: 76.4100, Validation Average Loss: 0.7973\n",
      "Beam Val Word Accuracy: 41.1427 Correct Prediction : 1793/4358\n"
     ]
    },
    {
     "name": "stderr",
     "output_type": "stream",
     "text": [
      "100%|██████████| 1382/1382 [01:19<00:00, 17.49it/s]\n",
      "100%|██████████| 137/137 [00:02<00:00, 61.52it/s]\n",
      "100%|██████████| 4358/4358 [00:44<00:00, 98.84it/s] \n"
     ]
    },
    {
     "name": "stdout",
     "output_type": "stream",
     "text": [
      "Epoch 6 / 10 ===========================>\n",
      "Train Accuracy Char: 77.2891, Train Average Loss: 0.7653\n",
      "Validation Accuracy Char: 76.7235, Validation Average Loss: 0.7865\n",
      "Beam Val Word Accuracy: 42.5883 Correct Prediction : 1856/4358\n"
     ]
    },
    {
     "name": "stderr",
     "output_type": "stream",
     "text": [
      "100%|██████████| 1382/1382 [01:18<00:00, 17.49it/s]\n",
      "100%|██████████| 137/137 [00:02<00:00, 61.11it/s]\n",
      "100%|██████████| 4358/4358 [00:43<00:00, 99.09it/s] \n"
     ]
    },
    {
     "name": "stdout",
     "output_type": "stream",
     "text": [
      "Epoch 7 / 10 ===========================>\n",
      "Train Accuracy Char: 77.8466, Train Average Loss: 0.7441\n",
      "Validation Accuracy Char: 77.0087, Validation Average Loss: 0.7730\n",
      "Beam Val Word Accuracy: 43.4603 Correct Prediction : 1894/4358\n"
     ]
    },
    {
     "name": "stderr",
     "output_type": "stream",
     "text": [
      "100%|██████████| 1382/1382 [01:19<00:00, 17.43it/s]\n",
      "100%|██████████| 137/137 [00:02<00:00, 61.83it/s]\n",
      "100%|██████████| 4358/4358 [00:44<00:00, 97.72it/s] \n"
     ]
    },
    {
     "name": "stdout",
     "output_type": "stream",
     "text": [
      "Epoch 8 / 10 ===========================>\n",
      "Train Accuracy Char: 78.2167, Train Average Loss: 0.7283\n",
      "Validation Accuracy Char: 77.1628, Validation Average Loss: 0.7676\n",
      "Beam Val Word Accuracy: 43.3456 Correct Prediction : 1889/4358\n"
     ]
    },
    {
     "name": "stderr",
     "output_type": "stream",
     "text": [
      "100%|██████████| 1382/1382 [01:19<00:00, 17.46it/s]\n",
      "100%|██████████| 137/137 [00:02<00:00, 60.52it/s]\n",
      "100%|██████████| 4358/4358 [00:44<00:00, 98.47it/s] \n"
     ]
    },
    {
     "name": "stdout",
     "output_type": "stream",
     "text": [
      "Epoch 9 / 10 ===========================>\n",
      "Train Accuracy Char: 78.3657, Train Average Loss: 0.7202\n",
      "Validation Accuracy Char: 77.3966, Validation Average Loss: 0.7598\n",
      "Beam Val Word Accuracy: 43.8274 Correct Prediction : 1910/4358\n"
     ]
    },
    {
     "name": "stderr",
     "output_type": "stream",
     "text": [
      "100%|██████████| 1382/1382 [01:19<00:00, 17.48it/s]\n",
      "100%|██████████| 137/137 [00:02<00:00, 61.76it/s]\n",
      "100%|██████████| 4358/4358 [00:44<00:00, 98.74it/s] "
     ]
    },
    {
     "name": "stdout",
     "output_type": "stream",
     "text": [
      "Epoch 10 / 10 ===========================>\n",
      "Train Accuracy Char: 78.7614, Train Average Loss: 0.7058\n",
      "Validation Accuracy Char: 77.1577, Validation Average Loss: 0.7688\n",
      "Beam Val Word Accuracy: 44.2405 Correct Prediction : 1928/4358\n"
     ]
    },
    {
     "name": "stderr",
     "output_type": "stream",
     "text": [
      "\n"
     ]
    },
    {
     "data": {
      "text/html": [],
      "text/plain": [
       "<IPython.core.display.HTML object>"
      ]
     },
     "metadata": {},
     "output_type": "display_data"
    },
    {
     "data": {
      "text/html": [
       "<br>    <style><br>        .wandb-row {<br>            display: flex;<br>            flex-direction: row;<br>            flex-wrap: wrap;<br>            justify-content: flex-start;<br>            width: 100%;<br>        }<br>        .wandb-col {<br>            display: flex;<br>            flex-direction: column;<br>            flex-basis: 100%;<br>            flex: 1;<br>            padding: 10px;<br>        }<br>    </style><br><div class=\"wandb-row\"><div class=\"wandb-col\"><h3>Run history:</h3><br/><table class=\"wandb\"><tr><td>accuracy</td><td>▁</td></tr></table><br/></div><div class=\"wandb-col\"><h3>Run summary:</h3><br/><table class=\"wandb\"><tr><td>accuracy</td><td>44.24048</td></tr></table><br/></div></div>"
      ],
      "text/plain": [
       "<IPython.core.display.HTML object>"
      ]
     },
     "metadata": {},
     "output_type": "display_data"
    },
    {
     "data": {
      "text/html": [
       " View run <strong style=\"color:#cdcd00\">attention_cell_GRU_bs_32_ep_10_op_adagrad_drop_0.3_bsw_1_emb_256_hs_512_elayer_2_dlayer_2</strong> at: <a href='https://wandb.ai/cs24m019-iitm/DL_Assignment_3/runs/oeoaop1q' target=\"_blank\">https://wandb.ai/cs24m019-iitm/DL_Assignment_3/runs/oeoaop1q</a><br> View project at: <a href='https://wandb.ai/cs24m019-iitm/DL_Assignment_3' target=\"_blank\">https://wandb.ai/cs24m019-iitm/DL_Assignment_3</a><br>Synced 5 W&B file(s), 0 media file(s), 0 artifact file(s) and 0 other file(s)"
      ],
      "text/plain": [
       "<IPython.core.display.HTML object>"
      ]
     },
     "metadata": {},
     "output_type": "display_data"
    },
    {
     "data": {
      "text/html": [
       "Find logs at: <code>./wandb/run-20250518_200638-oeoaop1q/logs</code>"
      ],
      "text/plain": [
       "<IPython.core.display.HTML object>"
      ]
     },
     "metadata": {},
     "output_type": "display_data"
    },
    {
     "name": "stderr",
     "output_type": "stream",
     "text": [
      "\u001b[34m\u001b[1mwandb\u001b[0m: Agent Starting Run: cx03rane with config:\n",
      "\u001b[34m\u001b[1mwandb\u001b[0m: \tbatch_size: 32\n",
      "\u001b[34m\u001b[1mwandb\u001b[0m: \tbeam_search_width: 1\n",
      "\u001b[34m\u001b[1mwandb\u001b[0m: \tbidirectional: True\n",
      "\u001b[34m\u001b[1mwandb\u001b[0m: \tcell_type: GRU\n",
      "\u001b[34m\u001b[1mwandb\u001b[0m: \tdropout: 0.3\n",
      "\u001b[34m\u001b[1mwandb\u001b[0m: \tembedding_size: 256\n",
      "\u001b[34m\u001b[1mwandb\u001b[0m: \thidden_size: 1024\n",
      "\u001b[34m\u001b[1mwandb\u001b[0m: \tlearning_rate: 0.01\n",
      "\u001b[34m\u001b[1mwandb\u001b[0m: \tlength_penalty: 0.6\n",
      "\u001b[34m\u001b[1mwandb\u001b[0m: \tnum_epochs: 10\n",
      "\u001b[34m\u001b[1mwandb\u001b[0m: \tnum_layers: 2\n",
      "\u001b[34m\u001b[1mwandb\u001b[0m: \toptimizer: adagrad\n",
      "\u001b[34m\u001b[1mwandb\u001b[0m: \tteacher_forcing: 0.7\n"
     ]
    },
    {
     "data": {
      "text/html": [
       "Ignoring project 'DL_Assignment_3' when running a sweep."
      ],
      "text/plain": [
       "<IPython.core.display.HTML object>"
      ]
     },
     "metadata": {},
     "output_type": "display_data"
    },
    {
     "data": {
      "text/html": [
       "Tracking run with wandb version 0.19.9"
      ],
      "text/plain": [
       "<IPython.core.display.HTML object>"
      ]
     },
     "metadata": {},
     "output_type": "display_data"
    },
    {
     "data": {
      "text/html": [
       "Run data is saved locally in <code>/kaggle/working/wandb/run-20250518_202744-cx03rane</code>"
      ],
      "text/plain": [
       "<IPython.core.display.HTML object>"
      ]
     },
     "metadata": {},
     "output_type": "display_data"
    },
    {
     "data": {
      "text/html": [
       "Syncing run <strong><a href='https://wandb.ai/cs24m019-iitm/DL_Assignment_3/runs/cx03rane' target=\"_blank\">fragrant-sweep-4</a></strong> to <a href='https://wandb.ai/cs24m019-iitm/DL_Assignment_3' target=\"_blank\">Weights & Biases</a> (<a href='https://wandb.me/developer-guide' target=\"_blank\">docs</a>)<br>Sweep page: <a href='https://wandb.ai/cs24m019-iitm/DL_Assignment_3/sweeps/b3yonf3b' target=\"_blank\">https://wandb.ai/cs24m019-iitm/DL_Assignment_3/sweeps/b3yonf3b</a>"
      ],
      "text/plain": [
       "<IPython.core.display.HTML object>"
      ]
     },
     "metadata": {},
     "output_type": "display_data"
    },
    {
     "data": {
      "text/html": [
       " View project at <a href='https://wandb.ai/cs24m019-iitm/DL_Assignment_3' target=\"_blank\">https://wandb.ai/cs24m019-iitm/DL_Assignment_3</a>"
      ],
      "text/plain": [
       "<IPython.core.display.HTML object>"
      ]
     },
     "metadata": {},
     "output_type": "display_data"
    },
    {
     "data": {
      "text/html": [
       " View sweep at <a href='https://wandb.ai/cs24m019-iitm/DL_Assignment_3/sweeps/b3yonf3b' target=\"_blank\">https://wandb.ai/cs24m019-iitm/DL_Assignment_3/sweeps/b3yonf3b</a>"
      ],
      "text/plain": [
       "<IPython.core.display.HTML object>"
      ]
     },
     "metadata": {},
     "output_type": "display_data"
    },
    {
     "data": {
      "text/html": [
       " View run at <a href='https://wandb.ai/cs24m019-iitm/DL_Assignment_3/runs/cx03rane' target=\"_blank\">https://wandb.ai/cs24m019-iitm/DL_Assignment_3/runs/cx03rane</a>"
      ],
      "text/plain": [
       "<IPython.core.display.HTML object>"
      ]
     },
     "metadata": {},
     "output_type": "display_data"
    },
    {
     "name": "stdout",
     "output_type": "stream",
     "text": [
      "Seq2Seq(\n",
      "  (decoder): Decoder(\n",
      "    (dropout): Dropout(p=0.3, inplace=False)\n",
      "    (embedding): Embedding(29, 256)\n",
      "    (rnn): GRU(256, 1024, num_layers=2, dropout=0.3)\n",
      "    (concat): Linear(in_features=2048, out_features=1024, bias=True)\n",
      "    (fc): Linear(in_features=1024, out_features=29, bias=True)\n",
      "    (attn): Attention()\n",
      "    (log_softmax): LogSoftmax(dim=1)\n",
      "  )\n",
      "  (encoder): Encoder(\n",
      "    (dropout): Dropout(p=0.3, inplace=False)\n",
      "    (embedding): Embedding(66, 256)\n",
      "    (rnn): GRU(256, 1024, num_layers=2, dropout=0.3, bidirectional=True)\n",
      "  )\n",
      ")\n",
      "Total Trainable Parameters: 39151389\n"
     ]
    },
    {
     "name": "stderr",
     "output_type": "stream",
     "text": [
      "100%|██████████| 1382/1382 [02:22<00:00,  9.70it/s]\n",
      "100%|██████████| 137/137 [00:03<00:00, 36.24it/s]\n",
      "100%|██████████| 4358/4358 [00:58<00:00, 74.01it/s]\n"
     ]
    },
    {
     "name": "stdout",
     "output_type": "stream",
     "text": [
      "Epoch 1 / 10 ===========================>\n",
      "Train Accuracy Char: 31.6682, Train Average Loss: 2.4633\n",
      "Validation Accuracy Char: 19.9234, Validation Average Loss: 3.1158\n",
      "Beam Val Word Accuracy: 0.0229 Correct Prediction : 1/4358\n"
     ]
    },
    {
     "name": "stderr",
     "output_type": "stream",
     "text": [
      "100%|██████████| 1382/1382 [02:22<00:00,  9.72it/s]\n",
      "100%|██████████| 137/137 [00:03<00:00, 36.00it/s]\n",
      "100%|██████████| 4358/4358 [00:57<00:00, 76.45it/s]\n"
     ]
    },
    {
     "name": "stdout",
     "output_type": "stream",
     "text": [
      "Epoch 2 / 10 ===========================>\n",
      "Train Accuracy Char: 42.2640, Train Average Loss: 2.0576\n",
      "Validation Accuracy Char: 33.1021, Validation Average Loss: 2.5138\n",
      "Beam Val Word Accuracy: 0.1377 Correct Prediction : 6/4358\n"
     ]
    },
    {
     "name": "stderr",
     "output_type": "stream",
     "text": [
      "100%|██████████| 1382/1382 [02:23<00:00,  9.66it/s]\n",
      "100%|██████████| 137/137 [00:03<00:00, 35.53it/s]\n",
      "100%|██████████| 4358/4358 [00:58<00:00, 75.10it/s]\n"
     ]
    },
    {
     "name": "stdout",
     "output_type": "stream",
     "text": [
      "Epoch 3 / 10 ===========================>\n",
      "Train Accuracy Char: 57.7345, Train Average Loss: 1.4615\n",
      "Validation Accuracy Char: 54.1098, Validation Average Loss: 1.6331\n",
      "Beam Val Word Accuracy: 3.2125 Correct Prediction : 140/4358\n"
     ]
    },
    {
     "name": "stderr",
     "output_type": "stream",
     "text": [
      "100%|██████████| 1382/1382 [02:23<00:00,  9.66it/s]\n",
      "100%|██████████| 137/137 [00:03<00:00, 35.86it/s]\n",
      "100%|██████████| 4358/4358 [00:57<00:00, 75.50it/s]\n"
     ]
    },
    {
     "name": "stdout",
     "output_type": "stream",
     "text": [
      "Epoch 4 / 10 ===========================>\n",
      "Train Accuracy Char: 70.2915, Train Average Loss: 1.0125\n",
      "Validation Accuracy Char: 63.0592, Validation Average Loss: 1.3370\n",
      "Beam Val Word Accuracy: 8.7655 Correct Prediction : 382/4358\n"
     ]
    },
    {
     "name": "stderr",
     "output_type": "stream",
     "text": [
      "100%|██████████| 1382/1382 [02:22<00:00,  9.69it/s]\n",
      "100%|██████████| 137/137 [00:03<00:00, 35.94it/s]\n",
      "100%|██████████| 4358/4358 [00:58<00:00, 75.07it/s]\n"
     ]
    },
    {
     "name": "stdout",
     "output_type": "stream",
     "text": [
      "Epoch 5 / 10 ===========================>\n",
      "Train Accuracy Char: 74.2042, Train Average Loss: 0.8774\n",
      "Validation Accuracy Char: 65.9061, Validation Average Loss: 1.2267\n",
      "Beam Val Word Accuracy: 12.2992 Correct Prediction : 536/4358\n"
     ]
    },
    {
     "name": "stderr",
     "output_type": "stream",
     "text": [
      "100%|██████████| 1382/1382 [02:22<00:00,  9.69it/s]\n",
      "100%|██████████| 137/137 [00:03<00:00, 35.51it/s]\n",
      "100%|██████████| 4358/4358 [00:58<00:00, 74.98it/s]\n"
     ]
    },
    {
     "name": "stdout",
     "output_type": "stream",
     "text": [
      "Epoch 6 / 10 ===========================>\n",
      "Train Accuracy Char: 75.7155, Train Average Loss: 0.8175\n",
      "Validation Accuracy Char: 68.2135, Validation Average Loss: 1.1134\n",
      "Beam Val Word Accuracy: 16.2001 Correct Prediction : 706/4358\n"
     ]
    },
    {
     "name": "stderr",
     "output_type": "stream",
     "text": [
      "100%|██████████| 1382/1382 [02:22<00:00,  9.69it/s]\n",
      "100%|██████████| 137/137 [00:03<00:00, 35.86it/s]\n",
      "100%|██████████| 4358/4358 [00:57<00:00, 75.50it/s]\n"
     ]
    },
    {
     "name": "stdout",
     "output_type": "stream",
     "text": [
      "Epoch 7 / 10 ===========================>\n",
      "Train Accuracy Char: 76.8866, Train Average Loss: 0.7741\n",
      "Validation Accuracy Char: 69.6858, Validation Average Loss: 1.0335\n",
      "Beam Val Word Accuracy: 19.9174 Correct Prediction : 868/4358\n"
     ]
    },
    {
     "name": "stderr",
     "output_type": "stream",
     "text": [
      "100%|██████████| 1382/1382 [02:22<00:00,  9.71it/s]\n",
      "100%|██████████| 137/137 [00:03<00:00, 35.88it/s]\n",
      "100%|██████████| 4358/4358 [00:58<00:00, 75.05it/s]\n"
     ]
    },
    {
     "name": "stdout",
     "output_type": "stream",
     "text": [
      "Epoch 8 / 10 ===========================>\n",
      "Train Accuracy Char: 77.6091, Train Average Loss: 0.7453\n",
      "Validation Accuracy Char: 71.2223, Validation Average Loss: 0.9499\n",
      "Beam Val Word Accuracy: 24.7361 Correct Prediction : 1078/4358\n"
     ]
    },
    {
     "name": "stderr",
     "output_type": "stream",
     "text": [
      "100%|██████████| 1382/1382 [02:22<00:00,  9.70it/s]\n",
      "100%|██████████| 137/137 [00:03<00:00, 35.68it/s]\n",
      "100%|██████████| 4358/4358 [00:57<00:00, 75.42it/s]\n"
     ]
    },
    {
     "name": "stdout",
     "output_type": "stream",
     "text": [
      "Epoch 9 / 10 ===========================>\n",
      "Train Accuracy Char: 78.2093, Train Average Loss: 0.7213\n",
      "Validation Accuracy Char: 73.6581, Validation Average Loss: 0.8740\n",
      "Beam Val Word Accuracy: 31.3676 Correct Prediction : 1367/4358\n"
     ]
    },
    {
     "name": "stderr",
     "output_type": "stream",
     "text": [
      "100%|██████████| 1382/1382 [02:22<00:00,  9.72it/s]\n",
      "100%|██████████| 137/137 [00:03<00:00, 35.98it/s]\n",
      "100%|██████████| 4358/4358 [00:57<00:00, 75.14it/s]"
     ]
    },
    {
     "name": "stdout",
     "output_type": "stream",
     "text": [
      "Epoch 10 / 10 ===========================>\n",
      "Train Accuracy Char: 78.6173, Train Average Loss: 0.7048\n",
      "Validation Accuracy Char: 74.7758, Validation Average Loss: 0.8398\n",
      "Beam Val Word Accuracy: 35.4520 Correct Prediction : 1545/4358\n"
     ]
    },
    {
     "name": "stderr",
     "output_type": "stream",
     "text": [
      "\n"
     ]
    },
    {
     "data": {
      "text/html": [],
      "text/plain": [
       "<IPython.core.display.HTML object>"
      ]
     },
     "metadata": {},
     "output_type": "display_data"
    },
    {
     "data": {
      "text/html": [
       "<br>    <style><br>        .wandb-row {<br>            display: flex;<br>            flex-direction: row;<br>            flex-wrap: wrap;<br>            justify-content: flex-start;<br>            width: 100%;<br>        }<br>        .wandb-col {<br>            display: flex;<br>            flex-direction: column;<br>            flex-basis: 100%;<br>            flex: 1;<br>            padding: 10px;<br>        }<br>    </style><br><div class=\"wandb-row\"><div class=\"wandb-col\"><h3>Run history:</h3><br/><table class=\"wandb\"><tr><td>accuracy</td><td>▁</td></tr></table><br/></div><div class=\"wandb-col\"><h3>Run summary:</h3><br/><table class=\"wandb\"><tr><td>accuracy</td><td>35.45204</td></tr></table><br/></div></div>"
      ],
      "text/plain": [
       "<IPython.core.display.HTML object>"
      ]
     },
     "metadata": {},
     "output_type": "display_data"
    },
    {
     "data": {
      "text/html": [
       " View run <strong style=\"color:#cdcd00\">attention_cell_GRU_bs_32_ep_10_op_adagrad_drop_0.3_bsw_1_emb_256_hs_1024_elayer_2_dlayer_2</strong> at: <a href='https://wandb.ai/cs24m019-iitm/DL_Assignment_3/runs/cx03rane' target=\"_blank\">https://wandb.ai/cs24m019-iitm/DL_Assignment_3/runs/cx03rane</a><br> View project at: <a href='https://wandb.ai/cs24m019-iitm/DL_Assignment_3' target=\"_blank\">https://wandb.ai/cs24m019-iitm/DL_Assignment_3</a><br>Synced 5 W&B file(s), 0 media file(s), 0 artifact file(s) and 0 other file(s)"
      ],
      "text/plain": [
       "<IPython.core.display.HTML object>"
      ]
     },
     "metadata": {},
     "output_type": "display_data"
    },
    {
     "data": {
      "text/html": [
       "Find logs at: <code>./wandb/run-20250518_202744-cx03rane/logs</code>"
      ],
      "text/plain": [
       "<IPython.core.display.HTML object>"
      ]
     },
     "metadata": {},
     "output_type": "display_data"
    },
    {
     "name": "stderr",
     "output_type": "stream",
     "text": [
      "\u001b[34m\u001b[1mwandb\u001b[0m: Agent Starting Run: r0n6bspk with config:\n",
      "\u001b[34m\u001b[1mwandb\u001b[0m: \tbatch_size: 32\n",
      "\u001b[34m\u001b[1mwandb\u001b[0m: \tbeam_search_width: 4\n",
      "\u001b[34m\u001b[1mwandb\u001b[0m: \tbidirectional: True\n",
      "\u001b[34m\u001b[1mwandb\u001b[0m: \tcell_type: LSTM\n",
      "\u001b[34m\u001b[1mwandb\u001b[0m: \tdropout: 0.3\n",
      "\u001b[34m\u001b[1mwandb\u001b[0m: \tembedding_size: 256\n",
      "\u001b[34m\u001b[1mwandb\u001b[0m: \thidden_size: 512\n",
      "\u001b[34m\u001b[1mwandb\u001b[0m: \tlearning_rate: 0.01\n",
      "\u001b[34m\u001b[1mwandb\u001b[0m: \tlength_penalty: 0.6\n",
      "\u001b[34m\u001b[1mwandb\u001b[0m: \tnum_epochs: 10\n",
      "\u001b[34m\u001b[1mwandb\u001b[0m: \tnum_layers: 2\n",
      "\u001b[34m\u001b[1mwandb\u001b[0m: \toptimizer: adagrad\n",
      "\u001b[34m\u001b[1mwandb\u001b[0m: \tteacher_forcing: 0.7\n"
     ]
    },
    {
     "data": {
      "text/html": [
       "Ignoring project 'DL_Assignment_3' when running a sweep."
      ],
      "text/plain": [
       "<IPython.core.display.HTML object>"
      ]
     },
     "metadata": {},
     "output_type": "display_data"
    },
    {
     "data": {
      "text/html": [
       "Tracking run with wandb version 0.19.9"
      ],
      "text/plain": [
       "<IPython.core.display.HTML object>"
      ]
     },
     "metadata": {},
     "output_type": "display_data"
    },
    {
     "data": {
      "text/html": [
       "Run data is saved locally in <code>/kaggle/working/wandb/run-20250518_210205-r0n6bspk</code>"
      ],
      "text/plain": [
       "<IPython.core.display.HTML object>"
      ]
     },
     "metadata": {},
     "output_type": "display_data"
    },
    {
     "data": {
      "text/html": [
       "Syncing run <strong><a href='https://wandb.ai/cs24m019-iitm/DL_Assignment_3/runs/r0n6bspk' target=\"_blank\">ancient-sweep-5</a></strong> to <a href='https://wandb.ai/cs24m019-iitm/DL_Assignment_3' target=\"_blank\">Weights & Biases</a> (<a href='https://wandb.me/developer-guide' target=\"_blank\">docs</a>)<br>Sweep page: <a href='https://wandb.ai/cs24m019-iitm/DL_Assignment_3/sweeps/b3yonf3b' target=\"_blank\">https://wandb.ai/cs24m019-iitm/DL_Assignment_3/sweeps/b3yonf3b</a>"
      ],
      "text/plain": [
       "<IPython.core.display.HTML object>"
      ]
     },
     "metadata": {},
     "output_type": "display_data"
    },
    {
     "data": {
      "text/html": [
       " View project at <a href='https://wandb.ai/cs24m019-iitm/DL_Assignment_3' target=\"_blank\">https://wandb.ai/cs24m019-iitm/DL_Assignment_3</a>"
      ],
      "text/plain": [
       "<IPython.core.display.HTML object>"
      ]
     },
     "metadata": {},
     "output_type": "display_data"
    },
    {
     "data": {
      "text/html": [
       " View sweep at <a href='https://wandb.ai/cs24m019-iitm/DL_Assignment_3/sweeps/b3yonf3b' target=\"_blank\">https://wandb.ai/cs24m019-iitm/DL_Assignment_3/sweeps/b3yonf3b</a>"
      ],
      "text/plain": [
       "<IPython.core.display.HTML object>"
      ]
     },
     "metadata": {},
     "output_type": "display_data"
    },
    {
     "data": {
      "text/html": [
       " View run at <a href='https://wandb.ai/cs24m019-iitm/DL_Assignment_3/runs/r0n6bspk' target=\"_blank\">https://wandb.ai/cs24m019-iitm/DL_Assignment_3/runs/r0n6bspk</a>"
      ],
      "text/plain": [
       "<IPython.core.display.HTML object>"
      ]
     },
     "metadata": {},
     "output_type": "display_data"
    },
    {
     "name": "stdout",
     "output_type": "stream",
     "text": [
      "Seq2Seq(\n",
      "  (decoder): Decoder(\n",
      "    (dropout): Dropout(p=0.3, inplace=False)\n",
      "    (embedding): Embedding(29, 256)\n",
      "    (rnn): LSTM(256, 512, num_layers=2, dropout=0.3)\n",
      "    (concat): Linear(in_features=1024, out_features=512, bias=True)\n",
      "    (fc): Linear(in_features=512, out_features=29, bias=True)\n",
      "    (attn): Attention()\n",
      "    (log_softmax): LogSoftmax(dim=1)\n",
      "  )\n",
      "  (encoder): Encoder(\n",
      "    (dropout): Dropout(p=0.3, inplace=False)\n",
      "    (embedding): Embedding(66, 256)\n",
      "    (rnn): LSTM(256, 512, num_layers=2, dropout=0.3, bidirectional=True)\n",
      "  )\n",
      ")\n",
      "Total Trainable Parameters: 13695773\n"
     ]
    },
    {
     "name": "stderr",
     "output_type": "stream",
     "text": [
      "100%|██████████| 1382/1382 [01:25<00:00, 16.18it/s]\n",
      "100%|██████████| 137/137 [00:02<00:00, 62.27it/s]\n",
      "100%|██████████| 4358/4358 [01:43<00:00, 42.20it/s]\n"
     ]
    },
    {
     "name": "stdout",
     "output_type": "stream",
     "text": [
      "Epoch 1 / 10 ===========================>\n",
      "Train Accuracy Char: 48.8620, Train Average Loss: 1.8302\n",
      "Validation Accuracy Char: 67.1908, Validation Average Loss: 1.1632\n",
      "Beam Val Word Accuracy: 5.0941 Correct Prediction : 222/4358\n"
     ]
    },
    {
     "name": "stderr",
     "output_type": "stream",
     "text": [
      "100%|██████████| 1382/1382 [01:25<00:00, 16.18it/s]\n",
      "100%|██████████| 137/137 [00:02<00:00, 63.38it/s]\n",
      "100%|██████████| 4358/4358 [01:43<00:00, 42.14it/s]\n"
     ]
    },
    {
     "name": "stdout",
     "output_type": "stream",
     "text": [
      "Epoch 2 / 10 ===========================>\n",
      "Train Accuracy Char: 75.1726, Train Average Loss: 0.8630\n",
      "Validation Accuracy Char: 74.6294, Validation Average Loss: 0.8644\n",
      "Beam Val Word Accuracy: 5.1629 Correct Prediction : 225/4358\n"
     ]
    },
    {
     "name": "stderr",
     "output_type": "stream",
     "text": [
      "100%|██████████| 1382/1382 [01:25<00:00, 16.18it/s]\n",
      "100%|██████████| 137/137 [00:02<00:00, 62.35it/s]\n",
      "100%|██████████| 4358/4358 [01:44<00:00, 41.53it/s]\n"
     ]
    },
    {
     "name": "stdout",
     "output_type": "stream",
     "text": [
      "Epoch 3 / 10 ===========================>\n",
      "Train Accuracy Char: 76.9382, Train Average Loss: 0.7842\n",
      "Validation Accuracy Char: 76.3714, Validation Average Loss: 0.7967\n",
      "Beam Val Word Accuracy: 5.5530 Correct Prediction : 242/4358\n"
     ]
    },
    {
     "name": "stderr",
     "output_type": "stream",
     "text": [
      "100%|██████████| 1382/1382 [01:25<00:00, 16.15it/s]\n",
      "100%|██████████| 137/137 [00:02<00:00, 61.76it/s]\n",
      "100%|██████████| 4358/4358 [01:45<00:00, 41.29it/s]\n"
     ]
    },
    {
     "name": "stdout",
     "output_type": "stream",
     "text": [
      "Epoch 4 / 10 ===========================>\n",
      "Train Accuracy Char: 77.8319, Train Average Loss: 0.7464\n",
      "Validation Accuracy Char: 76.8416, Validation Average Loss: 0.7775\n",
      "Beam Val Word Accuracy: 6.0119 Correct Prediction : 262/4358\n"
     ]
    },
    {
     "name": "stderr",
     "output_type": "stream",
     "text": [
      "100%|██████████| 1382/1382 [01:25<00:00, 16.15it/s]\n",
      "100%|██████████| 137/137 [00:02<00:00, 62.65it/s]\n",
      "100%|██████████| 4358/4358 [01:47<00:00, 40.41it/s]\n"
     ]
    },
    {
     "name": "stdout",
     "output_type": "stream",
     "text": [
      "Epoch 5 / 10 ===========================>\n",
      "Train Accuracy Char: 78.1498, Train Average Loss: 0.7294\n",
      "Validation Accuracy Char: 77.0909, Validation Average Loss: 0.7629\n",
      "Beam Val Word Accuracy: 7.2740 Correct Prediction : 317/4358\n"
     ]
    },
    {
     "name": "stderr",
     "output_type": "stream",
     "text": [
      "100%|██████████| 1382/1382 [01:25<00:00, 16.16it/s]\n",
      "100%|██████████| 137/137 [00:02<00:00, 62.74it/s]\n",
      "100%|██████████| 4358/4358 [01:47<00:00, 40.44it/s]\n"
     ]
    },
    {
     "name": "stdout",
     "output_type": "stream",
     "text": [
      "Epoch 6 / 10 ===========================>\n",
      "Train Accuracy Char: 78.5428, Train Average Loss: 0.7129\n",
      "Validation Accuracy Char: 77.5688, Validation Average Loss: 0.7472\n",
      "Beam Val Word Accuracy: 7.4117 Correct Prediction : 323/4358\n"
     ]
    },
    {
     "name": "stderr",
     "output_type": "stream",
     "text": [
      "100%|██████████| 1382/1382 [01:25<00:00, 16.19it/s]\n",
      "100%|██████████| 137/137 [00:02<00:00, 61.63it/s]\n",
      "100%|██████████| 4358/4358 [01:47<00:00, 40.58it/s]\n"
     ]
    },
    {
     "name": "stdout",
     "output_type": "stream",
     "text": [
      "Epoch 7 / 10 ===========================>\n",
      "Train Accuracy Char: 78.8266, Train Average Loss: 0.6995\n",
      "Validation Accuracy Char: 77.4455, Validation Average Loss: 0.7489\n",
      "Beam Val Word Accuracy: 7.5034 Correct Prediction : 327/4358\n"
     ]
    },
    {
     "name": "stderr",
     "output_type": "stream",
     "text": [
      "100%|██████████| 1382/1382 [01:25<00:00, 16.18it/s]\n",
      "100%|██████████| 137/137 [00:02<00:00, 61.43it/s]\n",
      "100%|██████████| 4358/4358 [01:48<00:00, 40.15it/s]\n"
     ]
    },
    {
     "name": "stdout",
     "output_type": "stream",
     "text": [
      "Epoch 8 / 10 ===========================>\n",
      "Train Accuracy Char: 79.0641, Train Average Loss: 0.6896\n",
      "Validation Accuracy Char: 77.7872, Validation Average Loss: 0.7390\n",
      "Beam Val Word Accuracy: 7.8017 Correct Prediction : 340/4358\n"
     ]
    },
    {
     "name": "stderr",
     "output_type": "stream",
     "text": [
      "100%|██████████| 1382/1382 [01:25<00:00, 16.11it/s]\n",
      "100%|██████████| 137/137 [00:02<00:00, 62.53it/s]\n",
      "100%|██████████| 4358/4358 [01:48<00:00, 40.17it/s]\n"
     ]
    },
    {
     "name": "stdout",
     "output_type": "stream",
     "text": [
      "Epoch 9 / 10 ===========================>\n",
      "Train Accuracy Char: 79.2943, Train Average Loss: 0.6779\n",
      "Validation Accuracy Char: 77.6562, Validation Average Loss: 0.7410\n",
      "Beam Val Word Accuracy: 7.8935 Correct Prediction : 344/4358\n"
     ]
    },
    {
     "name": "stderr",
     "output_type": "stream",
     "text": [
      "100%|██████████| 1382/1382 [01:25<00:00, 16.17it/s]\n",
      "100%|██████████| 137/137 [00:02<00:00, 62.68it/s]\n",
      "100%|██████████| 4358/4358 [01:49<00:00, 39.75it/s]"
     ]
    },
    {
     "name": "stdout",
     "output_type": "stream",
     "text": [
      "Epoch 10 / 10 ===========================>\n",
      "Train Accuracy Char: 79.5547, Train Average Loss: 0.6686\n",
      "Validation Accuracy Char: 78.1418, Validation Average Loss: 0.7239\n",
      "Beam Val Word Accuracy: 8.0083 Correct Prediction : 349/4358\n"
     ]
    },
    {
     "name": "stderr",
     "output_type": "stream",
     "text": [
      "\n"
     ]
    },
    {
     "data": {
      "text/html": [],
      "text/plain": [
       "<IPython.core.display.HTML object>"
      ]
     },
     "metadata": {},
     "output_type": "display_data"
    },
    {
     "data": {
      "text/html": [
       "<br>    <style><br>        .wandb-row {<br>            display: flex;<br>            flex-direction: row;<br>            flex-wrap: wrap;<br>            justify-content: flex-start;<br>            width: 100%;<br>        }<br>        .wandb-col {<br>            display: flex;<br>            flex-direction: column;<br>            flex-basis: 100%;<br>            flex: 1;<br>            padding: 10px;<br>        }<br>    </style><br><div class=\"wandb-row\"><div class=\"wandb-col\"><h3>Run history:</h3><br/><table class=\"wandb\"><tr><td>accuracy</td><td>▁</td></tr></table><br/></div><div class=\"wandb-col\"><h3>Run summary:</h3><br/><table class=\"wandb\"><tr><td>accuracy</td><td>8.00826</td></tr></table><br/></div></div>"
      ],
      "text/plain": [
       "<IPython.core.display.HTML object>"
      ]
     },
     "metadata": {},
     "output_type": "display_data"
    },
    {
     "data": {
      "text/html": [
       " View run <strong style=\"color:#cdcd00\">attention_cell_LSTM_bs_32_ep_10_op_adagrad_drop_0.3_bsw_4_emb_256_hs_512_elayer_2_dlayer_2</strong> at: <a href='https://wandb.ai/cs24m019-iitm/DL_Assignment_3/runs/r0n6bspk' target=\"_blank\">https://wandb.ai/cs24m019-iitm/DL_Assignment_3/runs/r0n6bspk</a><br> View project at: <a href='https://wandb.ai/cs24m019-iitm/DL_Assignment_3' target=\"_blank\">https://wandb.ai/cs24m019-iitm/DL_Assignment_3</a><br>Synced 5 W&B file(s), 0 media file(s), 0 artifact file(s) and 0 other file(s)"
      ],
      "text/plain": [
       "<IPython.core.display.HTML object>"
      ]
     },
     "metadata": {},
     "output_type": "display_data"
    },
    {
     "data": {
      "text/html": [
       "Find logs at: <code>./wandb/run-20250518_210205-r0n6bspk/logs</code>"
      ],
      "text/plain": [
       "<IPython.core.display.HTML object>"
      ]
     },
     "metadata": {},
     "output_type": "display_data"
    },
    {
     "name": "stderr",
     "output_type": "stream",
     "text": [
      "\u001b[34m\u001b[1mwandb\u001b[0m: Agent Starting Run: izeca4gc with config:\n",
      "\u001b[34m\u001b[1mwandb\u001b[0m: \tbatch_size: 32\n",
      "\u001b[34m\u001b[1mwandb\u001b[0m: \tbeam_search_width: 4\n",
      "\u001b[34m\u001b[1mwandb\u001b[0m: \tbidirectional: True\n",
      "\u001b[34m\u001b[1mwandb\u001b[0m: \tcell_type: LSTM\n",
      "\u001b[34m\u001b[1mwandb\u001b[0m: \tdropout: 0.3\n",
      "\u001b[34m\u001b[1mwandb\u001b[0m: \tembedding_size: 256\n",
      "\u001b[34m\u001b[1mwandb\u001b[0m: \thidden_size: 1024\n",
      "\u001b[34m\u001b[1mwandb\u001b[0m: \tlearning_rate: 0.01\n",
      "\u001b[34m\u001b[1mwandb\u001b[0m: \tlength_penalty: 0.6\n",
      "\u001b[34m\u001b[1mwandb\u001b[0m: \tnum_epochs: 10\n",
      "\u001b[34m\u001b[1mwandb\u001b[0m: \tnum_layers: 2\n",
      "\u001b[34m\u001b[1mwandb\u001b[0m: \toptimizer: adagrad\n",
      "\u001b[34m\u001b[1mwandb\u001b[0m: \tteacher_forcing: 0.7\n"
     ]
    },
    {
     "data": {
      "text/html": [
       "Ignoring project 'DL_Assignment_3' when running a sweep."
      ],
      "text/plain": [
       "<IPython.core.display.HTML object>"
      ]
     },
     "metadata": {},
     "output_type": "display_data"
    },
    {
     "data": {
      "text/html": [
       "Tracking run with wandb version 0.19.9"
      ],
      "text/plain": [
       "<IPython.core.display.HTML object>"
      ]
     },
     "metadata": {},
     "output_type": "display_data"
    },
    {
     "data": {
      "text/html": [
       "Run data is saved locally in <code>/kaggle/working/wandb/run-20250518_213446-izeca4gc</code>"
      ],
      "text/plain": [
       "<IPython.core.display.HTML object>"
      ]
     },
     "metadata": {},
     "output_type": "display_data"
    },
    {
     "data": {
      "text/html": [
       "Syncing run <strong><a href='https://wandb.ai/cs24m019-iitm/DL_Assignment_3/runs/izeca4gc' target=\"_blank\">grateful-sweep-6</a></strong> to <a href='https://wandb.ai/cs24m019-iitm/DL_Assignment_3' target=\"_blank\">Weights & Biases</a> (<a href='https://wandb.me/developer-guide' target=\"_blank\">docs</a>)<br>Sweep page: <a href='https://wandb.ai/cs24m019-iitm/DL_Assignment_3/sweeps/b3yonf3b' target=\"_blank\">https://wandb.ai/cs24m019-iitm/DL_Assignment_3/sweeps/b3yonf3b</a>"
      ],
      "text/plain": [
       "<IPython.core.display.HTML object>"
      ]
     },
     "metadata": {},
     "output_type": "display_data"
    },
    {
     "data": {
      "text/html": [
       " View project at <a href='https://wandb.ai/cs24m019-iitm/DL_Assignment_3' target=\"_blank\">https://wandb.ai/cs24m019-iitm/DL_Assignment_3</a>"
      ],
      "text/plain": [
       "<IPython.core.display.HTML object>"
      ]
     },
     "metadata": {},
     "output_type": "display_data"
    },
    {
     "data": {
      "text/html": [
       " View sweep at <a href='https://wandb.ai/cs24m019-iitm/DL_Assignment_3/sweeps/b3yonf3b' target=\"_blank\">https://wandb.ai/cs24m019-iitm/DL_Assignment_3/sweeps/b3yonf3b</a>"
      ],
      "text/plain": [
       "<IPython.core.display.HTML object>"
      ]
     },
     "metadata": {},
     "output_type": "display_data"
    },
    {
     "data": {
      "text/html": [
       " View run at <a href='https://wandb.ai/cs24m019-iitm/DL_Assignment_3/runs/izeca4gc' target=\"_blank\">https://wandb.ai/cs24m019-iitm/DL_Assignment_3/runs/izeca4gc</a>"
      ],
      "text/plain": [
       "<IPython.core.display.HTML object>"
      ]
     },
     "metadata": {},
     "output_type": "display_data"
    },
    {
     "name": "stdout",
     "output_type": "stream",
     "text": [
      "Seq2Seq(\n",
      "  (decoder): Decoder(\n",
      "    (dropout): Dropout(p=0.3, inplace=False)\n",
      "    (embedding): Embedding(29, 256)\n",
      "    (rnn): LSTM(256, 1024, num_layers=2, dropout=0.3)\n",
      "    (concat): Linear(in_features=2048, out_features=1024, bias=True)\n",
      "    (fc): Linear(in_features=1024, out_features=29, bias=True)\n",
      "    (attn): Attention()\n",
      "    (log_softmax): LogSoftmax(dim=1)\n",
      "  )\n",
      "  (encoder): Encoder(\n",
      "    (dropout): Dropout(p=0.3, inplace=False)\n",
      "    (embedding): Embedding(66, 256)\n",
      "    (rnn): LSTM(256, 1024, num_layers=2, dropout=0.3, bidirectional=True)\n",
      "  )\n",
      ")\n",
      "Total Trainable Parameters: 51484445\n"
     ]
    },
    {
     "name": "stderr",
     "output_type": "stream",
     "text": [
      "100%|██████████| 1382/1382 [03:01<00:00,  7.61it/s]\n",
      "100%|██████████| 137/137 [00:05<00:00, 27.29it/s]\n",
      "100%|██████████| 4358/4358 [01:45<00:00, 41.22it/s]\n"
     ]
    },
    {
     "name": "stdout",
     "output_type": "stream",
     "text": [
      "Epoch 1 / 10 ===========================>\n",
      "Train Accuracy Char: 30.5520, Train Average Loss: 2.5199\n",
      "Validation Accuracy Char: 24.5998, Validation Average Loss: 2.9429\n",
      "Beam Val Word Accuracy: 0.0000 Correct Prediction : 0/4358\n"
     ]
    },
    {
     "name": "stderr",
     "output_type": "stream",
     "text": [
      "100%|██████████| 1382/1382 [03:02<00:00,  7.55it/s]\n",
      "100%|██████████| 137/137 [00:05<00:00, 26.97it/s]\n",
      "100%|██████████| 4358/4358 [01:46<00:00, 40.90it/s]\n"
     ]
    },
    {
     "name": "stdout",
     "output_type": "stream",
     "text": [
      "Epoch 2 / 10 ===========================>\n",
      "Train Accuracy Char: 38.9007, Train Average Loss: 2.1684\n",
      "Validation Accuracy Char: 27.8476, Validation Average Loss: 2.7543\n",
      "Beam Val Word Accuracy: 0.0229 Correct Prediction : 1/4358\n"
     ]
    },
    {
     "name": "stderr",
     "output_type": "stream",
     "text": [
      "100%|██████████| 1382/1382 [03:03<00:00,  7.53it/s]\n",
      "100%|██████████| 137/137 [00:05<00:00, 26.84it/s]\n",
      "100%|██████████| 4358/4358 [01:57<00:00, 37.25it/s]\n"
     ]
    },
    {
     "name": "stdout",
     "output_type": "stream",
     "text": [
      "Epoch 3 / 10 ===========================>\n",
      "Train Accuracy Char: 51.3787, Train Average Loss: 1.7126\n",
      "Validation Accuracy Char: 47.3753, Validation Average Loss: 1.9691\n",
      "Beam Val Word Accuracy: 0.0688 Correct Prediction : 3/4358\n"
     ]
    },
    {
     "name": "stderr",
     "output_type": "stream",
     "text": [
      "100%|██████████| 1382/1382 [03:03<00:00,  7.52it/s]\n",
      "100%|██████████| 137/137 [00:05<00:00, 27.04it/s]\n",
      "100%|██████████| 4358/4358 [02:04<00:00, 34.92it/s]\n"
     ]
    },
    {
     "name": "stdout",
     "output_type": "stream",
     "text": [
      "Epoch 4 / 10 ===========================>\n",
      "Train Accuracy Char: 66.4796, Train Average Loss: 1.1518\n",
      "Validation Accuracy Char: 62.1856, Validation Average Loss: 1.3736\n",
      "Beam Val Word Accuracy: 1.5833 Correct Prediction : 69/4358\n"
     ]
    },
    {
     "name": "stderr",
     "output_type": "stream",
     "text": [
      "100%|██████████| 1382/1382 [03:04<00:00,  7.51it/s]\n",
      "100%|██████████| 137/137 [00:05<00:00, 27.01it/s]\n",
      "100%|██████████| 4358/4358 [02:04<00:00, 34.92it/s]\n"
     ]
    },
    {
     "name": "stdout",
     "output_type": "stream",
     "text": [
      "Epoch 5 / 10 ===========================>\n",
      "Train Accuracy Char: 72.7361, Train Average Loss: 0.9197\n",
      "Validation Accuracy Char: 68.4139, Validation Average Loss: 1.0790\n",
      "Beam Val Word Accuracy: 2.7077 Correct Prediction : 118/4358\n"
     ]
    },
    {
     "name": "stderr",
     "output_type": "stream",
     "text": [
      "100%|██████████| 1382/1382 [03:04<00:00,  7.51it/s]\n",
      "100%|██████████| 137/137 [00:05<00:00, 26.67it/s]\n",
      "100%|██████████| 4358/4358 [02:05<00:00, 34.59it/s]\n"
     ]
    },
    {
     "name": "stdout",
     "output_type": "stream",
     "text": [
      "Epoch 6 / 10 ===========================>\n",
      "Train Accuracy Char: 75.1239, Train Average Loss: 0.8317\n",
      "Validation Accuracy Char: 71.0681, Validation Average Loss: 0.9604\n",
      "Beam Val Word Accuracy: 4.0615 Correct Prediction : 177/4358\n"
     ]
    },
    {
     "name": "stderr",
     "output_type": "stream",
     "text": [
      "100%|██████████| 1382/1382 [03:04<00:00,  7.50it/s]\n",
      "100%|██████████| 137/137 [00:05<00:00, 26.89it/s]\n",
      "100%|██████████| 4358/4358 [02:06<00:00, 34.50it/s]\n"
     ]
    },
    {
     "name": "stdout",
     "output_type": "stream",
     "text": [
      "Epoch 7 / 10 ===========================>\n",
      "Train Accuracy Char: 76.5207, Train Average Loss: 0.7808\n",
      "Validation Accuracy Char: 73.6350, Validation Average Loss: 0.8696\n",
      "Beam Val Word Accuracy: 4.6810 Correct Prediction : 204/4358\n"
     ]
    },
    {
     "name": "stderr",
     "output_type": "stream",
     "text": [
      "100%|██████████| 1382/1382 [03:03<00:00,  7.51it/s]\n",
      "100%|██████████| 137/137 [00:05<00:00, 26.53it/s]\n",
      "100%|██████████| 4358/4358 [02:08<00:00, 33.94it/s]\n"
     ]
    },
    {
     "name": "stdout",
     "output_type": "stream",
     "text": [
      "Epoch 8 / 10 ===========================>\n",
      "Train Accuracy Char: 77.4952, Train Average Loss: 0.7424\n",
      "Validation Accuracy Char: 75.4156, Validation Average Loss: 0.8206\n",
      "Beam Val Word Accuracy: 5.2088 Correct Prediction : 227/4358\n"
     ]
    },
    {
     "name": "stderr",
     "output_type": "stream",
     "text": [
      "100%|██████████| 1382/1382 [03:03<00:00,  7.51it/s]\n",
      "100%|██████████| 137/137 [00:05<00:00, 26.55it/s]\n",
      "100%|██████████| 4358/4358 [02:08<00:00, 34.01it/s]\n"
     ]
    },
    {
     "name": "stdout",
     "output_type": "stream",
     "text": [
      "Epoch 9 / 10 ===========================>\n",
      "Train Accuracy Char: 78.3647, Train Average Loss: 0.7113\n",
      "Validation Accuracy Char: 75.9398, Validation Average Loss: 0.7967\n",
      "Beam Val Word Accuracy: 5.0482 Correct Prediction : 220/4358\n"
     ]
    },
    {
     "name": "stderr",
     "output_type": "stream",
     "text": [
      "100%|██████████| 1382/1382 [03:04<00:00,  7.51it/s]\n",
      "100%|██████████| 137/137 [00:05<00:00, 26.75it/s]\n",
      "100%|██████████| 4358/4358 [02:07<00:00, 34.05it/s]"
     ]
    },
    {
     "name": "stdout",
     "output_type": "stream",
     "text": [
      "Epoch 10 / 10 ===========================>\n",
      "Train Accuracy Char: 78.9030, Train Average Loss: 0.6884\n",
      "Validation Accuracy Char: 76.2918, Validation Average Loss: 0.7902\n",
      "Beam Val Word Accuracy: 5.1629 Correct Prediction : 225/4358\n"
     ]
    },
    {
     "name": "stderr",
     "output_type": "stream",
     "text": [
      "\n"
     ]
    },
    {
     "data": {
      "text/html": [],
      "text/plain": [
       "<IPython.core.display.HTML object>"
      ]
     },
     "metadata": {},
     "output_type": "display_data"
    },
    {
     "data": {
      "text/html": [
       "<br>    <style><br>        .wandb-row {<br>            display: flex;<br>            flex-direction: row;<br>            flex-wrap: wrap;<br>            justify-content: flex-start;<br>            width: 100%;<br>        }<br>        .wandb-col {<br>            display: flex;<br>            flex-direction: column;<br>            flex-basis: 100%;<br>            flex: 1;<br>            padding: 10px;<br>        }<br>    </style><br><div class=\"wandb-row\"><div class=\"wandb-col\"><h3>Run history:</h3><br/><table class=\"wandb\"><tr><td>accuracy</td><td>▁</td></tr></table><br/></div><div class=\"wandb-col\"><h3>Run summary:</h3><br/><table class=\"wandb\"><tr><td>accuracy</td><td>5.16292</td></tr></table><br/></div></div>"
      ],
      "text/plain": [
       "<IPython.core.display.HTML object>"
      ]
     },
     "metadata": {},
     "output_type": "display_data"
    },
    {
     "data": {
      "text/html": [
       " View run <strong style=\"color:#cdcd00\">attention_cell_LSTM_bs_32_ep_10_op_adagrad_drop_0.3_bsw_4_emb_256_hs_1024_elayer_2_dlayer_2</strong> at: <a href='https://wandb.ai/cs24m019-iitm/DL_Assignment_3/runs/izeca4gc' target=\"_blank\">https://wandb.ai/cs24m019-iitm/DL_Assignment_3/runs/izeca4gc</a><br> View project at: <a href='https://wandb.ai/cs24m019-iitm/DL_Assignment_3' target=\"_blank\">https://wandb.ai/cs24m019-iitm/DL_Assignment_3</a><br>Synced 5 W&B file(s), 0 media file(s), 0 artifact file(s) and 0 other file(s)"
      ],
      "text/plain": [
       "<IPython.core.display.HTML object>"
      ]
     },
     "metadata": {},
     "output_type": "display_data"
    },
    {
     "data": {
      "text/html": [
       "Find logs at: <code>./wandb/run-20250518_213446-izeca4gc/logs</code>"
      ],
      "text/plain": [
       "<IPython.core.display.HTML object>"
      ]
     },
     "metadata": {},
     "output_type": "display_data"
    },
    {
     "name": "stderr",
     "output_type": "stream",
     "text": [
      "\u001b[34m\u001b[1mwandb\u001b[0m: Agent Starting Run: 8dqtq9e7 with config:\n",
      "\u001b[34m\u001b[1mwandb\u001b[0m: \tbatch_size: 32\n",
      "\u001b[34m\u001b[1mwandb\u001b[0m: \tbeam_search_width: 4\n",
      "\u001b[34m\u001b[1mwandb\u001b[0m: \tbidirectional: True\n",
      "\u001b[34m\u001b[1mwandb\u001b[0m: \tcell_type: GRU\n",
      "\u001b[34m\u001b[1mwandb\u001b[0m: \tdropout: 0.3\n",
      "\u001b[34m\u001b[1mwandb\u001b[0m: \tembedding_size: 256\n",
      "\u001b[34m\u001b[1mwandb\u001b[0m: \thidden_size: 512\n",
      "\u001b[34m\u001b[1mwandb\u001b[0m: \tlearning_rate: 0.01\n",
      "\u001b[34m\u001b[1mwandb\u001b[0m: \tlength_penalty: 0.6\n",
      "\u001b[34m\u001b[1mwandb\u001b[0m: \tnum_epochs: 10\n",
      "\u001b[34m\u001b[1mwandb\u001b[0m: \tnum_layers: 2\n",
      "\u001b[34m\u001b[1mwandb\u001b[0m: \toptimizer: adagrad\n",
      "\u001b[34m\u001b[1mwandb\u001b[0m: \tteacher_forcing: 0.7\n"
     ]
    },
    {
     "data": {
      "text/html": [
       "Ignoring project 'DL_Assignment_3' when running a sweep."
      ],
      "text/plain": [
       "<IPython.core.display.HTML object>"
      ]
     },
     "metadata": {},
     "output_type": "display_data"
    },
    {
     "data": {
      "text/html": [
       "Tracking run with wandb version 0.19.9"
      ],
      "text/plain": [
       "<IPython.core.display.HTML object>"
      ]
     },
     "metadata": {},
     "output_type": "display_data"
    },
    {
     "data": {
      "text/html": [
       "Run data is saved locally in <code>/kaggle/working/wandb/run-20250518_222648-8dqtq9e7</code>"
      ],
      "text/plain": [
       "<IPython.core.display.HTML object>"
      ]
     },
     "metadata": {},
     "output_type": "display_data"
    },
    {
     "data": {
      "text/html": [
       "Syncing run <strong><a href='https://wandb.ai/cs24m019-iitm/DL_Assignment_3/runs/8dqtq9e7' target=\"_blank\">breezy-sweep-7</a></strong> to <a href='https://wandb.ai/cs24m019-iitm/DL_Assignment_3' target=\"_blank\">Weights & Biases</a> (<a href='https://wandb.me/developer-guide' target=\"_blank\">docs</a>)<br>Sweep page: <a href='https://wandb.ai/cs24m019-iitm/DL_Assignment_3/sweeps/b3yonf3b' target=\"_blank\">https://wandb.ai/cs24m019-iitm/DL_Assignment_3/sweeps/b3yonf3b</a>"
      ],
      "text/plain": [
       "<IPython.core.display.HTML object>"
      ]
     },
     "metadata": {},
     "output_type": "display_data"
    },
    {
     "data": {
      "text/html": [
       " View project at <a href='https://wandb.ai/cs24m019-iitm/DL_Assignment_3' target=\"_blank\">https://wandb.ai/cs24m019-iitm/DL_Assignment_3</a>"
      ],
      "text/plain": [
       "<IPython.core.display.HTML object>"
      ]
     },
     "metadata": {},
     "output_type": "display_data"
    },
    {
     "data": {
      "text/html": [
       " View sweep at <a href='https://wandb.ai/cs24m019-iitm/DL_Assignment_3/sweeps/b3yonf3b' target=\"_blank\">https://wandb.ai/cs24m019-iitm/DL_Assignment_3/sweeps/b3yonf3b</a>"
      ],
      "text/plain": [
       "<IPython.core.display.HTML object>"
      ]
     },
     "metadata": {},
     "output_type": "display_data"
    },
    {
     "data": {
      "text/html": [
       " View run at <a href='https://wandb.ai/cs24m019-iitm/DL_Assignment_3/runs/8dqtq9e7' target=\"_blank\">https://wandb.ai/cs24m019-iitm/DL_Assignment_3/runs/8dqtq9e7</a>"
      ],
      "text/plain": [
       "<IPython.core.display.HTML object>"
      ]
     },
     "metadata": {},
     "output_type": "display_data"
    },
    {
     "name": "stdout",
     "output_type": "stream",
     "text": [
      "Seq2Seq(\n",
      "  (decoder): Decoder(\n",
      "    (dropout): Dropout(p=0.3, inplace=False)\n",
      "    (embedding): Embedding(29, 256)\n",
      "    (rnn): GRU(256, 512, num_layers=2, dropout=0.3)\n",
      "    (concat): Linear(in_features=1024, out_features=512, bias=True)\n",
      "    (fc): Linear(in_features=512, out_features=29, bias=True)\n",
      "    (attn): Attention()\n",
      "    (log_softmax): LogSoftmax(dim=1)\n",
      "  )\n",
      "  (encoder): Encoder(\n",
      "    (dropout): Dropout(p=0.3, inplace=False)\n",
      "    (embedding): Embedding(66, 256)\n",
      "    (rnn): GRU(256, 512, num_layers=2, dropout=0.3, bidirectional=True)\n",
      "  )\n",
      ")\n",
      "Total Trainable Parameters: 10412829\n"
     ]
    },
    {
     "name": "stderr",
     "output_type": "stream",
     "text": [
      "100%|██████████| 1382/1382 [01:20<00:00, 17.26it/s]\n",
      "100%|██████████| 137/137 [00:02<00:00, 60.73it/s]\n",
      "100%|██████████| 4358/4358 [02:24<00:00, 30.07it/s]\n"
     ]
    },
    {
     "name": "stdout",
     "output_type": "stream",
     "text": [
      "Epoch 1 / 10 ===========================>\n",
      "Train Accuracy Char: 50.3550, Train Average Loss: 1.7734\n",
      "Validation Accuracy Char: 58.9712, Validation Average Loss: 1.4855\n",
      "Beam Val Word Accuracy: 15.0298 Correct Prediction : 655/4358\n"
     ]
    },
    {
     "name": "stderr",
     "output_type": "stream",
     "text": [
      "100%|██████████| 1382/1382 [01:20<00:00, 17.26it/s]\n",
      "100%|██████████| 137/137 [00:02<00:00, 59.87it/s]\n",
      "100%|██████████| 4358/4358 [02:36<00:00, 27.89it/s]\n"
     ]
    },
    {
     "name": "stdout",
     "output_type": "stream",
     "text": [
      "Epoch 2 / 10 ===========================>\n",
      "Train Accuracy Char: 71.7202, Train Average Loss: 0.9991\n",
      "Validation Accuracy Char: 71.6231, Validation Average Loss: 1.0019\n",
      "Beam Val Word Accuracy: 33.2721 Correct Prediction : 1450/4358\n"
     ]
    },
    {
     "name": "stderr",
     "output_type": "stream",
     "text": [
      "100%|██████████| 1382/1382 [01:19<00:00, 17.29it/s]\n",
      "100%|██████████| 137/137 [00:02<00:00, 60.63it/s]\n",
      "100%|██████████| 4358/4358 [02:38<00:00, 27.43it/s]\n"
     ]
    },
    {
     "name": "stdout",
     "output_type": "stream",
     "text": [
      "Epoch 3 / 10 ===========================>\n",
      "Train Accuracy Char: 74.8234, Train Average Loss: 0.8741\n",
      "Validation Accuracy Char: 74.1874, Validation Average Loss: 0.8974\n",
      "Beam Val Word Accuracy: 37.0353 Correct Prediction : 1614/4358\n"
     ]
    },
    {
     "name": "stderr",
     "output_type": "stream",
     "text": [
      "100%|██████████| 1382/1382 [01:19<00:00, 17.32it/s]\n",
      "100%|██████████| 137/137 [00:02<00:00, 60.95it/s]\n",
      "100%|██████████| 4358/4358 [02:38<00:00, 27.51it/s]\n"
     ]
    },
    {
     "name": "stdout",
     "output_type": "stream",
     "text": [
      "Epoch 4 / 10 ===========================>\n",
      "Train Accuracy Char: 76.0480, Train Average Loss: 0.8216\n",
      "Validation Accuracy Char: 75.1612, Validation Average Loss: 0.8480\n",
      "Beam Val Word Accuracy: 39.9725 Correct Prediction : 1742/4358\n"
     ]
    },
    {
     "name": "stderr",
     "output_type": "stream",
     "text": [
      "100%|██████████| 1382/1382 [01:20<00:00, 17.23it/s]\n",
      "100%|██████████| 137/137 [00:02<00:00, 59.24it/s]\n",
      "100%|██████████| 4358/4358 [02:39<00:00, 27.25it/s]\n"
     ]
    },
    {
     "name": "stdout",
     "output_type": "stream",
     "text": [
      "Epoch 5 / 10 ===========================>\n",
      "Train Accuracy Char: 76.8472, Train Average Loss: 0.7884\n",
      "Validation Accuracy Char: 75.8884, Validation Average Loss: 0.8228\n",
      "Beam Val Word Accuracy: 41.6246 Correct Prediction : 1814/4358\n"
     ]
    },
    {
     "name": "stderr",
     "output_type": "stream",
     "text": [
      "100%|██████████| 1382/1382 [01:20<00:00, 17.18it/s]\n",
      "100%|██████████| 137/137 [00:02<00:00, 59.80it/s]\n",
      "100%|██████████| 4358/4358 [02:40<00:00, 27.11it/s]\n"
     ]
    },
    {
     "name": "stdout",
     "output_type": "stream",
     "text": [
      "Epoch 6 / 10 ===========================>\n",
      "Train Accuracy Char: 77.2884, Train Average Loss: 0.7689\n",
      "Validation Accuracy Char: 76.4382, Validation Average Loss: 0.7975\n",
      "Beam Val Word Accuracy: 42.2900 Correct Prediction : 1843/4358\n"
     ]
    },
    {
     "name": "stderr",
     "output_type": "stream",
     "text": [
      "100%|██████████| 1382/1382 [01:19<00:00, 17.32it/s]\n",
      "100%|██████████| 137/137 [00:02<00:00, 60.23it/s]\n",
      "100%|██████████| 4358/4358 [02:40<00:00, 27.18it/s]\n"
     ]
    },
    {
     "name": "stdout",
     "output_type": "stream",
     "text": [
      "Epoch 7 / 10 ===========================>\n",
      "Train Accuracy Char: 77.7554, Train Average Loss: 0.7507\n",
      "Validation Accuracy Char: 76.9470, Validation Average Loss: 0.7814\n",
      "Beam Val Word Accuracy: 43.0702 Correct Prediction : 1877/4358\n"
     ]
    },
    {
     "name": "stderr",
     "output_type": "stream",
     "text": [
      "100%|██████████| 1382/1382 [01:19<00:00, 17.33it/s]\n",
      "100%|██████████| 137/137 [00:02<00:00, 58.88it/s]\n",
      "100%|██████████| 4358/4358 [02:41<00:00, 26.98it/s]\n"
     ]
    },
    {
     "name": "stdout",
     "output_type": "stream",
     "text": [
      "Epoch 8 / 10 ===========================>\n",
      "Train Accuracy Char: 78.0310, Train Average Loss: 0.7376\n",
      "Validation Accuracy Char: 76.6978, Validation Average Loss: 0.7839\n",
      "Beam Val Word Accuracy: 43.0014 Correct Prediction : 1874/4358\n"
     ]
    },
    {
     "name": "stderr",
     "output_type": "stream",
     "text": [
      "100%|██████████| 1382/1382 [01:19<00:00, 17.33it/s]\n",
      "100%|██████████| 137/137 [00:02<00:00, 58.73it/s]\n",
      "100%|██████████| 4358/4358 [02:44<00:00, 26.56it/s]\n"
     ]
    },
    {
     "name": "stdout",
     "output_type": "stream",
     "text": [
      "Epoch 9 / 10 ===========================>\n",
      "Train Accuracy Char: 78.3188, Train Average Loss: 0.7241\n",
      "Validation Accuracy Char: 77.2168, Validation Average Loss: 0.7613\n",
      "Beam Val Word Accuracy: 43.2997 Correct Prediction : 1887/4358\n"
     ]
    },
    {
     "name": "stderr",
     "output_type": "stream",
     "text": [
      "100%|██████████| 1382/1382 [01:20<00:00, 17.18it/s]\n",
      "100%|██████████| 137/137 [00:02<00:00, 59.86it/s]\n",
      "100%|██████████| 4358/4358 [02:43<00:00, 26.69it/s]"
     ]
    },
    {
     "name": "stdout",
     "output_type": "stream",
     "text": [
      "Epoch 10 / 10 ===========================>\n",
      "Train Accuracy Char: 78.4090, Train Average Loss: 0.7169\n",
      "Validation Accuracy Char: 77.0344, Validation Average Loss: 0.7685\n",
      "Beam Val Word Accuracy: 43.5980 Correct Prediction : 1900/4358\n"
     ]
    },
    {
     "name": "stderr",
     "output_type": "stream",
     "text": [
      "\n"
     ]
    },
    {
     "data": {
      "text/html": [],
      "text/plain": [
       "<IPython.core.display.HTML object>"
      ]
     },
     "metadata": {},
     "output_type": "display_data"
    },
    {
     "data": {
      "text/html": [
       "<br>    <style><br>        .wandb-row {<br>            display: flex;<br>            flex-direction: row;<br>            flex-wrap: wrap;<br>            justify-content: flex-start;<br>            width: 100%;<br>        }<br>        .wandb-col {<br>            display: flex;<br>            flex-direction: column;<br>            flex-basis: 100%;<br>            flex: 1;<br>            padding: 10px;<br>        }<br>    </style><br><div class=\"wandb-row\"><div class=\"wandb-col\"><h3>Run history:</h3><br/><table class=\"wandb\"><tr><td>accuracy</td><td>▁</td></tr></table><br/></div><div class=\"wandb-col\"><h3>Run summary:</h3><br/><table class=\"wandb\"><tr><td>accuracy</td><td>43.59798</td></tr></table><br/></div></div>"
      ],
      "text/plain": [
       "<IPython.core.display.HTML object>"
      ]
     },
     "metadata": {},
     "output_type": "display_data"
    },
    {
     "data": {
      "text/html": [
       " View run <strong style=\"color:#cdcd00\">attention_cell_GRU_bs_32_ep_10_op_adagrad_drop_0.3_bsw_4_emb_256_hs_512_elayer_2_dlayer_2</strong> at: <a href='https://wandb.ai/cs24m019-iitm/DL_Assignment_3/runs/8dqtq9e7' target=\"_blank\">https://wandb.ai/cs24m019-iitm/DL_Assignment_3/runs/8dqtq9e7</a><br> View project at: <a href='https://wandb.ai/cs24m019-iitm/DL_Assignment_3' target=\"_blank\">https://wandb.ai/cs24m019-iitm/DL_Assignment_3</a><br>Synced 5 W&B file(s), 0 media file(s), 0 artifact file(s) and 0 other file(s)"
      ],
      "text/plain": [
       "<IPython.core.display.HTML object>"
      ]
     },
     "metadata": {},
     "output_type": "display_data"
    },
    {
     "data": {
      "text/html": [
       "Find logs at: <code>./wandb/run-20250518_222648-8dqtq9e7/logs</code>"
      ],
      "text/plain": [
       "<IPython.core.display.HTML object>"
      ]
     },
     "metadata": {},
     "output_type": "display_data"
    },
    {
     "name": "stderr",
     "output_type": "stream",
     "text": [
      "\u001b[34m\u001b[1mwandb\u001b[0m: Agent Starting Run: 6i7vrevg with config:\n",
      "\u001b[34m\u001b[1mwandb\u001b[0m: \tbatch_size: 32\n",
      "\u001b[34m\u001b[1mwandb\u001b[0m: \tbeam_search_width: 4\n",
      "\u001b[34m\u001b[1mwandb\u001b[0m: \tbidirectional: True\n",
      "\u001b[34m\u001b[1mwandb\u001b[0m: \tcell_type: GRU\n",
      "\u001b[34m\u001b[1mwandb\u001b[0m: \tdropout: 0.3\n",
      "\u001b[34m\u001b[1mwandb\u001b[0m: \tembedding_size: 256\n",
      "\u001b[34m\u001b[1mwandb\u001b[0m: \thidden_size: 1024\n",
      "\u001b[34m\u001b[1mwandb\u001b[0m: \tlearning_rate: 0.01\n",
      "\u001b[34m\u001b[1mwandb\u001b[0m: \tlength_penalty: 0.6\n",
      "\u001b[34m\u001b[1mwandb\u001b[0m: \tnum_epochs: 10\n",
      "\u001b[34m\u001b[1mwandb\u001b[0m: \tnum_layers: 2\n",
      "\u001b[34m\u001b[1mwandb\u001b[0m: \toptimizer: adagrad\n",
      "\u001b[34m\u001b[1mwandb\u001b[0m: \tteacher_forcing: 0.7\n"
     ]
    },
    {
     "data": {
      "text/html": [
       "Ignoring project 'DL_Assignment_3' when running a sweep."
      ],
      "text/plain": [
       "<IPython.core.display.HTML object>"
      ]
     },
     "metadata": {},
     "output_type": "display_data"
    },
    {
     "data": {
      "text/html": [
       "Tracking run with wandb version 0.19.9"
      ],
      "text/plain": [
       "<IPython.core.display.HTML object>"
      ]
     },
     "metadata": {},
     "output_type": "display_data"
    },
    {
     "data": {
      "text/html": [
       "Run data is saved locally in <code>/kaggle/working/wandb/run-20250518_230715-6i7vrevg</code>"
      ],
      "text/plain": [
       "<IPython.core.display.HTML object>"
      ]
     },
     "metadata": {},
     "output_type": "display_data"
    },
    {
     "data": {
      "text/html": [
       "Syncing run <strong><a href='https://wandb.ai/cs24m019-iitm/DL_Assignment_3/runs/6i7vrevg' target=\"_blank\">zany-sweep-8</a></strong> to <a href='https://wandb.ai/cs24m019-iitm/DL_Assignment_3' target=\"_blank\">Weights & Biases</a> (<a href='https://wandb.me/developer-guide' target=\"_blank\">docs</a>)<br>Sweep page: <a href='https://wandb.ai/cs24m019-iitm/DL_Assignment_3/sweeps/b3yonf3b' target=\"_blank\">https://wandb.ai/cs24m019-iitm/DL_Assignment_3/sweeps/b3yonf3b</a>"
      ],
      "text/plain": [
       "<IPython.core.display.HTML object>"
      ]
     },
     "metadata": {},
     "output_type": "display_data"
    },
    {
     "data": {
      "text/html": [
       " View project at <a href='https://wandb.ai/cs24m019-iitm/DL_Assignment_3' target=\"_blank\">https://wandb.ai/cs24m019-iitm/DL_Assignment_3</a>"
      ],
      "text/plain": [
       "<IPython.core.display.HTML object>"
      ]
     },
     "metadata": {},
     "output_type": "display_data"
    },
    {
     "data": {
      "text/html": [
       " View sweep at <a href='https://wandb.ai/cs24m019-iitm/DL_Assignment_3/sweeps/b3yonf3b' target=\"_blank\">https://wandb.ai/cs24m019-iitm/DL_Assignment_3/sweeps/b3yonf3b</a>"
      ],
      "text/plain": [
       "<IPython.core.display.HTML object>"
      ]
     },
     "metadata": {},
     "output_type": "display_data"
    },
    {
     "data": {
      "text/html": [
       " View run at <a href='https://wandb.ai/cs24m019-iitm/DL_Assignment_3/runs/6i7vrevg' target=\"_blank\">https://wandb.ai/cs24m019-iitm/DL_Assignment_3/runs/6i7vrevg</a>"
      ],
      "text/plain": [
       "<IPython.core.display.HTML object>"
      ]
     },
     "metadata": {},
     "output_type": "display_data"
    },
    {
     "name": "stdout",
     "output_type": "stream",
     "text": [
      "Seq2Seq(\n",
      "  (decoder): Decoder(\n",
      "    (dropout): Dropout(p=0.3, inplace=False)\n",
      "    (embedding): Embedding(29, 256)\n",
      "    (rnn): GRU(256, 1024, num_layers=2, dropout=0.3)\n",
      "    (concat): Linear(in_features=2048, out_features=1024, bias=True)\n",
      "    (fc): Linear(in_features=1024, out_features=29, bias=True)\n",
      "    (attn): Attention()\n",
      "    (log_softmax): LogSoftmax(dim=1)\n",
      "  )\n",
      "  (encoder): Encoder(\n",
      "    (dropout): Dropout(p=0.3, inplace=False)\n",
      "    (embedding): Embedding(66, 256)\n",
      "    (rnn): GRU(256, 1024, num_layers=2, dropout=0.3, bidirectional=True)\n",
      "  )\n",
      ")\n",
      "Total Trainable Parameters: 39151389\n"
     ]
    },
    {
     "name": "stderr",
     "output_type": "stream",
     "text": [
      "100%|██████████| 1382/1382 [02:20<00:00,  9.87it/s]\n",
      "100%|██████████| 137/137 [00:03<00:00, 36.28it/s]\n",
      "100%|██████████| 4358/4358 [02:30<00:00, 28.93it/s]\n"
     ]
    },
    {
     "name": "stdout",
     "output_type": "stream",
     "text": [
      "Epoch 1 / 10 ===========================>\n",
      "Train Accuracy Char: 33.0554, Train Average Loss: 2.4336\n",
      "Validation Accuracy Char: 21.8788, Validation Average Loss: 2.8927\n",
      "Beam Val Word Accuracy: 0.0229 Correct Prediction : 1/4358\n"
     ]
    },
    {
     "name": "stderr",
     "output_type": "stream",
     "text": [
      "100%|██████████| 1382/1382 [02:21<00:00,  9.73it/s]\n",
      "100%|██████████| 137/137 [00:03<00:00, 35.94it/s]\n",
      "100%|██████████| 4358/4358 [02:46<00:00, 26.24it/s]\n"
     ]
    },
    {
     "name": "stdout",
     "output_type": "stream",
     "text": [
      "Epoch 2 / 10 ===========================>\n",
      "Train Accuracy Char: 37.5996, Train Average Loss: 2.2169\n",
      "Validation Accuracy Char: 24.2658, Validation Average Loss: 2.7789\n",
      "Beam Val Word Accuracy: 0.0229 Correct Prediction : 1/4358\n"
     ]
    },
    {
     "name": "stderr",
     "output_type": "stream",
     "text": [
      "100%|██████████| 1382/1382 [02:22<00:00,  9.69it/s]\n",
      "100%|██████████| 137/137 [00:03<00:00, 36.02it/s]\n",
      "100%|██████████| 4358/4358 [02:45<00:00, 26.39it/s]\n"
     ]
    },
    {
     "name": "stdout",
     "output_type": "stream",
     "text": [
      "Epoch 3 / 10 ===========================>\n",
      "Train Accuracy Char: 43.2831, Train Average Loss: 1.9919\n",
      "Validation Accuracy Char: 35.1448, Validation Average Loss: 2.4716\n",
      "Beam Val Word Accuracy: 0.0918 Correct Prediction : 4/4358\n"
     ]
    },
    {
     "name": "stderr",
     "output_type": "stream",
     "text": [
      "100%|██████████| 1382/1382 [02:23<00:00,  9.63it/s]\n",
      "100%|██████████| 137/137 [00:03<00:00, 35.93it/s]\n",
      "100%|██████████| 4358/4358 [02:58<00:00, 24.46it/s]\n"
     ]
    },
    {
     "name": "stdout",
     "output_type": "stream",
     "text": [
      "Epoch 4 / 10 ===========================>\n",
      "Train Accuracy Char: 54.8800, Train Average Loss: 1.5823\n",
      "Validation Accuracy Char: 51.6406, Validation Average Loss: 1.7127\n",
      "Beam Val Word Accuracy: 5.3006 Correct Prediction : 231/4358\n"
     ]
    },
    {
     "name": "stderr",
     "output_type": "stream",
     "text": [
      "100%|██████████| 1382/1382 [02:23<00:00,  9.62it/s]\n",
      "100%|██████████| 137/137 [00:03<00:00, 35.99it/s]\n",
      "100%|██████████| 4358/4358 [02:55<00:00, 24.86it/s]\n"
     ]
    },
    {
     "name": "stdout",
     "output_type": "stream",
     "text": [
      "Epoch 5 / 10 ===========================>\n",
      "Train Accuracy Char: 66.8657, Train Average Loss: 1.1502\n",
      "Validation Accuracy Char: 66.8645, Validation Average Loss: 1.1489\n",
      "Beam Val Word Accuracy: 23.6117 Correct Prediction : 1029/4358\n"
     ]
    },
    {
     "name": "stderr",
     "output_type": "stream",
     "text": [
      "100%|██████████| 1382/1382 [02:23<00:00,  9.61it/s]\n",
      "100%|██████████| 137/137 [00:03<00:00, 35.59it/s]\n",
      "100%|██████████| 4358/4358 [02:56<00:00, 24.65it/s]\n"
     ]
    },
    {
     "name": "stdout",
     "output_type": "stream",
     "text": [
      "Epoch 6 / 10 ===========================>\n",
      "Train Accuracy Char: 72.5585, Train Average Loss: 0.9530\n",
      "Validation Accuracy Char: 71.0810, Validation Average Loss: 1.0035\n",
      "Beam Val Word Accuracy: 33.4787 Correct Prediction : 1459/4358\n"
     ]
    },
    {
     "name": "stderr",
     "output_type": "stream",
     "text": [
      "100%|██████████| 1382/1382 [02:23<00:00,  9.63it/s]\n",
      "100%|██████████| 137/137 [00:03<00:00, 35.88it/s]\n",
      "100%|██████████| 4358/4358 [02:57<00:00, 24.50it/s]\n"
     ]
    },
    {
     "name": "stdout",
     "output_type": "stream",
     "text": [
      "Epoch 7 / 10 ===========================>\n",
      "Train Accuracy Char: 74.3945, Train Average Loss: 0.8808\n",
      "Validation Accuracy Char: 73.1108, Validation Average Loss: 0.9321\n",
      "Beam Val Word Accuracy: 35.7962 Correct Prediction : 1560/4358\n"
     ]
    },
    {
     "name": "stderr",
     "output_type": "stream",
     "text": [
      "100%|██████████| 1382/1382 [02:23<00:00,  9.63it/s]\n",
      "100%|██████████| 137/137 [00:03<00:00, 35.92it/s]\n",
      "100%|██████████| 4358/4358 [02:57<00:00, 24.59it/s]\n"
     ]
    },
    {
     "name": "stdout",
     "output_type": "stream",
     "text": [
      "Epoch 8 / 10 ===========================>\n",
      "Train Accuracy Char: 75.6233, Train Average Loss: 0.8325\n",
      "Validation Accuracy Char: 74.1514, Validation Average Loss: 0.8796\n",
      "Beam Val Word Accuracy: 36.8747 Correct Prediction : 1607/4358\n"
     ]
    },
    {
     "name": "stderr",
     "output_type": "stream",
     "text": [
      "100%|██████████| 1382/1382 [02:23<00:00,  9.63it/s]\n",
      "100%|██████████| 137/137 [00:03<00:00, 35.45it/s]\n",
      "100%|██████████| 4358/4358 [02:57<00:00, 24.56it/s]\n"
     ]
    },
    {
     "name": "stdout",
     "output_type": "stream",
     "text": [
      "Epoch 9 / 10 ===========================>\n",
      "Train Accuracy Char: 76.5357, Train Average Loss: 0.7950\n",
      "Validation Accuracy Char: 75.5852, Validation Average Loss: 0.8312\n",
      "Beam Val Word Accuracy: 39.9266 Correct Prediction : 1740/4358\n"
     ]
    },
    {
     "name": "stderr",
     "output_type": "stream",
     "text": [
      "100%|██████████| 1382/1382 [02:23<00:00,  9.62it/s]\n",
      "100%|██████████| 137/137 [00:03<00:00, 35.31it/s]\n",
      "100%|██████████| 4358/4358 [02:58<00:00, 24.44it/s]"
     ]
    },
    {
     "name": "stdout",
     "output_type": "stream",
     "text": [
      "Epoch 10 / 10 ===========================>\n",
      "Train Accuracy Char: 76.9316, Train Average Loss: 0.7770\n",
      "Validation Accuracy Char: 76.1659, Validation Average Loss: 0.8073\n",
      "Beam Val Word Accuracy: 41.6017 Correct Prediction : 1813/4358\n"
     ]
    },
    {
     "name": "stderr",
     "output_type": "stream",
     "text": [
      "\n"
     ]
    },
    {
     "data": {
      "text/html": [],
      "text/plain": [
       "<IPython.core.display.HTML object>"
      ]
     },
     "metadata": {},
     "output_type": "display_data"
    },
    {
     "data": {
      "text/html": [
       "<br>    <style><br>        .wandb-row {<br>            display: flex;<br>            flex-direction: row;<br>            flex-wrap: wrap;<br>            justify-content: flex-start;<br>            width: 100%;<br>        }<br>        .wandb-col {<br>            display: flex;<br>            flex-direction: column;<br>            flex-basis: 100%;<br>            flex: 1;<br>            padding: 10px;<br>        }<br>    </style><br><div class=\"wandb-row\"><div class=\"wandb-col\"><h3>Run history:</h3><br/><table class=\"wandb\"><tr><td>accuracy</td><td>▁</td></tr></table><br/></div><div class=\"wandb-col\"><h3>Run summary:</h3><br/><table class=\"wandb\"><tr><td>accuracy</td><td>41.60165</td></tr></table><br/></div></div>"
      ],
      "text/plain": [
       "<IPython.core.display.HTML object>"
      ]
     },
     "metadata": {},
     "output_type": "display_data"
    },
    {
     "data": {
      "text/html": [
       " View run <strong style=\"color:#cdcd00\">attention_cell_GRU_bs_32_ep_10_op_adagrad_drop_0.3_bsw_4_emb_256_hs_1024_elayer_2_dlayer_2</strong> at: <a href='https://wandb.ai/cs24m019-iitm/DL_Assignment_3/runs/6i7vrevg' target=\"_blank\">https://wandb.ai/cs24m019-iitm/DL_Assignment_3/runs/6i7vrevg</a><br> View project at: <a href='https://wandb.ai/cs24m019-iitm/DL_Assignment_3' target=\"_blank\">https://wandb.ai/cs24m019-iitm/DL_Assignment_3</a><br>Synced 5 W&B file(s), 0 media file(s), 0 artifact file(s) and 0 other file(s)"
      ],
      "text/plain": [
       "<IPython.core.display.HTML object>"
      ]
     },
     "metadata": {},
     "output_type": "display_data"
    },
    {
     "data": {
      "text/html": [
       "Find logs at: <code>./wandb/run-20250518_230715-6i7vrevg/logs</code>"
      ],
      "text/plain": [
       "<IPython.core.display.HTML object>"
      ]
     },
     "metadata": {},
     "output_type": "display_data"
    },
    {
     "name": "stderr",
     "output_type": "stream",
     "text": [
      "\u001b[34m\u001b[1mwandb\u001b[0m: Agent Starting Run: 0d9p57qp with config:\n",
      "\u001b[34m\u001b[1mwandb\u001b[0m: \tbatch_size: 64\n",
      "\u001b[34m\u001b[1mwandb\u001b[0m: \tbeam_search_width: 1\n",
      "\u001b[34m\u001b[1mwandb\u001b[0m: \tbidirectional: True\n",
      "\u001b[34m\u001b[1mwandb\u001b[0m: \tcell_type: LSTM\n",
      "\u001b[34m\u001b[1mwandb\u001b[0m: \tdropout: 0.3\n",
      "\u001b[34m\u001b[1mwandb\u001b[0m: \tembedding_size: 256\n",
      "\u001b[34m\u001b[1mwandb\u001b[0m: \thidden_size: 512\n",
      "\u001b[34m\u001b[1mwandb\u001b[0m: \tlearning_rate: 0.01\n",
      "\u001b[34m\u001b[1mwandb\u001b[0m: \tlength_penalty: 0.6\n",
      "\u001b[34m\u001b[1mwandb\u001b[0m: \tnum_epochs: 10\n",
      "\u001b[34m\u001b[1mwandb\u001b[0m: \tnum_layers: 2\n",
      "\u001b[34m\u001b[1mwandb\u001b[0m: \toptimizer: adagrad\n",
      "\u001b[34m\u001b[1mwandb\u001b[0m: \tteacher_forcing: 0.7\n"
     ]
    },
    {
     "data": {
      "text/html": [
       "Ignoring project 'DL_Assignment_3' when running a sweep."
      ],
      "text/plain": [
       "<IPython.core.display.HTML object>"
      ]
     },
     "metadata": {},
     "output_type": "display_data"
    },
    {
     "data": {
      "text/html": [
       "Tracking run with wandb version 0.19.9"
      ],
      "text/plain": [
       "<IPython.core.display.HTML object>"
      ]
     },
     "metadata": {},
     "output_type": "display_data"
    },
    {
     "data": {
      "text/html": [
       "Run data is saved locally in <code>/kaggle/working/wandb/run-20250519_000041-0d9p57qp</code>"
      ],
      "text/plain": [
       "<IPython.core.display.HTML object>"
      ]
     },
     "metadata": {},
     "output_type": "display_data"
    },
    {
     "data": {
      "text/html": [
       "Syncing run <strong><a href='https://wandb.ai/cs24m019-iitm/DL_Assignment_3/runs/0d9p57qp' target=\"_blank\">amber-sweep-9</a></strong> to <a href='https://wandb.ai/cs24m019-iitm/DL_Assignment_3' target=\"_blank\">Weights & Biases</a> (<a href='https://wandb.me/developer-guide' target=\"_blank\">docs</a>)<br>Sweep page: <a href='https://wandb.ai/cs24m019-iitm/DL_Assignment_3/sweeps/b3yonf3b' target=\"_blank\">https://wandb.ai/cs24m019-iitm/DL_Assignment_3/sweeps/b3yonf3b</a>"
      ],
      "text/plain": [
       "<IPython.core.display.HTML object>"
      ]
     },
     "metadata": {},
     "output_type": "display_data"
    },
    {
     "data": {
      "text/html": [
       " View project at <a href='https://wandb.ai/cs24m019-iitm/DL_Assignment_3' target=\"_blank\">https://wandb.ai/cs24m019-iitm/DL_Assignment_3</a>"
      ],
      "text/plain": [
       "<IPython.core.display.HTML object>"
      ]
     },
     "metadata": {},
     "output_type": "display_data"
    },
    {
     "data": {
      "text/html": [
       " View sweep at <a href='https://wandb.ai/cs24m019-iitm/DL_Assignment_3/sweeps/b3yonf3b' target=\"_blank\">https://wandb.ai/cs24m019-iitm/DL_Assignment_3/sweeps/b3yonf3b</a>"
      ],
      "text/plain": [
       "<IPython.core.display.HTML object>"
      ]
     },
     "metadata": {},
     "output_type": "display_data"
    },
    {
     "data": {
      "text/html": [
       " View run at <a href='https://wandb.ai/cs24m019-iitm/DL_Assignment_3/runs/0d9p57qp' target=\"_blank\">https://wandb.ai/cs24m019-iitm/DL_Assignment_3/runs/0d9p57qp</a>"
      ],
      "text/plain": [
       "<IPython.core.display.HTML object>"
      ]
     },
     "metadata": {},
     "output_type": "display_data"
    },
    {
     "name": "stdout",
     "output_type": "stream",
     "text": [
      "Seq2Seq(\n",
      "  (decoder): Decoder(\n",
      "    (dropout): Dropout(p=0.3, inplace=False)\n",
      "    (embedding): Embedding(29, 256)\n",
      "    (rnn): LSTM(256, 512, num_layers=2, dropout=0.3)\n",
      "    (concat): Linear(in_features=1024, out_features=512, bias=True)\n",
      "    (fc): Linear(in_features=512, out_features=29, bias=True)\n",
      "    (attn): Attention()\n",
      "    (log_softmax): LogSoftmax(dim=1)\n",
      "  )\n",
      "  (encoder): Encoder(\n",
      "    (dropout): Dropout(p=0.3, inplace=False)\n",
      "    (embedding): Embedding(66, 256)\n",
      "    (rnn): LSTM(256, 512, num_layers=2, dropout=0.3, bidirectional=True)\n",
      "  )\n",
      ")\n",
      "Total Trainable Parameters: 13695773\n"
     ]
    },
    {
     "name": "stderr",
     "output_type": "stream",
     "text": [
      "100%|██████████| 691/691 [00:48<00:00, 14.15it/s]\n",
      "100%|██████████| 69/69 [00:01<00:00, 52.22it/s]\n",
      "100%|██████████| 4358/4358 [00:44<00:00, 98.08it/s] \n"
     ]
    },
    {
     "name": "stdout",
     "output_type": "stream",
     "text": [
      "Epoch 1 / 10 ===========================>\n",
      "Train Accuracy Char: 34.5340, Train Average Loss: 2.3274\n",
      "Validation Accuracy Char: 38.5750, Validation Average Loss: 2.3314\n",
      "Beam Val Word Accuracy: 0.3212 Correct Prediction : 14/4358\n"
     ]
    },
    {
     "name": "stderr",
     "output_type": "stream",
     "text": [
      "100%|██████████| 691/691 [00:48<00:00, 14.17it/s]\n",
      "100%|██████████| 69/69 [00:01<00:00, 51.68it/s]\n",
      "100%|██████████| 4358/4358 [00:46<00:00, 93.86it/s] \n"
     ]
    },
    {
     "name": "stdout",
     "output_type": "stream",
     "text": [
      "Epoch 2 / 10 ===========================>\n",
      "Train Accuracy Char: 69.8919, Train Average Loss: 1.0896\n",
      "Validation Accuracy Char: 71.8903, Validation Average Loss: 0.9887\n",
      "Beam Val Word Accuracy: 31.1611 Correct Prediction : 1358/4358\n"
     ]
    },
    {
     "name": "stderr",
     "output_type": "stream",
     "text": [
      "100%|██████████| 691/691 [00:48<00:00, 14.15it/s]\n",
      "100%|██████████| 69/69 [00:01<00:00, 51.60it/s]\n",
      "100%|██████████| 4358/4358 [00:47<00:00, 92.52it/s] \n"
     ]
    },
    {
     "name": "stdout",
     "output_type": "stream",
     "text": [
      "Epoch 3 / 10 ===========================>\n",
      "Train Accuracy Char: 75.5417, Train Average Loss: 0.8499\n",
      "Validation Accuracy Char: 75.7985, Validation Average Loss: 0.8372\n",
      "Beam Val Word Accuracy: 39.4218 Correct Prediction : 1718/4358\n"
     ]
    },
    {
     "name": "stderr",
     "output_type": "stream",
     "text": [
      "100%|██████████| 691/691 [00:48<00:00, 14.15it/s]\n",
      "100%|██████████| 69/69 [00:01<00:00, 51.83it/s]\n",
      "100%|██████████| 4358/4358 [00:46<00:00, 93.18it/s] \n"
     ]
    },
    {
     "name": "stdout",
     "output_type": "stream",
     "text": [
      "Epoch 4 / 10 ===========================>\n",
      "Train Accuracy Char: 76.8750, Train Average Loss: 0.7895\n",
      "Validation Accuracy Char: 76.7286, Validation Average Loss: 0.7961\n",
      "Beam Val Word Accuracy: 41.8082 Correct Prediction : 1822/4358\n"
     ]
    },
    {
     "name": "stderr",
     "output_type": "stream",
     "text": [
      "100%|██████████| 691/691 [00:48<00:00, 14.17it/s]\n",
      "100%|██████████| 69/69 [00:01<00:00, 50.56it/s]\n",
      "100%|██████████| 4358/4358 [00:46<00:00, 92.81it/s] \n"
     ]
    },
    {
     "name": "stdout",
     "output_type": "stream",
     "text": [
      "Epoch 5 / 10 ===========================>\n",
      "Train Accuracy Char: 77.5950, Train Average Loss: 0.7578\n",
      "Validation Accuracy Char: 76.7363, Validation Average Loss: 0.7854\n",
      "Beam Val Word Accuracy: 41.9688 Correct Prediction : 1829/4358\n"
     ]
    },
    {
     "name": "stderr",
     "output_type": "stream",
     "text": [
      "100%|██████████| 691/691 [00:48<00:00, 14.20it/s]\n",
      "100%|██████████| 69/69 [00:01<00:00, 51.65it/s]\n",
      "100%|██████████| 4358/4358 [00:46<00:00, 92.88it/s] \n"
     ]
    },
    {
     "name": "stdout",
     "output_type": "stream",
     "text": [
      "Epoch 6 / 10 ===========================>\n",
      "Train Accuracy Char: 78.0992, Train Average Loss: 0.7354\n",
      "Validation Accuracy Char: 77.3453, Validation Average Loss: 0.7617\n",
      "Beam Val Word Accuracy: 42.8866 Correct Prediction : 1869/4358\n"
     ]
    },
    {
     "name": "stderr",
     "output_type": "stream",
     "text": [
      "100%|██████████| 691/691 [00:48<00:00, 14.18it/s]\n",
      "100%|██████████| 69/69 [00:01<00:00, 51.82it/s]\n",
      "100%|██████████| 4358/4358 [00:46<00:00, 93.48it/s] \n"
     ]
    },
    {
     "name": "stdout",
     "output_type": "stream",
     "text": [
      "Epoch 7 / 10 ===========================>\n",
      "Train Accuracy Char: 78.5440, Train Average Loss: 0.7163\n",
      "Validation Accuracy Char: 77.1474, Validation Average Loss: 0.7669\n",
      "Beam Val Word Accuracy: 43.8733 Correct Prediction : 1912/4358\n"
     ]
    },
    {
     "name": "stderr",
     "output_type": "stream",
     "text": [
      "100%|██████████| 691/691 [00:48<00:00, 14.14it/s]\n",
      "100%|██████████| 69/69 [00:01<00:00, 51.95it/s]\n",
      "100%|██████████| 4358/4358 [00:46<00:00, 93.17it/s] \n"
     ]
    },
    {
     "name": "stdout",
     "output_type": "stream",
     "text": [
      "Epoch 8 / 10 ===========================>\n",
      "Train Accuracy Char: 78.7233, Train Average Loss: 0.7074\n",
      "Validation Accuracy Char: 77.4506, Validation Average Loss: 0.7554\n",
      "Beam Val Word Accuracy: 44.2864 Correct Prediction : 1930/4358\n"
     ]
    },
    {
     "name": "stderr",
     "output_type": "stream",
     "text": [
      "100%|██████████| 691/691 [00:48<00:00, 14.16it/s]\n",
      "100%|██████████| 69/69 [00:01<00:00, 49.97it/s]\n",
      "100%|██████████| 4358/4358 [00:46<00:00, 93.29it/s] \n"
     ]
    },
    {
     "name": "stdout",
     "output_type": "stream",
     "text": [
      "Epoch 9 / 10 ===========================>\n",
      "Train Accuracy Char: 78.9468, Train Average Loss: 0.6959\n",
      "Validation Accuracy Char: 77.3067, Validation Average Loss: 0.7560\n",
      "Beam Val Word Accuracy: 44.1716 Correct Prediction : 1925/4358\n"
     ]
    },
    {
     "name": "stderr",
     "output_type": "stream",
     "text": [
      "100%|██████████| 691/691 [00:48<00:00, 14.14it/s]\n",
      "100%|██████████| 69/69 [00:01<00:00, 52.03it/s]\n",
      "100%|██████████| 4358/4358 [00:46<00:00, 93.19it/s] "
     ]
    },
    {
     "name": "stdout",
     "output_type": "stream",
     "text": [
      "Epoch 10 / 10 ===========================>\n",
      "Train Accuracy Char: 79.1915, Train Average Loss: 0.6861\n",
      "Validation Accuracy Char: 77.7769, Validation Average Loss: 0.7429\n",
      "Beam Val Word Accuracy: 44.6535 Correct Prediction : 1946/4358\n"
     ]
    },
    {
     "name": "stderr",
     "output_type": "stream",
     "text": [
      "\n"
     ]
    },
    {
     "data": {
      "text/html": [],
      "text/plain": [
       "<IPython.core.display.HTML object>"
      ]
     },
     "metadata": {},
     "output_type": "display_data"
    },
    {
     "data": {
      "text/html": [
       "<br>    <style><br>        .wandb-row {<br>            display: flex;<br>            flex-direction: row;<br>            flex-wrap: wrap;<br>            justify-content: flex-start;<br>            width: 100%;<br>        }<br>        .wandb-col {<br>            display: flex;<br>            flex-direction: column;<br>            flex-basis: 100%;<br>            flex: 1;<br>            padding: 10px;<br>        }<br>    </style><br><div class=\"wandb-row\"><div class=\"wandb-col\"><h3>Run history:</h3><br/><table class=\"wandb\"><tr><td>accuracy</td><td>▁</td></tr></table><br/></div><div class=\"wandb-col\"><h3>Run summary:</h3><br/><table class=\"wandb\"><tr><td>accuracy</td><td>44.65351</td></tr></table><br/></div></div>"
      ],
      "text/plain": [
       "<IPython.core.display.HTML object>"
      ]
     },
     "metadata": {},
     "output_type": "display_data"
    },
    {
     "data": {
      "text/html": [
       " View run <strong style=\"color:#cdcd00\">attention_cell_LSTM_bs_64_ep_10_op_adagrad_drop_0.3_bsw_1_emb_256_hs_512_elayer_2_dlayer_2</strong> at: <a href='https://wandb.ai/cs24m019-iitm/DL_Assignment_3/runs/0d9p57qp' target=\"_blank\">https://wandb.ai/cs24m019-iitm/DL_Assignment_3/runs/0d9p57qp</a><br> View project at: <a href='https://wandb.ai/cs24m019-iitm/DL_Assignment_3' target=\"_blank\">https://wandb.ai/cs24m019-iitm/DL_Assignment_3</a><br>Synced 5 W&B file(s), 0 media file(s), 0 artifact file(s) and 0 other file(s)"
      ],
      "text/plain": [
       "<IPython.core.display.HTML object>"
      ]
     },
     "metadata": {},
     "output_type": "display_data"
    },
    {
     "data": {
      "text/html": [
       "Find logs at: <code>./wandb/run-20250519_000041-0d9p57qp/logs</code>"
      ],
      "text/plain": [
       "<IPython.core.display.HTML object>"
      ]
     },
     "metadata": {},
     "output_type": "display_data"
    },
    {
     "name": "stderr",
     "output_type": "stream",
     "text": [
      "\u001b[34m\u001b[1mwandb\u001b[0m: Agent Starting Run: 9uwzmif6 with config:\n",
      "\u001b[34m\u001b[1mwandb\u001b[0m: \tbatch_size: 64\n",
      "\u001b[34m\u001b[1mwandb\u001b[0m: \tbeam_search_width: 1\n",
      "\u001b[34m\u001b[1mwandb\u001b[0m: \tbidirectional: True\n",
      "\u001b[34m\u001b[1mwandb\u001b[0m: \tcell_type: LSTM\n",
      "\u001b[34m\u001b[1mwandb\u001b[0m: \tdropout: 0.3\n",
      "\u001b[34m\u001b[1mwandb\u001b[0m: \tembedding_size: 256\n",
      "\u001b[34m\u001b[1mwandb\u001b[0m: \thidden_size: 1024\n",
      "\u001b[34m\u001b[1mwandb\u001b[0m: \tlearning_rate: 0.01\n",
      "\u001b[34m\u001b[1mwandb\u001b[0m: \tlength_penalty: 0.6\n",
      "\u001b[34m\u001b[1mwandb\u001b[0m: \tnum_epochs: 10\n",
      "\u001b[34m\u001b[1mwandb\u001b[0m: \tnum_layers: 2\n",
      "\u001b[34m\u001b[1mwandb\u001b[0m: \toptimizer: adagrad\n",
      "\u001b[34m\u001b[1mwandb\u001b[0m: \tteacher_forcing: 0.7\n"
     ]
    },
    {
     "data": {
      "text/html": [
       "Ignoring project 'DL_Assignment_3' when running a sweep."
      ],
      "text/plain": [
       "<IPython.core.display.HTML object>"
      ]
     },
     "metadata": {},
     "output_type": "display_data"
    },
    {
     "data": {
      "text/html": [
       "Tracking run with wandb version 0.19.9"
      ],
      "text/plain": [
       "<IPython.core.display.HTML object>"
      ]
     },
     "metadata": {},
     "output_type": "display_data"
    },
    {
     "data": {
      "text/html": [
       "Run data is saved locally in <code>/kaggle/working/wandb/run-20250519_001706-9uwzmif6</code>"
      ],
      "text/plain": [
       "<IPython.core.display.HTML object>"
      ]
     },
     "metadata": {},
     "output_type": "display_data"
    },
    {
     "data": {
      "text/html": [
       "Syncing run <strong><a href='https://wandb.ai/cs24m019-iitm/DL_Assignment_3/runs/9uwzmif6' target=\"_blank\">amber-sweep-10</a></strong> to <a href='https://wandb.ai/cs24m019-iitm/DL_Assignment_3' target=\"_blank\">Weights & Biases</a> (<a href='https://wandb.me/developer-guide' target=\"_blank\">docs</a>)<br>Sweep page: <a href='https://wandb.ai/cs24m019-iitm/DL_Assignment_3/sweeps/b3yonf3b' target=\"_blank\">https://wandb.ai/cs24m019-iitm/DL_Assignment_3/sweeps/b3yonf3b</a>"
      ],
      "text/plain": [
       "<IPython.core.display.HTML object>"
      ]
     },
     "metadata": {},
     "output_type": "display_data"
    },
    {
     "data": {
      "text/html": [
       " View project at <a href='https://wandb.ai/cs24m019-iitm/DL_Assignment_3' target=\"_blank\">https://wandb.ai/cs24m019-iitm/DL_Assignment_3</a>"
      ],
      "text/plain": [
       "<IPython.core.display.HTML object>"
      ]
     },
     "metadata": {},
     "output_type": "display_data"
    },
    {
     "data": {
      "text/html": [
       " View sweep at <a href='https://wandb.ai/cs24m019-iitm/DL_Assignment_3/sweeps/b3yonf3b' target=\"_blank\">https://wandb.ai/cs24m019-iitm/DL_Assignment_3/sweeps/b3yonf3b</a>"
      ],
      "text/plain": [
       "<IPython.core.display.HTML object>"
      ]
     },
     "metadata": {},
     "output_type": "display_data"
    },
    {
     "data": {
      "text/html": [
       " View run at <a href='https://wandb.ai/cs24m019-iitm/DL_Assignment_3/runs/9uwzmif6' target=\"_blank\">https://wandb.ai/cs24m019-iitm/DL_Assignment_3/runs/9uwzmif6</a>"
      ],
      "text/plain": [
       "<IPython.core.display.HTML object>"
      ]
     },
     "metadata": {},
     "output_type": "display_data"
    },
    {
     "name": "stdout",
     "output_type": "stream",
     "text": [
      "Seq2Seq(\n",
      "  (decoder): Decoder(\n",
      "    (dropout): Dropout(p=0.3, inplace=False)\n",
      "    (embedding): Embedding(29, 256)\n",
      "    (rnn): LSTM(256, 1024, num_layers=2, dropout=0.3)\n",
      "    (concat): Linear(in_features=2048, out_features=1024, bias=True)\n",
      "    (fc): Linear(in_features=1024, out_features=29, bias=True)\n",
      "    (attn): Attention()\n",
      "    (log_softmax): LogSoftmax(dim=1)\n",
      "  )\n",
      "  (encoder): Encoder(\n",
      "    (dropout): Dropout(p=0.3, inplace=False)\n",
      "    (embedding): Embedding(66, 256)\n",
      "    (rnn): LSTM(256, 1024, num_layers=2, dropout=0.3, bidirectional=True)\n",
      "  )\n",
      ")\n",
      "Total Trainable Parameters: 51484445\n"
     ]
    },
    {
     "name": "stderr",
     "output_type": "stream",
     "text": [
      "100%|██████████| 691/691 [02:17<00:00,  5.02it/s]\n",
      "100%|██████████| 69/69 [00:03<00:00, 17.31it/s]\n",
      "100%|██████████| 4358/4358 [00:54<00:00, 79.27it/s]\n"
     ]
    },
    {
     "name": "stdout",
     "output_type": "stream",
     "text": [
      "Epoch 1 / 10 ===========================>\n",
      "Train Accuracy Char: 27.5755, Train Average Loss: 2.6928\n",
      "Validation Accuracy Char: 20.5658, Validation Average Loss: 3.0828\n",
      "Beam Val Word Accuracy: 0.0000 Correct Prediction : 0/4358\n"
     ]
    },
    {
     "name": "stderr",
     "output_type": "stream",
     "text": [
      "100%|██████████| 691/691 [02:19<00:00,  4.97it/s]\n",
      "100%|██████████| 69/69 [00:04<00:00, 17.02it/s]\n",
      "100%|██████████| 4358/4358 [00:59<00:00, 73.04it/s]\n"
     ]
    },
    {
     "name": "stdout",
     "output_type": "stream",
     "text": [
      "Epoch 2 / 10 ===========================>\n",
      "Train Accuracy Char: 33.2142, Train Average Loss: 2.3850\n",
      "Validation Accuracy Char: 20.9846, Validation Average Loss: 3.0145\n",
      "Beam Val Word Accuracy: 0.0000 Correct Prediction : 0/4358\n"
     ]
    },
    {
     "name": "stderr",
     "output_type": "stream",
     "text": [
      "100%|██████████| 691/691 [02:19<00:00,  4.95it/s]\n",
      "100%|██████████| 69/69 [00:04<00:00, 16.86it/s]\n",
      "100%|██████████| 4358/4358 [01:00<00:00, 71.81it/s]\n"
     ]
    },
    {
     "name": "stdout",
     "output_type": "stream",
     "text": [
      "Epoch 3 / 10 ===========================>\n",
      "Train Accuracy Char: 36.9186, Train Average Loss: 2.2269\n",
      "Validation Accuracy Char: 28.1739, Validation Average Loss: 2.9646\n",
      "Beam Val Word Accuracy: 0.0229 Correct Prediction : 1/4358\n"
     ]
    },
    {
     "name": "stderr",
     "output_type": "stream",
     "text": [
      "100%|██████████| 691/691 [02:19<00:00,  4.95it/s]\n",
      "100%|██████████| 69/69 [00:04<00:00, 17.00it/s]\n",
      "100%|██████████| 4358/4358 [01:03<00:00, 68.76it/s]\n"
     ]
    },
    {
     "name": "stdout",
     "output_type": "stream",
     "text": [
      "Epoch 4 / 10 ===========================>\n",
      "Train Accuracy Char: 57.3516, Train Average Loss: 1.4987\n",
      "Validation Accuracy Char: 59.7934, Validation Average Loss: 1.5605\n",
      "Beam Val Word Accuracy: 3.9468 Correct Prediction : 172/4358\n"
     ]
    },
    {
     "name": "stderr",
     "output_type": "stream",
     "text": [
      "100%|██████████| 691/691 [02:19<00:00,  4.94it/s]\n",
      "100%|██████████| 69/69 [00:04<00:00, 16.74it/s]\n",
      "100%|██████████| 4358/4358 [01:04<00:00, 67.74it/s]\n"
     ]
    },
    {
     "name": "stdout",
     "output_type": "stream",
     "text": [
      "Epoch 5 / 10 ===========================>\n",
      "Train Accuracy Char: 73.2235, Train Average Loss: 0.9310\n",
      "Validation Accuracy Char: 67.5737, Validation Average Loss: 1.1383\n",
      "Beam Val Word Accuracy: 14.6397 Correct Prediction : 638/4358\n"
     ]
    },
    {
     "name": "stderr",
     "output_type": "stream",
     "text": [
      "100%|██████████| 691/691 [02:19<00:00,  4.94it/s]\n",
      "100%|██████████| 69/69 [00:04<00:00, 16.83it/s]\n",
      "100%|██████████| 4358/4358 [01:04<00:00, 67.77it/s]\n"
     ]
    },
    {
     "name": "stdout",
     "output_type": "stream",
     "text": [
      "Epoch 6 / 10 ===========================>\n",
      "Train Accuracy Char: 75.8068, Train Average Loss: 0.8230\n",
      "Validation Accuracy Char: 71.2711, Validation Average Loss: 0.9630\n",
      "Beam Val Word Accuracy: 23.8871 Correct Prediction : 1041/4358\n"
     ]
    },
    {
     "name": "stderr",
     "output_type": "stream",
     "text": [
      "100%|██████████| 691/691 [02:19<00:00,  4.95it/s]\n",
      "100%|██████████| 69/69 [00:04<00:00, 16.90it/s]\n",
      "100%|██████████| 4358/4358 [01:04<00:00, 67.67it/s]\n"
     ]
    },
    {
     "name": "stdout",
     "output_type": "stream",
     "text": [
      "Epoch 7 / 10 ===========================>\n",
      "Train Accuracy Char: 77.0946, Train Average Loss: 0.7688\n",
      "Validation Accuracy Char: 74.7758, Validation Average Loss: 0.8437\n",
      "Beam Val Word Accuracy: 33.8917 Correct Prediction : 1477/4358\n"
     ]
    },
    {
     "name": "stderr",
     "output_type": "stream",
     "text": [
      "100%|██████████| 691/691 [02:19<00:00,  4.95it/s]\n",
      "100%|██████████| 69/69 [00:04<00:00, 16.72it/s]\n",
      "100%|██████████| 4358/4358 [01:04<00:00, 67.74it/s]\n"
     ]
    },
    {
     "name": "stdout",
     "output_type": "stream",
     "text": [
      "Epoch 8 / 10 ===========================>\n",
      "Train Accuracy Char: 78.1223, Train Average Loss: 0.7276\n",
      "Validation Accuracy Char: 76.3252, Validation Average Loss: 0.7941\n",
      "Beam Val Word Accuracy: 39.5824 Correct Prediction : 1725/4358\n"
     ]
    },
    {
     "name": "stderr",
     "output_type": "stream",
     "text": [
      "100%|██████████| 691/691 [02:19<00:00,  4.95it/s]\n",
      "100%|██████████| 69/69 [00:04<00:00, 16.79it/s]\n",
      "100%|██████████| 4358/4358 [01:04<00:00, 67.68it/s]\n"
     ]
    },
    {
     "name": "stdout",
     "output_type": "stream",
     "text": [
      "Epoch 9 / 10 ===========================>\n",
      "Train Accuracy Char: 78.6279, Train Average Loss: 0.7055\n",
      "Validation Accuracy Char: 77.1166, Validation Average Loss: 0.7652\n",
      "Beam Val Word Accuracy: 42.1753 Correct Prediction : 1838/4358\n"
     ]
    },
    {
     "name": "stderr",
     "output_type": "stream",
     "text": [
      " 51%|█████     | 352/691 [01:11<01:08,  4.95it/s]"
     ]
    }
   ],
   "source": [
    "def main():\n",
    "    wandb.init(project='DL_Assignment_3')\n",
    "    config = wandb.config\n",
    "    wandb.run.name = 'attention'+ '_cell_' + config.cell_type + '_bs_' + str(config.batch_size) + '_ep_' + str(config.num_epochs) + '_op_' + str(config.optimizer) + '_drop_' + str(config.dropout) + '_bsw_' + str(config.beam_search_width) +'_emb_' + str(config.embedding_size) + '_hs_' + str(config.hidden_size) + '_elayer_' + str(config.num_layers) + '_dlayer_' + str(config.num_layers)\n",
    "    \n",
    "    # Load Dataset\n",
    "    df_train, train_input_len, train_out_len = load_dataset('/kaggle/input/dakshina-dataset-ass-3/dakshina_dataset_v1.0/hi/lexicons/hi.translit.sampled.train.tsv')\n",
    "    df_val, val_input_len, val_out_len = load_dataset('/kaggle/input/dakshina-dataset-ass-3/dakshina_dataset_v1.0/hi/lexicons/hi.translit.sampled.dev.tsv')\n",
    "    df_test, test_input_len, test_out_len = load_dataset('/kaggle/input/dakshina-dataset-ass-3/dakshina_dataset_v1.0/hi/lexicons/hi.translit.sampled.test.tsv')\n",
    "\n",
    "    input_max_len = max(train_input_len, val_input_len, test_input_len)\n",
    "    output_max_len = max(train_out_len, val_out_len, test_out_len)\n",
    "    \n",
    "    max_length = max(input_max_len, output_max_len)\n",
    "\n",
    "    # Create Look Up Table\n",
    "    input_char_to_int, input_int_to_char = look_up_table(df_train[0], df_val[0], df_test[0])\n",
    "    output_char_to_int, output_int_to_char = look_up_table(df_train[1], df_val[1], df_test[1])\n",
    "\n",
    "    # Data Embedding and Converting them into Tensor\n",
    "    train_inputs, train_outputs = get_tensor_object(df_train, max_length, max_length, input_char_to_int, output_char_to_int)\n",
    "    val_inputs, val_outputs = get_tensor_object(df_val, max_length, max_length, input_char_to_int, output_char_to_int)\n",
    "    test_inputs, test_outputs = get_tensor_object(df_test, max_length, max_length, input_char_to_int, output_char_to_int)\n",
    "\n",
    "    # Transpose column wise\n",
    "    train_inputs, train_outputs = torch.transpose(train_inputs, 0, 1), torch.transpose(train_outputs, 0, 1)\n",
    "    val_inputs, val_outputs = torch.transpose(val_inputs, 0, 1), torch.transpose(val_outputs, 0, 1)\n",
    "    test_inputs, test_outputs = torch.transpose(test_inputs, 0, 1), torch.transpose(test_outputs, 0, 1)\n",
    "\n",
    "\n",
    "    # Initialize Hyperparameters\n",
    "    input_size = len(input_char_to_int)\n",
    "    output_size = len(output_char_to_int)\n",
    "    embedding_size = config.embedding_size\n",
    "    hidden_size = config.hidden_size\n",
    "    enc_num_layers = config.num_layers\n",
    "    dec_num_layers = config.num_layers\n",
    "    cell_type = config.cell_type\n",
    "    dropout = config.dropout\n",
    "    learning_rate = config.learning_rate\n",
    "    batch_size = config.batch_size\n",
    "    num_epochs = config.num_epochs  \n",
    "    optimizer = config.optimizer  \n",
    "    beam_width = config.beam_search_width\n",
    "    bidirectional = config.bidirectional\n",
    "    length_penalty = config.length_penalty\n",
    "    teacher_forcing = config.teacher_forcing\n",
    "    learning_rate = config.learning_rate\n",
    "\n",
    "    # Create train data batch\n",
    "    train_batch_x, train_batch_y = torch.split(train_inputs, batch_size, dim=1), torch.split(train_outputs, batch_size, dim=1)\n",
    "    # Validation data batch\n",
    "    val_batch_x, val_batch_y = torch.split(val_inputs, batch_size, dim=1), torch.split(val_outputs, batch_size, dim=1)\n",
    "\n",
    "\n",
    "    # Intialize encoder, decoder and seq2seq model\n",
    "    encoder = Encoder(input_size, embedding_size, hidden_size, enc_num_layers, dropout, bidirectional, cell_type).to(device)\n",
    "    decoder = Decoder(output_size, embedding_size, hidden_size, output_size, dec_num_layers, dropout, bidirectional, cell_type).to(device)  \n",
    "    model = Seq2Seq(encoder, decoder, output_char_to_int, teacher_forcing, cell_type).to(device)\n",
    "\n",
    "    # Print total number of parameters in the model\n",
    "    total_params = sum(p.numel() for p in model.parameters() if p.requires_grad)\n",
    "    print(model)\n",
    "    print(f'Total Trainable Parameters: {total_params}')\n",
    "\n",
    "\n",
    "    # Loss function and Optimizer\n",
    "    criterion = nn.CrossEntropyLoss()\n",
    "    if optimizer == 'adam':\n",
    "        optimizer = optim.Adam(model.parameters(), lr=learning_rate)\n",
    "    elif optimizer == 'sgd':\n",
    "        optimizer = optim.SGD(model.parameters(), lr=learning_rate)\n",
    "    elif optimizer == 'rmsprop':\n",
    "        optimizer = optim.RMSprop(model.parameters(), lr=learning_rate)\n",
    "    elif optimizer == 'nadam':\n",
    "        optimizer = optim.Adam(model.parameters(), lr=learning_rate)\n",
    "    elif optimizer == 'adagrad':\n",
    "        optimizer = optim.Adagrad(model.parameters(), lr=learning_rate)\n",
    "    else:\n",
    "        print(\"Incorrect Optmizer !!!!\")\n",
    "\n",
    "    # TRAINING\n",
    "    model, acc = train(model, num_epochs, criterion, optimizer, train_batch_x, train_batch_y, val_batch_x, val_batch_y, df_val, input_char_to_int, output_char_to_int, output_int_to_char, beam_width, length_penalty, cell_type, max_length)\n",
    "    wandb.log({\n",
    "            \"accuracy\": acc,\n",
    "        })\n",
    "    \n",
    "# SWEEP CONFIG\n",
    "sweep_config = {\n",
    "    'name': 'sweep_1_attention',\n",
    "    'method': 'grid',  \n",
    "    'metric': {'name': 'accuracy', 'goal': 'maximize'},\n",
    "    'parameters': {\n",
    "        'embedding_size': {'values': [256]},  \n",
    "        'hidden_size': {'values': [512, 1024]},\n",
    "        'num_layers': {'values': [2]},  \n",
    "        'cell_type': {'values':['LSTM', 'GRU']}, # RNN, LSTM, GRU\n",
    "        'dropout': {'values': [0.3]},\n",
    "        'learning_rate': {'values': [0.01]},\n",
    "        'batch_size': {'values': [32, 64]},\n",
    "        'num_epochs': {'values': [10]},\n",
    "        'optimizer': {'values': ['adagrad']}, # ['sgd', 'rmsprop', 'adam', 'nadam']\n",
    "        'beam_search_width': {'values': [1, 4]},\n",
    "        'length_penalty' : {'values': [0.6]},\n",
    "        'bidirectional': {'values': [True]},\n",
    "        'teacher_forcing': {'values': [0.7]}\n",
    "    }\n",
    "}\n",
    "\n",
    "# RUN SWEEP ID with agent\n",
    "sweep_id = wandb.sweep(sweep_config, project = 'DL_Assignment_3')\n",
    "wandb.agent(sweep_id, main)\n",
    "wandb.finish()"
   ]
  },
  {
   "cell_type": "code",
   "execution_count": 7,
   "metadata": {
    "execution": {
     "iopub.execute_input": "2025-05-19T02:45:36.233254Z",
     "iopub.status.busy": "2025-05-19T02:45:36.232481Z",
     "iopub.status.idle": "2025-05-19T04:48:56.074462Z",
     "shell.execute_reply": "2025-05-19T04:48:56.073686Z",
     "shell.execute_reply.started": "2025-05-19T02:45:36.233228Z"
    },
    "trusted": true
   },
   "outputs": [
    {
     "name": "stdout",
     "output_type": "stream",
     "text": [
      "Create sweep with ID: tbi1l3xn\n",
      "Sweep URL: https://wandb.ai/cs24m019-iitm/DL_Assignment_3/sweeps/tbi1l3xn\n"
     ]
    },
    {
     "name": "stderr",
     "output_type": "stream",
     "text": [
      "\u001b[34m\u001b[1mwandb\u001b[0m: Agent Starting Run: 5yf9j43n with config:\n",
      "\u001b[34m\u001b[1mwandb\u001b[0m: \tbatch_size: 64\n",
      "\u001b[34m\u001b[1mwandb\u001b[0m: \tbeam_search_width: 4\n",
      "\u001b[34m\u001b[1mwandb\u001b[0m: \tbidirectional: True\n",
      "\u001b[34m\u001b[1mwandb\u001b[0m: \tcell_type: LSTM\n",
      "\u001b[34m\u001b[1mwandb\u001b[0m: \tdropout: 0.3\n",
      "\u001b[34m\u001b[1mwandb\u001b[0m: \tembedding_size: 256\n",
      "\u001b[34m\u001b[1mwandb\u001b[0m: \thidden_size: 1024\n",
      "\u001b[34m\u001b[1mwandb\u001b[0m: \tlearning_rate: 0.01\n",
      "\u001b[34m\u001b[1mwandb\u001b[0m: \tlength_penalty: 0.6\n",
      "\u001b[34m\u001b[1mwandb\u001b[0m: \tnum_epochs: 10\n",
      "\u001b[34m\u001b[1mwandb\u001b[0m: \tnum_layers: 2\n",
      "\u001b[34m\u001b[1mwandb\u001b[0m: \toptimizer: adagrad\n",
      "\u001b[34m\u001b[1mwandb\u001b[0m: \tteacher_forcing: 0.7\n",
      "\u001b[34m\u001b[1mwandb\u001b[0m: Currently logged in as: \u001b[33mcs24m019\u001b[0m (\u001b[33mcs24m019-iitm\u001b[0m) to \u001b[32mhttps://api.wandb.ai\u001b[0m. Use \u001b[1m`wandb login --relogin`\u001b[0m to force relogin\n"
     ]
    },
    {
     "data": {
      "text/html": [
       "Ignoring project 'DL_Assignment_3' when running a sweep."
      ],
      "text/plain": [
       "<IPython.core.display.HTML object>"
      ]
     },
     "metadata": {},
     "output_type": "display_data"
    },
    {
     "data": {
      "text/html": [
       "Tracking run with wandb version 0.19.9"
      ],
      "text/plain": [
       "<IPython.core.display.HTML object>"
      ]
     },
     "metadata": {},
     "output_type": "display_data"
    },
    {
     "data": {
      "text/html": [
       "Run data is saved locally in <code>/kaggle/working/wandb/run-20250519_024543-5yf9j43n</code>"
      ],
      "text/plain": [
       "<IPython.core.display.HTML object>"
      ]
     },
     "metadata": {},
     "output_type": "display_data"
    },
    {
     "data": {
      "text/html": [
       "Syncing run <strong><a href='https://wandb.ai/cs24m019-iitm/DL_Assignment_3/runs/5yf9j43n' target=\"_blank\">restful-sweep-14</a></strong> to <a href='https://wandb.ai/cs24m019-iitm/DL_Assignment_3' target=\"_blank\">Weights & Biases</a> (<a href='https://wandb.me/developer-guide' target=\"_blank\">docs</a>)<br>Sweep page: <a href='https://wandb.ai/cs24m019-iitm/DL_Assignment_3/sweeps/b3yonf3b' target=\"_blank\">https://wandb.ai/cs24m019-iitm/DL_Assignment_3/sweeps/b3yonf3b</a>"
      ],
      "text/plain": [
       "<IPython.core.display.HTML object>"
      ]
     },
     "metadata": {},
     "output_type": "display_data"
    },
    {
     "data": {
      "text/html": [
       " View project at <a href='https://wandb.ai/cs24m019-iitm/DL_Assignment_3' target=\"_blank\">https://wandb.ai/cs24m019-iitm/DL_Assignment_3</a>"
      ],
      "text/plain": [
       "<IPython.core.display.HTML object>"
      ]
     },
     "metadata": {},
     "output_type": "display_data"
    },
    {
     "data": {
      "text/html": [
       " View sweep at <a href='https://wandb.ai/cs24m019-iitm/DL_Assignment_3/sweeps/b3yonf3b' target=\"_blank\">https://wandb.ai/cs24m019-iitm/DL_Assignment_3/sweeps/b3yonf3b</a>"
      ],
      "text/plain": [
       "<IPython.core.display.HTML object>"
      ]
     },
     "metadata": {},
     "output_type": "display_data"
    },
    {
     "data": {
      "text/html": [
       " View run at <a href='https://wandb.ai/cs24m019-iitm/DL_Assignment_3/runs/5yf9j43n' target=\"_blank\">https://wandb.ai/cs24m019-iitm/DL_Assignment_3/runs/5yf9j43n</a>"
      ],
      "text/plain": [
       "<IPython.core.display.HTML object>"
      ]
     },
     "metadata": {},
     "output_type": "display_data"
    },
    {
     "name": "stdout",
     "output_type": "stream",
     "text": [
      "Seq2Seq(\n",
      "  (decoder): Decoder(\n",
      "    (dropout): Dropout(p=0.3, inplace=False)\n",
      "    (embedding): Embedding(29, 256)\n",
      "    (rnn): LSTM(256, 1024, num_layers=2, dropout=0.3)\n",
      "    (concat): Linear(in_features=2048, out_features=1024, bias=True)\n",
      "    (fc): Linear(in_features=1024, out_features=29, bias=True)\n",
      "    (attn): Attention()\n",
      "    (log_softmax): LogSoftmax(dim=1)\n",
      "  )\n",
      "  (encoder): Encoder(\n",
      "    (dropout): Dropout(p=0.3, inplace=False)\n",
      "    (embedding): Embedding(66, 256)\n",
      "    (rnn): LSTM(256, 1024, num_layers=2, dropout=0.3, bidirectional=True)\n",
      "  )\n",
      ")\n",
      "Total Trainable Parameters: 51484445\n"
     ]
    },
    {
     "name": "stderr",
     "output_type": "stream",
     "text": [
      "100%|██████████| 691/691 [01:58<00:00,  5.81it/s]\n",
      "100%|██████████| 69/69 [00:03<00:00, 19.76it/s]\n",
      "100%|██████████| 4358/4358 [01:57<00:00, 36.98it/s]\n"
     ]
    },
    {
     "name": "stdout",
     "output_type": "stream",
     "text": [
      "Epoch 1 / 10 ===========================>\n",
      "Train Accuracy Char: 27.5870, Train Average Loss: 2.7127\n",
      "Validation Accuracy Char: 18.0092, Validation Average Loss: 2.9194\n",
      "Beam Val Word Accuracy: 0.0000 Correct Prediction : 0/4358\n"
     ]
    },
    {
     "name": "stderr",
     "output_type": "stream",
     "text": [
      "100%|██████████| 691/691 [02:05<00:00,  5.49it/s]\n",
      "100%|██████████| 69/69 [00:03<00:00, 19.94it/s]\n",
      "100%|██████████| 4358/4358 [01:50<00:00, 39.28it/s]\n"
     ]
    },
    {
     "name": "stdout",
     "output_type": "stream",
     "text": [
      "Epoch 2 / 10 ===========================>\n",
      "Train Accuracy Char: 34.4531, Train Average Loss: 2.3370\n",
      "Validation Accuracy Char: 23.2791, Validation Average Loss: 2.7164\n",
      "Beam Val Word Accuracy: 0.0000 Correct Prediction : 0/4358\n"
     ]
    },
    {
     "name": "stderr",
     "output_type": "stream",
     "text": [
      "100%|██████████| 691/691 [02:05<00:00,  5.49it/s]\n",
      "100%|██████████| 69/69 [00:03<00:00, 19.97it/s]\n",
      "100%|██████████| 4358/4358 [01:53<00:00, 38.43it/s]\n"
     ]
    },
    {
     "name": "stdout",
     "output_type": "stream",
     "text": [
      "Epoch 3 / 10 ===========================>\n",
      "Train Accuracy Char: 41.0246, Train Average Loss: 2.0848\n",
      "Validation Accuracy Char: 37.4367, Validation Average Loss: 2.2649\n",
      "Beam Val Word Accuracy: 0.0229 Correct Prediction : 1/4358\n"
     ]
    },
    {
     "name": "stderr",
     "output_type": "stream",
     "text": [
      "100%|██████████| 691/691 [02:05<00:00,  5.49it/s]\n",
      "100%|██████████| 69/69 [00:03<00:00, 19.98it/s]\n",
      "100%|██████████| 4358/4358 [02:03<00:00, 35.22it/s]\n"
     ]
    },
    {
     "name": "stdout",
     "output_type": "stream",
     "text": [
      "Epoch 4 / 10 ===========================>\n",
      "Train Accuracy Char: 55.3270, Train Average Loss: 1.5686\n",
      "Validation Accuracy Char: 55.0579, Validation Average Loss: 1.6440\n",
      "Beam Val Word Accuracy: 0.6425 Correct Prediction : 28/4358\n"
     ]
    },
    {
     "name": "stderr",
     "output_type": "stream",
     "text": [
      "100%|██████████| 691/691 [02:05<00:00,  5.49it/s]\n",
      "100%|██████████| 69/69 [00:03<00:00, 19.97it/s]\n",
      "100%|██████████| 4358/4358 [02:04<00:00, 35.05it/s]\n"
     ]
    },
    {
     "name": "stdout",
     "output_type": "stream",
     "text": [
      "Epoch 5 / 10 ===========================>\n",
      "Train Accuracy Char: 68.8195, Train Average Loss: 1.0761\n",
      "Validation Accuracy Char: 66.7078, Validation Average Loss: 1.1658\n",
      "Beam Val Word Accuracy: 1.9734 Correct Prediction : 86/4358\n"
     ]
    },
    {
     "name": "stderr",
     "output_type": "stream",
     "text": [
      "100%|██████████| 691/691 [02:05<00:00,  5.49it/s]\n",
      "100%|██████████| 69/69 [00:03<00:00, 19.91it/s]\n",
      "100%|██████████| 4358/4358 [02:06<00:00, 34.52it/s]\n"
     ]
    },
    {
     "name": "stdout",
     "output_type": "stream",
     "text": [
      "Epoch 6 / 10 ===========================>\n",
      "Train Accuracy Char: 73.9086, Train Average Loss: 0.8831\n",
      "Validation Accuracy Char: 71.9751, Validation Average Loss: 0.9423\n",
      "Beam Val Word Accuracy: 3.7402 Correct Prediction : 163/4358\n"
     ]
    },
    {
     "name": "stderr",
     "output_type": "stream",
     "text": [
      "100%|██████████| 691/691 [02:05<00:00,  5.49it/s]\n",
      "100%|██████████| 69/69 [00:03<00:00, 19.92it/s]\n",
      "100%|██████████| 4358/4358 [02:07<00:00, 34.20it/s]\n"
     ]
    },
    {
     "name": "stdout",
     "output_type": "stream",
     "text": [
      "Epoch 7 / 10 ===========================>\n",
      "Train Accuracy Char: 76.1951, Train Average Loss: 0.7959\n",
      "Validation Accuracy Char: 74.8144, Validation Average Loss: 0.8484\n",
      "Beam Val Word Accuracy: 4.7269 Correct Prediction : 206/4358\n"
     ]
    },
    {
     "name": "stderr",
     "output_type": "stream",
     "text": [
      "100%|██████████| 691/691 [02:05<00:00,  5.49it/s]\n",
      "100%|██████████| 69/69 [00:03<00:00, 19.85it/s]\n",
      "100%|██████████| 4358/4358 [02:07<00:00, 34.19it/s]\n"
     ]
    },
    {
     "name": "stdout",
     "output_type": "stream",
     "text": [
      "Epoch 8 / 10 ===========================>\n",
      "Train Accuracy Char: 77.5436, Train Average Loss: 0.7427\n",
      "Validation Accuracy Char: 76.1530, Validation Average Loss: 0.7997\n",
      "Beam Val Word Accuracy: 4.9564 Correct Prediction : 216/4358\n"
     ]
    },
    {
     "name": "stderr",
     "output_type": "stream",
     "text": [
      "100%|██████████| 691/691 [02:05<00:00,  5.49it/s]\n",
      "100%|██████████| 69/69 [00:03<00:00, 19.94it/s]\n",
      "100%|██████████| 4358/4358 [02:11<00:00, 33.24it/s]\n"
     ]
    },
    {
     "name": "stdout",
     "output_type": "stream",
     "text": [
      "Epoch 9 / 10 ===========================>\n",
      "Train Accuracy Char: 78.2654, Train Average Loss: 0.7136\n",
      "Validation Accuracy Char: 76.4331, Validation Average Loss: 0.7866\n",
      "Beam Val Word Accuracy: 6.1726 Correct Prediction : 269/4358\n"
     ]
    },
    {
     "name": "stderr",
     "output_type": "stream",
     "text": [
      "100%|██████████| 691/691 [02:05<00:00,  5.49it/s]\n",
      "100%|██████████| 69/69 [00:03<00:00, 19.94it/s]\n",
      "100%|██████████| 4358/4358 [02:10<00:00, 33.38it/s]"
     ]
    },
    {
     "name": "stdout",
     "output_type": "stream",
     "text": [
      "Epoch 10 / 10 ===========================>\n",
      "Train Accuracy Char: 79.0589, Train Average Loss: 0.6840\n",
      "Validation Accuracy Char: 76.7825, Validation Average Loss: 0.7806\n",
      "Beam Val Word Accuracy: 5.8054 Correct Prediction : 253/4358\n"
     ]
    },
    {
     "name": "stderr",
     "output_type": "stream",
     "text": [
      "\n"
     ]
    },
    {
     "data": {
      "text/html": [],
      "text/plain": [
       "<IPython.core.display.HTML object>"
      ]
     },
     "metadata": {},
     "output_type": "display_data"
    },
    {
     "data": {
      "text/html": [
       "<br>    <style><br>        .wandb-row {<br>            display: flex;<br>            flex-direction: row;<br>            flex-wrap: wrap;<br>            justify-content: flex-start;<br>            width: 100%;<br>        }<br>        .wandb-col {<br>            display: flex;<br>            flex-direction: column;<br>            flex-basis: 100%;<br>            flex: 1;<br>            padding: 10px;<br>        }<br>    </style><br><div class=\"wandb-row\"><div class=\"wandb-col\"><h3>Run history:</h3><br/><table class=\"wandb\"><tr><td>accuracy</td><td>▁</td></tr></table><br/></div><div class=\"wandb-col\"><h3>Run summary:</h3><br/><table class=\"wandb\"><tr><td>accuracy</td><td>5.80542</td></tr></table><br/></div></div>"
      ],
      "text/plain": [
       "<IPython.core.display.HTML object>"
      ]
     },
     "metadata": {},
     "output_type": "display_data"
    },
    {
     "data": {
      "text/html": [
       " View run <strong style=\"color:#cdcd00\">attention_cell_LSTM_bs_64_ep_10_op_adagrad_drop_0.3_bsw_4_emb_256_hs_1024_elayer_2_dlayer_2</strong> at: <a href='https://wandb.ai/cs24m019-iitm/DL_Assignment_3/runs/5yf9j43n' target=\"_blank\">https://wandb.ai/cs24m019-iitm/DL_Assignment_3/runs/5yf9j43n</a><br> View project at: <a href='https://wandb.ai/cs24m019-iitm/DL_Assignment_3' target=\"_blank\">https://wandb.ai/cs24m019-iitm/DL_Assignment_3</a><br>Synced 5 W&B file(s), 0 media file(s), 0 artifact file(s) and 0 other file(s)"
      ],
      "text/plain": [
       "<IPython.core.display.HTML object>"
      ]
     },
     "metadata": {},
     "output_type": "display_data"
    },
    {
     "data": {
      "text/html": [
       "Find logs at: <code>./wandb/run-20250519_024543-5yf9j43n/logs</code>"
      ],
      "text/plain": [
       "<IPython.core.display.HTML object>"
      ]
     },
     "metadata": {},
     "output_type": "display_data"
    },
    {
     "name": "stderr",
     "output_type": "stream",
     "text": [
      "\u001b[34m\u001b[1mwandb\u001b[0m: Agent Starting Run: s1cqa35r with config:\n",
      "\u001b[34m\u001b[1mwandb\u001b[0m: \tbatch_size: 64\n",
      "\u001b[34m\u001b[1mwandb\u001b[0m: \tbeam_search_width: 4\n",
      "\u001b[34m\u001b[1mwandb\u001b[0m: \tbidirectional: True\n",
      "\u001b[34m\u001b[1mwandb\u001b[0m: \tcell_type: GRU\n",
      "\u001b[34m\u001b[1mwandb\u001b[0m: \tdropout: 0.3\n",
      "\u001b[34m\u001b[1mwandb\u001b[0m: \tembedding_size: 256\n",
      "\u001b[34m\u001b[1mwandb\u001b[0m: \thidden_size: 512\n",
      "\u001b[34m\u001b[1mwandb\u001b[0m: \tlearning_rate: 0.01\n",
      "\u001b[34m\u001b[1mwandb\u001b[0m: \tlength_penalty: 0.6\n",
      "\u001b[34m\u001b[1mwandb\u001b[0m: \tnum_epochs: 10\n",
      "\u001b[34m\u001b[1mwandb\u001b[0m: \tnum_layers: 2\n",
      "\u001b[34m\u001b[1mwandb\u001b[0m: \toptimizer: adagrad\n",
      "\u001b[34m\u001b[1mwandb\u001b[0m: \tteacher_forcing: 0.7\n"
     ]
    },
    {
     "data": {
      "text/html": [
       "Ignoring project 'DL_Assignment_3' when running a sweep."
      ],
      "text/plain": [
       "<IPython.core.display.HTML object>"
      ]
     },
     "metadata": {},
     "output_type": "display_data"
    },
    {
     "data": {
      "text/html": [
       "Tracking run with wandb version 0.19.9"
      ],
      "text/plain": [
       "<IPython.core.display.HTML object>"
      ]
     },
     "metadata": {},
     "output_type": "display_data"
    },
    {
     "data": {
      "text/html": [
       "Run data is saved locally in <code>/kaggle/working/wandb/run-20250519_032802-s1cqa35r</code>"
      ],
      "text/plain": [
       "<IPython.core.display.HTML object>"
      ]
     },
     "metadata": {},
     "output_type": "display_data"
    },
    {
     "data": {
      "text/html": [
       "Syncing run <strong><a href='https://wandb.ai/cs24m019-iitm/DL_Assignment_3/runs/s1cqa35r' target=\"_blank\">colorful-sweep-15</a></strong> to <a href='https://wandb.ai/cs24m019-iitm/DL_Assignment_3' target=\"_blank\">Weights & Biases</a> (<a href='https://wandb.me/developer-guide' target=\"_blank\">docs</a>)<br>Sweep page: <a href='https://wandb.ai/cs24m019-iitm/DL_Assignment_3/sweeps/b3yonf3b' target=\"_blank\">https://wandb.ai/cs24m019-iitm/DL_Assignment_3/sweeps/b3yonf3b</a>"
      ],
      "text/plain": [
       "<IPython.core.display.HTML object>"
      ]
     },
     "metadata": {},
     "output_type": "display_data"
    },
    {
     "data": {
      "text/html": [
       " View project at <a href='https://wandb.ai/cs24m019-iitm/DL_Assignment_3' target=\"_blank\">https://wandb.ai/cs24m019-iitm/DL_Assignment_3</a>"
      ],
      "text/plain": [
       "<IPython.core.display.HTML object>"
      ]
     },
     "metadata": {},
     "output_type": "display_data"
    },
    {
     "data": {
      "text/html": [
       " View sweep at <a href='https://wandb.ai/cs24m019-iitm/DL_Assignment_3/sweeps/b3yonf3b' target=\"_blank\">https://wandb.ai/cs24m019-iitm/DL_Assignment_3/sweeps/b3yonf3b</a>"
      ],
      "text/plain": [
       "<IPython.core.display.HTML object>"
      ]
     },
     "metadata": {},
     "output_type": "display_data"
    },
    {
     "data": {
      "text/html": [
       " View run at <a href='https://wandb.ai/cs24m019-iitm/DL_Assignment_3/runs/s1cqa35r' target=\"_blank\">https://wandb.ai/cs24m019-iitm/DL_Assignment_3/runs/s1cqa35r</a>"
      ],
      "text/plain": [
       "<IPython.core.display.HTML object>"
      ]
     },
     "metadata": {},
     "output_type": "display_data"
    },
    {
     "name": "stdout",
     "output_type": "stream",
     "text": [
      "Seq2Seq(\n",
      "  (decoder): Decoder(\n",
      "    (dropout): Dropout(p=0.3, inplace=False)\n",
      "    (embedding): Embedding(29, 256)\n",
      "    (rnn): GRU(256, 512, num_layers=2, dropout=0.3)\n",
      "    (concat): Linear(in_features=1024, out_features=512, bias=True)\n",
      "    (fc): Linear(in_features=512, out_features=29, bias=True)\n",
      "    (attn): Attention()\n",
      "    (log_softmax): LogSoftmax(dim=1)\n",
      "  )\n",
      "  (encoder): Encoder(\n",
      "    (dropout): Dropout(p=0.3, inplace=False)\n",
      "    (embedding): Embedding(66, 256)\n",
      "    (rnn): GRU(256, 512, num_layers=2, dropout=0.3, bidirectional=True)\n",
      "  )\n",
      ")\n",
      "Total Trainable Parameters: 10412829\n"
     ]
    },
    {
     "name": "stderr",
     "output_type": "stream",
     "text": [
      "100%|██████████| 691/691 [00:42<00:00, 16.14it/s]\n",
      "100%|██████████| 69/69 [00:01<00:00, 56.91it/s]\n",
      "100%|██████████| 4358/4358 [02:28<00:00, 29.43it/s]\n"
     ]
    },
    {
     "name": "stdout",
     "output_type": "stream",
     "text": [
      "Epoch 1 / 10 ===========================>\n",
      "Train Accuracy Char: 41.6342, Train Average Loss: 2.0848\n",
      "Validation Accuracy Char: 51.8924, Validation Average Loss: 1.7227\n",
      "Beam Val Word Accuracy: 8.9950 Correct Prediction : 392/4358\n"
     ]
    },
    {
     "name": "stderr",
     "output_type": "stream",
     "text": [
      "100%|██████████| 691/691 [00:43<00:00, 15.90it/s]\n",
      "100%|██████████| 69/69 [00:01<00:00, 60.21it/s]\n",
      "100%|██████████| 4358/4358 [02:32<00:00, 28.62it/s]\n"
     ]
    },
    {
     "name": "stdout",
     "output_type": "stream",
     "text": [
      "Epoch 2 / 10 ===========================>\n",
      "Train Accuracy Char: 68.8207, Train Average Loss: 1.1114\n",
      "Validation Accuracy Char: 69.3646, Validation Average Loss: 1.0939\n",
      "Beam Val Word Accuracy: 29.4631 Correct Prediction : 1284/4358\n"
     ]
    },
    {
     "name": "stderr",
     "output_type": "stream",
     "text": [
      "100%|██████████| 691/691 [00:43<00:00, 15.87it/s]\n",
      "100%|██████████| 69/69 [00:01<00:00, 55.40it/s]\n",
      "100%|██████████| 4358/4358 [02:39<00:00, 27.28it/s]\n"
     ]
    },
    {
     "name": "stdout",
     "output_type": "stream",
     "text": [
      "Epoch 3 / 10 ===========================>\n",
      "Train Accuracy Char: 74.0593, Train Average Loss: 0.9095\n",
      "Validation Accuracy Char: 73.8560, Validation Average Loss: 0.9105\n",
      "Beam Val Word Accuracy: 36.9894 Correct Prediction : 1612/4358\n"
     ]
    },
    {
     "name": "stderr",
     "output_type": "stream",
     "text": [
      "100%|██████████| 691/691 [00:43<00:00, 15.90it/s]\n",
      "100%|██████████| 69/69 [00:01<00:00, 58.08it/s]\n",
      "100%|██████████| 4358/4358 [02:43<00:00, 26.70it/s]\n"
     ]
    },
    {
     "name": "stdout",
     "output_type": "stream",
     "text": [
      "Epoch 4 / 10 ===========================>\n",
      "Train Accuracy Char: 75.3491, Train Average Loss: 0.8511\n",
      "Validation Accuracy Char: 75.3437, Validation Average Loss: 0.8480\n",
      "Beam Val Word Accuracy: 39.6512 Correct Prediction : 1728/4358\n"
     ]
    },
    {
     "name": "stderr",
     "output_type": "stream",
     "text": [
      "100%|██████████| 691/691 [00:43<00:00, 15.89it/s]\n",
      "100%|██████████| 69/69 [00:01<00:00, 59.65it/s]\n",
      "100%|██████████| 4358/4358 [02:43<00:00, 26.69it/s]\n"
     ]
    },
    {
     "name": "stdout",
     "output_type": "stream",
     "text": [
      "Epoch 5 / 10 ===========================>\n",
      "Train Accuracy Char: 76.2735, Train Average Loss: 0.8115\n",
      "Validation Accuracy Char: 75.4259, Validation Average Loss: 0.8327\n",
      "Beam Val Word Accuracy: 40.2478 Correct Prediction : 1754/4358\n"
     ]
    },
    {
     "name": "stderr",
     "output_type": "stream",
     "text": [
      "100%|██████████| 691/691 [00:43<00:00, 15.76it/s]\n",
      "100%|██████████| 69/69 [00:01<00:00, 56.59it/s]\n",
      "100%|██████████| 4358/4358 [02:45<00:00, 26.38it/s]\n"
     ]
    },
    {
     "name": "stdout",
     "output_type": "stream",
     "text": [
      "Epoch 6 / 10 ===========================>\n",
      "Train Accuracy Char: 76.7833, Train Average Loss: 0.7889\n",
      "Validation Accuracy Char: 76.0528, Validation Average Loss: 0.8097\n",
      "Beam Val Word Accuracy: 41.0968 Correct Prediction : 1791/4358\n"
     ]
    },
    {
     "name": "stderr",
     "output_type": "stream",
     "text": [
      "100%|██████████| 691/691 [00:43<00:00, 15.89it/s]\n",
      "100%|██████████| 69/69 [00:01<00:00, 56.22it/s]\n",
      "100%|██████████| 4358/4358 [02:44<00:00, 26.56it/s]\n"
     ]
    },
    {
     "name": "stdout",
     "output_type": "stream",
     "text": [
      "Epoch 7 / 10 ===========================>\n",
      "Train Accuracy Char: 77.3683, Train Average Loss: 0.7663\n",
      "Validation Accuracy Char: 76.2250, Validation Average Loss: 0.8041\n",
      "Beam Val Word Accuracy: 42.2900 Correct Prediction : 1843/4358\n"
     ]
    },
    {
     "name": "stderr",
     "output_type": "stream",
     "text": [
      "100%|██████████| 691/691 [00:43<00:00, 15.88it/s]\n",
      "100%|██████████| 69/69 [00:01<00:00, 58.21it/s]\n",
      "100%|██████████| 4358/4358 [02:43<00:00, 26.61it/s]\n"
     ]
    },
    {
     "name": "stdout",
     "output_type": "stream",
     "text": [
      "Epoch 8 / 10 ===========================>\n",
      "Train Accuracy Char: 77.7684, Train Average Loss: 0.7493\n",
      "Validation Accuracy Char: 76.9958, Validation Average Loss: 0.7774\n",
      "Beam Val Word Accuracy: 42.8178 Correct Prediction : 1866/4358\n"
     ]
    },
    {
     "name": "stderr",
     "output_type": "stream",
     "text": [
      "100%|██████████| 691/691 [00:43<00:00, 15.79it/s]\n",
      "100%|██████████| 69/69 [00:01<00:00, 57.94it/s]\n",
      "100%|██████████| 4358/4358 [02:43<00:00, 26.59it/s]\n"
     ]
    },
    {
     "name": "stdout",
     "output_type": "stream",
     "text": [
      "Epoch 9 / 10 ===========================>\n",
      "Train Accuracy Char: 77.9622, Train Average Loss: 0.7399\n",
      "Validation Accuracy Char: 76.2866, Validation Average Loss: 0.7987\n",
      "Beam Val Word Accuracy: 42.8637 Correct Prediction : 1868/4358\n"
     ]
    },
    {
     "name": "stderr",
     "output_type": "stream",
     "text": [
      "100%|██████████| 691/691 [00:43<00:00, 15.78it/s]\n",
      "100%|██████████| 69/69 [00:01<00:00, 58.25it/s]\n",
      "100%|██████████| 4358/4358 [02:45<00:00, 26.33it/s]"
     ]
    },
    {
     "name": "stdout",
     "output_type": "stream",
     "text": [
      "Epoch 10 / 10 ===========================>\n",
      "Train Accuracy Char: 78.3839, Train Average Loss: 0.7236\n",
      "Validation Accuracy Char: 77.5277, Validation Average Loss: 0.7529\n",
      "Beam Val Word Accuracy: 43.5980 Correct Prediction : 1900/4358\n"
     ]
    },
    {
     "name": "stderr",
     "output_type": "stream",
     "text": [
      "\n"
     ]
    },
    {
     "data": {
      "text/html": [],
      "text/plain": [
       "<IPython.core.display.HTML object>"
      ]
     },
     "metadata": {},
     "output_type": "display_data"
    },
    {
     "data": {
      "text/html": [
       "<br>    <style><br>        .wandb-row {<br>            display: flex;<br>            flex-direction: row;<br>            flex-wrap: wrap;<br>            justify-content: flex-start;<br>            width: 100%;<br>        }<br>        .wandb-col {<br>            display: flex;<br>            flex-direction: column;<br>            flex-basis: 100%;<br>            flex: 1;<br>            padding: 10px;<br>        }<br>    </style><br><div class=\"wandb-row\"><div class=\"wandb-col\"><h3>Run history:</h3><br/><table class=\"wandb\"><tr><td>accuracy</td><td>▁</td></tr></table><br/></div><div class=\"wandb-col\"><h3>Run summary:</h3><br/><table class=\"wandb\"><tr><td>accuracy</td><td>43.59798</td></tr></table><br/></div></div>"
      ],
      "text/plain": [
       "<IPython.core.display.HTML object>"
      ]
     },
     "metadata": {},
     "output_type": "display_data"
    },
    {
     "data": {
      "text/html": [
       " View run <strong style=\"color:#cdcd00\">attention_cell_GRU_bs_64_ep_10_op_adagrad_drop_0.3_bsw_4_emb_256_hs_512_elayer_2_dlayer_2</strong> at: <a href='https://wandb.ai/cs24m019-iitm/DL_Assignment_3/runs/s1cqa35r' target=\"_blank\">https://wandb.ai/cs24m019-iitm/DL_Assignment_3/runs/s1cqa35r</a><br> View project at: <a href='https://wandb.ai/cs24m019-iitm/DL_Assignment_3' target=\"_blank\">https://wandb.ai/cs24m019-iitm/DL_Assignment_3</a><br>Synced 5 W&B file(s), 0 media file(s), 0 artifact file(s) and 0 other file(s)"
      ],
      "text/plain": [
       "<IPython.core.display.HTML object>"
      ]
     },
     "metadata": {},
     "output_type": "display_data"
    },
    {
     "data": {
      "text/html": [
       "Find logs at: <code>./wandb/run-20250519_032802-s1cqa35r/logs</code>"
      ],
      "text/plain": [
       "<IPython.core.display.HTML object>"
      ]
     },
     "metadata": {},
     "output_type": "display_data"
    },
    {
     "name": "stderr",
     "output_type": "stream",
     "text": [
      "\u001b[34m\u001b[1mwandb\u001b[0m: Agent Starting Run: fib2z0oh with config:\n",
      "\u001b[34m\u001b[1mwandb\u001b[0m: \tbatch_size: 64\n",
      "\u001b[34m\u001b[1mwandb\u001b[0m: \tbeam_search_width: 4\n",
      "\u001b[34m\u001b[1mwandb\u001b[0m: \tbidirectional: True\n",
      "\u001b[34m\u001b[1mwandb\u001b[0m: \tcell_type: GRU\n",
      "\u001b[34m\u001b[1mwandb\u001b[0m: \tdropout: 0.3\n",
      "\u001b[34m\u001b[1mwandb\u001b[0m: \tembedding_size: 256\n",
      "\u001b[34m\u001b[1mwandb\u001b[0m: \thidden_size: 1024\n",
      "\u001b[34m\u001b[1mwandb\u001b[0m: \tlearning_rate: 0.01\n",
      "\u001b[34m\u001b[1mwandb\u001b[0m: \tlength_penalty: 0.6\n",
      "\u001b[34m\u001b[1mwandb\u001b[0m: \tnum_epochs: 10\n",
      "\u001b[34m\u001b[1mwandb\u001b[0m: \tnum_layers: 2\n",
      "\u001b[34m\u001b[1mwandb\u001b[0m: \toptimizer: adagrad\n",
      "\u001b[34m\u001b[1mwandb\u001b[0m: \tteacher_forcing: 0.7\n"
     ]
    },
    {
     "data": {
      "text/html": [
       "Ignoring project 'DL_Assignment_3' when running a sweep."
      ],
      "text/plain": [
       "<IPython.core.display.HTML object>"
      ]
     },
     "metadata": {},
     "output_type": "display_data"
    },
    {
     "data": {
      "text/html": [
       "Tracking run with wandb version 0.19.9"
      ],
      "text/plain": [
       "<IPython.core.display.HTML object>"
      ]
     },
     "metadata": {},
     "output_type": "display_data"
    },
    {
     "data": {
      "text/html": [
       "Run data is saved locally in <code>/kaggle/working/wandb/run-20250519_040234-fib2z0oh</code>"
      ],
      "text/plain": [
       "<IPython.core.display.HTML object>"
      ]
     },
     "metadata": {},
     "output_type": "display_data"
    },
    {
     "data": {
      "text/html": [
       "Syncing run <strong><a href='https://wandb.ai/cs24m019-iitm/DL_Assignment_3/runs/fib2z0oh' target=\"_blank\">easy-sweep-16</a></strong> to <a href='https://wandb.ai/cs24m019-iitm/DL_Assignment_3' target=\"_blank\">Weights & Biases</a> (<a href='https://wandb.me/developer-guide' target=\"_blank\">docs</a>)<br>Sweep page: <a href='https://wandb.ai/cs24m019-iitm/DL_Assignment_3/sweeps/b3yonf3b' target=\"_blank\">https://wandb.ai/cs24m019-iitm/DL_Assignment_3/sweeps/b3yonf3b</a>"
      ],
      "text/plain": [
       "<IPython.core.display.HTML object>"
      ]
     },
     "metadata": {},
     "output_type": "display_data"
    },
    {
     "data": {
      "text/html": [
       " View project at <a href='https://wandb.ai/cs24m019-iitm/DL_Assignment_3' target=\"_blank\">https://wandb.ai/cs24m019-iitm/DL_Assignment_3</a>"
      ],
      "text/plain": [
       "<IPython.core.display.HTML object>"
      ]
     },
     "metadata": {},
     "output_type": "display_data"
    },
    {
     "data": {
      "text/html": [
       " View sweep at <a href='https://wandb.ai/cs24m019-iitm/DL_Assignment_3/sweeps/b3yonf3b' target=\"_blank\">https://wandb.ai/cs24m019-iitm/DL_Assignment_3/sweeps/b3yonf3b</a>"
      ],
      "text/plain": [
       "<IPython.core.display.HTML object>"
      ]
     },
     "metadata": {},
     "output_type": "display_data"
    },
    {
     "data": {
      "text/html": [
       " View run at <a href='https://wandb.ai/cs24m019-iitm/DL_Assignment_3/runs/fib2z0oh' target=\"_blank\">https://wandb.ai/cs24m019-iitm/DL_Assignment_3/runs/fib2z0oh</a>"
      ],
      "text/plain": [
       "<IPython.core.display.HTML object>"
      ]
     },
     "metadata": {},
     "output_type": "display_data"
    },
    {
     "name": "stdout",
     "output_type": "stream",
     "text": [
      "Seq2Seq(\n",
      "  (decoder): Decoder(\n",
      "    (dropout): Dropout(p=0.3, inplace=False)\n",
      "    (embedding): Embedding(29, 256)\n",
      "    (rnn): GRU(256, 1024, num_layers=2, dropout=0.3)\n",
      "    (concat): Linear(in_features=2048, out_features=1024, bias=True)\n",
      "    (fc): Linear(in_features=1024, out_features=29, bias=True)\n",
      "    (attn): Attention()\n",
      "    (log_softmax): LogSoftmax(dim=1)\n",
      "  )\n",
      "  (encoder): Encoder(\n",
      "    (dropout): Dropout(p=0.3, inplace=False)\n",
      "    (embedding): Embedding(66, 256)\n",
      "    (rnn): GRU(256, 1024, num_layers=2, dropout=0.3, bidirectional=True)\n",
      "  )\n",
      ")\n",
      "Total Trainable Parameters: 39151389\n"
     ]
    },
    {
     "name": "stderr",
     "output_type": "stream",
     "text": [
      "100%|██████████| 691/691 [01:42<00:00,  6.75it/s]\n",
      "100%|██████████| 69/69 [00:02<00:00, 23.98it/s]\n",
      "100%|██████████| 4358/4358 [02:11<00:00, 33.09it/s]\n"
     ]
    },
    {
     "name": "stdout",
     "output_type": "stream",
     "text": [
      "Epoch 1 / 10 ===========================>\n",
      "Train Accuracy Char: 26.4613, Train Average Loss: 2.6963\n",
      "Validation Accuracy Char: 20.8690, Validation Average Loss: 2.9081\n",
      "Beam Val Word Accuracy: 0.0000 Correct Prediction : 0/4358\n"
     ]
    },
    {
     "name": "stderr",
     "output_type": "stream",
     "text": [
      "100%|██████████| 691/691 [01:42<00:00,  6.73it/s]\n",
      "100%|██████████| 69/69 [00:02<00:00, 23.60it/s]\n",
      "100%|██████████| 4358/4358 [02:45<00:00, 26.37it/s]\n"
     ]
    },
    {
     "name": "stdout",
     "output_type": "stream",
     "text": [
      "Epoch 2 / 10 ===========================>\n",
      "Train Accuracy Char: 35.2373, Train Average Loss: 2.2997\n",
      "Validation Accuracy Char: 32.1874, Validation Average Loss: 2.5023\n",
      "Beam Val Word Accuracy: 0.0459 Correct Prediction : 2/4358\n"
     ]
    },
    {
     "name": "stderr",
     "output_type": "stream",
     "text": [
      "100%|██████████| 691/691 [01:42<00:00,  6.72it/s]\n",
      "100%|██████████| 69/69 [00:02<00:00, 23.57it/s]\n",
      "100%|██████████| 4358/4358 [02:41<00:00, 26.94it/s]\n"
     ]
    },
    {
     "name": "stdout",
     "output_type": "stream",
     "text": [
      "Epoch 3 / 10 ===========================>\n",
      "Train Accuracy Char: 53.2988, Train Average Loss: 1.6967\n",
      "Validation Accuracy Char: 55.4639, Validation Average Loss: 1.5913\n",
      "Beam Val Word Accuracy: 6.7233 Correct Prediction : 293/4358\n"
     ]
    },
    {
     "name": "stderr",
     "output_type": "stream",
     "text": [
      "100%|██████████| 691/691 [01:42<00:00,  6.72it/s]\n",
      "100%|██████████| 69/69 [00:02<00:00, 23.53it/s]\n",
      "100%|██████████| 4358/4358 [02:52<00:00, 25.22it/s]\n"
     ]
    },
    {
     "name": "stdout",
     "output_type": "stream",
     "text": [
      "Epoch 4 / 10 ===========================>\n",
      "Train Accuracy Char: 68.1525, Train Average Loss: 1.1835\n",
      "Validation Accuracy Char: 68.5706, Validation Average Loss: 1.1673\n",
      "Beam Val Word Accuracy: 27.4667 Correct Prediction : 1197/4358\n"
     ]
    },
    {
     "name": "stderr",
     "output_type": "stream",
     "text": [
      "100%|██████████| 691/691 [01:42<00:00,  6.72it/s]\n",
      "100%|██████████| 69/69 [00:02<00:00, 23.75it/s]\n",
      "100%|██████████| 4358/4358 [02:55<00:00, 24.79it/s]\n"
     ]
    },
    {
     "name": "stdout",
     "output_type": "stream",
     "text": [
      "Epoch 5 / 10 ===========================>\n",
      "Train Accuracy Char: 72.0264, Train Average Loss: 1.0166\n",
      "Validation Accuracy Char: 71.5512, Validation Average Loss: 1.0275\n",
      "Beam Val Word Accuracy: 32.3772 Correct Prediction : 1411/4358\n"
     ]
    },
    {
     "name": "stderr",
     "output_type": "stream",
     "text": [
      "100%|██████████| 691/691 [01:42<00:00,  6.73it/s]\n",
      "100%|██████████| 69/69 [00:02<00:00, 23.52it/s]\n",
      "100%|██████████| 4358/4358 [02:57<00:00, 24.49it/s]\n"
     ]
    },
    {
     "name": "stdout",
     "output_type": "stream",
     "text": [
      "Epoch 6 / 10 ===========================>\n",
      "Train Accuracy Char: 73.7092, Train Average Loss: 0.9402\n",
      "Validation Accuracy Char: 73.4577, Validation Average Loss: 0.9430\n",
      "Beam Val Word Accuracy: 37.5172 Correct Prediction : 1635/4358\n"
     ]
    },
    {
     "name": "stderr",
     "output_type": "stream",
     "text": [
      "100%|██████████| 691/691 [01:42<00:00,  6.71it/s]\n",
      "100%|██████████| 69/69 [00:02<00:00, 23.60it/s]\n",
      "100%|██████████| 4358/4358 [02:58<00:00, 24.39it/s]\n"
     ]
    },
    {
     "name": "stdout",
     "output_type": "stream",
     "text": [
      "Epoch 7 / 10 ===========================>\n",
      "Train Accuracy Char: 74.8593, Train Average Loss: 0.8856\n",
      "Validation Accuracy Char: 74.0615, Validation Average Loss: 0.9134\n",
      "Beam Val Word Accuracy: 38.6875 Correct Prediction : 1686/4358\n"
     ]
    },
    {
     "name": "stderr",
     "output_type": "stream",
     "text": [
      "100%|██████████| 691/691 [01:42<00:00,  6.72it/s]\n",
      "100%|██████████| 69/69 [00:02<00:00, 23.52it/s]\n",
      "100%|██████████| 4358/4358 [02:58<00:00, 24.45it/s]\n"
     ]
    },
    {
     "name": "stdout",
     "output_type": "stream",
     "text": [
      "Epoch 8 / 10 ===========================>\n",
      "Train Accuracy Char: 75.3427, Train Average Loss: 0.8559\n",
      "Validation Accuracy Char: 74.6242, Validation Average Loss: 0.8827\n",
      "Beam Val Word Accuracy: 39.9266 Correct Prediction : 1740/4358\n"
     ]
    },
    {
     "name": "stderr",
     "output_type": "stream",
     "text": [
      "100%|██████████| 691/691 [01:43<00:00,  6.71it/s]\n",
      "100%|██████████| 69/69 [00:02<00:00, 23.76it/s]\n",
      "100%|██████████| 4358/4358 [03:01<00:00, 24.01it/s]\n"
     ]
    },
    {
     "name": "stdout",
     "output_type": "stream",
     "text": [
      "Epoch 9 / 10 ===========================>\n",
      "Train Accuracy Char: 75.9103, Train Average Loss: 0.8321\n",
      "Validation Accuracy Char: 75.4516, Validation Average Loss: 0.8486\n",
      "Beam Val Word Accuracy: 41.3034 Correct Prediction : 1800/4358\n"
     ]
    },
    {
     "name": "stderr",
     "output_type": "stream",
     "text": [
      "100%|██████████| 691/691 [01:42<00:00,  6.72it/s]\n",
      "100%|██████████| 69/69 [00:02<00:00, 23.74it/s]\n",
      "100%|██████████| 4358/4358 [03:02<00:00, 23.85it/s]"
     ]
    },
    {
     "name": "stdout",
     "output_type": "stream",
     "text": [
      "Epoch 10 / 10 ===========================>\n",
      "Train Accuracy Char: 76.4894, Train Average Loss: 0.8050\n",
      "Validation Accuracy Char: 75.3514, Validation Average Loss: 0.8484\n",
      "Beam Val Word Accuracy: 41.5328 Correct Prediction : 1810/4358\n"
     ]
    },
    {
     "name": "stderr",
     "output_type": "stream",
     "text": [
      "\n"
     ]
    },
    {
     "data": {
      "text/html": [],
      "text/plain": [
       "<IPython.core.display.HTML object>"
      ]
     },
     "metadata": {},
     "output_type": "display_data"
    },
    {
     "data": {
      "text/html": [
       "<br>    <style><br>        .wandb-row {<br>            display: flex;<br>            flex-direction: row;<br>            flex-wrap: wrap;<br>            justify-content: flex-start;<br>            width: 100%;<br>        }<br>        .wandb-col {<br>            display: flex;<br>            flex-direction: column;<br>            flex-basis: 100%;<br>            flex: 1;<br>            padding: 10px;<br>        }<br>    </style><br><div class=\"wandb-row\"><div class=\"wandb-col\"><h3>Run history:</h3><br/><table class=\"wandb\"><tr><td>accuracy</td><td>▁</td></tr></table><br/></div><div class=\"wandb-col\"><h3>Run summary:</h3><br/><table class=\"wandb\"><tr><td>accuracy</td><td>41.53281</td></tr></table><br/></div></div>"
      ],
      "text/plain": [
       "<IPython.core.display.HTML object>"
      ]
     },
     "metadata": {},
     "output_type": "display_data"
    },
    {
     "data": {
      "text/html": [
       " View run <strong style=\"color:#cdcd00\">attention_cell_GRU_bs_64_ep_10_op_adagrad_drop_0.3_bsw_4_emb_256_hs_1024_elayer_2_dlayer_2</strong> at: <a href='https://wandb.ai/cs24m019-iitm/DL_Assignment_3/runs/fib2z0oh' target=\"_blank\">https://wandb.ai/cs24m019-iitm/DL_Assignment_3/runs/fib2z0oh</a><br> View project at: <a href='https://wandb.ai/cs24m019-iitm/DL_Assignment_3' target=\"_blank\">https://wandb.ai/cs24m019-iitm/DL_Assignment_3</a><br>Synced 5 W&B file(s), 0 media file(s), 0 artifact file(s) and 0 other file(s)"
      ],
      "text/plain": [
       "<IPython.core.display.HTML object>"
      ]
     },
     "metadata": {},
     "output_type": "display_data"
    },
    {
     "data": {
      "text/html": [
       "Find logs at: <code>./wandb/run-20250519_040234-fib2z0oh/logs</code>"
      ],
      "text/plain": [
       "<IPython.core.display.HTML object>"
      ]
     },
     "metadata": {},
     "output_type": "display_data"
    },
    {
     "name": "stderr",
     "output_type": "stream",
     "text": [
      "\u001b[34m\u001b[1mwandb\u001b[0m: Sweep Agent: Waiting for job.\n",
      "\u001b[34m\u001b[1mwandb\u001b[0m: Sweep Agent: Exiting.\n"
     ]
    }
   ],
   "source": [
    "def main():\n",
    "    wandb.init(project='DL_Assignment_3')\n",
    "    config = wandb.config\n",
    "    wandb.run.name = 'attention'+ '_cell_' + config.cell_type + '_bs_' + str(config.batch_size) + '_ep_' + str(config.num_epochs) + '_op_' + str(config.optimizer) + '_drop_' + str(config.dropout) + '_bsw_' + str(config.beam_search_width) +'_emb_' + str(config.embedding_size) + '_hs_' + str(config.hidden_size) + '_elayer_' + str(config.num_layers) + '_dlayer_' + str(config.num_layers)\n",
    "    \n",
    "    # Load Dataset\n",
    "    df_train, train_input_len, train_out_len = load_dataset('/kaggle/input/dakshina-dataset-ass-3/dakshina_dataset_v1.0/hi/lexicons/hi.translit.sampled.train.tsv')\n",
    "    df_val, val_input_len, val_out_len = load_dataset('/kaggle/input/dakshina-dataset-ass-3/dakshina_dataset_v1.0/hi/lexicons/hi.translit.sampled.dev.tsv')\n",
    "    df_test, test_input_len, test_out_len = load_dataset('/kaggle/input/dakshina-dataset-ass-3/dakshina_dataset_v1.0/hi/lexicons/hi.translit.sampled.test.tsv')\n",
    "\n",
    "    input_max_len = max(train_input_len, val_input_len, test_input_len)\n",
    "    output_max_len = max(train_out_len, val_out_len, test_out_len)\n",
    "    \n",
    "    max_length = max(input_max_len, output_max_len)\n",
    "\n",
    "    # Create Look Up Table\n",
    "    input_char_to_int, input_int_to_char = look_up_table(df_train[0], df_val[0], df_test[0])\n",
    "    output_char_to_int, output_int_to_char = look_up_table(df_train[1], df_val[1], df_test[1])\n",
    "\n",
    "    # Data Embedding and Converting them into Tensor\n",
    "    train_inputs, train_outputs = get_tensor_object(df_train, max_length, max_length, input_char_to_int, output_char_to_int)\n",
    "    val_inputs, val_outputs = get_tensor_object(df_val, max_length, max_length, input_char_to_int, output_char_to_int)\n",
    "    test_inputs, test_outputs = get_tensor_object(df_test, max_length, max_length, input_char_to_int, output_char_to_int)\n",
    "\n",
    "    # Transpose column wise\n",
    "    train_inputs, train_outputs = torch.transpose(train_inputs, 0, 1), torch.transpose(train_outputs, 0, 1)\n",
    "    val_inputs, val_outputs = torch.transpose(val_inputs, 0, 1), torch.transpose(val_outputs, 0, 1)\n",
    "    test_inputs, test_outputs = torch.transpose(test_inputs, 0, 1), torch.transpose(test_outputs, 0, 1)\n",
    "\n",
    "\n",
    "    # Initialize Hyperparameters\n",
    "    input_size = len(input_char_to_int)\n",
    "    output_size = len(output_char_to_int)\n",
    "    embedding_size = config.embedding_size\n",
    "    hidden_size = config.hidden_size\n",
    "    enc_num_layers = config.num_layers\n",
    "    dec_num_layers = config.num_layers\n",
    "    cell_type = config.cell_type\n",
    "    dropout = config.dropout\n",
    "    learning_rate = config.learning_rate\n",
    "    batch_size = config.batch_size\n",
    "    num_epochs = config.num_epochs  \n",
    "    optimizer = config.optimizer  \n",
    "    beam_width = config.beam_search_width\n",
    "    bidirectional = config.bidirectional\n",
    "    length_penalty = config.length_penalty\n",
    "    teacher_forcing = config.teacher_forcing\n",
    "    learning_rate = config.learning_rate\n",
    "\n",
    "    # Create train data batch\n",
    "    train_batch_x, train_batch_y = torch.split(train_inputs, batch_size, dim=1), torch.split(train_outputs, batch_size, dim=1)\n",
    "    # Validation data batch\n",
    "    val_batch_x, val_batch_y = torch.split(val_inputs, batch_size, dim=1), torch.split(val_outputs, batch_size, dim=1)\n",
    "\n",
    "\n",
    "    # Intialize encoder, decoder and seq2seq model\n",
    "    encoder = Encoder(input_size, embedding_size, hidden_size, enc_num_layers, dropout, bidirectional, cell_type).to(device)\n",
    "    decoder = Decoder(output_size, embedding_size, hidden_size, output_size, dec_num_layers, dropout, bidirectional, cell_type).to(device)  \n",
    "    model = Seq2Seq(encoder, decoder, output_char_to_int, teacher_forcing, cell_type).to(device)\n",
    "\n",
    "    # Print total number of parameters in the model\n",
    "    total_params = sum(p.numel() for p in model.parameters() if p.requires_grad)\n",
    "    print(model)\n",
    "    print(f'Total Trainable Parameters: {total_params}')\n",
    "\n",
    "\n",
    "    # Loss function and Optimizer\n",
    "    criterion = nn.CrossEntropyLoss()\n",
    "    if optimizer == 'adam':\n",
    "        optimizer = optim.Adam(model.parameters(), lr=learning_rate)\n",
    "    elif optimizer == 'sgd':\n",
    "        optimizer = optim.SGD(model.parameters(), lr=learning_rate)\n",
    "    elif optimizer == 'rmsprop':\n",
    "        optimizer = optim.RMSprop(model.parameters(), lr=learning_rate)\n",
    "    elif optimizer == 'nadam':\n",
    "        optimizer = optim.Adam(model.parameters(), lr=learning_rate)\n",
    "    elif optimizer == 'adagrad':\n",
    "        optimizer = optim.Adagrad(model.parameters(), lr=learning_rate)\n",
    "    else:\n",
    "        print(\"Incorrect Optmizer !!!!\")\n",
    "\n",
    "    # TRAINING\n",
    "    model, acc = train(model, num_epochs, criterion, optimizer, train_batch_x, train_batch_y, val_batch_x, val_batch_y, df_val, input_char_to_int, output_char_to_int, output_int_to_char, beam_width, length_penalty, cell_type, max_length)\n",
    "    wandb.log({\n",
    "            \"accuracy\": acc,\n",
    "        })\n",
    "    \n",
    "# SWEEP CONFIG\n",
    "sweep_config = {\n",
    "    'name': 'sweep_1_attention',\n",
    "    'method': 'grid',  \n",
    "    'metric': {'name': 'accuracy', 'goal': 'maximize'},\n",
    "    'parameters': {\n",
    "        'embedding_size': {'values': [256]},  \n",
    "        'hidden_size': {'values': [512, 1024]},\n",
    "        'num_layers': {'values': [2]},  \n",
    "        'cell_type': {'values':['LSTM', 'GRU']}, # RNN, LSTM, GRU\n",
    "        'dropout': {'values': [0.3]},\n",
    "        'learning_rate': {'values': [0.01]},\n",
    "        'batch_size': {'values': [32, 64]},\n",
    "        'num_epochs': {'values': [10]},\n",
    "        'optimizer': {'values': ['adagrad']}, # ['sgd', 'rmsprop', 'adam', 'nadam']\n",
    "        'beam_search_width': {'values': [1, 4]},\n",
    "        'length_penalty' : {'values': [0.6]},\n",
    "        'bidirectional': {'values': [True]},\n",
    "        'teacher_forcing': {'values': [0.7]}\n",
    "    }\n",
    "}\n",
    "\n",
    "# RUN SWEEP ID with agent\n",
    "sweep_id = wandb.sweep(sweep_config, project = 'DL_Assignment_3')\n",
    "wandb.agent('b3yonf3b', main)\n",
    "wandb.finish()"
   ]
  },
  {
   "cell_type": "code",
   "execution_count": 11,
   "metadata": {
    "execution": {
     "iopub.execute_input": "2025-05-19T07:09:29.798860Z",
     "iopub.status.busy": "2025-05-19T07:09:29.798101Z",
     "iopub.status.idle": "2025-05-19T07:32:28.442681Z",
     "shell.execute_reply": "2025-05-19T07:32:28.442005Z",
     "shell.execute_reply.started": "2025-05-19T07:09:29.798838Z"
    },
    "trusted": true
   },
   "outputs": [
    {
     "name": "stdout",
     "output_type": "stream",
     "text": [
      "Seq2Seq(\n",
      "  (decoder): Decoder(\n",
      "    (dropout): Dropout(p=0.3, inplace=False)\n",
      "    (embedding): Embedding(29, 256)\n",
      "    (rnn): LSTM(256, 512, num_layers=2, dropout=0.3)\n",
      "    (concat): Linear(in_features=1024, out_features=512, bias=True)\n",
      "    (fc): Linear(in_features=512, out_features=29, bias=True)\n",
      "    (attn): Attention()\n",
      "    (log_softmax): LogSoftmax(dim=1)\n",
      "  )\n",
      "  (encoder): Encoder(\n",
      "    (dropout): Dropout(p=0.3, inplace=False)\n",
      "    (embedding): Embedding(66, 256)\n",
      "    (rnn): LSTM(256, 512, num_layers=2, dropout=0.3, bidirectional=True)\n",
      "  )\n",
      ")\n",
      "Total Trainable Parameters: 13695773\n"
     ]
    },
    {
     "name": "stderr",
     "output_type": "stream",
     "text": [
      "100%|██████████| 1382/1382 [01:27<00:00, 15.84it/s]\n",
      "100%|██████████| 137/137 [00:02<00:00, 59.80it/s]\n",
      "100%|██████████| 4358/4358 [00:46<00:00, 93.38it/s] \n"
     ]
    },
    {
     "name": "stdout",
     "output_type": "stream",
     "text": [
      "Epoch 1 / 10 ===========================>\n",
      "Train Accuracy Char: 56.2249, Train Average Loss: 1.5539\n",
      "Validation Accuracy Char: 60.9497, Validation Average Loss: 1.6206\n",
      "Beam Val Word Accuracy: 1.4686 Correct Prediction : 64/4358\n"
     ]
    },
    {
     "name": "stderr",
     "output_type": "stream",
     "text": [
      "100%|██████████| 1382/1382 [01:27<00:00, 15.73it/s]\n",
      "100%|██████████| 137/137 [00:02<00:00, 61.54it/s]\n",
      "100%|██████████| 4358/4358 [00:47<00:00, 92.20it/s] \n"
     ]
    },
    {
     "name": "stdout",
     "output_type": "stream",
     "text": [
      "Epoch 2 / 10 ===========================>\n",
      "Train Accuracy Char: 75.7805, Train Average Loss: 0.8353\n",
      "Validation Accuracy Char: 75.3565, Validation Average Loss: 0.8422\n",
      "Beam Val Word Accuracy: 37.9532 Correct Prediction : 1654/4358\n"
     ]
    },
    {
     "name": "stderr",
     "output_type": "stream",
     "text": [
      "100%|██████████| 1382/1382 [01:28<00:00, 15.62it/s]\n",
      "100%|██████████| 137/137 [00:02<00:00, 60.35it/s]\n",
      "100%|██████████| 4358/4358 [00:47<00:00, 92.03it/s] \n"
     ]
    },
    {
     "name": "stdout",
     "output_type": "stream",
     "text": [
      "Epoch 3 / 10 ===========================>\n",
      "Train Accuracy Char: 77.1096, Train Average Loss: 0.7746\n",
      "Validation Accuracy Char: 76.3663, Validation Average Loss: 0.7934\n",
      "Beam Val Word Accuracy: 40.8444 Correct Prediction : 1780/4358\n"
     ]
    },
    {
     "name": "stderr",
     "output_type": "stream",
     "text": [
      "100%|██████████| 1382/1382 [01:28<00:00, 15.55it/s]\n",
      "100%|██████████| 137/137 [00:02<00:00, 60.05it/s]\n",
      "100%|██████████| 4358/4358 [00:47<00:00, 92.10it/s] \n"
     ]
    },
    {
     "name": "stdout",
     "output_type": "stream",
     "text": [
      "Epoch 4 / 10 ===========================>\n",
      "Train Accuracy Char: 77.9260, Train Average Loss: 0.7413\n",
      "Validation Accuracy Char: 76.9496, Validation Average Loss: 0.7722\n",
      "Beam Val Word Accuracy: 42.4736 Correct Prediction : 1851/4358\n"
     ]
    },
    {
     "name": "stderr",
     "output_type": "stream",
     "text": [
      "100%|██████████| 1382/1382 [01:27<00:00, 15.73it/s]\n",
      "100%|██████████| 137/137 [00:02<00:00, 61.42it/s]\n",
      "100%|██████████| 4358/4358 [00:47<00:00, 92.06it/s] \n"
     ]
    },
    {
     "name": "stdout",
     "output_type": "stream",
     "text": [
      "Epoch 5 / 10 ===========================>\n",
      "Train Accuracy Char: 78.5162, Train Average Loss: 0.7166\n",
      "Validation Accuracy Char: 77.3401, Validation Average Loss: 0.7577\n",
      "Beam Val Word Accuracy: 43.1620 Correct Prediction : 1881/4358\n"
     ]
    },
    {
     "name": "stderr",
     "output_type": "stream",
     "text": [
      "100%|██████████| 1382/1382 [01:28<00:00, 15.60it/s]\n",
      "100%|██████████| 137/137 [00:02<00:00, 60.43it/s]\n",
      "100%|██████████| 4358/4358 [00:47<00:00, 92.14it/s] \n"
     ]
    },
    {
     "name": "stdout",
     "output_type": "stream",
     "text": [
      "Epoch 6 / 10 ===========================>\n",
      "Train Accuracy Char: 78.7833, Train Average Loss: 0.7037\n",
      "Validation Accuracy Char: 77.3504, Validation Average Loss: 0.7507\n",
      "Beam Val Word Accuracy: 43.4832 Correct Prediction : 1895/4358\n"
     ]
    },
    {
     "name": "stderr",
     "output_type": "stream",
     "text": [
      "100%|██████████| 1382/1382 [01:28<00:00, 15.61it/s]\n",
      "100%|██████████| 137/137 [00:02<00:00, 62.08it/s]\n",
      "100%|██████████| 4358/4358 [00:46<00:00, 92.80it/s] \n"
     ]
    },
    {
     "name": "stdout",
     "output_type": "stream",
     "text": [
      "Epoch 7 / 10 ===========================>\n",
      "Train Accuracy Char: 79.1234, Train Average Loss: 0.6892\n",
      "Validation Accuracy Char: 77.6741, Validation Average Loss: 0.7415\n",
      "Beam Val Word Accuracy: 43.9881 Correct Prediction : 1917/4358\n"
     ]
    },
    {
     "name": "stderr",
     "output_type": "stream",
     "text": [
      "100%|██████████| 1382/1382 [01:27<00:00, 15.71it/s]\n",
      "100%|██████████| 137/137 [00:02<00:00, 63.07it/s]\n",
      "100%|██████████| 4358/4358 [00:47<00:00, 91.65it/s] \n"
     ]
    },
    {
     "name": "stdout",
     "output_type": "stream",
     "text": [
      "Epoch 8 / 10 ===========================>\n",
      "Train Accuracy Char: 79.3533, Train Average Loss: 0.6795\n",
      "Validation Accuracy Char: 77.8155, Validation Average Loss: 0.7347\n",
      "Beam Val Word Accuracy: 44.1716 Correct Prediction : 1925/4358\n"
     ]
    },
    {
     "name": "stderr",
     "output_type": "stream",
     "text": [
      "100%|██████████| 1382/1382 [01:28<00:00, 15.62it/s]\n",
      "100%|██████████| 137/137 [00:02<00:00, 61.77it/s]\n",
      "100%|██████████| 4358/4358 [00:47<00:00, 91.40it/s] \n"
     ]
    },
    {
     "name": "stdout",
     "output_type": "stream",
     "text": [
      "Epoch 9 / 10 ===========================>\n",
      "Train Accuracy Char: 79.5326, Train Average Loss: 0.6710\n",
      "Validation Accuracy Char: 77.8437, Validation Average Loss: 0.7328\n",
      "Beam Val Word Accuracy: 44.8141 Correct Prediction : 1953/4358\n"
     ]
    },
    {
     "name": "stderr",
     "output_type": "stream",
     "text": [
      "100%|██████████| 1382/1382 [01:27<00:00, 15.72it/s]\n",
      "100%|██████████| 137/137 [00:02<00:00, 61.54it/s]\n",
      "100%|██████████| 4358/4358 [00:47<00:00, 92.24it/s] "
     ]
    },
    {
     "name": "stdout",
     "output_type": "stream",
     "text": [
      "Epoch 10 / 10 ===========================>\n",
      "Train Accuracy Char: 79.7694, Train Average Loss: 0.6610\n",
      "Validation Accuracy Char: 78.0287, Validation Average Loss: 0.7295\n",
      "Beam Val Word Accuracy: 44.7912 Correct Prediction : 1952/4358\n"
     ]
    },
    {
     "name": "stderr",
     "output_type": "stream",
     "text": [
      "\n"
     ]
    }
   ],
   "source": [
    "# Load Dataset\n",
    "df_train, train_input_len, train_out_len = load_dataset('/kaggle/input/dakshina-dataset-ass-3/dakshina_dataset_v1.0/hi/lexicons/hi.translit.sampled.train.tsv')\n",
    "df_val, val_input_len, val_out_len = load_dataset('/kaggle/input/dakshina-dataset-ass-3/dakshina_dataset_v1.0/hi/lexicons/hi.translit.sampled.dev.tsv')\n",
    "df_test, test_input_len, test_out_len = load_dataset('/kaggle/input/dakshina-dataset-ass-3/dakshina_dataset_v1.0/hi/lexicons/hi.translit.sampled.test.tsv')\n",
    "\n",
    "input_max_len = max(train_input_len, val_input_len, test_input_len)\n",
    "output_max_len = max(train_out_len, val_out_len, test_out_len)\n",
    "\n",
    "max_length = max(input_max_len, output_max_len)\n",
    "\n",
    "# Create Look Up Table\n",
    "input_char_to_int, input_int_to_char = look_up_table(df_train[0], df_val[0], df_test[0])\n",
    "output_char_to_int, output_int_to_char = look_up_table(df_train[1], df_val[1], df_test[1])\n",
    "\n",
    "params = {\n",
    "        \"input_size\": len(input_char_to_int),\n",
    "        \"output_size\": len(output_char_to_int),\n",
    "        \"embedding_size\": 256,\n",
    "        \"hidden_size\": 512,\n",
    "        \"enc_num_layers\": 2,\n",
    "        \"dec_num_layers\": 2,\n",
    "        \"cell_type\": \"LSTM\", # LSTM, GRU, RNN\n",
    "        \"dropout\": 0.3,\n",
    "        \"learning_rate\": 0.01,\n",
    "        \"batch_size\": 32,\n",
    "        \"num_epochs\": 10,\n",
    "        \"optimizer\": 'adagrad',  # ['sgd', 'rmsprop', 'adam', 'nadam']\n",
    "        \"beam_search_width\" : 1,\n",
    "        \"length_penalty\" : 0.6,\n",
    "        \"bidirectional\": True,\n",
    "        \"teacher_forcing\":0.7,\n",
    "\n",
    "    }\n",
    "\n",
    "# Data Embedding and Converting them into Tensor\n",
    "train_inputs, train_outputs = get_tensor_object(df_train, max_length, max_length, input_char_to_int, output_char_to_int)\n",
    "val_inputs, val_outputs = get_tensor_object(df_val, max_length, max_length, input_char_to_int, output_char_to_int)\n",
    "test_inputs, test_outputs = get_tensor_object(df_test, max_length, max_length, input_char_to_int, output_char_to_int)\n",
    "\n",
    "# Transpose column wise\n",
    "train_inputs, train_outputs = torch.transpose(train_inputs, 0, 1), torch.transpose(train_outputs, 0, 1)\n",
    "val_inputs, val_outputs = torch.transpose(val_inputs, 0, 1), torch.transpose(val_outputs, 0, 1)\n",
    "test_inputs, test_outputs = torch.transpose(test_inputs, 0, 1), torch.transpose(test_outputs, 0, 1)\n",
    "\n",
    "\n",
    "# Initialize Hyperparameters\n",
    "input_size = params['input_size']\n",
    "output_size = params['output_size']\n",
    "embedding_size = params['embedding_size']\n",
    "hidden_size = params['hidden_size']\n",
    "enc_num_layers = params['enc_num_layers'] \n",
    "dec_num_layers = params['dec_num_layers']  \n",
    "cell_type = params['cell_type']\n",
    "dropout = params['dropout']\n",
    "learning_rate = params['learning_rate']\n",
    "batch_size = params['batch_size']\n",
    "num_epochs = params['num_epochs']  \n",
    "optimizer = params['optimizer']  \n",
    "beam_width = params['beam_search_width']\n",
    "bidirectional = params['bidirectional']\n",
    "length_penalty = params['length_penalty']\n",
    "teacher_forcing = params['teacher_forcing']\n",
    "\n",
    "# Create train data batch\n",
    "train_batch_x, train_batch_y = torch.split(train_inputs, batch_size, dim=1), torch.split(train_outputs, batch_size, dim=1)\n",
    "# Validation data batch\n",
    "val_batch_x, val_batch_y = torch.split(val_inputs, batch_size, dim=1), torch.split(val_outputs, batch_size, dim=1)\n",
    "\n",
    "\n",
    "# Intialize encoder, decoder and seq2seq model\n",
    "encoder = Encoder(input_size, embedding_size, hidden_size, enc_num_layers, dropout, bidirectional, cell_type).to(device)\n",
    "decoder = Decoder(output_size, embedding_size, hidden_size, output_size, dec_num_layers, dropout, bidirectional, cell_type).to(device)  \n",
    "model = Seq2Seq(encoder, decoder, output_char_to_int, teacher_forcing, cell_type).to(device)\n",
    "\n",
    "\n",
    "\n",
    "# Print total number of parameters in the model\n",
    "total_params = sum(p.numel() for p in model.parameters() if p.requires_grad)\n",
    "print(model)\n",
    "print(f'Total Trainable Parameters: {total_params}')\n",
    "\n",
    "\n",
    "# Define your loss function and optimizer\n",
    "criterion = nn.CrossEntropyLoss()\n",
    "if optimizer == 'adam':\n",
    "    optimizer = optim.Adam(model.parameters(), lr=params['learning_rate'])\n",
    "elif optimizer == 'sgd':\n",
    "    optimizer = optim.SGD(model.parameters(), lr=params['learning_rate'])\n",
    "elif optimizer == 'rmsprop':\n",
    "    optimizer = optim.RMSprop(model.parameters(), lr=params['learning_rate'])\n",
    "elif optimizer == 'nadam':\n",
    "    optimizer = optim.Adam(model.parameters(), lr=params['learning_rate'])\n",
    "elif optimizer == 'adagrad':\n",
    "    optimizer = optim.Adagrad(model.parameters(), lr=params['learning_rate'])\n",
    "else:\n",
    "    print(\"Incorrect Optmizer !!!!\")\n",
    "\n",
    "model, acc = train(model, num_epochs, criterion, optimizer, train_batch_x, train_batch_y, val_batch_x, val_batch_y, df_val, input_char_to_int, output_char_to_int, output_int_to_char, beam_width, length_penalty, cell_type, max_length)\n",
    "        "
   ]
  },
  {
   "cell_type": "markdown",
   "metadata": {},
   "source": [
    "## Store Prediction result"
   ]
  },
  {
   "cell_type": "code",
   "execution_count": 20,
   "metadata": {
    "execution": {
     "iopub.execute_input": "2025-05-19T08:11:52.242946Z",
     "iopub.status.busy": "2025-05-19T08:11:52.242598Z",
     "iopub.status.idle": "2025-05-19T08:11:52.249071Z",
     "shell.execute_reply": "2025-05-19T08:11:52.248270Z",
     "shell.execute_reply.started": "2025-05-19T08:11:52.242923Z"
    },
    "trusted": true
   },
   "outputs": [],
   "source": [
    "def store_results(data_type, words, translations, predictions, results):\n",
    "    \"\"\"\n",
    "    This function saves the evaluation results to a CSV file.\n",
    "\n",
    "    Args:\n",
    "        data_type (str): The type of data used for evaluation (e.g., 'val', 'test').\n",
    "        words (list): List of source words (without start/end tokens).\n",
    "        translations (list): List of reference translations (without start/end tokens).\n",
    "        predictions (list): List of predicted translated sequences (without start/end tokens).\n",
    "        results (list): List of 'Yes' or 'No' indicating correct/incorrect predictions.\n",
    "    \"\"\"\n",
    "\n",
    "    # Create a dictionary to store the results in a structured format\n",
    "    log = {\n",
    "        'Word': words,\n",
    "        'Translation': translations,\n",
    "        'Prediction': predictions,\n",
    "        'Result': results  # 'Yes' for correct, 'No' for incorrect\n",
    "    }\n",
    "    \n",
    "    # Construct the file path for the CSV file\n",
    "    path = '/kaggle/working/predictions.csv'\n",
    "\n",
    "    # Create a Pandas DataFrame from the dictionary\n",
    "    data_frame = pd.DataFrame(log)\n",
    "\n",
    "    # Save the DataFrame to a CSV file (header=True includes column names, index=False excludes row index)\n",
    "    data_frame.to_csv(path, header=True, index=False)\n",
    "    \n",
    "    # Log to wandb\n",
    "    wandb.init(project='DL_Assignment_3', name='Prediction_Store')\n",
    "\n",
    "    wandb.log({'Prediction_table': wandb.Table(dataframe= data_frame)})\n",
    "\n",
    "    wandb.finish()"
   ]
  },
  {
   "cell_type": "markdown",
   "metadata": {},
   "source": [
    "## TEST ACCURACY"
   ]
  },
  {
   "cell_type": "code",
   "execution_count": 21,
   "metadata": {
    "execution": {
     "iopub.execute_input": "2025-05-19T08:11:53.452307Z",
     "iopub.status.busy": "2025-05-19T08:11:53.451769Z",
     "iopub.status.idle": "2025-05-19T08:12:51.164584Z",
     "shell.execute_reply": "2025-05-19T08:12:51.163980Z",
     "shell.execute_reply.started": "2025-05-19T08:11:53.452283Z"
    },
    "trusted": true
   },
   "outputs": [
    {
     "name": "stderr",
     "output_type": "stream",
     "text": [
      "100%|██████████| 4502/4502 [00:50<00:00, 89.71it/s] \n"
     ]
    },
    {
     "name": "stdout",
     "output_type": "stream",
     "text": [
      "Test Accuracy Word Level: 44.06930253220791, Correctly Predicted: 1984\n"
     ]
    },
    {
     "data": {
      "text/html": [
       "Tracking run with wandb version 0.19.9"
      ],
      "text/plain": [
       "<IPython.core.display.HTML object>"
      ]
     },
     "metadata": {},
     "output_type": "display_data"
    },
    {
     "data": {
      "text/html": [
       "Run data is saved locally in <code>/kaggle/working/wandb/run-20250519_081243-vozltu54</code>"
      ],
      "text/plain": [
       "<IPython.core.display.HTML object>"
      ]
     },
     "metadata": {},
     "output_type": "display_data"
    },
    {
     "data": {
      "text/html": [
       "Syncing run <strong><a href='https://wandb.ai/cs24m019-iitm/DL_Assignment_3/runs/vozltu54' target=\"_blank\">Prediction_Store</a></strong> to <a href='https://wandb.ai/cs24m019-iitm/DL_Assignment_3' target=\"_blank\">Weights & Biases</a> (<a href='https://wandb.me/developer-guide' target=\"_blank\">docs</a>)<br>"
      ],
      "text/plain": [
       "<IPython.core.display.HTML object>"
      ]
     },
     "metadata": {},
     "output_type": "display_data"
    },
    {
     "data": {
      "text/html": [
       " View project at <a href='https://wandb.ai/cs24m019-iitm/DL_Assignment_3' target=\"_blank\">https://wandb.ai/cs24m019-iitm/DL_Assignment_3</a>"
      ],
      "text/plain": [
       "<IPython.core.display.HTML object>"
      ]
     },
     "metadata": {},
     "output_type": "display_data"
    },
    {
     "data": {
      "text/html": [
       " View run at <a href='https://wandb.ai/cs24m019-iitm/DL_Assignment_3/runs/vozltu54' target=\"_blank\">https://wandb.ai/cs24m019-iitm/DL_Assignment_3/runs/vozltu54</a>"
      ],
      "text/plain": [
       "<IPython.core.display.HTML object>"
      ]
     },
     "metadata": {},
     "output_type": "display_data"
    },
    {
     "data": {
      "text/html": [],
      "text/plain": [
       "<IPython.core.display.HTML object>"
      ]
     },
     "metadata": {},
     "output_type": "display_data"
    },
    {
     "data": {
      "text/html": [
       " View run <strong style=\"color:#cdcd00\">Prediction_Store</strong> at: <a href='https://wandb.ai/cs24m019-iitm/DL_Assignment_3/runs/vozltu54' target=\"_blank\">https://wandb.ai/cs24m019-iitm/DL_Assignment_3/runs/vozltu54</a><br> View project at: <a href='https://wandb.ai/cs24m019-iitm/DL_Assignment_3' target=\"_blank\">https://wandb.ai/cs24m019-iitm/DL_Assignment_3</a><br>Synced 5 W&B file(s), 1 media file(s), 2 artifact file(s) and 0 other file(s)"
      ],
      "text/plain": [
       "<IPython.core.display.HTML object>"
      ]
     },
     "metadata": {},
     "output_type": "display_data"
    },
    {
     "data": {
      "text/html": [
       "Find logs at: <code>./wandb/run-20250519_081243-vozltu54/logs</code>"
      ],
      "text/plain": [
       "<IPython.core.display.HTML object>"
      ]
     },
     "metadata": {},
     "output_type": "display_data"
    }
   ],
   "source": [
    "\n",
    "test_acc = 0\n",
    "correct_pred = 0\n",
    "words_test = [] \n",
    "translations_test = [] \n",
    "predictions_test = []\n",
    "results_test = []\n",
    "\n",
    "for i in tqdm(range(df_test.shape[0])):\n",
    "    input_seq = df_test.iloc[i, 0][:-1] \n",
    "    true_seq = df_test.iloc[i, 1][1:-1]\n",
    "    predicted_output = beam_search(model, input_seq, max_length, input_char_to_int, output_char_to_int, output_int_to_char, beam_width, length_penalty, cell_type)\n",
    "    words_test.append(input_seq)\n",
    "    translations_test.append(true_seq)\n",
    "    predictions_test.append(predicted_output[:-1])\n",
    "    if true_seq == predicted_output[:-1]:\n",
    "        correct_pred += 1\n",
    "        results_test.append('Yes')\n",
    "    else:\n",
    "        results_test.append('No')\n",
    "\n",
    "test_acc = 100 * correct_pred / df_test.shape[0]   \n",
    "\n",
    "print(f'Test Accuracy Word Level: {test_acc}, Correctly Predicted: {correct_pred}')\n",
    "store_results('test', words_test, translations_test, predictions_test, results_test)"
   ]
  },
  {
   "cell_type": "code",
   "execution_count": 22,
   "metadata": {
    "execution": {
     "iopub.execute_input": "2025-05-19T08:13:04.297512Z",
     "iopub.status.busy": "2025-05-19T08:13:04.297252Z",
     "iopub.status.idle": "2025-05-19T08:13:04.322796Z",
     "shell.execute_reply": "2025-05-19T08:13:04.322174Z",
     "shell.execute_reply.started": "2025-05-19T08:13:04.297494Z"
    },
    "trusted": true
   },
   "outputs": [
    {
     "data": {
      "text/html": [
       "<div>\n",
       "<style scoped>\n",
       "    .dataframe tbody tr th:only-of-type {\n",
       "        vertical-align: middle;\n",
       "    }\n",
       "\n",
       "    .dataframe tbody tr th {\n",
       "        vertical-align: top;\n",
       "    }\n",
       "\n",
       "    .dataframe thead th {\n",
       "        text-align: right;\n",
       "    }\n",
       "</style>\n",
       "<table border=\"1\" class=\"dataframe\">\n",
       "  <thead>\n",
       "    <tr style=\"text-align: right;\">\n",
       "      <th></th>\n",
       "      <th>Word</th>\n",
       "      <th>Translation</th>\n",
       "      <th>Prediction</th>\n",
       "      <th>Result</th>\n",
       "    </tr>\n",
       "  </thead>\n",
       "  <tbody>\n",
       "    <tr>\n",
       "      <th>0</th>\n",
       "      <td>अंक</td>\n",
       "      <td>ank</td>\n",
       "      <td>ank</td>\n",
       "      <td>Yes</td>\n",
       "    </tr>\n",
       "    <tr>\n",
       "      <th>1</th>\n",
       "      <td>अंक</td>\n",
       "      <td>anka</td>\n",
       "      <td>ank</td>\n",
       "      <td>No</td>\n",
       "    </tr>\n",
       "    <tr>\n",
       "      <th>2</th>\n",
       "      <td>अंकित</td>\n",
       "      <td>ankit</td>\n",
       "      <td>ankit</td>\n",
       "      <td>Yes</td>\n",
       "    </tr>\n",
       "    <tr>\n",
       "      <th>3</th>\n",
       "      <td>अंकों</td>\n",
       "      <td>anakon</td>\n",
       "      <td>ankon</td>\n",
       "      <td>No</td>\n",
       "    </tr>\n",
       "    <tr>\n",
       "      <th>4</th>\n",
       "      <td>अंकों</td>\n",
       "      <td>ankhon</td>\n",
       "      <td>ankon</td>\n",
       "      <td>No</td>\n",
       "    </tr>\n",
       "    <tr>\n",
       "      <th>5</th>\n",
       "      <td>अंकों</td>\n",
       "      <td>ankon</td>\n",
       "      <td>ankon</td>\n",
       "      <td>Yes</td>\n",
       "    </tr>\n",
       "    <tr>\n",
       "      <th>6</th>\n",
       "      <td>अंकोर</td>\n",
       "      <td>angkor</td>\n",
       "      <td>ankor</td>\n",
       "      <td>No</td>\n",
       "    </tr>\n",
       "    <tr>\n",
       "      <th>7</th>\n",
       "      <td>अंकोर</td>\n",
       "      <td>ankor</td>\n",
       "      <td>ankor</td>\n",
       "      <td>Yes</td>\n",
       "    </tr>\n",
       "    <tr>\n",
       "      <th>8</th>\n",
       "      <td>अंगारक</td>\n",
       "      <td>angaarak</td>\n",
       "      <td>angarak</td>\n",
       "      <td>No</td>\n",
       "    </tr>\n",
       "    <tr>\n",
       "      <th>9</th>\n",
       "      <td>अंगारक</td>\n",
       "      <td>angarak</td>\n",
       "      <td>angarak</td>\n",
       "      <td>Yes</td>\n",
       "    </tr>\n",
       "    <tr>\n",
       "      <th>10</th>\n",
       "      <td>अंग्रज़ी</td>\n",
       "      <td>angraji</td>\n",
       "      <td>angraji</td>\n",
       "      <td>Yes</td>\n",
       "    </tr>\n",
       "    <tr>\n",
       "      <th>11</th>\n",
       "      <td>अंग्रज़ी</td>\n",
       "      <td>angreji</td>\n",
       "      <td>angraji</td>\n",
       "      <td>No</td>\n",
       "    </tr>\n",
       "    <tr>\n",
       "      <th>12</th>\n",
       "      <td>अंग्रज़ी</td>\n",
       "      <td>angrzi</td>\n",
       "      <td>angraji</td>\n",
       "      <td>No</td>\n",
       "    </tr>\n",
       "    <tr>\n",
       "      <th>13</th>\n",
       "      <td>अंतः</td>\n",
       "      <td>antah</td>\n",
       "      <td>antaa</td>\n",
       "      <td>No</td>\n",
       "    </tr>\n",
       "    <tr>\n",
       "      <th>14</th>\n",
       "      <td>अंतः</td>\n",
       "      <td>antaha</td>\n",
       "      <td>antaa</td>\n",
       "      <td>No</td>\n",
       "    </tr>\n",
       "    <tr>\n",
       "      <th>15</th>\n",
       "      <td>अंतर्मुख</td>\n",
       "      <td>antarmukh</td>\n",
       "      <td>antarmukh</td>\n",
       "      <td>Yes</td>\n",
       "    </tr>\n",
       "    <tr>\n",
       "      <th>16</th>\n",
       "      <td>अंतर्मुख</td>\n",
       "      <td>antmurkh</td>\n",
       "      <td>antarmukh</td>\n",
       "      <td>No</td>\n",
       "    </tr>\n",
       "    <tr>\n",
       "      <th>17</th>\n",
       "      <td>अंतर्मुख</td>\n",
       "      <td>antrmukh</td>\n",
       "      <td>antarmukh</td>\n",
       "      <td>No</td>\n",
       "    </tr>\n",
       "    <tr>\n",
       "      <th>18</th>\n",
       "      <td>अंद्राबी</td>\n",
       "      <td>andrabee</td>\n",
       "      <td>andrabi</td>\n",
       "      <td>No</td>\n",
       "    </tr>\n",
       "    <tr>\n",
       "      <th>19</th>\n",
       "      <td>अंद्राबी</td>\n",
       "      <td>andrabi</td>\n",
       "      <td>andrabi</td>\n",
       "      <td>Yes</td>\n",
       "    </tr>\n",
       "    <tr>\n",
       "      <th>20</th>\n",
       "      <td>अंधा</td>\n",
       "      <td>andha</td>\n",
       "      <td>andha</td>\n",
       "      <td>Yes</td>\n",
       "    </tr>\n",
       "    <tr>\n",
       "      <th>21</th>\n",
       "      <td>अंधापन</td>\n",
       "      <td>andhapan</td>\n",
       "      <td>andhapan</td>\n",
       "      <td>Yes</td>\n",
       "    </tr>\n",
       "    <tr>\n",
       "      <th>22</th>\n",
       "      <td>अंधेरी</td>\n",
       "      <td>andheri</td>\n",
       "      <td>andheri</td>\n",
       "      <td>Yes</td>\n",
       "    </tr>\n",
       "    <tr>\n",
       "      <th>23</th>\n",
       "      <td>अंबानी</td>\n",
       "      <td>ambaani</td>\n",
       "      <td>ambani</td>\n",
       "      <td>No</td>\n",
       "    </tr>\n",
       "    <tr>\n",
       "      <th>24</th>\n",
       "      <td>अंबानी</td>\n",
       "      <td>ambani</td>\n",
       "      <td>ambani</td>\n",
       "      <td>Yes</td>\n",
       "    </tr>\n",
       "    <tr>\n",
       "      <th>25</th>\n",
       "      <td>अकरम</td>\n",
       "      <td>akram</td>\n",
       "      <td>akaram</td>\n",
       "      <td>No</td>\n",
       "    </tr>\n",
       "    <tr>\n",
       "      <th>26</th>\n",
       "      <td>अकापुल्को</td>\n",
       "      <td>acapulco</td>\n",
       "      <td>akapulko</td>\n",
       "      <td>No</td>\n",
       "    </tr>\n",
       "    <tr>\n",
       "      <th>27</th>\n",
       "      <td>अकापुल्को</td>\n",
       "      <td>akapulko</td>\n",
       "      <td>akapulko</td>\n",
       "      <td>Yes</td>\n",
       "    </tr>\n",
       "    <tr>\n",
       "      <th>28</th>\n",
       "      <td>अखंड</td>\n",
       "      <td>akhand</td>\n",
       "      <td>akhand</td>\n",
       "      <td>Yes</td>\n",
       "    </tr>\n",
       "    <tr>\n",
       "      <th>29</th>\n",
       "      <td>अखिल</td>\n",
       "      <td>akhil</td>\n",
       "      <td>akhil</td>\n",
       "      <td>Yes</td>\n",
       "    </tr>\n",
       "    <tr>\n",
       "      <th>30</th>\n",
       "      <td>अगवाई</td>\n",
       "      <td>agavai</td>\n",
       "      <td>agavai</td>\n",
       "      <td>Yes</td>\n",
       "    </tr>\n",
       "    <tr>\n",
       "      <th>31</th>\n",
       "      <td>अगवाई</td>\n",
       "      <td>agvaai</td>\n",
       "      <td>agavai</td>\n",
       "      <td>No</td>\n",
       "    </tr>\n",
       "    <tr>\n",
       "      <th>32</th>\n",
       "      <td>अगस्टाइन</td>\n",
       "      <td>augustine</td>\n",
       "      <td>agastine</td>\n",
       "      <td>No</td>\n",
       "    </tr>\n",
       "    <tr>\n",
       "      <th>33</th>\n",
       "      <td>अगस्टाइन</td>\n",
       "      <td>augustustine</td>\n",
       "      <td>agastine</td>\n",
       "      <td>No</td>\n",
       "    </tr>\n",
       "    <tr>\n",
       "      <th>34</th>\n",
       "      <td>अगस्ता</td>\n",
       "      <td>agsta</td>\n",
       "      <td>agasta</td>\n",
       "      <td>No</td>\n",
       "    </tr>\n",
       "    <tr>\n",
       "      <th>35</th>\n",
       "      <td>अगस्ता</td>\n",
       "      <td>agusta</td>\n",
       "      <td>agasta</td>\n",
       "      <td>No</td>\n",
       "    </tr>\n",
       "    <tr>\n",
       "      <th>36</th>\n",
       "      <td>अगस्ता</td>\n",
       "      <td>augusta</td>\n",
       "      <td>agasta</td>\n",
       "      <td>No</td>\n",
       "    </tr>\n",
       "    <tr>\n",
       "      <th>37</th>\n",
       "      <td>अग्र</td>\n",
       "      <td>agr</td>\n",
       "      <td>agra</td>\n",
       "      <td>No</td>\n",
       "    </tr>\n",
       "    <tr>\n",
       "      <th>38</th>\n",
       "      <td>अग्र</td>\n",
       "      <td>agra</td>\n",
       "      <td>agra</td>\n",
       "      <td>Yes</td>\n",
       "    </tr>\n",
       "    <tr>\n",
       "      <th>39</th>\n",
       "      <td>अचंभा</td>\n",
       "      <td>achambha</td>\n",
       "      <td>achambha</td>\n",
       "      <td>Yes</td>\n",
       "    </tr>\n",
       "    <tr>\n",
       "      <th>40</th>\n",
       "      <td>अचंभा</td>\n",
       "      <td>achanbha</td>\n",
       "      <td>achambha</td>\n",
       "      <td>No</td>\n",
       "    </tr>\n",
       "    <tr>\n",
       "      <th>41</th>\n",
       "      <td>अचीवमेंट</td>\n",
       "      <td>achievement</td>\n",
       "      <td>achivment</td>\n",
       "      <td>No</td>\n",
       "    </tr>\n",
       "    <tr>\n",
       "      <th>42</th>\n",
       "      <td>अचीवमेंट</td>\n",
       "      <td>achivement</td>\n",
       "      <td>achivment</td>\n",
       "      <td>No</td>\n",
       "    </tr>\n",
       "    <tr>\n",
       "      <th>43</th>\n",
       "      <td>अच्छी</td>\n",
       "      <td>acchi</td>\n",
       "      <td>achhi</td>\n",
       "      <td>No</td>\n",
       "    </tr>\n",
       "    <tr>\n",
       "      <th>44</th>\n",
       "      <td>अच्छी</td>\n",
       "      <td>achchi</td>\n",
       "      <td>achhi</td>\n",
       "      <td>No</td>\n",
       "    </tr>\n",
       "    <tr>\n",
       "      <th>45</th>\n",
       "      <td>अच्छी</td>\n",
       "      <td>achhi</td>\n",
       "      <td>achhi</td>\n",
       "      <td>Yes</td>\n",
       "    </tr>\n",
       "    <tr>\n",
       "      <th>46</th>\n",
       "      <td>अच्युत</td>\n",
       "      <td>achyut</td>\n",
       "      <td>achyut</td>\n",
       "      <td>Yes</td>\n",
       "    </tr>\n",
       "    <tr>\n",
       "      <th>47</th>\n",
       "      <td>अछनेरा</td>\n",
       "      <td>achhanera</td>\n",
       "      <td>achhnera</td>\n",
       "      <td>No</td>\n",
       "    </tr>\n",
       "    <tr>\n",
       "      <th>48</th>\n",
       "      <td>अछनेरा</td>\n",
       "      <td>achnera</td>\n",
       "      <td>achhnera</td>\n",
       "      <td>No</td>\n",
       "    </tr>\n",
       "    <tr>\n",
       "      <th>49</th>\n",
       "      <td>अजमीढ़</td>\n",
       "      <td>ajmeedh</td>\n",
       "      <td>ajmidh</td>\n",
       "      <td>No</td>\n",
       "    </tr>\n",
       "  </tbody>\n",
       "</table>\n",
       "</div>"
      ],
      "text/plain": [
       "         Word   Translation Prediction Result\n",
       "0         अंक           ank        ank    Yes\n",
       "1         अंक          anka        ank     No\n",
       "2       अंकित         ankit      ankit    Yes\n",
       "3       अंकों        anakon      ankon     No\n",
       "4       अंकों        ankhon      ankon     No\n",
       "5       अंकों         ankon      ankon    Yes\n",
       "6       अंकोर        angkor      ankor     No\n",
       "7       अंकोर         ankor      ankor    Yes\n",
       "8      अंगारक      angaarak    angarak     No\n",
       "9      अंगारक       angarak    angarak    Yes\n",
       "10   अंग्रज़ी       angraji    angraji    Yes\n",
       "11   अंग्रज़ी       angreji    angraji     No\n",
       "12   अंग्रज़ी        angrzi    angraji     No\n",
       "13       अंतः         antah      antaa     No\n",
       "14       अंतः        antaha      antaa     No\n",
       "15   अंतर्मुख     antarmukh  antarmukh    Yes\n",
       "16   अंतर्मुख      antmurkh  antarmukh     No\n",
       "17   अंतर्मुख      antrmukh  antarmukh     No\n",
       "18   अंद्राबी      andrabee    andrabi     No\n",
       "19   अंद्राबी       andrabi    andrabi    Yes\n",
       "20       अंधा         andha      andha    Yes\n",
       "21     अंधापन      andhapan   andhapan    Yes\n",
       "22     अंधेरी       andheri    andheri    Yes\n",
       "23     अंबानी       ambaani     ambani     No\n",
       "24     अंबानी        ambani     ambani    Yes\n",
       "25       अकरम         akram     akaram     No\n",
       "26  अकापुल्को      acapulco   akapulko     No\n",
       "27  अकापुल्को      akapulko   akapulko    Yes\n",
       "28       अखंड        akhand     akhand    Yes\n",
       "29       अखिल         akhil      akhil    Yes\n",
       "30      अगवाई        agavai     agavai    Yes\n",
       "31      अगवाई        agvaai     agavai     No\n",
       "32   अगस्टाइन     augustine   agastine     No\n",
       "33   अगस्टाइन  augustustine   agastine     No\n",
       "34     अगस्ता         agsta     agasta     No\n",
       "35     अगस्ता        agusta     agasta     No\n",
       "36     अगस्ता       augusta     agasta     No\n",
       "37       अग्र           agr       agra     No\n",
       "38       अग्र          agra       agra    Yes\n",
       "39      अचंभा      achambha   achambha    Yes\n",
       "40      अचंभा      achanbha   achambha     No\n",
       "41   अचीवमेंट   achievement  achivment     No\n",
       "42   अचीवमेंट    achivement  achivment     No\n",
       "43      अच्छी         acchi      achhi     No\n",
       "44      अच्छी        achchi      achhi     No\n",
       "45      अच्छी         achhi      achhi    Yes\n",
       "46     अच्युत        achyut     achyut    Yes\n",
       "47     अछनेरा     achhanera   achhnera     No\n",
       "48     अछनेरा       achnera   achhnera     No\n",
       "49     अजमीढ़       ajmeedh     ajmidh     No"
      ]
     },
     "execution_count": 22,
     "metadata": {},
     "output_type": "execute_result"
    }
   ],
   "source": [
    "df = pd.read_csv('/kaggle/working/predictions.csv')\n",
    "df.head(50)"
   ]
  },
  {
   "cell_type": "markdown",
   "metadata": {},
   "source": [
    "## HEATMAP"
   ]
  },
  {
   "cell_type": "code",
   "execution_count": 14,
   "metadata": {
    "execution": {
     "iopub.execute_input": "2025-05-19T07:34:15.023170Z",
     "iopub.status.busy": "2025-05-19T07:34:15.022865Z",
     "iopub.status.idle": "2025-05-19T07:34:15.031637Z",
     "shell.execute_reply": "2025-05-19T07:34:15.030845Z",
     "shell.execute_reply.started": "2025-05-19T07:34:15.023147Z"
    },
    "trusted": true
   },
   "outputs": [],
   "source": [
    "def predict(model, input_seq, input_char_index, output_char_index, reverse_target_char_index):\n",
    "    model.eval()\n",
    "    if len(input_seq) > input_max_len+1:\n",
    "        print(\"Input Length is exceeding max length!!!!\")\n",
    "        return \"\"\n",
    "    \n",
    "    # Create np array of zero of length i/p \n",
    "    input_data = np.zeros((input_max_len+1, 1), dtype=int) # (N,1)\n",
    "    \n",
    "    # Encode the input\n",
    "    for idx, char in enumerate(input_seq):\n",
    "        input_data[idx, 0] = input_char_index[char]\n",
    "    input_data[idx+1, 0] = input_char_index[\"$\"]\n",
    "    \n",
    "    # Convert to tensor\n",
    "    input_tensor = torch.tensor(input_data, dtype=torch.int64).to(device) # N,1\n",
    "    \n",
    "    with torch.no_grad():\n",
    "        if cell_type == \"LSTM\":\n",
    "            encoder_outputs, hidden_state, cell = model.encoder(input_tensor)\n",
    "            hidden_state =  hidden_state[:model.decoder.num_layers]\n",
    "            cell =  cell[:model.decoder.num_layers]\n",
    "        \n",
    "        else:\n",
    "            encoder_outputs, hidden_state = model.encoder(input_tensor)\n",
    "            hidden_state =  hidden_state[:model.decoder.num_layers]\n",
    "    \n",
    "    output_text = []\n",
    "    output_start_token = output_char_index['^'] # SOS token\n",
    "    output_start_token_tensor = torch.tensor([output_start_token]).to(device)\n",
    "    \n",
    "    attentions = torch.zeros(input_max_len + 1, 1, input_max_len + 1)\n",
    "    #decoder_attentions = torch.zeros(29, 29)\n",
    "    for i in range(1, len(output_char_index)):\n",
    "        if cell_type == \"LSTM\":\n",
    "            output, hidden_state, cell, attention = model.decoder(output_start_token_tensor, encoder_outputs, hidden_state, cell)\n",
    "        else:\n",
    "            output, hidden_state, attention = model.decoder(output_start_token_tensor, encoder_outputs, hidden_state, None)\n",
    "        \n",
    "        #print(attention)\n",
    "        predicted_char = reverse_target_char_index[output.argmax(1).item()]\n",
    "        attentions[i] = attention\n",
    "        #decoder_attentions[i] = attention.data\n",
    "        if predicted_char != '$':\n",
    "            output_text.append(predicted_char)\n",
    "        else:\n",
    "            break\n",
    "        output_start_token_tensor = torch.tensor([output.argmax(1)]).to(device)\n",
    "\n",
    "\n",
    "    return ''.join(output_text), attentions[:i + 1]"
   ]
  },
  {
   "cell_type": "code",
   "execution_count": null,
   "metadata": {},
   "outputs": [
    {
     "data": {
      "text/html": [
       "Tracking run with wandb version 0.16.6"
      ],
      "text/plain": [
       "<IPython.core.display.HTML object>"
      ]
     },
     "metadata": {},
     "output_type": "display_data"
    },
    {
     "data": {
      "text/html": [
       "Run data is saved locally in <code>/kaggle/working/wandb/run-20240506_212742-thlmy4u2</code>"
      ],
      "text/plain": [
       "<IPython.core.display.HTML object>"
      ]
     },
     "metadata": {},
     "output_type": "display_data"
    },
    {
     "data": {
      "text/html": [
       "Syncing run <strong><a href='https://wandb.ai/cs23m043_nimo/DL_Assignment_3/runs/thlmy4u2' target=\"_blank\">Attention_HeatMap</a></strong> to <a href='https://wandb.ai/cs23m043_nimo/DL_Assignment_3' target=\"_blank\">Weights & Biases</a> (<a href='https://wandb.me/run' target=\"_blank\">docs</a>)<br/>"
      ],
      "text/plain": [
       "<IPython.core.display.HTML object>"
      ]
     },
     "metadata": {},
     "output_type": "display_data"
    },
    {
     "data": {
      "text/html": [
       " View project at <a href='https://wandb.ai/cs23m043_nimo/DL_Assignment_3' target=\"_blank\">https://wandb.ai/cs23m043_nimo/DL_Assignment_3</a>"
      ],
      "text/plain": [
       "<IPython.core.display.HTML object>"
      ]
     },
     "metadata": {},
     "output_type": "display_data"
    },
    {
     "data": {
      "text/html": [
       " View run at <a href='https://wandb.ai/cs23m043_nimo/DL_Assignment_3/runs/thlmy4u2' target=\"_blank\">https://wandb.ai/cs23m043_nimo/DL_Assignment_3/runs/thlmy4u2</a>"
      ],
      "text/plain": [
       "<IPython.core.display.HTML object>"
      ]
     },
     "metadata": {},
     "output_type": "display_data"
    },
    {
     "data": {
      "image/png": "[encoded data removed]",
      "text/plain": [
       "<Figure size 1500x1500 with 21 Axes>"
      ]
     },
     "metadata": {},
     "output_type": "display_data"
    },
    {
     "data": {
      "application/vnd.jupyter.widget-view+json": {
       "model_id": "",
       "version_major": 2,
       "version_minor": 0
      },
      "text/plain": [
       "VBox(children=(Label(value='0.118 MB of 0.118 MB uploaded\\r'), FloatProgress(value=1.0, max=1.0)))"
      ]
     },
     "metadata": {},
     "output_type": "display_data"
    },
    {
     "data": {
      "text/html": [
       " View run <strong style=\"color:#cdcd00\">Attention_HeatMap</strong> at: <a href='https://wandb.ai/cs23m043_nimo/DL_Assignment_3/runs/thlmy4u2' target=\"_blank\">https://wandb.ai/cs23m043_nimo/DL_Assignment_3/runs/thlmy4u2</a><br/> View project at: <a href='https://wandb.ai/cs23m043_nimo/DL_Assignment_3' target=\"_blank\">https://wandb.ai/cs23m043_nimo/DL_Assignment_3</a><br/>Synced 4 W&B file(s), 1 media file(s), 0 artifact file(s) and 0 other file(s)"
      ],
      "text/plain": [
       "<IPython.core.display.HTML object>"
      ]
     },
     "metadata": {},
     "output_type": "display_data"
    },
    {
     "data": {
      "text/html": [
       "Find logs at: <code>./wandb/run-20240506_212742-thlmy4u2/logs</code>"
      ],
      "text/plain": [
       "<IPython.core.display.HTML object>"
      ]
     },
     "metadata": {},
     "output_type": "display_data"
    }
   ],
   "source": [
    "def plot_attention_grid(sentences, translations, attentions, figsize=(15, 15)):\n",
    "    fig, axes = plt.subplots(4, 3, figsize=figsize)\n",
    "    fig.suptitle('Attention Matrix Grid', fontsize=18, fontweight='bold', y=0.95)\n",
    "    for i in range(9):\n",
    "        sentence = list(sentences[i])\n",
    "        translation = list(translations[i])\n",
    "        attention = attentions[i][:len(translation), :len(sentence)].squeeze(1).detach().numpy()\n",
    "        ax = axes.flat[i]\n",
    "        im = ax.matshow(attention, cmap='plasma')  # Using 'viridis' colormap for better readability\n",
    "        ax.set_xticks(np.arange(len(sentence)))\n",
    "        ax.set_xticklabels(sentence, size=10, fontweight='bold')  # Bold font for input sequence\n",
    "        ax.set_yticks(np.arange(len(translation)))\n",
    "        hindi_font = FontProperties(fname='/kaggle/input/wordcloud-hindi-font/Nirmala.ttf')\n",
    "        ax.set_yticklabels(translation, size=10, fontproperties=hindi_font, fontweight='bold')  # Bold font for output sequence\n",
    "        ax.set_xlabel('Input Sequence', fontsize=12, fontweight='bold')  # Bold font for axis labels\n",
    "        ax.set_ylabel('Output Sequence', fontsize=12, fontweight='bold')  # Bold font for axis labels\n",
    "        ax.grid(visible=True)  # Hiding grid for cleaner look\n",
    "        fig.colorbar(im, ax=ax, fraction=0.046, pad=0.04)  # Adding colorbar with adjusted position\n",
    "        \n",
    "    for ax in axes.flat[9:]:\n",
    "        ax.axis('off')      \n",
    "    fig.tight_layout(rect=[0, 0, 1, 0.93])  # Adjusting layout to avoid overlap with title\n",
    "    wandb.log({\"Attention Images\": wandb.Image(fig)})\n",
    "    plt.show()\n",
    "\n",
    "inputs = []\n",
    "outputs = []\n",
    "attentions  = []\n",
    "\n",
    "for i in range(9):\n",
    "    input_seq = df_test.iloc[i, 0][:-1]  # Extract input sequence from DataFrame\n",
    "    output_seq = df_test.iloc[i, 1][:-1]\n",
    "    predicted_output, attention = predict(model, input_seq, input_char_to_int, output_char_to_int, output_int_to_char)\n",
    "    attention = attention[:, :, :(len(input_seq))]\n",
    "    inputs.append(input_seq)\n",
    "    outputs.append(output_seq)\n",
    "    attentions.append(attention)\n",
    "    #print(f\"Predicted Output Sequence (beam_search function) {i+1}: {predicted_output_1}\\n\")\n",
    "wandb.init(project='DL_Assignment_3', name='Attention_HeatMap')\n",
    "plot_attention_grid(inputs, outputs, attentions)\n",
    "wandb.finish()"
   ]
  },
  {
   "cell_type": "code",
   "execution_count": null,
   "metadata": {
    "trusted": true
   },
   "outputs": [],
   "source": []
  }
 ],
 "metadata": {
  "kaggle": {
   "accelerator": "nvidiaTeslaT4",
   "dataSources": [
    {
     "datasetId": 7422871,
     "sourceId": 11817792,
     "sourceType": "datasetVersion"
    },
    {
     "datasetId": 7457466,
     "sourceId": 11867325,
     "sourceType": "datasetVersion"
    },
    {
     "datasetId": 7458108,
     "sourceId": 11868230,
     "sourceType": "datasetVersion"
    }
   ],
   "dockerImageVersionId": 31040,
   "isGpuEnabled": true,
   "isInternetEnabled": true,
   "language": "python",
   "sourceType": "notebook"
  },
  "kernelspec": {
   "display_name": "Python 3",
   "language": "python",
   "name": "python3"
  },
  "language_info": {
   "codemirror_mode": {
    "name": "ipython",
    "version": 3
   },
   "file_extension": ".py",
   "mimetype": "text/x-python",
   "name": "python",
   "nbconvert_exporter": "python",
   "pygments_lexer": "ipython3",
   "version": "3.11.11"
  }
 },
 "nbformat": 4,
 "nbformat_minor": 4
}
