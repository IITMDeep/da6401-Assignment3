{
 "cells": [
  {
   "cell_type": "code",
   "execution_count": 8,
   "metadata": {
    "_cell_guid": "b1076dfc-b9ad-4769-8c92-a6c4dae69d19",
    "_uuid": "8f2839f25d086af736a60e9eeb907d3b93b6e0e5",
    "execution": {
     "iopub.execute_input": "2025-05-18T17:15:15.784773Z",
     "iopub.status.busy": "2025-05-18T17:15:15.783968Z",
     "iopub.status.idle": "2025-05-18T17:15:15.790273Z",
     "shell.execute_reply": "2025-05-18T17:15:15.789548Z",
     "shell.execute_reply.started": "2025-05-18T17:15:15.784746Z"
    },
    "trusted": true
   },
   "outputs": [
    {
     "name": "stdout",
     "output_type": "stream",
     "text": [
      "cuda\n"
     ]
    }
   ],
   "source": [
    "# Import Lib\n",
    "\n",
    "import torch.nn as nn\n",
    "import torch.optim as optim\n",
    "import numpy as np\n",
    "import pandas as pd\n",
    "import torch\n",
    "from torch.autograd import Variable \n",
    "import copy\n",
    "import os\n",
    "import torch.nn.functional as F\n",
    "from tqdm import tqdm\n",
    "from torch.utils.data import DataLoader, TensorDataset\n",
    "import random\n",
    "import heapq\n",
    "import wandb\n",
    "# Set device (CUDA if available)\n",
    "device = torch.device(\"cuda\" if torch.cuda.is_available() else \"cpu\")\n",
    "print(device)"
   ]
  },
  {
   "cell_type": "code",
   "execution_count": null,
   "metadata": {
    "execution": {
     "iopub.execute_input": "2025-05-18T17:15:16.753067Z",
     "iopub.status.busy": "2025-05-18T17:15:16.752761Z",
     "iopub.status.idle": "2025-05-18T17:15:20.638823Z",
     "shell.execute_reply": "2025-05-18T17:15:20.638113Z",
     "shell.execute_reply.started": "2025-05-18T17:15:16.753046Z"
    },
    "trusted": true
   },
   "outputs": [
    {
     "name": "stdout",
     "output_type": "stream",
     "text": [
      "\u001b[34m\u001b[1mwandb\u001b[0m: \u001b[33mWARNING\u001b[0m If you're specifying your api key in code, ensure this code is not shared publicly.\n",
      "\u001b[34m\u001b[1mwandb\u001b[0m: \u001b[33mWARNING\u001b[0m Consider setting the WANDB_API_KEY environment variable, or running `wandb login` from the command line.\n",
      "\u001b[34m\u001b[1mwandb\u001b[0m: Appending key for api.wandb.ai to your netrc file: /root/.netrc\n",
      "\u001b[34m\u001b[1mwandb\u001b[0m: W&B API key is configured. Use \u001b[1m`wandb login --relogin`\u001b[0m to force relogin\n"
     ]
    }
   ],
   "source": [
    "# !wandb login 6a66920f640c7001ec17ad4aa7a5da8b378aee61"
   ]
  },
  {
   "cell_type": "markdown",
   "metadata": {},
   "source": [
    "# Preprocessing"
   ]
  },
  {
   "cell_type": "code",
   "execution_count": 10,
   "metadata": {
    "execution": {
     "iopub.execute_input": "2025-05-18T17:15:20.640864Z",
     "iopub.status.busy": "2025-05-18T17:15:20.640222Z",
     "iopub.status.idle": "2025-05-18T17:15:20.651360Z",
     "shell.execute_reply": "2025-05-18T17:15:20.650759Z",
     "shell.execute_reply.started": "2025-05-18T17:15:20.640829Z"
    },
    "trusted": true
   },
   "outputs": [],
   "source": [
    "def encode(x, max_length, char_to_idx):\n",
    "    \"\"\"\n",
    "    Encode a string into a tensor.\n",
    "\n",
    "    Args:\n",
    "    - x (str): Input string to encode.\n",
    "    - max_length (int): Maximum length for the encoded tensor.\n",
    "    - char_to_idx (dict): Character to index mapping.\n",
    "\n",
    "    Returns:\n",
    "    - encoded (torch.Tensor): Encoded tensor.\n",
    "    - length (int): Actual length of the encoded sequence.\n",
    "    \"\"\"\n",
    "    encoded = np.zeros(max_length, dtype=int)\n",
    "    encoder = np.array([char_to_idx[char] for char in x])\n",
    "    length = min(max_length, len(encoder))\n",
    "    encoded[:length] = encoder[:length]\n",
    "\n",
    "    return torch.tensor(encoded, dtype=torch.int64), length\n",
    "\n",
    "def get_tensor_object(df, max_input_length, max_output_length, char_to_idx_input, char_to_idx_output):\n",
    "    \"\"\"\n",
    "    Create tensor objects from a DataFrame.\n",
    "\n",
    "    Args:\n",
    "    - df (pd.DataFrame): Input DataFrame containing input and output sequences.\n",
    "    - max_input_length (int): Maximum length for input sequences.\n",
    "    - max_output_length (int): Maximum length for output sequences.\n",
    "    - char_to_idx_input (dict): Character to index mapping for input sequences.\n",
    "    - char_to_idx_output (dict): Character to index mapping for output sequences.\n",
    "\n",
    "    Returns:\n",
    "    - tensor_inputs (torch.Tensor): Tensor containing encoded input sequences.\n",
    "    - tensor_outputs (torch.Tensor): Tensor containing encoded output sequences.\n",
    "    \"\"\"\n",
    "    \n",
    "    # Encode unique inputs and outputs into tensors\n",
    "    encoded_inputs = []\n",
    "    encoded_outputs = []\n",
    "\n",
    "    # Encode the input column\n",
    "    for input_str in df[0]:\n",
    "        encoded_input, input_length = encode(input_str, max_input_length, char_to_idx_input)\n",
    "        encoded_inputs.append(encoded_input)\n",
    "\n",
    "    # Encode the output column\n",
    "    for output_str in df[1]:\n",
    "        encoded_output, output_length = encode(output_str, max_output_length, char_to_idx_output)\n",
    "        encoded_outputs.append(encoded_output)\n",
    "\n",
    "    # Stack tensors column-wise\n",
    "    \n",
    "#     tensor_inputs = torch.stack(encoded_inputs, dim=1)\n",
    "#     tensor_outputs = torch.stack(encoded_outputs, dim=1)\n",
    "    tensor_inputs = torch.stack(encoded_inputs)\n",
    "    tensor_outputs = torch.stack(encoded_outputs)\n",
    "\n",
    "    return tensor_inputs, tensor_outputs\n",
    "\n",
    "def load_dataset(path):\n",
    "    \"\"\"\n",
    "    Load a dataset from a TSV file.\n",
    "    Args:\n",
    "    - path (str): Path to the TSV file.\n",
    "    Returns:\n",
    "    - df (pd.DataFrame): Loaded DataFrame.\n",
    "    - max_input_length (int): Maximum length for input sequences.\n",
    "    - max_output_length (int): Maximum length for output sequences.\n",
    "    \"\"\"\n",
    "    df = pd.read_csv(path, header=None, encoding='utf-8', sep='\\t')  # Changed separator to tab\n",
    "    \n",
    "    # Convert values to strings before adding special characters\n",
    "    df[0] = df[0].astype(str).apply(lambda x: x + '$')\n",
    "    df[1] = df[1].astype(str).apply(lambda x: '^' + x + '$')\n",
    "    \n",
    "    # Determine maximum length for input and output sequences\n",
    "    max_input_length = max(len(x) for x in df[0].unique())\n",
    "    max_output_length = max(len(x) for x in df[1].unique())\n",
    "    return df, max_input_length, max_output_length\n",
    "\n",
    "def look_up_table(vocab1, vocab2, vocab3):\n",
    "    \"\"\"\n",
    "    Create lookup tables for vocabulary mapping.\n",
    "\n",
    "    Args:\n",
    "    - vocab1 (list): First list of vocabulary items.\n",
    "    - vocab2 (list): Second list of vocabulary items.\n",
    "    - vocab3 (list): Third list of vocabulary items.\n",
    "\n",
    "    Returns:\n",
    "    - vocab_to_int (dict): Mapping from vocabulary items to integers.\n",
    "    - int_to_vocab (dict): Mapping from integers to vocabulary items.\n",
    "    \"\"\"\n",
    "    \n",
    "    # Combine all vocabularies into one set\n",
    "    vocab = set(''.join(vocab1) + ''.join(vocab2) + ''.join(vocab3))\n",
    "    vocab.discard('^')  \n",
    "    vocab.discard('$')  \n",
    "    vocab_to_int = {\"\": 0, '^':1, '$':2}\n",
    "    for v_i, v in enumerate(sorted(vocab), len(vocab_to_int)):\n",
    "        vocab_to_int[v] = v_i\n",
    "    int_to_vocab = {v_i: v for v, v_i in vocab_to_int.items()}\n",
    "    return vocab_to_int, int_to_vocab\n",
    "\n",
    "\n",
    "\n",
    "\n",
    "# # Load Train, Val, Test\n",
    "# df_train, train_input_len, train_out_len = load_dataset('/kaggle/input/dataset/aksharantar_sampled/hin/hin_train.csv')\n",
    "# df_val, val_input_len, val_out_len = load_dataset('/kaggle/input/dataset/aksharantar_sampled/hin/hin_valid.csv')\n",
    "# df_test, test_input_len, test_out_len = load_dataset('/kaggle/input/dataset/aksharantar_sampled/hin/hin_test.csv')\n",
    "\n",
    "# input_max_len = max(train_input_len, val_input_len, test_input_len)\n",
    "# output_max_len = max(train_out_len, val_out_len, test_out_len)\n",
    "\n",
    "\n",
    "# # Create Look Up Table\n",
    "# input_char_to_int, input_int_to_char = look_up_table(df_train[0], df_val[0], df_test[0])\n",
    "# output_char_to_int, output_int_to_char = look_up_table(df_train[1], df_val[1], df_test[1])\n",
    "\n",
    "# print(\"Input Lookup Table:\", input_char_to_int)\n",
    "# print(\"\\n\\n Output Lookup Table\", output_char_to_int)\n",
    "\n",
    "# # Data Embedding and Converting them into Tensor\n",
    "# train_inputs, train_outputs = get_tensor_object(df_train, input_max_len, input_max_len, input_char_to_int, output_char_to_int)\n",
    "# val_inputs, val_outputs = get_tensor_object(df_val, input_max_len, input_max_len, input_char_to_int, output_char_to_int)\n",
    "# test_inputs, test_outputs = get_tensor_object(df_test, input_max_len, input_max_len, input_char_to_int, output_char_to_int)\n",
    "\n",
    "# # Transpose column wise\n",
    "# train_inputs, train_outputs = torch.transpose(train_inputs, 0, 1), torch.transpose(train_outputs, 0, 1)\n",
    "# val_inputs, val_outputs = torch.transpose(val_inputs, 0, 1), torch.transpose(val_outputs, 0, 1)\n",
    "# test_inputs, test_outputs = torch.transpose(test_inputs, 0, 1), torch.transpose(test_outputs, 0, 1)\n",
    "\n",
    "\n",
    "# print(\"\\n\", train_inputs[:,0],train_outputs[:,0])\n",
    "# print(\"Training:\", train_inputs.shape, train_outputs.shape)\n",
    "\n",
    "# print(\"Validation\", val_inputs.shape, val_inputs.shape)\n",
    "# print(df_train.head())"
   ]
  },
  {
   "cell_type": "markdown",
   "metadata": {},
   "source": [
    "# Create Seq2Seq Model"
   ]
  },
  {
   "cell_type": "markdown",
   "metadata": {},
   "source": [
    "## encoder and decoder"
   ]
  },
  {
   "cell_type": "code",
   "execution_count": 11,
   "metadata": {
    "execution": {
     "iopub.execute_input": "2025-05-18T17:15:24.600191Z",
     "iopub.status.busy": "2025-05-18T17:15:24.599478Z",
     "iopub.status.idle": "2025-05-18T17:15:24.612497Z",
     "shell.execute_reply": "2025-05-18T17:15:24.611703Z",
     "shell.execute_reply.started": "2025-05-18T17:15:24.600160Z"
    },
    "trusted": true
   },
   "outputs": [],
   "source": [
    "class Encoder(nn.Module): \n",
    "    def __init__(self, input_size, embedding_size, hidden_size, num_layers, dropout, bidirectional, cell_type):\n",
    "        super(Encoder, self).__init__()\n",
    "        self.bidirectional = bidirectional\n",
    "        self.dropout = nn.Dropout(dropout)\n",
    "        self.num_layers = num_layers\n",
    "        self.hidden_size = hidden_size\n",
    "        self.cell_type = cell_type\n",
    "        \n",
    "        # Define embedding layer\n",
    "        self.embedding = nn.Embedding(input_size, embedding_size)\n",
    "        \n",
    "        # Define RNN layer with specific cell type\n",
    "        if cell_type == 'LSTM':\n",
    "            self.rnn = nn.LSTM(embedding_size, hidden_size, num_layers, dropout=dropout, bidirectional=bidirectional)\n",
    "        elif cell_type == 'GRU':\n",
    "            self.rnn = nn.GRU(embedding_size, hidden_size, num_layers, dropout=dropout, bidirectional=bidirectional)\n",
    "        elif cell_type == 'RNN':\n",
    "            self.rnn = nn.RNN(embedding_size, hidden_size, num_layers, dropout=dropout, bidirectional=bidirectional)\n",
    "        else:\n",
    "            raise ValueError(\"Invalid RNN type. Choose from 'LSTM', 'GRU', or 'RNN'.\")\n",
    "        \n",
    "        \n",
    "    def forward(self, x): # x shape: (seq_length, N) where N is batch size\n",
    "        # Perform dropout on the input\n",
    "        embedding = self.embedding(x)\n",
    "        embedding = self.dropout(embedding) # embedding shape: (seq_length, N, embedding_size)\n",
    "        \n",
    "        if self.cell_type == \"LSTM\":\n",
    "            # Pass through the LSTM layer\n",
    "            outputs, (hidden, cell) = self.rnn(embedding) # outputs shape: (seq_length, N, hidden_size)\n",
    "            if self.bidirectional:\n",
    "                # Sum the bidirectional outputs\n",
    "                outputs = outputs[:, :, :self.hidden_size] + outputs[:, :, self.hidden_size:]\n",
    "                hidden = torch.cat((hidden[: self.num_layers], hidden[self.num_layers:]), dim=0)\n",
    "            # Return hidden state and cell state   \n",
    "            return hidden, cell\n",
    "        elif self.cell_type == \"GRU\" or self.cell_type == \"RNN\":\n",
    "            # Pass through the RNN/GRU layer\n",
    "            outputs, hidden = self.rnn(embedding) # outputs shape: (seq_length, N, hidden_size)\n",
    "            if self.bidirectional:\n",
    "                # Sum the bidirectional outputs\n",
    "                outputs = outputs[:, :, :self.hidden_size] + outputs[:, :, self.hidden_size:]\n",
    "                hidden = torch.cat((hidden[: self.num_layers], hidden[self.num_layers:]), dim=0)\n",
    "\n",
    "            # Return hidden state and cell state\n",
    "            return hidden\n",
    "        else:\n",
    "            print(\"Invalid cell_type specified for Encoder.\")\n",
    "            return None\n",
    "\n",
    "\n",
    "class Decoder(nn.Module):\n",
    "    def __init__(self, input_size, embedding_size, hidden_size, output_size, num_layers, dropout, bidirectional, cell_type):\n",
    "        super(Decoder, self).__init__()\n",
    "        self.bidirectional = bidirectional\n",
    "        self.dropout = nn.Dropout(dropout)  \n",
    "        self.num_layers = num_layers \n",
    "        self.hidden_size = hidden_size\n",
    "        self.embedding_size = embedding_size\n",
    "        self.cell_type = cell_type\n",
    "        \n",
    "        # Define embedding layer\n",
    "        self.embedding = nn.Embedding(input_size, embedding_size)\n",
    "        \n",
    "        # Define RNN layer with specific cell type\n",
    "        if cell_type == 'LSTM':\n",
    "            self.rnn = nn.LSTM(embedding_size, hidden_size, num_layers, dropout=dropout, bidirectional=bidirectional)\n",
    "        elif cell_type == 'GRU':\n",
    "            self.rnn = nn.GRU(embedding_size, hidden_size, num_layers, dropout=dropout, bidirectional=bidirectional)\n",
    "        elif cell_type == 'RNN':\n",
    "            self.rnn = nn.RNN(embedding_size, hidden_size, num_layers, dropout=dropout, bidirectional=bidirectional)\n",
    "        else:\n",
    "            raise ValueError(\"Invalid RNN type. Choose from 'LSTM', 'GRU', or 'RNN'.\")\n",
    "            \n",
    "            \n",
    "        # Define fully connected layer\n",
    "        self.fc = nn.Linear(hidden_size * 2 if bidirectional else hidden_size, output_size)  # Adjust input size for bidirectional decoder\n",
    "        # Softmax layer\n",
    "        self.log_softmax = nn.LogSoftmax(dim=1)\n",
    "    \n",
    "    def forward(self, x, hidden, cell): # x shape: (N) where N is for batch size, we want it to be (1, N), seq_length\n",
    "        \n",
    "        # Ensure x has the shape (1, N)\n",
    "        x = x.unsqueeze(0)\n",
    "        \n",
    "        # Perform dropout on the input\n",
    "        embedding = self.embedding(x)\n",
    "        embedding = self.dropout(embedding)  # embedding shape: (1, N, embedding_size)\n",
    "        \n",
    "        if self.cell_type == \"LSTM\":\n",
    "            # Pass through the LSTM layer\n",
    "            outputs, (hidden, cell) = self.rnn(embedding, (hidden, cell))  # outputs shape: (1, N, hidden_size * num_directions)\n",
    "\n",
    "            # Pass through fully connected layer\n",
    "            out = self.fc(outputs).squeeze(0)\n",
    "            predictions = self.log_softmax(out)\n",
    "\n",
    "            return predictions, hidden, cell\n",
    "        elif self.cell_type == \"GRU\" or self.cell_type == \"RNN\":\n",
    "            # Pass through the RNN/GRU layer\n",
    "            outputs, hidden = self.rnn(embedding, hidden)  # outputs shape: (1, N, hidden_size * num_directions)\n",
    "\n",
    "            # Pass through fully connected layer\n",
    "            out = self.fc(outputs).squeeze(0)\n",
    "            predictions = self.log_softmax(out)\n",
    "\n",
    "            return predictions, hidden\n",
    "\n",
    "        else:\n",
    "            print(\"Invalid cell_type specified for Decoder.\")\n",
    "            return None\n"
   ]
  },
  {
   "cell_type": "markdown",
   "metadata": {},
   "source": [
    "## Seq2Seq Class"
   ]
  },
  {
   "cell_type": "code",
   "execution_count": 12,
   "metadata": {
    "execution": {
     "iopub.execute_input": "2025-05-18T17:15:27.468714Z",
     "iopub.status.busy": "2025-05-18T17:15:27.468447Z",
     "iopub.status.idle": "2025-05-18T17:15:27.475253Z",
     "shell.execute_reply": "2025-05-18T17:15:27.474393Z",
     "shell.execute_reply.started": "2025-05-18T17:15:27.468693Z"
    },
    "trusted": true
   },
   "outputs": [],
   "source": [
    "class Seq2Seq(nn.Module):\n",
    "\n",
    "    def __init__(self, encoder, decoder, output_char_to_int, teacher_forcing, cell_type):\n",
    "\n",
    "        super(Seq2Seq, self).__init__()  \n",
    "        # Initialize encoder and decoder\n",
    "        self.decoder = decoder\n",
    "        self.encoder = encoder\n",
    "        self.cell_type = cell_type\n",
    "        self.target_vocab_size = len(output_char_to_int)\n",
    "        self.teacher_force_ratio = teacher_forcing\n",
    "        \n",
    "    def forward(self, source, target):\n",
    "        # Get batch size, target length, and target vocabulary size\n",
    "        batch_size = source.shape[1]\n",
    "        target_len = target.shape[0]\n",
    "        target_vocab_size = self.target_vocab_size\n",
    "        teacher_force_ratio = self.teacher_force_ratio\n",
    "        \n",
    "        # Initialize outputs tensor\n",
    "        outputs = torch.zeros(target_len, batch_size, target_vocab_size).to(source.device)\n",
    "        # Grab the first input to the Decoder which will be <SOS> token i.e '^'\n",
    "        x = target[0]\n",
    "        # Get hidden state and cell state from encoder\n",
    "        if self.cell_type == 'LSTM':\n",
    "            hidden, cell = self.encoder(source)\n",
    "        else:\n",
    "            hidden = self.encoder(source)\n",
    "        \n",
    "        for t in range(1, target_len):\n",
    "            # Use previous hidden and cell states as context from encoder at start\n",
    "            if self.cell_type == 'LSTM':\n",
    "                output, hidden, cell = self.decoder(x, hidden, cell)\n",
    "            else:\n",
    "                output, hidden = self.decoder(x, hidden, None)\n",
    "                \n",
    "            # Store next output prediction\n",
    "            outputs[t] = output\n",
    "            # Get the best word the Decoder predicted (index in the vocabulary)\n",
    "            best_guess = output.argmax(1)\n",
    "            # Update input for next time step based on teacher forcing ratio\n",
    "            x = best_guess if random.random() >= teacher_force_ratio else target[t]\n",
    "\n",
    "        return outputs"
   ]
  },
  {
   "cell_type": "markdown",
   "metadata": {},
   "source": []
  },
  {
   "cell_type": "markdown",
   "metadata": {},
   "source": [
    "# TRAINING"
   ]
  },
  {
   "cell_type": "code",
   "execution_count": 13,
   "metadata": {
    "execution": {
     "iopub.execute_input": "2025-05-18T17:15:32.598993Z",
     "iopub.status.busy": "2025-05-18T17:15:32.598319Z",
     "iopub.status.idle": "2025-05-18T17:15:32.618459Z",
     "shell.execute_reply": "2025-05-18T17:15:32.617635Z",
     "shell.execute_reply.started": "2025-05-18T17:15:32.598966Z"
    },
    "trusted": true
   },
   "outputs": [],
   "source": [
    "# BEAM SEARCH FUNCTION\n",
    "def beam_search(model, input_seq, max_length, input_char_index, output_char_index, reverse_target_char_index, beam_width, length_penalty, cell_type):\n",
    "    \"\"\"\n",
    "    Perform beam search to generate a sequence using the provided model.\n",
    "\n",
    "    Args:\n",
    "    - model (nn.Module): The Seq2Seq model.\n",
    "    - input_seq (str): The input sequence.\n",
    "    - max_length (int): Maximum length of the input sequence.\n",
    "    - input_char_index (dict): Mapping from characters to integers for the input vocabulary.\n",
    "    - output_char_index (dict): Mapping from characters to integers for the output vocabulary.\n",
    "    - reverse_target_char_index (dict): Reverse mapping from integers to characters for the output vocabulary.\n",
    "    - beam_width (int): Beam width for beam search.\n",
    "    - length_penalty (float): Length penalty for beam search.\n",
    "    - cell_type (str): Type of RNN cell used in the model ('LSTM', 'GRU', or 'RNN').\n",
    "\n",
    "    Returns:\n",
    "    - str: The generated output sequence.\n",
    "    \"\"\"\n",
    "    if len(input_seq) > max_length:\n",
    "        print(\"Input Length is exceeding max length!!!!\")\n",
    "        return \"\"\n",
    "\n",
    "    # Create np array of zeros of length input\n",
    "    input_data = np.zeros((max_length, 1), dtype=int)  # (N,1)\n",
    "\n",
    "    # Encode the input\n",
    "    for idx, char in enumerate(input_seq):\n",
    "        input_data[idx, 0] = input_char_index[char]\n",
    "    input_data[idx + 1, 0] = input_char_index[\"$\"]  # EOS\n",
    "\n",
    "    # Convert to tensor\n",
    "    input_tensor = torch.tensor(input_data, dtype=torch.int64).to(device)  # N,1\n",
    "\n",
    "    with torch.no_grad():\n",
    "        if cell_type == 'LSTM':\n",
    "            hidden, cell = model.encoder(input_tensor)\n",
    "\n",
    "        else:\n",
    "            hidden = model.encoder(input_tensor)\n",
    "\n",
    "    # Initialize beam\n",
    "    out_t = output_char_index['^']\n",
    "    out_reshape = np.array(out_t).reshape(1,)\n",
    "    hidden_par = hidden.unsqueeze(0)\n",
    "    initial_sequence = torch.tensor(out_reshape).to(device)\n",
    "    beam = [(0.0, initial_sequence, hidden_par)]  # [(score, sequence, hidden)]\n",
    "\n",
    "    for _ in range(len(output_char_index)):\n",
    "        candidates = []\n",
    "        for score, seq, hidden in beam:\n",
    "            if seq[-1].item() == output_char_index['$']:\n",
    "                # If the sequence ends with the end token, add it to the candidates\n",
    "                candidates.append((score, seq, hidden))\n",
    "                continue\n",
    "\n",
    "            last_token = np.array(seq[-1].item()).reshape(1,)\n",
    "            x = torch.tensor(last_token).to(device)\n",
    "\n",
    "            if cell_type == 'LSTM':\n",
    "                output, hidden, cell,  = model.decoder(x, hidden.squeeze(0), cell)\n",
    "            else:\n",
    "                output, hidden,  = model.decoder(x, hidden.squeeze(0), None)\n",
    "\n",
    "            probabilities = F.softmax(output, dim=1)\n",
    "            topk_probs, topk_tokens = torch.topk(probabilities, k=beam_width)\n",
    "\n",
    "            for prob, token in zip(topk_probs[0], topk_tokens[0]):\n",
    "                new_seq = torch.cat((seq, token.unsqueeze(0)), dim=0)\n",
    "                seq_length_norm_factor = (len(new_seq) - 1) / 5\n",
    "                candidate_score = score + torch.log(prob).item() / (seq_length_norm_factor ** length_penalty)\n",
    "                candidates.append((candidate_score, new_seq, hidden.unsqueeze(0)))\n",
    "\n",
    "        # Select top-k candidates based on the accumulated scores\n",
    "        beam = heapq.nlargest(beam_width, candidates, key=lambda x: x[0])\n",
    "\n",
    "    best_score, best_sequence, _ = max(beam, key=lambda x: x[0])  # Select the best sequence from the beam as the output\n",
    "\n",
    "    # Convert the best sequence indices to characters\n",
    "    return ''.join([reverse_target_char_index[token.item()] for token in best_sequence[1:]])\n",
    "\n",
    "\n",
    "# TRAINING FUNCTION\n",
    "def train(model, num_epochs, criterion, optimizer, train_batch_x, train_batch_y, val_batch_x, val_batch_y, df_val, input_char_to_int, output_char_to_int, output_int_to_char, beam_width, length_penalty, cell_type, max_length, wandb_log):\n",
    "    \"\"\"\n",
    "    Train the Seq2Seq model.\n",
    "\n",
    "    Args:\n",
    "    - model (nn.Module): The Seq2Seq model.\n",
    "    - num_epochs (int): Number of training epochs.\n",
    "    - criterion: Loss criterion for training.\n",
    "    - optimizer: Optimizer for training.\n",
    "    - train_batch_x: Training input data.\n",
    "    - train_batch_y: Training target data.\n",
    "    - val_batch_x: Validation input data.\n",
    "    - val_batch_y: Validation target data.\n",
    "    - df_val: DataFrame for validation data.\n",
    "    - input_char_to_int (dict): Mapping from characters to integers for the input vocabulary.\n",
    "    - output_char_to_int (dict): Mapping from characters to integers for the output vocabulary.\n",
    "    - output_int_to_char (dict): Reverse mapping from integers to characters for the output vocabulary.\n",
    "    - beam_width (int): Beam width for beam search.\n",
    "    - length_penalty (float): Length penalty for beam search.\n",
    "    - cell_type (str): Type of RNN cell used in the model ('LSTM', 'GRU', or 'RNN').\n",
    "    - max_length (int): Maximum length of sequences.\n",
    "    - wandb_log (int): Whether to log to wandb (1 or 0).\n",
    "    Returns:\n",
    "    - nn.Module: The trained model.\n",
    "    - float: Validation accuracy.\n",
    "    \"\"\"\n",
    "    for epoch in range(num_epochs):\n",
    "        total_words = 0\n",
    "        correct_pred = 0\n",
    "        total_loss = 0\n",
    "        accuracy = 0\n",
    "        model.train()\n",
    "        \n",
    "        # Use tqdm for progress tracking\n",
    "        train_data_iterator = tqdm(zip(train_batch_x, train_batch_y), total=len(train_batch_x))\n",
    "        \n",
    "        for (x, y) in train_data_iterator:\n",
    "            # Get input and targets and move to device\n",
    "            target, inp_data = y.to(device), x.to(device)\n",
    "            \n",
    "            # Forward propagation\n",
    "            optimizer.zero_grad()\n",
    "            output = model(inp_data, target)\n",
    "            \n",
    "            target = target.reshape(-1)\n",
    "            output = output.reshape(-1, output.shape[2])\n",
    "            \n",
    "            pad_mask = (target != 0)  \n",
    "            target = target[pad_mask] # Select non-padding elements\n",
    "            output = output[pad_mask] \n",
    "            \n",
    "            # Calculate loss\n",
    "            loss = criterion(output, target)\n",
    "            \n",
    "            # Backpropagation\n",
    "            loss.backward()\n",
    "            \n",
    "            # Clip gradients to avoid exploding gradients\n",
    "            torch.nn.utils.clip_grad_norm_(model.parameters(), max_norm=1)\n",
    "            \n",
    "            # Update parameters\n",
    "            optimizer.step()\n",
    "            \n",
    "            # Accumulate total loss\n",
    "            total_loss += loss.item()\n",
    "            # Update total words processed\n",
    "            total_words += target.size(0)\n",
    "            # Calculate number of correct predictions\n",
    "            correct_pred += torch.sum(torch.argmax(output, dim=1) == target).item()\n",
    "            \n",
    "        # Calculate average loss per batch\n",
    "        avg_loss = total_loss / len(train_batch_x)\n",
    "        # Calculate accuracy\n",
    "        accuracy = 100*correct_pred / total_words\n",
    "        \n",
    "        \n",
    "        # Validation\n",
    "        model.eval()\n",
    "        with torch.no_grad():\n",
    "            val_total_loss = 0\n",
    "            val_total_words = 0\n",
    "            val_correct_pred = 0\n",
    "\n",
    "            val_data_iterator = tqdm(zip(val_batch_x, val_batch_y), total=len(val_batch_x))\n",
    "            for x_val, y_val in val_data_iterator:\n",
    "                target_val, inp_data_val = y_val.to(device), x_val.to(device)\n",
    "                output_val = model(inp_data_val, target_val)\n",
    "                \n",
    "                \n",
    "                target_val = target_val.reshape(-1)\n",
    "                output_val = output_val.reshape(-1, output_val.shape[2])\n",
    "                \n",
    "                pad_mask = (target_val != 0)  \n",
    "                target_val = target_val[pad_mask] # Select non-padding elements\n",
    "                output_val = output_val[pad_mask] \n",
    "            \n",
    "                val_loss = criterion(output_val, target_val)\n",
    "                val_total_loss += val_loss.item()\n",
    "                val_total_words += target_val.size(0)\n",
    "                val_correct_pred += torch.sum(torch.argmax(output_val, dim=1) == target_val).item()\n",
    "\n",
    "            # Calculate validation statistics\n",
    "            val_accuracy = 100*val_correct_pred / val_total_words\n",
    "            val_avg_loss = val_total_loss / len(val_batch_x)\n",
    "\n",
    "            \n",
    "            \n",
    "        # Total word predict correct over training\n",
    "        beam_val_pred = 0\n",
    "        beam_val = 0\n",
    "        for i in tqdm(range(df_val.shape[0])):\n",
    "            input_seq = df_val.iloc[i, 0][:-1] \n",
    "            true_seq = df_val.iloc[i, 1][1:-1]\n",
    "            predicted_output = beam_search(model, input_seq, max_length, input_char_to_int, output_char_to_int, output_int_to_char, beam_width, length_penalty, cell_type)\n",
    "            if true_seq == predicted_output[:-1]:\n",
    "                beam_val_pred+=1\n",
    "        beam_val = 100*beam_val_pred/df_val.shape[0]\n",
    "\n",
    "\n",
    "\n",
    "        # Print statistics\n",
    "        print(f\"Epoch {epoch + 1} / {num_epochs} ===========================>\")\n",
    "        print(f\"Train Accuracy Char: {accuracy:.4f}, Train Average Loss: {avg_loss:.4f}\")\n",
    "        print(f\"Validation Accuracy Char: {val_accuracy:.4f}, Validation Average Loss: {val_avg_loss:.4f}\")\n",
    "        print(f\"Beam Val Word Accuracy: {beam_val:.4f} Correct Prediction : {beam_val_pred}/{df_val.shape[0]}\")    \n",
    "        \n",
    "        if wandb_log == 1:\n",
    "            wandb.log({\n",
    "                \"train_accuracy_char\": accuracy,\n",
    "                \"train_loss\": avg_loss,\n",
    "                \"val_accuracy_char\": val_accuracy,\n",
    "                \"val_loss\": val_avg_loss,\n",
    "                \"beam_val_accuracy_word\" : beam_val,\n",
    "            })\n",
    "        \n",
    "    \n",
    "    return model, beam_val\n"
   ]
  },
  {
   "cell_type": "code",
   "execution_count": null,
   "metadata": {
    "execution": {
     "execution_failed": "2025-05-18T16:25:20.782Z",
     "iopub.execute_input": "2025-05-18T09:47:10.741826Z",
     "iopub.status.busy": "2025-05-18T09:47:10.741620Z"
    },
    "trusted": true
   },
   "outputs": [
    {
     "name": "stderr",
     "output_type": "stream",
     "text": [
      "\u001b[34m\u001b[1mwandb\u001b[0m: Using wandb-core as the SDK backend.  Please refer to https://wandb.me/wandb-core for more information.\n"
     ]
    },
    {
     "name": "stdout",
     "output_type": "stream",
     "text": [
      "Create sweep with ID: 6cm8l4vd\n",
      "Sweep URL: https://wandb.ai/cs24m019-iitm/DL_Assignment_3/sweeps/6cm8l4vd\n"
     ]
    },
    {
     "name": "stderr",
     "output_type": "stream",
     "text": [
      "\u001b[34m\u001b[1mwandb\u001b[0m: Agent Starting Run: 0u8scpf2 with config:\n",
      "\u001b[34m\u001b[1mwandb\u001b[0m: \tbatch_size: 32\n",
      "\u001b[34m\u001b[1mwandb\u001b[0m: \tbeam_search_width: 4\n",
      "\u001b[34m\u001b[1mwandb\u001b[0m: \tbidirectional: True\n",
      "\u001b[34m\u001b[1mwandb\u001b[0m: \tcell_type: RNN\n",
      "\u001b[34m\u001b[1mwandb\u001b[0m: \tdropout: 0.3\n",
      "\u001b[34m\u001b[1mwandb\u001b[0m: \tembedding_size: 256\n",
      "\u001b[34m\u001b[1mwandb\u001b[0m: \thidden_size: 512\n",
      "\u001b[34m\u001b[1mwandb\u001b[0m: \tlearning_rate: 0.01\n",
      "\u001b[34m\u001b[1mwandb\u001b[0m: \tlength_penalty: 0.6\n",
      "\u001b[34m\u001b[1mwandb\u001b[0m: \tnum_epochs: 10\n",
      "\u001b[34m\u001b[1mwandb\u001b[0m: \tnum_layers: 1\n",
      "\u001b[34m\u001b[1mwandb\u001b[0m: \toptimizer: adagrad\n",
      "\u001b[34m\u001b[1mwandb\u001b[0m: \tteacher_forcing: 0.7\n",
      "\u001b[34m\u001b[1mwandb\u001b[0m: Currently logged in as: \u001b[33mcs24m019\u001b[0m (\u001b[33mcs24m019-iitm\u001b[0m) to \u001b[32mhttps://api.wandb.ai\u001b[0m. Use \u001b[1m`wandb login --relogin`\u001b[0m to force relogin\n"
     ]
    },
    {
     "data": {
      "text/html": [
       "Ignoring project 'DL_Assignment_3' when running a sweep."
      ],
      "text/plain": [
       "<IPython.core.display.HTML object>"
      ]
     },
     "metadata": {},
     "output_type": "display_data"
    },
    {
     "data": {
      "text/html": [
       "Tracking run with wandb version 0.19.9"
      ],
      "text/plain": [
       "<IPython.core.display.HTML object>"
      ]
     },
     "metadata": {},
     "output_type": "display_data"
    },
    {
     "data": {
      "text/html": [
       "Run data is saved locally in <code>/kaggle/working/wandb/run-20250518_094723-0u8scpf2</code>"
      ],
      "text/plain": [
       "<IPython.core.display.HTML object>"
      ]
     },
     "metadata": {},
     "output_type": "display_data"
    },
    {
     "data": {
      "text/html": [
       "Syncing run <strong><a href='https://wandb.ai/cs24m019-iitm/DL_Assignment_3/runs/0u8scpf2' target=\"_blank\">honest-sweep-31</a></strong> to <a href='https://wandb.ai/cs24m019-iitm/DL_Assignment_3' target=\"_blank\">Weights & Biases</a> (<a href='https://wandb.me/developer-guide' target=\"_blank\">docs</a>)<br>Sweep page: <a href='https://wandb.ai/cs24m019-iitm/DL_Assignment_3/sweeps/az4eniz8' target=\"_blank\">https://wandb.ai/cs24m019-iitm/DL_Assignment_3/sweeps/az4eniz8</a>"
      ],
      "text/plain": [
       "<IPython.core.display.HTML object>"
      ]
     },
     "metadata": {},
     "output_type": "display_data"
    },
    {
     "data": {
      "text/html": [
       " View project at <a href='https://wandb.ai/cs24m019-iitm/DL_Assignment_3' target=\"_blank\">https://wandb.ai/cs24m019-iitm/DL_Assignment_3</a>"
      ],
      "text/plain": [
       "<IPython.core.display.HTML object>"
      ]
     },
     "metadata": {},
     "output_type": "display_data"
    },
    {
     "data": {
      "text/html": [
       " View sweep at <a href='https://wandb.ai/cs24m019-iitm/DL_Assignment_3/sweeps/az4eniz8' target=\"_blank\">https://wandb.ai/cs24m019-iitm/DL_Assignment_3/sweeps/az4eniz8</a>"
      ],
      "text/plain": [
       "<IPython.core.display.HTML object>"
      ]
     },
     "metadata": {},
     "output_type": "display_data"
    },
    {
     "data": {
      "text/html": [
       " View run at <a href='https://wandb.ai/cs24m019-iitm/DL_Assignment_3/runs/0u8scpf2' target=\"_blank\">https://wandb.ai/cs24m019-iitm/DL_Assignment_3/runs/0u8scpf2</a>"
      ],
      "text/plain": [
       "<IPython.core.display.HTML object>"
      ]
     },
     "metadata": {},
     "output_type": "display_data"
    },
    {
     "name": "stderr",
     "output_type": "stream",
     "text": [
      "/usr/local/lib/python3.11/dist-packages/torch/nn/modules/rnn.py:123: UserWarning: dropout option adds dropout after all but last recurrent layer, so non-zero dropout expects num_layers greater than 1, but got dropout=0.3 and num_layers=1\n",
      "  warnings.warn(\n"
     ]
    },
    {
     "name": "stdout",
     "output_type": "stream",
     "text": [
      "Seq2Seq(\n",
      "  (decoder): Decoder(\n",
      "    (dropout): Dropout(p=0.3, inplace=False)\n",
      "    (embedding): Embedding(29, 256)\n",
      "    (rnn): RNN(256, 512, dropout=0.3, bidirectional=True)\n",
      "    (fc): Linear(in_features=1024, out_features=29, bias=True)\n",
      "    (log_softmax): LogSoftmax(dim=1)\n",
      "  )\n",
      "  (encoder): Encoder(\n",
      "    (dropout): Dropout(p=0.3, inplace=False)\n",
      "    (embedding): Embedding(66, 256)\n",
      "    (rnn): RNN(256, 512, dropout=0.3, bidirectional=True)\n",
      "  )\n",
      ")\n",
      "Total Trainable Parameters: 1631005\n"
     ]
    },
    {
     "name": "stderr",
     "output_type": "stream",
     "text": [
      "100%|██████████| 1382/1382 [00:44<00:00, 31.19it/s]\n",
      "100%|██████████| 137/137 [00:01<00:00, 98.95it/s]\n",
      "100%|██████████| 4358/4358 [01:23<00:00, 52.29it/s]\n"
     ]
    },
    {
     "name": "stdout",
     "output_type": "stream",
     "text": [
      "Epoch 1 / 10 ===========================>\n",
      "Train Accuracy Char: 36.7620, Train Average Loss: 2.2407\n",
      "Validation Accuracy Char: 19.2913, Validation Average Loss: 3.0902\n",
      "Beam Val Word Accuracy: 0.0000 Correct Prediction : 0/4358\n"
     ]
    },
    {
     "name": "stderr",
     "output_type": "stream",
     "text": [
      "100%|██████████| 1382/1382 [00:43<00:00, 31.54it/s]\n",
      "100%|██████████| 137/137 [00:01<00:00, 98.11it/s]\n",
      "100%|██████████| 4358/4358 [01:26<00:00, 50.40it/s]\n"
     ]
    },
    {
     "name": "stdout",
     "output_type": "stream",
     "text": [
      "Epoch 2 / 10 ===========================>\n",
      "Train Accuracy Char: 36.7735, Train Average Loss: 2.1892\n",
      "Validation Accuracy Char: 22.0663, Validation Average Loss: 2.8646\n",
      "Beam Val Word Accuracy: 0.0000 Correct Prediction : 0/4358\n"
     ]
    },
    {
     "name": "stderr",
     "output_type": "stream",
     "text": [
      "100%|██████████| 1382/1382 [00:44<00:00, 31.40it/s]\n",
      "100%|██████████| 137/137 [00:01<00:00, 98.11it/s]\n",
      "100%|██████████| 4358/4358 [01:31<00:00, 47.72it/s]\n"
     ]
    },
    {
     "name": "stdout",
     "output_type": "stream",
     "text": [
      "Epoch 3 / 10 ===========================>\n",
      "Train Accuracy Char: 38.4229, Train Average Loss: 2.1337\n",
      "Validation Accuracy Char: 23.4153, Validation Average Loss: 2.7004\n",
      "Beam Val Word Accuracy: 0.0229 Correct Prediction : 1/4358\n"
     ]
    },
    {
     "name": "stderr",
     "output_type": "stream",
     "text": [
      "100%|██████████| 1382/1382 [00:44<00:00, 31.12it/s]\n",
      "100%|██████████| 137/137 [00:01<00:00, 97.13it/s]\n",
      "100%|██████████| 4358/4358 [01:41<00:00, 42.92it/s]\n"
     ]
    },
    {
     "name": "stdout",
     "output_type": "stream",
     "text": [
      "Epoch 4 / 10 ===========================>\n",
      "Train Accuracy Char: 41.3787, Train Average Loss: 2.0257\n",
      "Validation Accuracy Char: 29.3533, Validation Average Loss: 2.4737\n",
      "Beam Val Word Accuracy: 0.0229 Correct Prediction : 1/4358\n"
     ]
    },
    {
     "name": "stderr",
     "output_type": "stream",
     "text": [
      "100%|██████████| 1382/1382 [00:44<00:00, 31.24it/s]\n",
      "100%|██████████| 137/137 [00:01<00:00, 94.32it/s]\n",
      "100%|██████████| 4358/4358 [01:48<00:00, 40.05it/s]\n"
     ]
    },
    {
     "name": "stdout",
     "output_type": "stream",
     "text": [
      "Epoch 5 / 10 ===========================>\n",
      "Train Accuracy Char: 44.1747, Train Average Loss: 1.9210\n",
      "Validation Accuracy Char: 34.3251, Validation Average Loss: 2.2975\n",
      "Beam Val Word Accuracy: 0.1147 Correct Prediction : 5/4358\n"
     ]
    },
    {
     "name": "stderr",
     "output_type": "stream",
     "text": [
      "100%|██████████| 1382/1382 [00:44<00:00, 31.36it/s]\n",
      "100%|██████████| 137/137 [00:01<00:00, 96.97it/s]\n",
      "100%|██████████| 4358/4358 [01:50<00:00, 39.29it/s]\n"
     ]
    },
    {
     "name": "stdout",
     "output_type": "stream",
     "text": [
      "Epoch 6 / 10 ===========================>\n",
      "Train Accuracy Char: 46.1464, Train Average Loss: 1.8477\n",
      "Validation Accuracy Char: 38.1408, Validation Average Loss: 2.1245\n",
      "Beam Val Word Accuracy: 0.2524 Correct Prediction : 11/4358\n"
     ]
    },
    {
     "name": "stderr",
     "output_type": "stream",
     "text": [
      "100%|██████████| 1382/1382 [00:44<00:00, 31.25it/s]\n",
      "100%|██████████| 137/137 [00:01<00:00, 97.60it/s]\n",
      "100%|██████████| 4358/4358 [01:51<00:00, 39.20it/s]\n"
     ]
    },
    {
     "name": "stdout",
     "output_type": "stream",
     "text": [
      "Epoch 7 / 10 ===========================>\n",
      "Train Accuracy Char: 47.8504, Train Average Loss: 1.7811\n",
      "Validation Accuracy Char: 40.4764, Validation Average Loss: 2.0208\n",
      "Beam Val Word Accuracy: 0.4819 Correct Prediction : 21/4358\n"
     ]
    },
    {
     "name": "stderr",
     "output_type": "stream",
     "text": [
      "100%|██████████| 1382/1382 [00:44<00:00, 31.34it/s]\n",
      "100%|██████████| 137/137 [00:01<00:00, 98.64it/s]\n",
      "100%|██████████| 4358/4358 [01:48<00:00, 40.05it/s]\n"
     ]
    },
    {
     "name": "stdout",
     "output_type": "stream",
     "text": [
      "Epoch 8 / 10 ===========================>\n",
      "Train Accuracy Char: 49.2946, Train Average Loss: 1.7189\n",
      "Validation Accuracy Char: 43.0253, Validation Average Loss: 1.9285\n",
      "Beam Val Word Accuracy: 0.8031 Correct Prediction : 35/4358\n"
     ]
    },
    {
     "name": "stderr",
     "output_type": "stream",
     "text": [
      "100%|██████████| 1382/1382 [00:44<00:00, 31.32it/s]\n",
      "100%|██████████| 137/137 [00:01<00:00, 98.89it/s]\n",
      "100%|██████████| 4358/4358 [01:49<00:00, 39.65it/s]\n"
     ]
    },
    {
     "name": "stdout",
     "output_type": "stream",
     "text": [
      "Epoch 9 / 10 ===========================>\n",
      "Train Accuracy Char: 50.8237, Train Average Loss: 1.6673\n",
      "Validation Accuracy Char: 44.7519, Validation Average Loss: 1.8630\n",
      "Beam Val Word Accuracy: 1.3768 Correct Prediction : 60/4358\n"
     ]
    },
    {
     "name": "stderr",
     "output_type": "stream",
     "text": [
      "100%|██████████| 1382/1382 [00:44<00:00, 31.30it/s]\n",
      "100%|██████████| 137/137 [00:01<00:00, 98.75it/s]\n",
      "100%|██████████| 4358/4358 [01:51<00:00, 39.15it/s]"
     ]
    },
    {
     "name": "stdout",
     "output_type": "stream",
     "text": [
      "Epoch 10 / 10 ===========================>\n",
      "Train Accuracy Char: 52.2182, Train Average Loss: 1.6134\n",
      "Validation Accuracy Char: 46.5659, Validation Average Loss: 1.7907\n",
      "Beam Val Word Accuracy: 2.1340 Correct Prediction : 93/4358\n"
     ]
    },
    {
     "name": "stderr",
     "output_type": "stream",
     "text": [
      "\n"
     ]
    },
    {
     "data": {
      "text/html": [],
      "text/plain": [
       "<IPython.core.display.HTML object>"
      ]
     },
     "metadata": {},
     "output_type": "display_data"
    },
    {
     "data": {
      "text/html": [
       "<br>    <style><br>        .wandb-row {<br>            display: flex;<br>            flex-direction: row;<br>            flex-wrap: wrap;<br>            justify-content: flex-start;<br>            width: 100%;<br>        }<br>        .wandb-col {<br>            display: flex;<br>            flex-direction: column;<br>            flex-basis: 100%;<br>            flex: 1;<br>            padding: 10px;<br>        }<br>    </style><br><div class=\"wandb-row\"><div class=\"wandb-col\"><h3>Run history:</h3><br/><table class=\"wandb\"><tr><td>accuracy</td><td>▁</td></tr><tr><td>beam_val_accuracy_word</td><td>▁▁▁▁▁▂▃▄▆█</td></tr><tr><td>train_accuracy_char</td><td>▁▁▂▃▄▅▆▇▇█</td></tr><tr><td>train_loss</td><td>█▇▇▆▄▄▃▂▂▁</td></tr><tr><td>val_accuracy_char</td><td>▁▂▂▄▅▆▆▇██</td></tr><tr><td>val_loss</td><td>█▇▆▅▄▃▂▂▁▁</td></tr></table><br/></div><div class=\"wandb-col\"><h3>Run summary:</h3><br/><table class=\"wandb\"><tr><td>accuracy</td><td>2.13401</td></tr><tr><td>beam_val_accuracy_word</td><td>2.13401</td></tr><tr><td>train_accuracy_char</td><td>52.21824</td></tr><tr><td>train_loss</td><td>1.61342</td></tr><tr><td>val_accuracy_char</td><td>46.56594</td></tr><tr><td>val_loss</td><td>1.79066</td></tr></table><br/></div></div>"
      ],
      "text/plain": [
       "<IPython.core.display.HTML object>"
      ]
     },
     "metadata": {},
     "output_type": "display_data"
    },
    {
     "data": {
      "text/html": [
       " View run <strong style=\"color:#cdcd00\">cell_RNN_bs_32_ep_10_op_adagrad_drop_0.3_bsw_4_emb_256_hs_512_elayer_1_dlayer_1</strong> at: <a href='https://wandb.ai/cs24m019-iitm/DL_Assignment_3/runs/0u8scpf2' target=\"_blank\">https://wandb.ai/cs24m019-iitm/DL_Assignment_3/runs/0u8scpf2</a><br> View project at: <a href='https://wandb.ai/cs24m019-iitm/DL_Assignment_3' target=\"_blank\">https://wandb.ai/cs24m019-iitm/DL_Assignment_3</a><br>Synced 5 W&B file(s), 0 media file(s), 0 artifact file(s) and 0 other file(s)"
      ],
      "text/plain": [
       "<IPython.core.display.HTML object>"
      ]
     },
     "metadata": {},
     "output_type": "display_data"
    },
    {
     "data": {
      "text/html": [
       "Find logs at: <code>./wandb/run-20250518_094723-0u8scpf2/logs</code>"
      ],
      "text/plain": [
       "<IPython.core.display.HTML object>"
      ]
     },
     "metadata": {},
     "output_type": "display_data"
    },
    {
     "name": "stderr",
     "output_type": "stream",
     "text": [
      "\u001b[34m\u001b[1mwandb\u001b[0m: Agent Starting Run: 1qg3e780 with config:\n",
      "\u001b[34m\u001b[1mwandb\u001b[0m: \tbatch_size: 32\n",
      "\u001b[34m\u001b[1mwandb\u001b[0m: \tbeam_search_width: 4\n",
      "\u001b[34m\u001b[1mwandb\u001b[0m: \tbidirectional: True\n",
      "\u001b[34m\u001b[1mwandb\u001b[0m: \tcell_type: LSTM\n",
      "\u001b[34m\u001b[1mwandb\u001b[0m: \tdropout: 0.3\n",
      "\u001b[34m\u001b[1mwandb\u001b[0m: \tembedding_size: 256\n",
      "\u001b[34m\u001b[1mwandb\u001b[0m: \thidden_size: 256\n",
      "\u001b[34m\u001b[1mwandb\u001b[0m: \tlearning_rate: 0.01\n",
      "\u001b[34m\u001b[1mwandb\u001b[0m: \tlength_penalty: 0.6\n",
      "\u001b[34m\u001b[1mwandb\u001b[0m: \tnum_epochs: 10\n",
      "\u001b[34m\u001b[1mwandb\u001b[0m: \tnum_layers: 1\n",
      "\u001b[34m\u001b[1mwandb\u001b[0m: \toptimizer: adagrad\n",
      "\u001b[34m\u001b[1mwandb\u001b[0m: \tteacher_forcing: 0.7\n"
     ]
    },
    {
     "data": {
      "text/html": [
       "Ignoring project 'DL_Assignment_3' when running a sweep."
      ],
      "text/plain": [
       "<IPython.core.display.HTML object>"
      ]
     },
     "metadata": {},
     "output_type": "display_data"
    },
    {
     "data": {
      "text/html": [
       "Tracking run with wandb version 0.19.9"
      ],
      "text/plain": [
       "<IPython.core.display.HTML object>"
      ]
     },
     "metadata": {},
     "output_type": "display_data"
    },
    {
     "data": {
      "text/html": [
       "Run data is saved locally in <code>/kaggle/working/wandb/run-20250518_101222-1qg3e780</code>"
      ],
      "text/plain": [
       "<IPython.core.display.HTML object>"
      ]
     },
     "metadata": {},
     "output_type": "display_data"
    },
    {
     "data": {
      "text/html": [
       "Syncing run <strong><a href='https://wandb.ai/cs24m019-iitm/DL_Assignment_3/runs/1qg3e780' target=\"_blank\">solar-sweep-32</a></strong> to <a href='https://wandb.ai/cs24m019-iitm/DL_Assignment_3' target=\"_blank\">Weights & Biases</a> (<a href='https://wandb.me/developer-guide' target=\"_blank\">docs</a>)<br>Sweep page: <a href='https://wandb.ai/cs24m019-iitm/DL_Assignment_3/sweeps/az4eniz8' target=\"_blank\">https://wandb.ai/cs24m019-iitm/DL_Assignment_3/sweeps/az4eniz8</a>"
      ],
      "text/plain": [
       "<IPython.core.display.HTML object>"
      ]
     },
     "metadata": {},
     "output_type": "display_data"
    },
    {
     "data": {
      "text/html": [
       " View project at <a href='https://wandb.ai/cs24m019-iitm/DL_Assignment_3' target=\"_blank\">https://wandb.ai/cs24m019-iitm/DL_Assignment_3</a>"
      ],
      "text/plain": [
       "<IPython.core.display.HTML object>"
      ]
     },
     "metadata": {},
     "output_type": "display_data"
    },
    {
     "data": {
      "text/html": [
       " View sweep at <a href='https://wandb.ai/cs24m019-iitm/DL_Assignment_3/sweeps/az4eniz8' target=\"_blank\">https://wandb.ai/cs24m019-iitm/DL_Assignment_3/sweeps/az4eniz8</a>"
      ],
      "text/plain": [
       "<IPython.core.display.HTML object>"
      ]
     },
     "metadata": {},
     "output_type": "display_data"
    },
    {
     "data": {
      "text/html": [
       " View run at <a href='https://wandb.ai/cs24m019-iitm/DL_Assignment_3/runs/1qg3e780' target=\"_blank\">https://wandb.ai/cs24m019-iitm/DL_Assignment_3/runs/1qg3e780</a>"
      ],
      "text/plain": [
       "<IPython.core.display.HTML object>"
      ]
     },
     "metadata": {},
     "output_type": "display_data"
    },
    {
     "name": "stderr",
     "output_type": "stream",
     "text": [
      "/usr/local/lib/python3.11/dist-packages/torch/nn/modules/rnn.py:123: UserWarning: dropout option adds dropout after all but last recurrent layer, so non-zero dropout expects num_layers greater than 1, but got dropout=0.3 and num_layers=1\n",
      "  warnings.warn(\n"
     ]
    },
    {
     "name": "stdout",
     "output_type": "stream",
     "text": [
      "Seq2Seq(\n",
      "  (decoder): Decoder(\n",
      "    (dropout): Dropout(p=0.3, inplace=False)\n",
      "    (embedding): Embedding(29, 256)\n",
      "    (rnn): LSTM(256, 256, dropout=0.3, bidirectional=True)\n",
      "    (fc): Linear(in_features=512, out_features=29, bias=True)\n",
      "    (log_softmax): LogSoftmax(dim=1)\n",
      "  )\n",
      "  (encoder): Encoder(\n",
      "    (dropout): Dropout(p=0.3, inplace=False)\n",
      "    (embedding): Embedding(66, 256)\n",
      "    (rnn): LSTM(256, 256, dropout=0.3, bidirectional=True)\n",
      "  )\n",
      ")\n",
      "Total Trainable Parameters: 2144541\n"
     ]
    },
    {
     "name": "stderr",
     "output_type": "stream",
     "text": [
      "100%|██████████| 1382/1382 [00:54<00:00, 25.44it/s]\n",
      "100%|██████████| 137/137 [00:01<00:00, 98.99it/s]\n",
      "100%|██████████| 4358/4358 [01:08<00:00, 63.93it/s]\n"
     ]
    },
    {
     "name": "stdout",
     "output_type": "stream",
     "text": [
      "Epoch 1 / 10 ===========================>\n",
      "Train Accuracy Char: 54.3535, Train Average Loss: 1.5309\n",
      "Validation Accuracy Char: 50.5614, Validation Average Loss: 1.6066\n",
      "Beam Val Word Accuracy: 0.3212 Correct Prediction : 14/4358\n"
     ]
    },
    {
     "name": "stderr",
     "output_type": "stream",
     "text": [
      "100%|██████████| 1382/1382 [00:54<00:00, 25.39it/s]\n",
      "100%|██████████| 137/137 [00:01<00:00, 97.20it/s]\n",
      "100%|██████████| 4358/4358 [01:11<00:00, 60.94it/s]\n"
     ]
    },
    {
     "name": "stdout",
     "output_type": "stream",
     "text": [
      "Epoch 2 / 10 ===========================>\n",
      "Train Accuracy Char: 65.7220, Train Average Loss: 1.1381\n",
      "Validation Accuracy Char: 60.4615, Validation Average Loss: 1.3044\n",
      "Beam Val Word Accuracy: 1.1932 Correct Prediction : 52/4358\n"
     ]
    },
    {
     "name": "stderr",
     "output_type": "stream",
     "text": [
      "100%|██████████| 1382/1382 [00:54<00:00, 25.43it/s]\n",
      "100%|██████████| 137/137 [00:01<00:00, 98.90it/s]\n",
      "100%|██████████| 4358/4358 [01:13<00:00, 58.98it/s]\n"
     ]
    },
    {
     "name": "stdout",
     "output_type": "stream",
     "text": [
      "Epoch 3 / 10 ===========================>\n",
      "Train Accuracy Char: 69.1544, Train Average Loss: 1.0258\n",
      "Validation Accuracy Char: 64.8860, Validation Average Loss: 1.1712\n",
      "Beam Val Word Accuracy: 1.3309 Correct Prediction : 58/4358\n"
     ]
    },
    {
     "name": "stderr",
     "output_type": "stream",
     "text": [
      "100%|██████████| 1382/1382 [00:54<00:00, 25.37it/s]\n",
      "100%|██████████| 137/137 [00:01<00:00, 98.28it/s]\n",
      "100%|██████████| 4358/4358 [01:14<00:00, 58.45it/s]\n"
     ]
    },
    {
     "name": "stdout",
     "output_type": "stream",
     "text": [
      "Epoch 4 / 10 ===========================>\n",
      "Train Accuracy Char: 71.0204, Train Average Loss: 0.9653\n",
      "Validation Accuracy Char: 67.8589, Validation Average Loss: 1.0711\n",
      "Beam Val Word Accuracy: 1.4915 Correct Prediction : 65/4358\n"
     ]
    },
    {
     "name": "stderr",
     "output_type": "stream",
     "text": [
      "100%|██████████| 1382/1382 [00:54<00:00, 25.50it/s]\n",
      "100%|██████████| 137/137 [00:01<00:00, 98.33it/s]\n",
      "100%|██████████| 4358/4358 [01:15<00:00, 57.45it/s]\n"
     ]
    },
    {
     "name": "stdout",
     "output_type": "stream",
     "text": [
      "Epoch 5 / 10 ===========================>\n",
      "Train Accuracy Char: 72.2538, Train Average Loss: 0.9238\n",
      "Validation Accuracy Char: 68.4139, Validation Average Loss: 1.0507\n",
      "Beam Val Word Accuracy: 1.6980 Correct Prediction : 74/4358\n"
     ]
    },
    {
     "name": "stderr",
     "output_type": "stream",
     "text": [
      "100%|██████████| 1382/1382 [00:54<00:00, 25.37it/s]\n",
      "100%|██████████| 137/137 [00:01<00:00, 99.82it/s] \n",
      "100%|██████████| 4358/4358 [01:16<00:00, 56.88it/s]\n"
     ]
    },
    {
     "name": "stdout",
     "output_type": "stream",
     "text": [
      "Epoch 6 / 10 ===========================>\n",
      "Train Accuracy Char: 73.1369, Train Average Loss: 0.8950\n",
      "Validation Accuracy Char: 69.6832, Validation Average Loss: 1.0064\n",
      "Beam Val Word Accuracy: 1.6751 Correct Prediction : 73/4358\n"
     ]
    },
    {
     "name": "stderr",
     "output_type": "stream",
     "text": [
      "100%|██████████| 1382/1382 [00:54<00:00, 25.54it/s]\n",
      "100%|██████████| 137/137 [00:01<00:00, 99.00it/s]\n",
      "100%|██████████| 4358/4358 [01:17<00:00, 56.57it/s]\n"
     ]
    },
    {
     "name": "stdout",
     "output_type": "stream",
     "text": [
      "Epoch 7 / 10 ===========================>\n",
      "Train Accuracy Char: 73.9206, Train Average Loss: 0.8683\n",
      "Validation Accuracy Char: 70.3872, Validation Average Loss: 0.9850\n",
      "Beam Val Word Accuracy: 1.9734 Correct Prediction : 86/4358\n"
     ]
    },
    {
     "name": "stderr",
     "output_type": "stream",
     "text": [
      "100%|██████████| 1382/1382 [00:54<00:00, 25.40it/s]\n",
      "100%|██████████| 137/137 [00:01<00:00, 96.77it/s]\n",
      "100%|██████████| 4358/4358 [01:18<00:00, 55.80it/s]\n"
     ]
    },
    {
     "name": "stdout",
     "output_type": "stream",
     "text": [
      "Epoch 8 / 10 ===========================>\n",
      "Train Accuracy Char: 74.4951, Train Average Loss: 0.8504\n",
      "Validation Accuracy Char: 71.4304, Validation Average Loss: 0.9514\n",
      "Beam Val Word Accuracy: 2.1111 Correct Prediction : 92/4358\n"
     ]
    },
    {
     "name": "stderr",
     "output_type": "stream",
     "text": [
      "100%|██████████| 1382/1382 [00:54<00:00, 25.34it/s]\n",
      "100%|██████████| 137/137 [00:01<00:00, 97.55it/s]\n",
      "100%|██████████| 4358/4358 [01:18<00:00, 55.67it/s]\n"
     ]
    },
    {
     "name": "stdout",
     "output_type": "stream",
     "text": [
      "Epoch 9 / 10 ===========================>\n",
      "Train Accuracy Char: 74.8113, Train Average Loss: 0.8378\n",
      "Validation Accuracy Char: 71.5409, Validation Average Loss: 0.9439\n",
      "Beam Val Word Accuracy: 2.1111 Correct Prediction : 92/4358\n"
     ]
    },
    {
     "name": "stderr",
     "output_type": "stream",
     "text": [
      "100%|██████████| 1382/1382 [00:54<00:00, 25.35it/s]\n",
      "100%|██████████| 137/137 [00:01<00:00, 96.65it/s]\n",
      "100%|██████████| 4358/4358 [01:18<00:00, 55.54it/s]"
     ]
    },
    {
     "name": "stdout",
     "output_type": "stream",
     "text": [
      "Epoch 10 / 10 ===========================>\n",
      "Train Accuracy Char: 75.2554, Train Average Loss: 0.8226\n",
      "Validation Accuracy Char: 72.3220, Validation Average Loss: 0.9193\n",
      "Beam Val Word Accuracy: 2.0422 Correct Prediction : 89/4358\n"
     ]
    },
    {
     "name": "stderr",
     "output_type": "stream",
     "text": [
      "\n"
     ]
    },
    {
     "data": {
      "text/html": [],
      "text/plain": [
       "<IPython.core.display.HTML object>"
      ]
     },
     "metadata": {},
     "output_type": "display_data"
    },
    {
     "data": {
      "text/html": [
       "<br>    <style><br>        .wandb-row {<br>            display: flex;<br>            flex-direction: row;<br>            flex-wrap: wrap;<br>            justify-content: flex-start;<br>            width: 100%;<br>        }<br>        .wandb-col {<br>            display: flex;<br>            flex-direction: column;<br>            flex-basis: 100%;<br>            flex: 1;<br>            padding: 10px;<br>        }<br>    </style><br><div class=\"wandb-row\"><div class=\"wandb-col\"><h3>Run history:</h3><br/><table class=\"wandb\"><tr><td>accuracy</td><td>▁</td></tr><tr><td>beam_val_accuracy_word</td><td>▁▄▅▆▆▆▇███</td></tr><tr><td>train_accuracy_char</td><td>▁▅▆▇▇▇████</td></tr><tr><td>train_loss</td><td>█▄▃▂▂▂▁▁▁▁</td></tr><tr><td>val_accuracy_char</td><td>▁▄▆▇▇▇▇███</td></tr><tr><td>val_loss</td><td>█▅▄▃▂▂▂▁▁▁</td></tr></table><br/></div><div class=\"wandb-col\"><h3>Run summary:</h3><br/><table class=\"wandb\"><tr><td>accuracy</td><td>2.04222</td></tr><tr><td>beam_val_accuracy_word</td><td>2.04222</td></tr><tr><td>train_accuracy_char</td><td>75.25544</td></tr><tr><td>train_loss</td><td>0.82263</td></tr><tr><td>val_accuracy_char</td><td>72.322</td></tr><tr><td>val_loss</td><td>0.91931</td></tr></table><br/></div></div>"
      ],
      "text/plain": [
       "<IPython.core.display.HTML object>"
      ]
     },
     "metadata": {},
     "output_type": "display_data"
    },
    {
     "data": {
      "text/html": [
       " View run <strong style=\"color:#cdcd00\">cell_LSTM_bs_32_ep_10_op_adagrad_drop_0.3_bsw_4_emb_256_hs_256_elayer_1_dlayer_1</strong> at: <a href='https://wandb.ai/cs24m019-iitm/DL_Assignment_3/runs/1qg3e780' target=\"_blank\">https://wandb.ai/cs24m019-iitm/DL_Assignment_3/runs/1qg3e780</a><br> View project at: <a href='https://wandb.ai/cs24m019-iitm/DL_Assignment_3' target=\"_blank\">https://wandb.ai/cs24m019-iitm/DL_Assignment_3</a><br>Synced 5 W&B file(s), 0 media file(s), 0 artifact file(s) and 0 other file(s)"
      ],
      "text/plain": [
       "<IPython.core.display.HTML object>"
      ]
     },
     "metadata": {},
     "output_type": "display_data"
    },
    {
     "data": {
      "text/html": [
       "Find logs at: <code>./wandb/run-20250518_101222-1qg3e780/logs</code>"
      ],
      "text/plain": [
       "<IPython.core.display.HTML object>"
      ]
     },
     "metadata": {},
     "output_type": "display_data"
    },
    {
     "name": "stderr",
     "output_type": "stream",
     "text": [
      "\u001b[34m\u001b[1mwandb\u001b[0m: Agent Starting Run: nsjjt25e with config:\n",
      "\u001b[34m\u001b[1mwandb\u001b[0m: \tbatch_size: 32\n",
      "\u001b[34m\u001b[1mwandb\u001b[0m: \tbeam_search_width: 1\n",
      "\u001b[34m\u001b[1mwandb\u001b[0m: \tbidirectional: True\n",
      "\u001b[34m\u001b[1mwandb\u001b[0m: \tcell_type: GRU\n",
      "\u001b[34m\u001b[1mwandb\u001b[0m: \tdropout: 0.3\n",
      "\u001b[34m\u001b[1mwandb\u001b[0m: \tembedding_size: 256\n",
      "\u001b[34m\u001b[1mwandb\u001b[0m: \thidden_size: 1024\n",
      "\u001b[34m\u001b[1mwandb\u001b[0m: \tlearning_rate: 0.01\n",
      "\u001b[34m\u001b[1mwandb\u001b[0m: \tlength_penalty: 0.6\n",
      "\u001b[34m\u001b[1mwandb\u001b[0m: \tnum_epochs: 10\n",
      "\u001b[34m\u001b[1mwandb\u001b[0m: \tnum_layers: 2\n",
      "\u001b[34m\u001b[1mwandb\u001b[0m: \toptimizer: adagrad\n",
      "\u001b[34m\u001b[1mwandb\u001b[0m: \tteacher_forcing: 0.7\n"
     ]
    },
    {
     "data": {
      "text/html": [
       "Ignoring project 'DL_Assignment_3' when running a sweep."
      ],
      "text/plain": [
       "<IPython.core.display.HTML object>"
      ]
     },
     "metadata": {},
     "output_type": "display_data"
    },
    {
     "data": {
      "text/html": [
       "Tracking run with wandb version 0.19.9"
      ],
      "text/plain": [
       "<IPython.core.display.HTML object>"
      ]
     },
     "metadata": {},
     "output_type": "display_data"
    },
    {
     "data": {
      "text/html": [
       "Run data is saved locally in <code>/kaggle/working/wandb/run-20250518_103429-nsjjt25e</code>"
      ],
      "text/plain": [
       "<IPython.core.display.HTML object>"
      ]
     },
     "metadata": {},
     "output_type": "display_data"
    },
    {
     "data": {
      "text/html": [
       "Syncing run <strong><a href='https://wandb.ai/cs24m019-iitm/DL_Assignment_3/runs/nsjjt25e' target=\"_blank\">blooming-sweep-33</a></strong> to <a href='https://wandb.ai/cs24m019-iitm/DL_Assignment_3' target=\"_blank\">Weights & Biases</a> (<a href='https://wandb.me/developer-guide' target=\"_blank\">docs</a>)<br>Sweep page: <a href='https://wandb.ai/cs24m019-iitm/DL_Assignment_3/sweeps/az4eniz8' target=\"_blank\">https://wandb.ai/cs24m019-iitm/DL_Assignment_3/sweeps/az4eniz8</a>"
      ],
      "text/plain": [
       "<IPython.core.display.HTML object>"
      ]
     },
     "metadata": {},
     "output_type": "display_data"
    },
    {
     "data": {
      "text/html": [
       " View project at <a href='https://wandb.ai/cs24m019-iitm/DL_Assignment_3' target=\"_blank\">https://wandb.ai/cs24m019-iitm/DL_Assignment_3</a>"
      ],
      "text/plain": [
       "<IPython.core.display.HTML object>"
      ]
     },
     "metadata": {},
     "output_type": "display_data"
    },
    {
     "data": {
      "text/html": [
       " View sweep at <a href='https://wandb.ai/cs24m019-iitm/DL_Assignment_3/sweeps/az4eniz8' target=\"_blank\">https://wandb.ai/cs24m019-iitm/DL_Assignment_3/sweeps/az4eniz8</a>"
      ],
      "text/plain": [
       "<IPython.core.display.HTML object>"
      ]
     },
     "metadata": {},
     "output_type": "display_data"
    },
    {
     "data": {
      "text/html": [
       " View run at <a href='https://wandb.ai/cs24m019-iitm/DL_Assignment_3/runs/nsjjt25e' target=\"_blank\">https://wandb.ai/cs24m019-iitm/DL_Assignment_3/runs/nsjjt25e</a>"
      ],
      "text/plain": [
       "<IPython.core.display.HTML object>"
      ]
     },
     "metadata": {},
     "output_type": "display_data"
    },
    {
     "name": "stdout",
     "output_type": "stream",
     "text": [
      "Seq2Seq(\n",
      "  (decoder): Decoder(\n",
      "    (dropout): Dropout(p=0.3, inplace=False)\n",
      "    (embedding): Embedding(29, 256)\n",
      "    (rnn): GRU(256, 1024, num_layers=2, dropout=0.3, bidirectional=True)\n",
      "    (fc): Linear(in_features=2048, out_features=29, bias=True)\n",
      "    (log_softmax): LogSoftmax(dim=1)\n",
      "  )\n",
      "  (encoder): Encoder(\n",
      "    (dropout): Dropout(p=0.3, inplace=False)\n",
      "    (embedding): Embedding(66, 256)\n",
      "    (rnn): GRU(256, 1024, num_layers=2, dropout=0.3, bidirectional=True)\n",
      "  )\n",
      ")\n",
      "Total Trainable Parameters: 53610269\n"
     ]
    },
    {
     "name": "stderr",
     "output_type": "stream",
     "text": [
      "100%|██████████| 1382/1382 [03:37<00:00,  6.36it/s]\n",
      "100%|██████████| 137/137 [00:05<00:00, 22.93it/s]\n",
      "100%|██████████| 4358/4358 [00:52<00:00, 83.52it/s]\n"
     ]
    },
    {
     "name": "stdout",
     "output_type": "stream",
     "text": [
      "Epoch 1 / 10 ===========================>\n",
      "Train Accuracy Char: 41.9042, Train Average Loss: 2.1511\n",
      "Validation Accuracy Char: 34.6951, Validation Average Loss: 2.3853\n",
      "Beam Val Word Accuracy: 0.1377 Correct Prediction : 6/4358\n"
     ]
    },
    {
     "name": "stderr",
     "output_type": "stream",
     "text": [
      "100%|██████████| 1382/1382 [03:35<00:00,  6.40it/s]\n",
      "100%|██████████| 137/137 [00:05<00:00, 23.17it/s]\n",
      "100%|██████████| 4358/4358 [00:53<00:00, 81.77it/s]\n"
     ]
    },
    {
     "name": "stdout",
     "output_type": "stream",
     "text": [
      "Epoch 2 / 10 ===========================>\n",
      "Train Accuracy Char: 63.2247, Train Average Loss: 1.2060\n",
      "Validation Accuracy Char: 56.2013, Validation Average Loss: 1.5369\n",
      "Beam Val Word Accuracy: 4.1533 Correct Prediction : 181/4358\n"
     ]
    },
    {
     "name": "stderr",
     "output_type": "stream",
     "text": [
      "100%|██████████| 1382/1382 [03:35<00:00,  6.41it/s]\n",
      "100%|██████████| 137/137 [00:05<00:00, 23.10it/s]\n",
      "100%|██████████| 4358/4358 [00:54<00:00, 79.69it/s]\n"
     ]
    },
    {
     "name": "stdout",
     "output_type": "stream",
     "text": [
      "Epoch 3 / 10 ===========================>\n",
      "Train Accuracy Char: 72.4813, Train Average Loss: 0.9129\n",
      "Validation Accuracy Char: 65.2972, Validation Average Loss: 1.1417\n",
      "Beam Val Word Accuracy: 13.1941 Correct Prediction : 575/4358\n"
     ]
    },
    {
     "name": "stderr",
     "output_type": "stream",
     "text": [
      "100%|██████████| 1382/1382 [03:35<00:00,  6.41it/s]\n",
      "100%|██████████| 137/137 [00:05<00:00, 23.32it/s]\n",
      "100%|██████████| 4358/4358 [00:54<00:00, 79.44it/s]\n"
     ]
    },
    {
     "name": "stdout",
     "output_type": "stream",
     "text": [
      "Epoch 4 / 10 ===========================>\n",
      "Train Accuracy Char: 75.5225, Train Average Loss: 0.8076\n",
      "Validation Accuracy Char: 70.5260, Validation Average Loss: 0.9596\n",
      "Beam Val Word Accuracy: 25.7687 Correct Prediction : 1123/4358\n"
     ]
    },
    {
     "name": "stderr",
     "output_type": "stream",
     "text": [
      "100%|██████████| 1382/1382 [03:35<00:00,  6.41it/s]\n",
      "100%|██████████| 137/137 [00:05<00:00, 23.31it/s]\n",
      "100%|██████████| 4358/4358 [00:55<00:00, 79.13it/s]\n"
     ]
    },
    {
     "name": "stdout",
     "output_type": "stream",
     "text": [
      "Epoch 5 / 10 ===========================>\n",
      "Train Accuracy Char: 77.3331, Train Average Loss: 0.7439\n",
      "Validation Accuracy Char: 73.9048, Validation Average Loss: 0.8648\n",
      "Beam Val Word Accuracy: 34.6948 Correct Prediction : 1512/4358\n"
     ]
    },
    {
     "name": "stderr",
     "output_type": "stream",
     "text": [
      "100%|██████████| 1382/1382 [03:35<00:00,  6.42it/s]\n",
      "100%|██████████| 137/137 [00:05<00:00, 23.16it/s]\n",
      "100%|██████████| 4358/4358 [00:55<00:00, 79.21it/s]\n"
     ]
    },
    {
     "name": "stdout",
     "output_type": "stream",
     "text": [
      "Epoch 6 / 10 ===========================>\n",
      "Train Accuracy Char: 78.6810, Train Average Loss: 0.6938\n",
      "Validation Accuracy Char: 75.0585, Validation Average Loss: 0.8317\n",
      "Beam Val Word Accuracy: 37.6778 Correct Prediction : 1642/4358\n"
     ]
    },
    {
     "name": "stderr",
     "output_type": "stream",
     "text": [
      "100%|██████████| 1382/1382 [03:35<00:00,  6.41it/s]\n",
      "100%|██████████| 137/137 [00:05<00:00, 23.34it/s]\n",
      "100%|██████████| 4358/4358 [00:54<00:00, 79.46it/s]\n"
     ]
    },
    {
     "name": "stdout",
     "output_type": "stream",
     "text": [
      "Epoch 7 / 10 ===========================>\n",
      "Train Accuracy Char: 79.3855, Train Average Loss: 0.6643\n",
      "Validation Accuracy Char: 76.2378, Validation Average Loss: 0.8036\n",
      "Beam Val Word Accuracy: 39.9954 Correct Prediction : 1743/4358\n"
     ]
    },
    {
     "name": "stderr",
     "output_type": "stream",
     "text": [
      "100%|██████████| 1382/1382 [03:35<00:00,  6.41it/s]\n",
      "100%|██████████| 137/137 [00:05<00:00, 22.88it/s]\n",
      "100%|██████████| 4358/4358 [00:55<00:00, 78.98it/s]\n"
     ]
    },
    {
     "name": "stdout",
     "output_type": "stream",
     "text": [
      "Epoch 8 / 10 ===========================>\n",
      "Train Accuracy Char: 79.9472, Train Average Loss: 0.6420\n",
      "Validation Accuracy Char: 76.2687, Validation Average Loss: 0.7957\n",
      "Beam Val Word Accuracy: 39.8118 Correct Prediction : 1735/4358\n"
     ]
    },
    {
     "name": "stderr",
     "output_type": "stream",
     "text": [
      "100%|██████████| 1382/1382 [03:35<00:00,  6.40it/s]\n",
      "100%|██████████| 137/137 [00:05<00:00, 23.05it/s]\n",
      "100%|██████████| 4358/4358 [00:55<00:00, 78.53it/s]\n"
     ]
    },
    {
     "name": "stdout",
     "output_type": "stream",
     "text": [
      "Epoch 9 / 10 ===========================>\n",
      "Train Accuracy Char: 80.3033, Train Average Loss: 0.6250\n",
      "Validation Accuracy Char: 76.4357, Validation Average Loss: 0.7900\n",
      "Beam Val Word Accuracy: 41.5099 Correct Prediction : 1809/4358\n"
     ]
    },
    {
     "name": "stderr",
     "output_type": "stream",
     "text": [
      "100%|██████████| 1382/1382 [03:35<00:00,  6.43it/s]\n",
      "100%|██████████| 137/137 [00:05<00:00, 23.26it/s]\n",
      "100%|██████████| 4358/4358 [00:55<00:00, 79.09it/s]"
     ]
    },
    {
     "name": "stdout",
     "output_type": "stream",
     "text": [
      "Epoch 10 / 10 ===========================>\n",
      "Train Accuracy Char: 80.7572, Train Average Loss: 0.6073\n",
      "Validation Accuracy Char: 76.9085, Validation Average Loss: 0.7842\n",
      "Beam Val Word Accuracy: 41.9917 Correct Prediction : 1830/4358\n"
     ]
    },
    {
     "name": "stderr",
     "output_type": "stream",
     "text": [
      "\n"
     ]
    },
    {
     "data": {
      "text/html": [],
      "text/plain": [
       "<IPython.core.display.HTML object>"
      ]
     },
     "metadata": {},
     "output_type": "display_data"
    },
    {
     "data": {
      "text/html": [
       "<br>    <style><br>        .wandb-row {<br>            display: flex;<br>            flex-direction: row;<br>            flex-wrap: wrap;<br>            justify-content: flex-start;<br>            width: 100%;<br>        }<br>        .wandb-col {<br>            display: flex;<br>            flex-direction: column;<br>            flex-basis: 100%;<br>            flex: 1;<br>            padding: 10px;<br>        }<br>    </style><br><div class=\"wandb-row\"><div class=\"wandb-col\"><h3>Run history:</h3><br/><table class=\"wandb\"><tr><td>accuracy</td><td>▁</td></tr><tr><td>beam_val_accuracy_word</td><td>▁▂▃▅▇▇████</td></tr><tr><td>train_accuracy_char</td><td>▁▅▇▇▇█████</td></tr><tr><td>train_loss</td><td>█▄▂▂▂▁▁▁▁▁</td></tr><tr><td>val_accuracy_char</td><td>▁▅▆▇██████</td></tr><tr><td>val_loss</td><td>█▄▃▂▁▁▁▁▁▁</td></tr></table><br/></div><div class=\"wandb-col\"><h3>Run summary:</h3><br/><table class=\"wandb\"><tr><td>accuracy</td><td>41.99174</td></tr><tr><td>beam_val_accuracy_word</td><td>41.99174</td></tr><tr><td>train_accuracy_char</td><td>80.75721</td></tr><tr><td>train_loss</td><td>0.60725</td></tr><tr><td>val_accuracy_char</td><td>76.90845</td></tr><tr><td>val_loss</td><td>0.78421</td></tr></table><br/></div></div>"
      ],
      "text/plain": [
       "<IPython.core.display.HTML object>"
      ]
     },
     "metadata": {},
     "output_type": "display_data"
    },
    {
     "data": {
      "text/html": [
       " View run <strong style=\"color:#cdcd00\">cell_GRU_bs_32_ep_10_op_adagrad_drop_0.3_bsw_1_emb_256_hs_1024_elayer_2_dlayer_2</strong> at: <a href='https://wandb.ai/cs24m019-iitm/DL_Assignment_3/runs/nsjjt25e' target=\"_blank\">https://wandb.ai/cs24m019-iitm/DL_Assignment_3/runs/nsjjt25e</a><br> View project at: <a href='https://wandb.ai/cs24m019-iitm/DL_Assignment_3' target=\"_blank\">https://wandb.ai/cs24m019-iitm/DL_Assignment_3</a><br>Synced 5 W&B file(s), 0 media file(s), 0 artifact file(s) and 0 other file(s)"
      ],
      "text/plain": [
       "<IPython.core.display.HTML object>"
      ]
     },
     "metadata": {},
     "output_type": "display_data"
    },
    {
     "data": {
      "text/html": [
       "Find logs at: <code>./wandb/run-20250518_103429-nsjjt25e/logs</code>"
      ],
      "text/plain": [
       "<IPython.core.display.HTML object>"
      ]
     },
     "metadata": {},
     "output_type": "display_data"
    },
    {
     "name": "stderr",
     "output_type": "stream",
     "text": [
      "\u001b[34m\u001b[1mwandb\u001b[0m: Agent Starting Run: oxbru4ur with config:\n",
      "\u001b[34m\u001b[1mwandb\u001b[0m: \tbatch_size: 32\n",
      "\u001b[34m\u001b[1mwandb\u001b[0m: \tbeam_search_width: 4\n",
      "\u001b[34m\u001b[1mwandb\u001b[0m: \tbidirectional: True\n",
      "\u001b[34m\u001b[1mwandb\u001b[0m: \tcell_type: RNN\n",
      "\u001b[34m\u001b[1mwandb\u001b[0m: \tdropout: 0.3\n",
      "\u001b[34m\u001b[1mwandb\u001b[0m: \tembedding_size: 256\n",
      "\u001b[34m\u001b[1mwandb\u001b[0m: \thidden_size: 1024\n",
      "\u001b[34m\u001b[1mwandb\u001b[0m: \tlearning_rate: 0.001\n",
      "\u001b[34m\u001b[1mwandb\u001b[0m: \tlength_penalty: 0.6\n",
      "\u001b[34m\u001b[1mwandb\u001b[0m: \tnum_epochs: 10\n",
      "\u001b[34m\u001b[1mwandb\u001b[0m: \tnum_layers: 2\n",
      "\u001b[34m\u001b[1mwandb\u001b[0m: \toptimizer: adagrad\n",
      "\u001b[34m\u001b[1mwandb\u001b[0m: \tteacher_forcing: 0.7\n"
     ]
    },
    {
     "data": {
      "text/html": [
       "Ignoring project 'DL_Assignment_3' when running a sweep."
      ],
      "text/plain": [
       "<IPython.core.display.HTML object>"
      ]
     },
     "metadata": {},
     "output_type": "display_data"
    },
    {
     "data": {
      "text/html": [
       "Tracking run with wandb version 0.19.9"
      ],
      "text/plain": [
       "<IPython.core.display.HTML object>"
      ]
     },
     "metadata": {},
     "output_type": "display_data"
    },
    {
     "data": {
      "text/html": [
       "Run data is saved locally in <code>/kaggle/working/wandb/run-20250518_112048-oxbru4ur</code>"
      ],
      "text/plain": [
       "<IPython.core.display.HTML object>"
      ]
     },
     "metadata": {},
     "output_type": "display_data"
    },
    {
     "data": {
      "text/html": [
       "Syncing run <strong><a href='https://wandb.ai/cs24m019-iitm/DL_Assignment_3/runs/oxbru4ur' target=\"_blank\">resilient-sweep-34</a></strong> to <a href='https://wandb.ai/cs24m019-iitm/DL_Assignment_3' target=\"_blank\">Weights & Biases</a> (<a href='https://wandb.me/developer-guide' target=\"_blank\">docs</a>)<br>Sweep page: <a href='https://wandb.ai/cs24m019-iitm/DL_Assignment_3/sweeps/az4eniz8' target=\"_blank\">https://wandb.ai/cs24m019-iitm/DL_Assignment_3/sweeps/az4eniz8</a>"
      ],
      "text/plain": [
       "<IPython.core.display.HTML object>"
      ]
     },
     "metadata": {},
     "output_type": "display_data"
    },
    {
     "data": {
      "text/html": [
       " View project at <a href='https://wandb.ai/cs24m019-iitm/DL_Assignment_3' target=\"_blank\">https://wandb.ai/cs24m019-iitm/DL_Assignment_3</a>"
      ],
      "text/plain": [
       "<IPython.core.display.HTML object>"
      ]
     },
     "metadata": {},
     "output_type": "display_data"
    },
    {
     "data": {
      "text/html": [
       " View sweep at <a href='https://wandb.ai/cs24m019-iitm/DL_Assignment_3/sweeps/az4eniz8' target=\"_blank\">https://wandb.ai/cs24m019-iitm/DL_Assignment_3/sweeps/az4eniz8</a>"
      ],
      "text/plain": [
       "<IPython.core.display.HTML object>"
      ]
     },
     "metadata": {},
     "output_type": "display_data"
    },
    {
     "data": {
      "text/html": [
       " View run at <a href='https://wandb.ai/cs24m019-iitm/DL_Assignment_3/runs/oxbru4ur' target=\"_blank\">https://wandb.ai/cs24m019-iitm/DL_Assignment_3/runs/oxbru4ur</a>"
      ],
      "text/plain": [
       "<IPython.core.display.HTML object>"
      ]
     },
     "metadata": {},
     "output_type": "display_data"
    },
    {
     "name": "stdout",
     "output_type": "stream",
     "text": [
      "Seq2Seq(\n",
      "  (decoder): Decoder(\n",
      "    (dropout): Dropout(p=0.3, inplace=False)\n",
      "    (embedding): Embedding(29, 256)\n",
      "    (rnn): RNN(256, 1024, num_layers=2, dropout=0.3, bidirectional=True)\n",
      "    (fc): Linear(in_features=2048, out_features=29, bias=True)\n",
      "    (log_softmax): LogSoftmax(dim=1)\n",
      "  )\n",
      "  (encoder): Encoder(\n",
      "    (dropout): Dropout(p=0.3, inplace=False)\n",
      "    (embedding): Embedding(66, 256)\n",
      "    (rnn): RNN(256, 1024, num_layers=2, dropout=0.3, bidirectional=True)\n",
      "  )\n",
      ")\n",
      "Total Trainable Parameters: 17925917\n"
     ]
    },
    {
     "name": "stderr",
     "output_type": "stream",
     "text": [
      "100%|██████████| 1382/1382 [01:23<00:00, 16.54it/s]\n",
      "100%|██████████| 137/137 [00:02<00:00, 65.17it/s]\n",
      "100%|██████████| 4358/4358 [02:00<00:00, 36.14it/s]\n"
     ]
    },
    {
     "name": "stdout",
     "output_type": "stream",
     "text": [
      "Epoch 1 / 10 ===========================>\n",
      "Train Accuracy Char: 45.3558, Train Average Loss: 1.9007\n",
      "Validation Accuracy Char: 36.0492, Validation Average Loss: 2.2580\n",
      "Beam Val Word Accuracy: 0.2065 Correct Prediction : 9/4358\n"
     ]
    },
    {
     "name": "stderr",
     "output_type": "stream",
     "text": [
      "100%|██████████| 1382/1382 [01:23<00:00, 16.52it/s]\n",
      "100%|██████████| 137/137 [00:02<00:00, 64.20it/s]\n",
      "100%|██████████| 4358/4358 [02:02<00:00, 35.51it/s]\n"
     ]
    },
    {
     "name": "stdout",
     "output_type": "stream",
     "text": [
      "Epoch 2 / 10 ===========================>\n",
      "Train Accuracy Char: 53.7444, Train Average Loss: 1.5543\n",
      "Validation Accuracy Char: 44.7545, Validation Average Loss: 1.8654\n",
      "Beam Val Word Accuracy: 1.3768 Correct Prediction : 60/4358\n"
     ]
    },
    {
     "name": "stderr",
     "output_type": "stream",
     "text": [
      "100%|██████████| 1382/1382 [01:23<00:00, 16.54it/s]\n",
      "100%|██████████| 137/137 [00:02<00:00, 64.20it/s]\n",
      "100%|██████████| 4358/4358 [02:04<00:00, 35.02it/s]\n"
     ]
    },
    {
     "name": "stdout",
     "output_type": "stream",
     "text": [
      "Epoch 3 / 10 ===========================>\n",
      "Train Accuracy Char: 57.4756, Train Average Loss: 1.4165\n",
      "Validation Accuracy Char: 49.3538, Validation Average Loss: 1.6480\n",
      "Beam Val Word Accuracy: 2.9142 Correct Prediction : 127/4358\n"
     ]
    },
    {
     "name": "stderr",
     "output_type": "stream",
     "text": [
      "100%|██████████| 1382/1382 [01:23<00:00, 16.53it/s]\n",
      "100%|██████████| 137/137 [00:02<00:00, 63.95it/s]\n",
      "100%|██████████| 4358/4358 [02:06<00:00, 34.51it/s]\n"
     ]
    },
    {
     "name": "stdout",
     "output_type": "stream",
     "text": [
      "Epoch 4 / 10 ===========================>\n",
      "Train Accuracy Char: 59.6079, Train Average Loss: 1.3406\n",
      "Validation Accuracy Char: 51.5352, Validation Average Loss: 1.5638\n",
      "Beam Val Word Accuracy: 4.1762 Correct Prediction : 182/4358\n"
     ]
    },
    {
     "name": "stderr",
     "output_type": "stream",
     "text": [
      "100%|██████████| 1382/1382 [01:23<00:00, 16.53it/s]\n",
      "100%|██████████| 137/137 [00:02<00:00, 64.37it/s]\n",
      "100%|██████████| 4358/4358 [02:09<00:00, 33.70it/s]\n"
     ]
    },
    {
     "name": "stdout",
     "output_type": "stream",
     "text": [
      "Epoch 5 / 10 ===========================>\n",
      "Train Accuracy Char: 61.5447, Train Average Loss: 1.2787\n",
      "Validation Accuracy Char: 55.8802, Validation Average Loss: 1.4360\n",
      "Beam Val Word Accuracy: 8.1918 Correct Prediction : 357/4358\n"
     ]
    },
    {
     "name": "stderr",
     "output_type": "stream",
     "text": [
      "100%|██████████| 1382/1382 [01:23<00:00, 16.52it/s]\n",
      "100%|██████████| 137/137 [00:02<00:00, 63.72it/s]\n",
      "100%|██████████| 4358/4358 [02:08<00:00, 33.93it/s]\n"
     ]
    },
    {
     "name": "stdout",
     "output_type": "stream",
     "text": [
      "Epoch 6 / 10 ===========================>\n",
      "Train Accuracy Char: 62.6168, Train Average Loss: 1.2405\n",
      "Validation Accuracy Char: 57.1597, Validation Average Loss: 1.3934\n",
      "Beam Val Word Accuracy: 9.8669 Correct Prediction : 430/4358\n"
     ]
    },
    {
     "name": "stderr",
     "output_type": "stream",
     "text": [
      "100%|██████████| 1382/1382 [01:23<00:00, 16.50it/s]\n",
      "100%|██████████| 137/137 [00:02<00:00, 64.13it/s]\n",
      "100%|██████████| 4358/4358 [02:09<00:00, 33.72it/s]\n"
     ]
    },
    {
     "name": "stdout",
     "output_type": "stream",
     "text": [
      "Epoch 7 / 10 ===========================>\n",
      "Train Accuracy Char: 63.1962, Train Average Loss: 1.2168\n",
      "Validation Accuracy Char: 59.8654, Validation Average Loss: 1.3085\n",
      "Beam Val Word Accuracy: 14.2267 Correct Prediction : 620/4358\n"
     ]
    },
    {
     "name": "stderr",
     "output_type": "stream",
     "text": [
      "100%|██████████| 1382/1382 [01:23<00:00, 16.51it/s]\n",
      "100%|██████████| 137/137 [00:02<00:00, 64.15it/s]\n",
      "100%|██████████| 4358/4358 [02:10<00:00, 33.40it/s]\n"
     ]
    },
    {
     "name": "stdout",
     "output_type": "stream",
     "text": [
      "Epoch 8 / 10 ===========================>\n",
      "Train Accuracy Char: 64.1194, Train Average Loss: 1.1872\n",
      "Validation Accuracy Char: 61.1501, Validation Average Loss: 1.2707\n",
      "Beam Val Word Accuracy: 16.5902 Correct Prediction : 723/4358\n"
     ]
    },
    {
     "name": "stderr",
     "output_type": "stream",
     "text": [
      "100%|██████████| 1382/1382 [01:23<00:00, 16.55it/s]\n",
      "100%|██████████| 137/137 [00:02<00:00, 63.86it/s]\n",
      "100%|██████████| 4358/4358 [02:09<00:00, 33.54it/s]\n"
     ]
    },
    {
     "name": "stdout",
     "output_type": "stream",
     "text": [
      "Epoch 9 / 10 ===========================>\n",
      "Train Accuracy Char: 64.7491, Train Average Loss: 1.1653\n",
      "Validation Accuracy Char: 62.7277, Validation Average Loss: 1.2285\n",
      "Beam Val Word Accuracy: 18.5636 Correct Prediction : 809/4358\n"
     ]
    },
    {
     "name": "stderr",
     "output_type": "stream",
     "text": [
      "100%|██████████| 1382/1382 [01:23<00:00, 16.56it/s]\n",
      "100%|██████████| 137/137 [00:02<00:00, 63.95it/s]\n",
      "100%|██████████| 4358/4358 [02:11<00:00, 33.22it/s]"
     ]
    },
    {
     "name": "stdout",
     "output_type": "stream",
     "text": [
      "Epoch 10 / 10 ===========================>\n",
      "Train Accuracy Char: 65.3693, Train Average Loss: 1.1436\n",
      "Validation Accuracy Char: 63.1080, Validation Average Loss: 1.2147\n",
      "Beam Val Word Accuracy: 20.4911 Correct Prediction : 893/4358\n"
     ]
    },
    {
     "name": "stderr",
     "output_type": "stream",
     "text": [
      "\n"
     ]
    },
    {
     "data": {
      "text/html": [],
      "text/plain": [
       "<IPython.core.display.HTML object>"
      ]
     },
     "metadata": {},
     "output_type": "display_data"
    },
    {
     "data": {
      "text/html": [
       "<br>    <style><br>        .wandb-row {<br>            display: flex;<br>            flex-direction: row;<br>            flex-wrap: wrap;<br>            justify-content: flex-start;<br>            width: 100%;<br>        }<br>        .wandb-col {<br>            display: flex;<br>            flex-direction: column;<br>            flex-basis: 100%;<br>            flex: 1;<br>            padding: 10px;<br>        }<br>    </style><br><div class=\"wandb-row\"><div class=\"wandb-col\"><h3>Run history:</h3><br/><table class=\"wandb\"><tr><td>accuracy</td><td>▁</td></tr><tr><td>beam_val_accuracy_word</td><td>▁▁▂▂▄▄▆▇▇█</td></tr><tr><td>train_accuracy_char</td><td>▁▄▅▆▇▇▇███</td></tr><tr><td>train_loss</td><td>█▅▄▃▂▂▂▁▁▁</td></tr><tr><td>val_accuracy_char</td><td>▁▃▄▅▆▆▇▇██</td></tr><tr><td>val_loss</td><td>█▅▄▃▂▂▂▁▁▁</td></tr></table><br/></div><div class=\"wandb-col\"><h3>Run summary:</h3><br/><table class=\"wandb\"><tr><td>accuracy</td><td>20.49105</td></tr><tr><td>beam_val_accuracy_word</td><td>20.49105</td></tr><tr><td>train_accuracy_char</td><td>65.36932</td></tr><tr><td>train_loss</td><td>1.14358</td></tr><tr><td>val_accuracy_char</td><td>63.10799</td></tr><tr><td>val_loss</td><td>1.21469</td></tr></table><br/></div></div>"
      ],
      "text/plain": [
       "<IPython.core.display.HTML object>"
      ]
     },
     "metadata": {},
     "output_type": "display_data"
    },
    {
     "data": {
      "text/html": [
       " View run <strong style=\"color:#cdcd00\">cell_RNN_bs_32_ep_10_op_adagrad_drop_0.3_bsw_4_emb_256_hs_1024_elayer_2_dlayer_2</strong> at: <a href='https://wandb.ai/cs24m019-iitm/DL_Assignment_3/runs/oxbru4ur' target=\"_blank\">https://wandb.ai/cs24m019-iitm/DL_Assignment_3/runs/oxbru4ur</a><br> View project at: <a href='https://wandb.ai/cs24m019-iitm/DL_Assignment_3' target=\"_blank\">https://wandb.ai/cs24m019-iitm/DL_Assignment_3</a><br>Synced 5 W&B file(s), 0 media file(s), 0 artifact file(s) and 0 other file(s)"
      ],
      "text/plain": [
       "<IPython.core.display.HTML object>"
      ]
     },
     "metadata": {},
     "output_type": "display_data"
    },
    {
     "data": {
      "text/html": [
       "Find logs at: <code>./wandb/run-20250518_112048-oxbru4ur/logs</code>"
      ],
      "text/plain": [
       "<IPython.core.display.HTML object>"
      ]
     },
     "metadata": {},
     "output_type": "display_data"
    },
    {
     "name": "stderr",
     "output_type": "stream",
     "text": [
      "\u001b[34m\u001b[1mwandb\u001b[0m: Agent Starting Run: 3wuki3aj with config:\n",
      "\u001b[34m\u001b[1mwandb\u001b[0m: \tbatch_size: 32\n",
      "\u001b[34m\u001b[1mwandb\u001b[0m: \tbeam_search_width: 1\n",
      "\u001b[34m\u001b[1mwandb\u001b[0m: \tbidirectional: True\n",
      "\u001b[34m\u001b[1mwandb\u001b[0m: \tcell_type: RNN\n",
      "\u001b[34m\u001b[1mwandb\u001b[0m: \tdropout: 0.3\n",
      "\u001b[34m\u001b[1mwandb\u001b[0m: \tembedding_size: 256\n",
      "\u001b[34m\u001b[1mwandb\u001b[0m: \thidden_size: 256\n",
      "\u001b[34m\u001b[1mwandb\u001b[0m: \tlearning_rate: 0.001\n",
      "\u001b[34m\u001b[1mwandb\u001b[0m: \tlength_penalty: 0.6\n",
      "\u001b[34m\u001b[1mwandb\u001b[0m: \tnum_epochs: 10\n",
      "\u001b[34m\u001b[1mwandb\u001b[0m: \tnum_layers: 2\n",
      "\u001b[34m\u001b[1mwandb\u001b[0m: \toptimizer: adagrad\n",
      "\u001b[34m\u001b[1mwandb\u001b[0m: \tteacher_forcing: 0.7\n"
     ]
    },
    {
     "data": {
      "text/html": [
       "Ignoring project 'DL_Assignment_3' when running a sweep."
      ],
      "text/plain": [
       "<IPython.core.display.HTML object>"
      ]
     },
     "metadata": {},
     "output_type": "display_data"
    },
    {
     "data": {
      "text/html": [
       "Tracking run with wandb version 0.19.9"
      ],
      "text/plain": [
       "<IPython.core.display.HTML object>"
      ]
     },
     "metadata": {},
     "output_type": "display_data"
    },
    {
     "data": {
      "text/html": [
       "Run data is saved locally in <code>/kaggle/working/wandb/run-20250518_115635-3wuki3aj</code>"
      ],
      "text/plain": [
       "<IPython.core.display.HTML object>"
      ]
     },
     "metadata": {},
     "output_type": "display_data"
    },
    {
     "data": {
      "text/html": [
       "Syncing run <strong><a href='https://wandb.ai/cs24m019-iitm/DL_Assignment_3/runs/3wuki3aj' target=\"_blank\">laced-sweep-35</a></strong> to <a href='https://wandb.ai/cs24m019-iitm/DL_Assignment_3' target=\"_blank\">Weights & Biases</a> (<a href='https://wandb.me/developer-guide' target=\"_blank\">docs</a>)<br>Sweep page: <a href='https://wandb.ai/cs24m019-iitm/DL_Assignment_3/sweeps/az4eniz8' target=\"_blank\">https://wandb.ai/cs24m019-iitm/DL_Assignment_3/sweeps/az4eniz8</a>"
      ],
      "text/plain": [
       "<IPython.core.display.HTML object>"
      ]
     },
     "metadata": {},
     "output_type": "display_data"
    },
    {
     "data": {
      "text/html": [
       " View project at <a href='https://wandb.ai/cs24m019-iitm/DL_Assignment_3' target=\"_blank\">https://wandb.ai/cs24m019-iitm/DL_Assignment_3</a>"
      ],
      "text/plain": [
       "<IPython.core.display.HTML object>"
      ]
     },
     "metadata": {},
     "output_type": "display_data"
    },
    {
     "data": {
      "text/html": [
       " View sweep at <a href='https://wandb.ai/cs24m019-iitm/DL_Assignment_3/sweeps/az4eniz8' target=\"_blank\">https://wandb.ai/cs24m019-iitm/DL_Assignment_3/sweeps/az4eniz8</a>"
      ],
      "text/plain": [
       "<IPython.core.display.HTML object>"
      ]
     },
     "metadata": {},
     "output_type": "display_data"
    },
    {
     "data": {
      "text/html": [
       " View run at <a href='https://wandb.ai/cs24m019-iitm/DL_Assignment_3/runs/3wuki3aj' target=\"_blank\">https://wandb.ai/cs24m019-iitm/DL_Assignment_3/runs/3wuki3aj</a>"
      ],
      "text/plain": [
       "<IPython.core.display.HTML object>"
      ]
     },
     "metadata": {},
     "output_type": "display_data"
    },
    {
     "name": "stdout",
     "output_type": "stream",
     "text": [
      "Seq2Seq(\n",
      "  (decoder): Decoder(\n",
      "    (dropout): Dropout(p=0.3, inplace=False)\n",
      "    (embedding): Embedding(29, 256)\n",
      "    (rnn): RNN(256, 256, num_layers=2, dropout=0.3, bidirectional=True)\n",
      "    (fc): Linear(in_features=512, out_features=29, bias=True)\n",
      "    (log_softmax): LogSoftmax(dim=1)\n",
      "  )\n",
      "  (encoder): Encoder(\n",
      "    (dropout): Dropout(p=0.3, inplace=False)\n",
      "    (embedding): Embedding(66, 256)\n",
      "    (rnn): RNN(256, 256, num_layers=2, dropout=0.3, bidirectional=True)\n",
      "  )\n",
      ")\n",
      "Total Trainable Parameters: 1354013\n"
     ]
    },
    {
     "name": "stderr",
     "output_type": "stream",
     "text": [
      "100%|██████████| 1382/1382 [00:51<00:00, 26.63it/s]\n",
      "100%|██████████| 137/137 [00:01<00:00, 95.81it/s]\n",
      "100%|██████████| 4358/4358 [00:25<00:00, 170.50it/s]\n"
     ]
    },
    {
     "name": "stdout",
     "output_type": "stream",
     "text": [
      "Epoch 1 / 10 ===========================>\n",
      "Train Accuracy Char: 33.2528, Train Average Loss: 2.3369\n",
      "Validation Accuracy Char: 27.3799, Validation Average Loss: 2.5377\n",
      "Beam Val Word Accuracy: 0.0000 Correct Prediction : 0/4358\n"
     ]
    },
    {
     "name": "stderr",
     "output_type": "stream",
     "text": [
      "100%|██████████| 1382/1382 [00:51<00:00, 26.65it/s]\n",
      "100%|██████████| 137/137 [00:01<00:00, 92.81it/s]\n",
      "100%|██████████| 4358/4358 [00:26<00:00, 164.78it/s]\n"
     ]
    },
    {
     "name": "stdout",
     "output_type": "stream",
     "text": [
      "Epoch 2 / 10 ===========================>\n",
      "Train Accuracy Char: 37.7747, Train Average Loss: 2.1955\n",
      "Validation Accuracy Char: 31.1647, Validation Average Loss: 2.3515\n",
      "Beam Val Word Accuracy: 0.0229 Correct Prediction : 1/4358\n"
     ]
    },
    {
     "name": "stderr",
     "output_type": "stream",
     "text": [
      "100%|██████████| 1382/1382 [00:51<00:00, 26.73it/s]\n",
      "100%|██████████| 137/137 [00:01<00:00, 93.77it/s]\n",
      "100%|██████████| 4358/4358 [00:26<00:00, 162.72it/s]\n"
     ]
    },
    {
     "name": "stdout",
     "output_type": "stream",
     "text": [
      "Epoch 3 / 10 ===========================>\n",
      "Train Accuracy Char: 40.4133, Train Average Loss: 2.1158\n",
      "Validation Accuracy Char: 34.1838, Validation Average Loss: 2.2482\n",
      "Beam Val Word Accuracy: 0.0459 Correct Prediction : 2/4358\n"
     ]
    },
    {
     "name": "stderr",
     "output_type": "stream",
     "text": [
      "100%|██████████| 1382/1382 [00:51<00:00, 26.66it/s]\n",
      "100%|██████████| 137/137 [00:01<00:00, 93.58it/s]\n",
      "100%|██████████| 4358/4358 [00:26<00:00, 161.54it/s]\n"
     ]
    },
    {
     "name": "stdout",
     "output_type": "stream",
     "text": [
      "Epoch 4 / 10 ===========================>\n",
      "Train Accuracy Char: 41.9242, Train Average Loss: 2.0574\n",
      "Validation Accuracy Char: 35.3683, Validation Average Loss: 2.1939\n",
      "Beam Val Word Accuracy: 0.0459 Correct Prediction : 2/4358\n"
     ]
    },
    {
     "name": "stderr",
     "output_type": "stream",
     "text": [
      "100%|██████████| 1382/1382 [00:51<00:00, 26.60it/s]\n",
      "100%|██████████| 137/137 [00:01<00:00, 93.63it/s]\n",
      "100%|██████████| 4358/4358 [00:26<00:00, 161.82it/s]\n"
     ]
    },
    {
     "name": "stdout",
     "output_type": "stream",
     "text": [
      "Epoch 5 / 10 ===========================>\n",
      "Train Accuracy Char: 43.3463, Train Average Loss: 2.0020\n",
      "Validation Accuracy Char: 36.1854, Validation Average Loss: 2.1545\n",
      "Beam Val Word Accuracy: 0.1147 Correct Prediction : 5/4358\n"
     ]
    },
    {
     "name": "stderr",
     "output_type": "stream",
     "text": [
      "100%|██████████| 1382/1382 [00:51<00:00, 26.63it/s]\n",
      "100%|██████████| 137/137 [00:01<00:00, 95.48it/s]\n",
      "100%|██████████| 4358/4358 [00:27<00:00, 160.93it/s]\n"
     ]
    },
    {
     "name": "stdout",
     "output_type": "stream",
     "text": [
      "Epoch 6 / 10 ===========================>\n",
      "Train Accuracy Char: 44.1514, Train Average Loss: 1.9699\n",
      "Validation Accuracy Char: 37.4778, Validation Average Loss: 2.1216\n",
      "Beam Val Word Accuracy: 0.1377 Correct Prediction : 6/4358\n"
     ]
    },
    {
     "name": "stderr",
     "output_type": "stream",
     "text": [
      "100%|██████████| 1382/1382 [00:52<00:00, 26.57it/s]\n",
      "100%|██████████| 137/137 [00:01<00:00, 95.30it/s]\n",
      "100%|██████████| 4358/4358 [00:26<00:00, 164.03it/s]\n"
     ]
    },
    {
     "name": "stdout",
     "output_type": "stream",
     "text": [
      "Epoch 7 / 10 ===========================>\n",
      "Train Accuracy Char: 45.0499, Train Average Loss: 1.9382\n",
      "Validation Accuracy Char: 37.4753, Validation Average Loss: 2.1294\n",
      "Beam Val Word Accuracy: 0.1606 Correct Prediction : 7/4358\n"
     ]
    },
    {
     "name": "stderr",
     "output_type": "stream",
     "text": [
      "100%|██████████| 1382/1382 [00:51<00:00, 26.78it/s]\n",
      "100%|██████████| 137/137 [00:01<00:00, 94.38it/s]\n",
      "100%|██████████| 4358/4358 [00:26<00:00, 162.30it/s]\n"
     ]
    },
    {
     "name": "stdout",
     "output_type": "stream",
     "text": [
      "Epoch 8 / 10 ===========================>\n",
      "Train Accuracy Char: 45.6959, Train Average Loss: 1.9130\n",
      "Validation Accuracy Char: 38.3771, Validation Average Loss: 2.0985\n",
      "Beam Val Word Accuracy: 0.2065 Correct Prediction : 9/4358\n"
     ]
    },
    {
     "name": "stderr",
     "output_type": "stream",
     "text": [
      "100%|██████████| 1382/1382 [00:51<00:00, 26.63it/s]\n",
      "100%|██████████| 137/137 [00:01<00:00, 95.52it/s]\n",
      "100%|██████████| 4358/4358 [00:27<00:00, 161.30it/s]\n"
     ]
    },
    {
     "name": "stdout",
     "output_type": "stream",
     "text": [
      "Epoch 9 / 10 ===========================>\n",
      "Train Accuracy Char: 46.2556, Train Average Loss: 1.8864\n",
      "Validation Accuracy Char: 39.1300, Validation Average Loss: 2.0651\n",
      "Beam Val Word Accuracy: 0.2295 Correct Prediction : 10/4358\n"
     ]
    },
    {
     "name": "stderr",
     "output_type": "stream",
     "text": [
      "100%|██████████| 1382/1382 [00:51<00:00, 26.75it/s]\n",
      "100%|██████████| 137/137 [00:01<00:00, 95.22it/s]\n",
      "100%|██████████| 4358/4358 [00:27<00:00, 160.80it/s]"
     ]
    },
    {
     "name": "stdout",
     "output_type": "stream",
     "text": [
      "Epoch 10 / 10 ===========================>\n",
      "Train Accuracy Char: 46.7996, Train Average Loss: 1.8656\n",
      "Validation Accuracy Char: 40.0164, Validation Average Loss: 2.0365\n",
      "Beam Val Word Accuracy: 0.2983 Correct Prediction : 13/4358\n"
     ]
    },
    {
     "name": "stderr",
     "output_type": "stream",
     "text": [
      "\n"
     ]
    },
    {
     "data": {
      "text/html": [],
      "text/plain": [
       "<IPython.core.display.HTML object>"
      ]
     },
     "metadata": {},
     "output_type": "display_data"
    },
    {
     "data": {
      "text/html": [
       "<br>    <style><br>        .wandb-row {<br>            display: flex;<br>            flex-direction: row;<br>            flex-wrap: wrap;<br>            justify-content: flex-start;<br>            width: 100%;<br>        }<br>        .wandb-col {<br>            display: flex;<br>            flex-direction: column;<br>            flex-basis: 100%;<br>            flex: 1;<br>            padding: 10px;<br>        }<br>    </style><br><div class=\"wandb-row\"><div class=\"wandb-col\"><h3>Run history:</h3><br/><table class=\"wandb\"><tr><td>accuracy</td><td>▁</td></tr><tr><td>beam_val_accuracy_word</td><td>▁▂▂▂▄▄▅▆▆█</td></tr><tr><td>train_accuracy_char</td><td>▁▃▅▅▆▇▇▇██</td></tr><tr><td>train_loss</td><td>█▆▅▄▃▃▂▂▁▁</td></tr><tr><td>val_accuracy_char</td><td>▁▃▅▅▆▇▇▇██</td></tr><tr><td>val_loss</td><td>█▅▄▃▃▂▂▂▁▁</td></tr></table><br/></div><div class=\"wandb-col\"><h3>Run summary:</h3><br/><table class=\"wandb\"><tr><td>accuracy</td><td>0.2983</td></tr><tr><td>beam_val_accuracy_word</td><td>0.2983</td></tr><tr><td>train_accuracy_char</td><td>46.79959</td></tr><tr><td>train_loss</td><td>1.86557</td></tr><tr><td>val_accuracy_char</td><td>40.01644</td></tr><tr><td>val_loss</td><td>2.03651</td></tr></table><br/></div></div>"
      ],
      "text/plain": [
       "<IPython.core.display.HTML object>"
      ]
     },
     "metadata": {},
     "output_type": "display_data"
    },
    {
     "data": {
      "text/html": [
       " View run <strong style=\"color:#cdcd00\">cell_RNN_bs_32_ep_10_op_adagrad_drop_0.3_bsw_1_emb_256_hs_256_elayer_2_dlayer_2</strong> at: <a href='https://wandb.ai/cs24m019-iitm/DL_Assignment_3/runs/3wuki3aj' target=\"_blank\">https://wandb.ai/cs24m019-iitm/DL_Assignment_3/runs/3wuki3aj</a><br> View project at: <a href='https://wandb.ai/cs24m019-iitm/DL_Assignment_3' target=\"_blank\">https://wandb.ai/cs24m019-iitm/DL_Assignment_3</a><br>Synced 5 W&B file(s), 0 media file(s), 0 artifact file(s) and 0 other file(s)"
      ],
      "text/plain": [
       "<IPython.core.display.HTML object>"
      ]
     },
     "metadata": {},
     "output_type": "display_data"
    },
    {
     "data": {
      "text/html": [
       "Find logs at: <code>./wandb/run-20250518_115635-3wuki3aj/logs</code>"
      ],
      "text/plain": [
       "<IPython.core.display.HTML object>"
      ]
     },
     "metadata": {},
     "output_type": "display_data"
    },
    {
     "name": "stderr",
     "output_type": "stream",
     "text": [
      "\u001b[34m\u001b[1mwandb\u001b[0m: Sweep Agent: Waiting for job.\n",
      "\u001b[34m\u001b[1mwandb\u001b[0m: Job received.\n",
      "\u001b[34m\u001b[1mwandb\u001b[0m: Agent Starting Run: ly756fpn with config:\n",
      "\u001b[34m\u001b[1mwandb\u001b[0m: \tbatch_size: 32\n",
      "\u001b[34m\u001b[1mwandb\u001b[0m: \tbeam_search_width: 1\n",
      "\u001b[34m\u001b[1mwandb\u001b[0m: \tbidirectional: True\n",
      "\u001b[34m\u001b[1mwandb\u001b[0m: \tcell_type: GRU\n",
      "\u001b[34m\u001b[1mwandb\u001b[0m: \tdropout: 0.3\n",
      "\u001b[34m\u001b[1mwandb\u001b[0m: \tembedding_size: 256\n",
      "\u001b[34m\u001b[1mwandb\u001b[0m: \thidden_size: 512\n",
      "\u001b[34m\u001b[1mwandb\u001b[0m: \tlearning_rate: 0.01\n",
      "\u001b[34m\u001b[1mwandb\u001b[0m: \tlength_penalty: 0.6\n",
      "\u001b[34m\u001b[1mwandb\u001b[0m: \tnum_epochs: 10\n",
      "\u001b[34m\u001b[1mwandb\u001b[0m: \tnum_layers: 1\n",
      "\u001b[34m\u001b[1mwandb\u001b[0m: \toptimizer: adagrad\n",
      "\u001b[34m\u001b[1mwandb\u001b[0m: \tteacher_forcing: 0.7\n"
     ]
    },
    {
     "data": {
      "text/html": [
       "Ignoring project 'DL_Assignment_3' when running a sweep."
      ],
      "text/plain": [
       "<IPython.core.display.HTML object>"
      ]
     },
     "metadata": {},
     "output_type": "display_data"
    },
    {
     "data": {
      "text/html": [
       "Tracking run with wandb version 0.19.9"
      ],
      "text/plain": [
       "<IPython.core.display.HTML object>"
      ]
     },
     "metadata": {},
     "output_type": "display_data"
    },
    {
     "data": {
      "text/html": [
       "Run data is saved locally in <code>/kaggle/working/wandb/run-20250518_121034-ly756fpn</code>"
      ],
      "text/plain": [
       "<IPython.core.display.HTML object>"
      ]
     },
     "metadata": {},
     "output_type": "display_data"
    },
    {
     "data": {
      "text/html": [
       "Syncing run <strong><a href='https://wandb.ai/cs24m019-iitm/DL_Assignment_3/runs/ly756fpn' target=\"_blank\">olive-sweep-36</a></strong> to <a href='https://wandb.ai/cs24m019-iitm/DL_Assignment_3' target=\"_blank\">Weights & Biases</a> (<a href='https://wandb.me/developer-guide' target=\"_blank\">docs</a>)<br>Sweep page: <a href='https://wandb.ai/cs24m019-iitm/DL_Assignment_3/sweeps/az4eniz8' target=\"_blank\">https://wandb.ai/cs24m019-iitm/DL_Assignment_3/sweeps/az4eniz8</a>"
      ],
      "text/plain": [
       "<IPython.core.display.HTML object>"
      ]
     },
     "metadata": {},
     "output_type": "display_data"
    },
    {
     "data": {
      "text/html": [
       " View project at <a href='https://wandb.ai/cs24m019-iitm/DL_Assignment_3' target=\"_blank\">https://wandb.ai/cs24m019-iitm/DL_Assignment_3</a>"
      ],
      "text/plain": [
       "<IPython.core.display.HTML object>"
      ]
     },
     "metadata": {},
     "output_type": "display_data"
    },
    {
     "data": {
      "text/html": [
       " View sweep at <a href='https://wandb.ai/cs24m019-iitm/DL_Assignment_3/sweeps/az4eniz8' target=\"_blank\">https://wandb.ai/cs24m019-iitm/DL_Assignment_3/sweeps/az4eniz8</a>"
      ],
      "text/plain": [
       "<IPython.core.display.HTML object>"
      ]
     },
     "metadata": {},
     "output_type": "display_data"
    },
    {
     "data": {
      "text/html": [
       " View run at <a href='https://wandb.ai/cs24m019-iitm/DL_Assignment_3/runs/ly756fpn' target=\"_blank\">https://wandb.ai/cs24m019-iitm/DL_Assignment_3/runs/ly756fpn</a>"
      ],
      "text/plain": [
       "<IPython.core.display.HTML object>"
      ]
     },
     "metadata": {},
     "output_type": "display_data"
    },
    {
     "name": "stderr",
     "output_type": "stream",
     "text": [
      "/usr/local/lib/python3.11/dist-packages/torch/nn/modules/rnn.py:123: UserWarning: dropout option adds dropout after all but last recurrent layer, so non-zero dropout expects num_layers greater than 1, but got dropout=0.3 and num_layers=1\n",
      "  warnings.warn(\n"
     ]
    },
    {
     "name": "stdout",
     "output_type": "stream",
     "text": [
      "Seq2Seq(\n",
      "  (decoder): Decoder(\n",
      "    (dropout): Dropout(p=0.3, inplace=False)\n",
      "    (embedding): Embedding(29, 256)\n",
      "    (rnn): GRU(256, 512, dropout=0.3, bidirectional=True)\n",
      "    (fc): Linear(in_features=1024, out_features=29, bias=True)\n",
      "    (log_softmax): LogSoftmax(dim=1)\n",
      "  )\n",
      "  (encoder): Encoder(\n",
      "    (dropout): Dropout(p=0.3, inplace=False)\n",
      "    (embedding): Embedding(66, 256)\n",
      "    (rnn): GRU(256, 512, dropout=0.3, bidirectional=True)\n",
      "  )\n",
      ")\n",
      "Total Trainable Parameters: 4784925\n"
     ]
    },
    {
     "name": "stderr",
     "output_type": "stream",
     "text": [
      "100%|██████████| 1382/1382 [00:53<00:00, 25.84it/s]\n",
      "100%|██████████| 137/137 [00:01<00:00, 90.83it/s]\n",
      "100%|██████████| 4358/4358 [00:30<00:00, 140.59it/s]\n"
     ]
    },
    {
     "name": "stdout",
     "output_type": "stream",
     "text": [
      "Epoch 1 / 10 ===========================>\n",
      "Train Accuracy Char: 58.3505, Train Average Loss: 1.3790\n",
      "Validation Accuracy Char: 55.8673, Validation Average Loss: 1.5293\n",
      "Beam Val Word Accuracy: 6.8839 Correct Prediction : 300/4358\n"
     ]
    },
    {
     "name": "stderr",
     "output_type": "stream",
     "text": [
      "100%|██████████| 1382/1382 [00:53<00:00, 25.71it/s]\n",
      "100%|██████████| 137/137 [00:01<00:00, 88.87it/s]\n",
      "100%|██████████| 4358/4358 [00:31<00:00, 138.65it/s]\n"
     ]
    },
    {
     "name": "stdout",
     "output_type": "stream",
     "text": [
      "Epoch 2 / 10 ===========================>\n",
      "Train Accuracy Char: 70.3657, Train Average Loss: 0.9840\n",
      "Validation Accuracy Char: 62.6635, Validation Average Loss: 1.2695\n",
      "Beam Val Word Accuracy: 14.4332 Correct Prediction : 629/4358\n"
     ]
    },
    {
     "name": "stderr",
     "output_type": "stream",
     "text": [
      "100%|██████████| 1382/1382 [00:53<00:00, 25.66it/s]\n",
      "100%|██████████| 137/137 [00:01<00:00, 90.07it/s]\n",
      "100%|██████████| 4358/4358 [00:31<00:00, 136.36it/s]\n"
     ]
    },
    {
     "name": "stdout",
     "output_type": "stream",
     "text": [
      "Epoch 3 / 10 ===========================>\n",
      "Train Accuracy Char: 73.9494, Train Average Loss: 0.8698\n",
      "Validation Accuracy Char: 67.0881, Validation Average Loss: 1.0942\n",
      "Beam Val Word Accuracy: 20.4681 Correct Prediction : 892/4358\n"
     ]
    },
    {
     "name": "stderr",
     "output_type": "stream",
     "text": [
      "100%|██████████| 1382/1382 [00:53<00:00, 25.77it/s]\n",
      "100%|██████████| 137/137 [00:01<00:00, 90.38it/s]\n",
      "100%|██████████| 4358/4358 [00:32<00:00, 134.88it/s]\n"
     ]
    },
    {
     "name": "stdout",
     "output_type": "stream",
     "text": [
      "Epoch 4 / 10 ===========================>\n",
      "Train Accuracy Char: 75.5776, Train Average Loss: 0.8142\n",
      "Validation Accuracy Char: 69.5804, Validation Average Loss: 1.0142\n",
      "Beam Val Word Accuracy: 25.1033 Correct Prediction : 1094/4358\n"
     ]
    },
    {
     "name": "stderr",
     "output_type": "stream",
     "text": [
      "100%|██████████| 1382/1382 [00:53<00:00, 25.77it/s]\n",
      "100%|██████████| 137/137 [00:01<00:00, 89.62it/s]\n",
      "100%|██████████| 4358/4358 [00:32<00:00, 134.82it/s]\n"
     ]
    },
    {
     "name": "stdout",
     "output_type": "stream",
     "text": [
      "Epoch 5 / 10 ===========================>\n",
      "Train Accuracy Char: 76.6284, Train Average Loss: 0.7753\n",
      "Validation Accuracy Char: 70.3358, Validation Average Loss: 0.9876\n",
      "Beam Val Word Accuracy: 28.4075 Correct Prediction : 1238/4358\n"
     ]
    },
    {
     "name": "stderr",
     "output_type": "stream",
     "text": [
      "100%|██████████| 1382/1382 [00:53<00:00, 25.68it/s]\n",
      "100%|██████████| 137/137 [00:01<00:00, 91.52it/s]\n",
      "100%|██████████| 4358/4358 [00:32<00:00, 135.30it/s]\n"
     ]
    },
    {
     "name": "stdout",
     "output_type": "stream",
     "text": [
      "Epoch 6 / 10 ===========================>\n",
      "Train Accuracy Char: 77.3612, Train Average Loss: 0.7489\n",
      "Validation Accuracy Char: 72.0548, Validation Average Loss: 0.9320\n",
      "Beam Val Word Accuracy: 30.2432 Correct Prediction : 1318/4358\n"
     ]
    },
    {
     "name": "stderr",
     "output_type": "stream",
     "text": [
      "100%|██████████| 1382/1382 [00:53<00:00, 25.79it/s]\n",
      "100%|██████████| 137/137 [00:01<00:00, 89.54it/s]\n",
      "100%|██████████| 4358/4358 [00:32<00:00, 135.07it/s]\n"
     ]
    },
    {
     "name": "stdout",
     "output_type": "stream",
     "text": [
      "Epoch 7 / 10 ===========================>\n",
      "Train Accuracy Char: 77.9676, Train Average Loss: 0.7259\n",
      "Validation Accuracy Char: 72.4993, Validation Average Loss: 0.9152\n",
      "Beam Val Word Accuracy: 32.3313 Correct Prediction : 1409/4358\n"
     ]
    },
    {
     "name": "stderr",
     "output_type": "stream",
     "text": [
      "100%|██████████| 1382/1382 [00:53<00:00, 25.73it/s]\n",
      "100%|██████████| 137/137 [00:01<00:00, 87.12it/s]\n",
      "100%|██████████| 4358/4358 [00:32<00:00, 134.82it/s]\n"
     ]
    },
    {
     "name": "stdout",
     "output_type": "stream",
     "text": [
      "Epoch 8 / 10 ===========================>\n",
      "Train Accuracy Char: 78.3883, Train Average Loss: 0.7102\n",
      "Validation Accuracy Char: 73.5862, Validation Average Loss: 0.8721\n",
      "Beam Val Word Accuracy: 33.5704 Correct Prediction : 1463/4358\n"
     ]
    },
    {
     "name": "stderr",
     "output_type": "stream",
     "text": [
      "100%|██████████| 1382/1382 [00:53<00:00, 25.71it/s]\n",
      "100%|██████████| 137/137 [00:01<00:00, 90.29it/s]\n",
      "100%|██████████| 4358/4358 [00:32<00:00, 134.33it/s]\n"
     ]
    },
    {
     "name": "stdout",
     "output_type": "stream",
     "text": [
      "Epoch 9 / 10 ===========================>\n",
      "Train Accuracy Char: 78.7356, Train Average Loss: 0.6974\n",
      "Validation Accuracy Char: 73.9664, Validation Average Loss: 0.8662\n",
      "Beam Val Word Accuracy: 35.4291 Correct Prediction : 1544/4358\n"
     ]
    },
    {
     "name": "stderr",
     "output_type": "stream",
     "text": [
      "100%|██████████| 1382/1382 [00:53<00:00, 25.65it/s]\n",
      "100%|██████████| 137/137 [00:01<00:00, 88.50it/s]\n",
      "100%|██████████| 4358/4358 [00:32<00:00, 135.01it/s]"
     ]
    },
    {
     "name": "stdout",
     "output_type": "stream",
     "text": [
      "Epoch 10 / 10 ===========================>\n",
      "Train Accuracy Char: 79.0120, Train Average Loss: 0.6869\n",
      "Validation Accuracy Char: 74.4007, Validation Average Loss: 0.8541\n",
      "Beam Val Word Accuracy: 36.2552 Correct Prediction : 1580/4358\n"
     ]
    },
    {
     "name": "stderr",
     "output_type": "stream",
     "text": [
      "\n"
     ]
    },
    {
     "data": {
      "text/html": [],
      "text/plain": [
       "<IPython.core.display.HTML object>"
      ]
     },
     "metadata": {},
     "output_type": "display_data"
    },
    {
     "data": {
      "text/html": [
       "<br>    <style><br>        .wandb-row {<br>            display: flex;<br>            flex-direction: row;<br>            flex-wrap: wrap;<br>            justify-content: flex-start;<br>            width: 100%;<br>        }<br>        .wandb-col {<br>            display: flex;<br>            flex-direction: column;<br>            flex-basis: 100%;<br>            flex: 1;<br>            padding: 10px;<br>        }<br>    </style><br><div class=\"wandb-row\"><div class=\"wandb-col\"><h3>Run history:</h3><br/><table class=\"wandb\"><tr><td>accuracy</td><td>▁</td></tr><tr><td>beam_val_accuracy_word</td><td>▁▃▄▅▆▇▇▇██</td></tr><tr><td>train_accuracy_char</td><td>▁▅▆▇▇▇████</td></tr><tr><td>train_loss</td><td>█▄▃▂▂▂▁▁▁▁</td></tr><tr><td>val_accuracy_char</td><td>▁▄▅▆▆▇▇███</td></tr><tr><td>val_loss</td><td>█▅▃▃▂▂▂▁▁▁</td></tr></table><br/></div><div class=\"wandb-col\"><h3>Run summary:</h3><br/><table class=\"wandb\"><tr><td>accuracy</td><td>36.25516</td></tr><tr><td>beam_val_accuracy_word</td><td>36.25516</td></tr><tr><td>train_accuracy_char</td><td>79.01198</td></tr><tr><td>train_loss</td><td>0.68693</td></tr><tr><td>val_accuracy_char</td><td>74.40068</td></tr><tr><td>val_loss</td><td>0.85413</td></tr></table><br/></div></div>"
      ],
      "text/plain": [
       "<IPython.core.display.HTML object>"
      ]
     },
     "metadata": {},
     "output_type": "display_data"
    },
    {
     "data": {
      "text/html": [
       " View run <strong style=\"color:#cdcd00\">cell_GRU_bs_32_ep_10_op_adagrad_drop_0.3_bsw_1_emb_256_hs_512_elayer_1_dlayer_1</strong> at: <a href='https://wandb.ai/cs24m019-iitm/DL_Assignment_3/runs/ly756fpn' target=\"_blank\">https://wandb.ai/cs24m019-iitm/DL_Assignment_3/runs/ly756fpn</a><br> View project at: <a href='https://wandb.ai/cs24m019-iitm/DL_Assignment_3' target=\"_blank\">https://wandb.ai/cs24m019-iitm/DL_Assignment_3</a><br>Synced 5 W&B file(s), 0 media file(s), 0 artifact file(s) and 0 other file(s)"
      ],
      "text/plain": [
       "<IPython.core.display.HTML object>"
      ]
     },
     "metadata": {},
     "output_type": "display_data"
    },
    {
     "data": {
      "text/html": [
       "Find logs at: <code>./wandb/run-20250518_121034-ly756fpn/logs</code>"
      ],
      "text/plain": [
       "<IPython.core.display.HTML object>"
      ]
     },
     "metadata": {},
     "output_type": "display_data"
    },
    {
     "name": "stderr",
     "output_type": "stream",
     "text": [
      "\u001b[34m\u001b[1mwandb\u001b[0m: Agent Starting Run: flc5y841 with config:\n",
      "\u001b[34m\u001b[1mwandb\u001b[0m: \tbatch_size: 32\n",
      "\u001b[34m\u001b[1mwandb\u001b[0m: \tbeam_search_width: 4\n",
      "\u001b[34m\u001b[1mwandb\u001b[0m: \tbidirectional: True\n",
      "\u001b[34m\u001b[1mwandb\u001b[0m: \tcell_type: RNN\n",
      "\u001b[34m\u001b[1mwandb\u001b[0m: \tdropout: 0.3\n",
      "\u001b[34m\u001b[1mwandb\u001b[0m: \tembedding_size: 256\n",
      "\u001b[34m\u001b[1mwandb\u001b[0m: \thidden_size: 1024\n",
      "\u001b[34m\u001b[1mwandb\u001b[0m: \tlearning_rate: 0.001\n",
      "\u001b[34m\u001b[1mwandb\u001b[0m: \tlength_penalty: 0.6\n",
      "\u001b[34m\u001b[1mwandb\u001b[0m: \tnum_epochs: 10\n",
      "\u001b[34m\u001b[1mwandb\u001b[0m: \tnum_layers: 2\n",
      "\u001b[34m\u001b[1mwandb\u001b[0m: \toptimizer: adagrad\n",
      "\u001b[34m\u001b[1mwandb\u001b[0m: \tteacher_forcing: 0.7\n"
     ]
    },
    {
     "data": {
      "text/html": [
       "Ignoring project 'DL_Assignment_3' when running a sweep."
      ],
      "text/plain": [
       "<IPython.core.display.HTML object>"
      ]
     },
     "metadata": {},
     "output_type": "display_data"
    },
    {
     "data": {
      "text/html": [
       "Tracking run with wandb version 0.19.9"
      ],
      "text/plain": [
       "<IPython.core.display.HTML object>"
      ]
     },
     "metadata": {},
     "output_type": "display_data"
    },
    {
     "data": {
      "text/html": [
       "Run data is saved locally in <code>/kaggle/working/wandb/run-20250518_122526-flc5y841</code>"
      ],
      "text/plain": [
       "<IPython.core.display.HTML object>"
      ]
     },
     "metadata": {},
     "output_type": "display_data"
    },
    {
     "data": {
      "text/html": [
       "Syncing run <strong><a href='https://wandb.ai/cs24m019-iitm/DL_Assignment_3/runs/flc5y841' target=\"_blank\">different-sweep-37</a></strong> to <a href='https://wandb.ai/cs24m019-iitm/DL_Assignment_3' target=\"_blank\">Weights & Biases</a> (<a href='https://wandb.me/developer-guide' target=\"_blank\">docs</a>)<br>Sweep page: <a href='https://wandb.ai/cs24m019-iitm/DL_Assignment_3/sweeps/az4eniz8' target=\"_blank\">https://wandb.ai/cs24m019-iitm/DL_Assignment_3/sweeps/az4eniz8</a>"
      ],
      "text/plain": [
       "<IPython.core.display.HTML object>"
      ]
     },
     "metadata": {},
     "output_type": "display_data"
    },
    {
     "data": {
      "text/html": [
       " View project at <a href='https://wandb.ai/cs24m019-iitm/DL_Assignment_3' target=\"_blank\">https://wandb.ai/cs24m019-iitm/DL_Assignment_3</a>"
      ],
      "text/plain": [
       "<IPython.core.display.HTML object>"
      ]
     },
     "metadata": {},
     "output_type": "display_data"
    },
    {
     "data": {
      "text/html": [
       " View sweep at <a href='https://wandb.ai/cs24m019-iitm/DL_Assignment_3/sweeps/az4eniz8' target=\"_blank\">https://wandb.ai/cs24m019-iitm/DL_Assignment_3/sweeps/az4eniz8</a>"
      ],
      "text/plain": [
       "<IPython.core.display.HTML object>"
      ]
     },
     "metadata": {},
     "output_type": "display_data"
    },
    {
     "data": {
      "text/html": [
       " View run at <a href='https://wandb.ai/cs24m019-iitm/DL_Assignment_3/runs/flc5y841' target=\"_blank\">https://wandb.ai/cs24m019-iitm/DL_Assignment_3/runs/flc5y841</a>"
      ],
      "text/plain": [
       "<IPython.core.display.HTML object>"
      ]
     },
     "metadata": {},
     "output_type": "display_data"
    },
    {
     "name": "stdout",
     "output_type": "stream",
     "text": [
      "Seq2Seq(\n",
      "  (decoder): Decoder(\n",
      "    (dropout): Dropout(p=0.3, inplace=False)\n",
      "    (embedding): Embedding(29, 256)\n",
      "    (rnn): RNN(256, 1024, num_layers=2, dropout=0.3, bidirectional=True)\n",
      "    (fc): Linear(in_features=2048, out_features=29, bias=True)\n",
      "    (log_softmax): LogSoftmax(dim=1)\n",
      "  )\n",
      "  (encoder): Encoder(\n",
      "    (dropout): Dropout(p=0.3, inplace=False)\n",
      "    (embedding): Embedding(66, 256)\n",
      "    (rnn): RNN(256, 1024, num_layers=2, dropout=0.3, bidirectional=True)\n",
      "  )\n",
      ")\n",
      "Total Trainable Parameters: 17925917\n"
     ]
    },
    {
     "name": "stderr",
     "output_type": "stream",
     "text": [
      "100%|██████████| 1382/1382 [01:23<00:00, 16.57it/s]\n",
      "100%|██████████| 137/137 [00:02<00:00, 65.56it/s]\n",
      "100%|██████████| 4358/4358 [02:00<00:00, 36.15it/s]\n"
     ]
    },
    {
     "name": "stdout",
     "output_type": "stream",
     "text": [
      "Epoch 1 / 10 ===========================>\n",
      "Train Accuracy Char: 45.4323, Train Average Loss: 1.8956\n",
      "Validation Accuracy Char: 36.5323, Validation Average Loss: 2.2659\n",
      "Beam Val Word Accuracy: 0.1836 Correct Prediction : 8/4358\n"
     ]
    },
    {
     "name": "stderr",
     "output_type": "stream",
     "text": [
      "100%|██████████| 1382/1382 [01:23<00:00, 16.52it/s]\n",
      "100%|██████████| 137/137 [00:02<00:00, 64.14it/s]\n",
      "100%|██████████| 4358/4358 [02:04<00:00, 34.87it/s]\n"
     ]
    },
    {
     "name": "stdout",
     "output_type": "stream",
     "text": [
      "Epoch 2 / 10 ===========================>\n",
      "Train Accuracy Char: 53.9298, Train Average Loss: 1.5506\n",
      "Validation Accuracy Char: 44.5078, Validation Average Loss: 1.8367\n",
      "Beam Val Word Accuracy: 0.6884 Correct Prediction : 30/4358\n"
     ]
    },
    {
     "name": "stderr",
     "output_type": "stream",
     "text": [
      "100%|██████████| 1382/1382 [01:23<00:00, 16.52it/s]\n",
      "100%|██████████| 137/137 [00:02<00:00, 63.94it/s]\n",
      "100%|██████████| 4358/4358 [02:07<00:00, 34.26it/s]\n"
     ]
    },
    {
     "name": "stdout",
     "output_type": "stream",
     "text": [
      "Epoch 3 / 10 ===========================>\n",
      "Train Accuracy Char: 58.0267, Train Average Loss: 1.4016\n",
      "Validation Accuracy Char: 49.8060, Validation Average Loss: 1.6158\n",
      "Beam Val Word Accuracy: 3.5796 Correct Prediction : 156/4358\n"
     ]
    },
    {
     "name": "stderr",
     "output_type": "stream",
     "text": [
      "100%|██████████| 1382/1382 [01:23<00:00, 16.53it/s]\n",
      "100%|██████████| 137/137 [00:02<00:00, 64.49it/s]\n",
      "100%|██████████| 4358/4358 [02:09<00:00, 33.58it/s]\n"
     ]
    },
    {
     "name": "stdout",
     "output_type": "stream",
     "text": [
      "Epoch 4 / 10 ===========================>\n",
      "Train Accuracy Char: 60.1058, Train Average Loss: 1.3261\n",
      "Validation Accuracy Char: 52.9690, Validation Average Loss: 1.5389\n",
      "Beam Val Word Accuracy: 4.5893 Correct Prediction : 200/4358\n"
     ]
    },
    {
     "name": "stderr",
     "output_type": "stream",
     "text": [
      "100%|██████████| 1382/1382 [01:23<00:00, 16.54it/s]\n",
      "100%|██████████| 137/137 [00:02<00:00, 63.97it/s]\n",
      "100%|██████████| 4358/4358 [02:10<00:00, 33.39it/s]\n"
     ]
    },
    {
     "name": "stdout",
     "output_type": "stream",
     "text": [
      "Epoch 5 / 10 ===========================>\n",
      "Train Accuracy Char: 61.4588, Train Average Loss: 1.2743\n",
      "Validation Accuracy Char: 55.2712, Validation Average Loss: 1.4632\n",
      "Beam Val Word Accuracy: 7.0216 Correct Prediction : 306/4358\n"
     ]
    },
    {
     "name": "stderr",
     "output_type": "stream",
     "text": [
      "100%|██████████| 1382/1382 [01:23<00:00, 16.49it/s]\n",
      "100%|██████████| 137/137 [00:02<00:00, 64.09it/s]\n",
      "100%|██████████| 4358/4358 [02:11<00:00, 33.21it/s]\n"
     ]
    },
    {
     "name": "stdout",
     "output_type": "stream",
     "text": [
      "Epoch 6 / 10 ===========================>\n",
      "Train Accuracy Char: 62.5625, Train Average Loss: 1.2357\n",
      "Validation Accuracy Char: 55.8673, Validation Average Loss: 1.4258\n",
      "Beam Val Word Accuracy: 8.0083 Correct Prediction : 349/4358\n"
     ]
    },
    {
     "name": "stderr",
     "output_type": "stream",
     "text": [
      "100%|██████████| 1382/1382 [01:23<00:00, 16.52it/s]\n",
      "100%|██████████| 137/137 [00:02<00:00, 64.23it/s]\n",
      "100%|██████████| 4358/4358 [02:11<00:00, 33.21it/s]\n"
     ]
    },
    {
     "name": "stdout",
     "output_type": "stream",
     "text": [
      "Epoch 7 / 10 ===========================>\n",
      "Train Accuracy Char: 63.3442, Train Average Loss: 1.2088\n",
      "Validation Accuracy Char: 57.7404, Validation Average Loss: 1.3686\n",
      "Beam Val Word Accuracy: 10.1423 Correct Prediction : 442/4358\n"
     ]
    },
    {
     "name": "stderr",
     "output_type": "stream",
     "text": [
      "100%|██████████| 1382/1382 [01:23<00:00, 16.51it/s]\n",
      "100%|██████████| 137/137 [00:02<00:00, 64.52it/s]\n",
      "100%|██████████| 4358/4358 [02:11<00:00, 33.23it/s]\n"
     ]
    },
    {
     "name": "stdout",
     "output_type": "stream",
     "text": [
      "Epoch 8 / 10 ===========================>\n",
      "Train Accuracy Char: 64.2229, Train Average Loss: 1.1801\n",
      "Validation Accuracy Char: 58.9249, Validation Average Loss: 1.3356\n",
      "Beam Val Word Accuracy: 11.6108 Correct Prediction : 506/4358\n"
     ]
    },
    {
     "name": "stderr",
     "output_type": "stream",
     "text": [
      "100%|██████████| 1382/1382 [01:23<00:00, 16.53it/s]\n",
      "100%|██████████| 137/137 [00:02<00:00, 64.44it/s]\n",
      "100%|██████████| 4358/4358 [02:12<00:00, 32.85it/s]\n"
     ]
    },
    {
     "name": "stdout",
     "output_type": "stream",
     "text": [
      "Epoch 9 / 10 ===========================>\n",
      "Train Accuracy Char: 64.8113, Train Average Loss: 1.1611\n",
      "Validation Accuracy Char: 61.2503, Validation Average Loss: 1.2628\n",
      "Beam Val Word Accuracy: 15.6953 Correct Prediction : 684/4358\n"
     ]
    },
    {
     "name": "stderr",
     "output_type": "stream",
     "text": [
      "100%|██████████| 1382/1382 [01:23<00:00, 16.52it/s]\n",
      "100%|██████████| 137/137 [00:02<00:00, 64.03it/s]\n",
      "100%|██████████| 4358/4358 [02:14<00:00, 32.51it/s]"
     ]
    },
    {
     "name": "stdout",
     "output_type": "stream",
     "text": [
      "Epoch 10 / 10 ===========================>\n",
      "Train Accuracy Char: 65.5717, Train Average Loss: 1.1351\n",
      "Validation Accuracy Char: 62.2190, Validation Average Loss: 1.2490\n",
      "Beam Val Word Accuracy: 18.1735 Correct Prediction : 792/4358\n"
     ]
    },
    {
     "name": "stderr",
     "output_type": "stream",
     "text": [
      "\n"
     ]
    },
    {
     "data": {
      "text/html": [],
      "text/plain": [
       "<IPython.core.display.HTML object>"
      ]
     },
     "metadata": {},
     "output_type": "display_data"
    },
    {
     "data": {
      "text/html": [
       "<br>    <style><br>        .wandb-row {<br>            display: flex;<br>            flex-direction: row;<br>            flex-wrap: wrap;<br>            justify-content: flex-start;<br>            width: 100%;<br>        }<br>        .wandb-col {<br>            display: flex;<br>            flex-direction: column;<br>            flex-basis: 100%;<br>            flex: 1;<br>            padding: 10px;<br>        }<br>    </style><br><div class=\"wandb-row\"><div class=\"wandb-col\"><h3>Run history:</h3><br/><table class=\"wandb\"><tr><td>accuracy</td><td>▁</td></tr><tr><td>beam_val_accuracy_word</td><td>▁▁▂▃▄▄▅▅▇█</td></tr><tr><td>train_accuracy_char</td><td>▁▄▅▆▇▇▇███</td></tr><tr><td>train_loss</td><td>█▅▃▃▂▂▂▁▁▁</td></tr><tr><td>val_accuracy_char</td><td>▁▃▅▅▆▆▇▇██</td></tr><tr><td>val_loss</td><td>█▅▄▃▂▂▂▂▁▁</td></tr></table><br/></div><div class=\"wandb-col\"><h3>Run summary:</h3><br/><table class=\"wandb\"><tr><td>accuracy</td><td>18.17347</td></tr><tr><td>beam_val_accuracy_word</td><td>18.17347</td></tr><tr><td>train_accuracy_char</td><td>65.57171</td></tr><tr><td>train_loss</td><td>1.13508</td></tr><tr><td>val_accuracy_char</td><td>62.21897</td></tr><tr><td>val_loss</td><td>1.249</td></tr></table><br/></div></div>"
      ],
      "text/plain": [
       "<IPython.core.display.HTML object>"
      ]
     },
     "metadata": {},
     "output_type": "display_data"
    },
    {
     "data": {
      "text/html": [
       " View run <strong style=\"color:#cdcd00\">cell_RNN_bs_32_ep_10_op_adagrad_drop_0.3_bsw_4_emb_256_hs_1024_elayer_2_dlayer_2</strong> at: <a href='https://wandb.ai/cs24m019-iitm/DL_Assignment_3/runs/flc5y841' target=\"_blank\">https://wandb.ai/cs24m019-iitm/DL_Assignment_3/runs/flc5y841</a><br> View project at: <a href='https://wandb.ai/cs24m019-iitm/DL_Assignment_3' target=\"_blank\">https://wandb.ai/cs24m019-iitm/DL_Assignment_3</a><br>Synced 5 W&B file(s), 0 media file(s), 0 artifact file(s) and 0 other file(s)"
      ],
      "text/plain": [
       "<IPython.core.display.HTML object>"
      ]
     },
     "metadata": {},
     "output_type": "display_data"
    },
    {
     "data": {
      "text/html": [
       "Find logs at: <code>./wandb/run-20250518_122526-flc5y841/logs</code>"
      ],
      "text/plain": [
       "<IPython.core.display.HTML object>"
      ]
     },
     "metadata": {},
     "output_type": "display_data"
    },
    {
     "name": "stderr",
     "output_type": "stream",
     "text": [
      "\u001b[34m\u001b[1mwandb\u001b[0m: Agent Starting Run: y8abin59 with config:\n",
      "\u001b[34m\u001b[1mwandb\u001b[0m: \tbatch_size: 32\n",
      "\u001b[34m\u001b[1mwandb\u001b[0m: \tbeam_search_width: 1\n",
      "\u001b[34m\u001b[1mwandb\u001b[0m: \tbidirectional: True\n",
      "\u001b[34m\u001b[1mwandb\u001b[0m: \tcell_type: GRU\n",
      "\u001b[34m\u001b[1mwandb\u001b[0m: \tdropout: 0.3\n",
      "\u001b[34m\u001b[1mwandb\u001b[0m: \tembedding_size: 256\n",
      "\u001b[34m\u001b[1mwandb\u001b[0m: \thidden_size: 1024\n",
      "\u001b[34m\u001b[1mwandb\u001b[0m: \tlearning_rate: 0.01\n",
      "\u001b[34m\u001b[1mwandb\u001b[0m: \tlength_penalty: 0.6\n",
      "\u001b[34m\u001b[1mwandb\u001b[0m: \tnum_epochs: 10\n",
      "\u001b[34m\u001b[1mwandb\u001b[0m: \tnum_layers: 2\n",
      "\u001b[34m\u001b[1mwandb\u001b[0m: \toptimizer: adagrad\n",
      "\u001b[34m\u001b[1mwandb\u001b[0m: \tteacher_forcing: 0.7\n"
     ]
    },
    {
     "data": {
      "text/html": [
       "Ignoring project 'DL_Assignment_3' when running a sweep."
      ],
      "text/plain": [
       "<IPython.core.display.HTML object>"
      ]
     },
     "metadata": {},
     "output_type": "display_data"
    },
    {
     "data": {
      "text/html": [
       "Tracking run with wandb version 0.19.9"
      ],
      "text/plain": [
       "<IPython.core.display.HTML object>"
      ]
     },
     "metadata": {},
     "output_type": "display_data"
    },
    {
     "data": {
      "text/html": [
       "Run data is saved locally in <code>/kaggle/working/wandb/run-20250518_130133-y8abin59</code>"
      ],
      "text/plain": [
       "<IPython.core.display.HTML object>"
      ]
     },
     "metadata": {},
     "output_type": "display_data"
    },
    {
     "data": {
      "text/html": [
       "Syncing run <strong><a href='https://wandb.ai/cs24m019-iitm/DL_Assignment_3/runs/y8abin59' target=\"_blank\">dauntless-sweep-38</a></strong> to <a href='https://wandb.ai/cs24m019-iitm/DL_Assignment_3' target=\"_blank\">Weights & Biases</a> (<a href='https://wandb.me/developer-guide' target=\"_blank\">docs</a>)<br>Sweep page: <a href='https://wandb.ai/cs24m019-iitm/DL_Assignment_3/sweeps/az4eniz8' target=\"_blank\">https://wandb.ai/cs24m019-iitm/DL_Assignment_3/sweeps/az4eniz8</a>"
      ],
      "text/plain": [
       "<IPython.core.display.HTML object>"
      ]
     },
     "metadata": {},
     "output_type": "display_data"
    },
    {
     "data": {
      "text/html": [
       " View project at <a href='https://wandb.ai/cs24m019-iitm/DL_Assignment_3' target=\"_blank\">https://wandb.ai/cs24m019-iitm/DL_Assignment_3</a>"
      ],
      "text/plain": [
       "<IPython.core.display.HTML object>"
      ]
     },
     "metadata": {},
     "output_type": "display_data"
    },
    {
     "data": {
      "text/html": [
       " View sweep at <a href='https://wandb.ai/cs24m019-iitm/DL_Assignment_3/sweeps/az4eniz8' target=\"_blank\">https://wandb.ai/cs24m019-iitm/DL_Assignment_3/sweeps/az4eniz8</a>"
      ],
      "text/plain": [
       "<IPython.core.display.HTML object>"
      ]
     },
     "metadata": {},
     "output_type": "display_data"
    },
    {
     "data": {
      "text/html": [
       " View run at <a href='https://wandb.ai/cs24m019-iitm/DL_Assignment_3/runs/y8abin59' target=\"_blank\">https://wandb.ai/cs24m019-iitm/DL_Assignment_3/runs/y8abin59</a>"
      ],
      "text/plain": [
       "<IPython.core.display.HTML object>"
      ]
     },
     "metadata": {},
     "output_type": "display_data"
    },
    {
     "name": "stdout",
     "output_type": "stream",
     "text": [
      "Seq2Seq(\n",
      "  (decoder): Decoder(\n",
      "    (dropout): Dropout(p=0.3, inplace=False)\n",
      "    (embedding): Embedding(29, 256)\n",
      "    (rnn): GRU(256, 1024, num_layers=2, dropout=0.3, bidirectional=True)\n",
      "    (fc): Linear(in_features=2048, out_features=29, bias=True)\n",
      "    (log_softmax): LogSoftmax(dim=1)\n",
      "  )\n",
      "  (encoder): Encoder(\n",
      "    (dropout): Dropout(p=0.3, inplace=False)\n",
      "    (embedding): Embedding(66, 256)\n",
      "    (rnn): GRU(256, 1024, num_layers=2, dropout=0.3, bidirectional=True)\n",
      "  )\n",
      ")\n",
      "Total Trainable Parameters: 53610269\n"
     ]
    },
    {
     "name": "stderr",
     "output_type": "stream",
     "text": [
      "100%|██████████| 1382/1382 [03:36<00:00,  6.37it/s]\n",
      "100%|██████████| 137/137 [00:05<00:00, 23.27it/s]\n",
      "100%|██████████| 4358/4358 [00:51<00:00, 84.15it/s]\n"
     ]
    },
    {
     "name": "stdout",
     "output_type": "stream",
     "text": [
      "Epoch 1 / 10 ===========================>\n",
      "Train Accuracy Char: 43.2292, Train Average Loss: 2.1351\n",
      "Validation Accuracy Char: 38.9681, Validation Average Loss: 2.3466\n",
      "Beam Val Word Accuracy: 0.4130 Correct Prediction : 18/4358\n"
     ]
    },
    {
     "name": "stderr",
     "output_type": "stream",
     "text": [
      "100%|██████████| 1382/1382 [03:35<00:00,  6.41it/s]\n",
      "100%|██████████| 137/137 [00:05<00:00, 23.35it/s]\n",
      "100%|██████████| 4358/4358 [00:54<00:00, 80.10it/s]\n"
     ]
    },
    {
     "name": "stdout",
     "output_type": "stream",
     "text": [
      "Epoch 2 / 10 ===========================>\n",
      "Train Accuracy Char: 64.3658, Train Average Loss: 1.1716\n",
      "Validation Accuracy Char: 58.0976, Validation Average Loss: 1.4828\n",
      "Beam Val Word Accuracy: 3.8091 Correct Prediction : 166/4358\n"
     ]
    },
    {
     "name": "stderr",
     "output_type": "stream",
     "text": [
      "100%|██████████| 1382/1382 [03:35<00:00,  6.41it/s]\n",
      "100%|██████████| 137/137 [00:05<00:00, 23.10it/s]\n",
      "100%|██████████| 4358/4358 [00:54<00:00, 79.74it/s]\n"
     ]
    },
    {
     "name": "stdout",
     "output_type": "stream",
     "text": [
      "Epoch 3 / 10 ===========================>\n",
      "Train Accuracy Char: 72.2357, Train Average Loss: 0.9250\n",
      "Validation Accuracy Char: 64.3285, Validation Average Loss: 1.2263\n",
      "Beam Val Word Accuracy: 11.7944 Correct Prediction : 514/4358\n"
     ]
    },
    {
     "name": "stderr",
     "output_type": "stream",
     "text": [
      "100%|██████████| 1382/1382 [03:35<00:00,  6.40it/s]\n",
      "100%|██████████| 137/137 [00:05<00:00, 23.08it/s]\n",
      "100%|██████████| 4358/4358 [00:55<00:00, 78.94it/s]\n"
     ]
    },
    {
     "name": "stdout",
     "output_type": "stream",
     "text": [
      "Epoch 4 / 10 ===========================>\n",
      "Train Accuracy Char: 75.5424, Train Average Loss: 0.8124\n",
      "Validation Accuracy Char: 67.3424, Validation Average Loss: 1.0844\n",
      "Beam Val Word Accuracy: 17.3015 Correct Prediction : 754/4358\n"
     ]
    },
    {
     "name": "stderr",
     "output_type": "stream",
     "text": [
      "100%|██████████| 1382/1382 [03:35<00:00,  6.41it/s]\n",
      "100%|██████████| 137/137 [00:05<00:00, 23.27it/s]\n",
      "100%|██████████| 4358/4358 [00:55<00:00, 78.90it/s]\n"
     ]
    },
    {
     "name": "stdout",
     "output_type": "stream",
     "text": [
      "Epoch 5 / 10 ===========================>\n",
      "Train Accuracy Char: 77.0007, Train Average Loss: 0.7580\n",
      "Validation Accuracy Char: 69.3158, Validation Average Loss: 1.0147\n",
      "Beam Val Word Accuracy: 21.8219 Correct Prediction : 951/4358\n"
     ]
    },
    {
     "name": "stderr",
     "output_type": "stream",
     "text": [
      "100%|██████████| 1382/1382 [03:35<00:00,  6.41it/s]\n",
      "100%|██████████| 137/137 [00:05<00:00, 23.16it/s]\n",
      "100%|██████████| 4358/4358 [00:55<00:00, 78.93it/s]\n"
     ]
    },
    {
     "name": "stdout",
     "output_type": "stream",
     "text": [
      "Epoch 6 / 10 ===========================>\n",
      "Train Accuracy Char: 78.0800, Train Average Loss: 0.7162\n",
      "Validation Accuracy Char: 72.2346, Validation Average Loss: 0.9232\n",
      "Beam Val Word Accuracy: 29.2336 Correct Prediction : 1274/4358\n"
     ]
    },
    {
     "name": "stderr",
     "output_type": "stream",
     "text": [
      "100%|██████████| 1382/1382 [03:35<00:00,  6.41it/s]\n",
      "100%|██████████| 137/137 [00:05<00:00, 23.23it/s]\n",
      "100%|██████████| 4358/4358 [00:55<00:00, 78.87it/s]\n"
     ]
    },
    {
     "name": "stdout",
     "output_type": "stream",
     "text": [
      "Epoch 7 / 10 ===========================>\n",
      "Train Accuracy Char: 78.8310, Train Average Loss: 0.6889\n",
      "Validation Accuracy Char: 73.5168, Validation Average Loss: 0.8748\n",
      "Beam Val Word Accuracy: 32.2855 Correct Prediction : 1407/4358\n"
     ]
    },
    {
     "name": "stderr",
     "output_type": "stream",
     "text": [
      "100%|██████████| 1382/1382 [03:35<00:00,  6.42it/s]\n",
      "100%|██████████| 137/137 [00:05<00:00, 23.33it/s]\n",
      "100%|██████████| 4358/4358 [00:55<00:00, 78.98it/s]\n"
     ]
    },
    {
     "name": "stdout",
     "output_type": "stream",
     "text": [
      "Epoch 8 / 10 ===========================>\n",
      "Train Accuracy Char: 79.4588, Train Average Loss: 0.6620\n",
      "Validation Accuracy Char: 74.5677, Validation Average Loss: 0.8392\n",
      "Beam Val Word Accuracy: 34.8554 Correct Prediction : 1519/4358\n"
     ]
    },
    {
     "name": "stderr",
     "output_type": "stream",
     "text": [
      "100%|██████████| 1382/1382 [03:35<00:00,  6.42it/s]\n",
      "100%|██████████| 137/137 [00:05<00:00, 23.14it/s]\n",
      "100%|██████████| 4358/4358 [00:55<00:00, 79.04it/s]\n"
     ]
    },
    {
     "name": "stdout",
     "output_type": "stream",
     "text": [
      "Epoch 9 / 10 ===========================>\n",
      "Train Accuracy Char: 80.0013, Train Average Loss: 0.6402\n",
      "Validation Accuracy Char: 75.2203, Validation Average Loss: 0.8343\n",
      "Beam Val Word Accuracy: 38.3433 Correct Prediction : 1671/4358\n"
     ]
    },
    {
     "name": "stderr",
     "output_type": "stream",
     "text": [
      "100%|██████████| 1382/1382 [03:35<00:00,  6.41it/s]\n",
      "100%|██████████| 137/137 [00:05<00:00, 23.28it/s]\n",
      "100%|██████████| 4358/4358 [00:55<00:00, 78.91it/s]\n"
     ]
    },
    {
     "name": "stdout",
     "output_type": "stream",
     "text": [
      "Epoch 10 / 10 ===========================>\n",
      "Train Accuracy Char: 80.2019, Train Average Loss: 0.6310\n",
      "Validation Accuracy Char: 76.1582, Validation Average Loss: 0.8001\n",
      "Beam Val Word Accuracy: 39.7430 Correct Prediction : 1732/4358\n"
     ]
    },
    {
     "data": {
      "text/html": [],
      "text/plain": [
       "<IPython.core.display.HTML object>"
      ]
     },
     "metadata": {},
     "output_type": "display_data"
    },
    {
     "data": {
      "text/html": [
       "<br>    <style><br>        .wandb-row {<br>            display: flex;<br>            flex-direction: row;<br>            flex-wrap: wrap;<br>            justify-content: flex-start;<br>            width: 100%;<br>        }<br>        .wandb-col {<br>            display: flex;<br>            flex-direction: column;<br>            flex-basis: 100%;<br>            flex: 1;<br>            padding: 10px;<br>        }<br>    </style><br><div class=\"wandb-row\"><div class=\"wandb-col\"><h3>Run history:</h3><br/><table class=\"wandb\"><tr><td>accuracy</td><td>▁</td></tr><tr><td>beam_val_accuracy_word</td><td>▁▂▃▄▅▆▇▇██</td></tr><tr><td>train_accuracy_char</td><td>▁▅▆▇▇█████</td></tr><tr><td>train_loss</td><td>█▄▂▂▂▁▁▁▁▁</td></tr><tr><td>val_accuracy_char</td><td>▁▅▆▆▇▇████</td></tr><tr><td>val_loss</td><td>█▄▃▂▂▂▁▁▁▁</td></tr></table><br/></div><div class=\"wandb-col\"><h3>Run summary:</h3><br/><table class=\"wandb\"><tr><td>accuracy</td><td>39.743</td></tr><tr><td>beam_val_accuracy_word</td><td>39.743</td></tr><tr><td>train_accuracy_char</td><td>80.20194</td></tr><tr><td>train_loss</td><td>0.63102</td></tr><tr><td>val_accuracy_char</td><td>76.15817</td></tr><tr><td>val_loss</td><td>0.80015</td></tr></table><br/></div></div>"
      ],
      "text/plain": [
       "<IPython.core.display.HTML object>"
      ]
     },
     "metadata": {},
     "output_type": "display_data"
    },
    {
     "data": {
      "text/html": [
       " View run <strong style=\"color:#cdcd00\">cell_GRU_bs_32_ep_10_op_adagrad_drop_0.3_bsw_1_emb_256_hs_1024_elayer_2_dlayer_2</strong> at: <a href='https://wandb.ai/cs24m019-iitm/DL_Assignment_3/runs/y8abin59' target=\"_blank\">https://wandb.ai/cs24m019-iitm/DL_Assignment_3/runs/y8abin59</a><br> View project at: <a href='https://wandb.ai/cs24m019-iitm/DL_Assignment_3' target=\"_blank\">https://wandb.ai/cs24m019-iitm/DL_Assignment_3</a><br>Synced 5 W&B file(s), 0 media file(s), 0 artifact file(s) and 0 other file(s)"
      ],
      "text/plain": [
       "<IPython.core.display.HTML object>"
      ]
     },
     "metadata": {},
     "output_type": "display_data"
    },
    {
     "data": {
      "text/html": [
       "Find logs at: <code>./wandb/run-20250518_130133-y8abin59/logs</code>"
      ],
      "text/plain": [
       "<IPython.core.display.HTML object>"
      ]
     },
     "metadata": {},
     "output_type": "display_data"
    },
    {
     "name": "stderr",
     "output_type": "stream",
     "text": [
      "\u001b[34m\u001b[1mwandb\u001b[0m: Agent Starting Run: xg8m3aqe with config:\n",
      "\u001b[34m\u001b[1mwandb\u001b[0m: \tbatch_size: 32\n",
      "\u001b[34m\u001b[1mwandb\u001b[0m: \tbeam_search_width: 1\n",
      "\u001b[34m\u001b[1mwandb\u001b[0m: \tbidirectional: True\n",
      "\u001b[34m\u001b[1mwandb\u001b[0m: \tcell_type: RNN\n",
      "\u001b[34m\u001b[1mwandb\u001b[0m: \tdropout: 0.3\n",
      "\u001b[34m\u001b[1mwandb\u001b[0m: \tembedding_size: 256\n",
      "\u001b[34m\u001b[1mwandb\u001b[0m: \thidden_size: 512\n",
      "\u001b[34m\u001b[1mwandb\u001b[0m: \tlearning_rate: 0.01\n",
      "\u001b[34m\u001b[1mwandb\u001b[0m: \tlength_penalty: 0.6\n",
      "\u001b[34m\u001b[1mwandb\u001b[0m: \tnum_epochs: 10\n",
      "\u001b[34m\u001b[1mwandb\u001b[0m: \tnum_layers: 2\n",
      "\u001b[34m\u001b[1mwandb\u001b[0m: \toptimizer: adagrad\n",
      "\u001b[34m\u001b[1mwandb\u001b[0m: \tteacher_forcing: 0.7\n"
     ]
    },
    {
     "data": {
      "text/html": [
       "Ignoring project 'DL_Assignment_3' when running a sweep."
      ],
      "text/plain": [
       "<IPython.core.display.HTML object>"
      ]
     },
     "metadata": {},
     "output_type": "display_data"
    },
    {
     "data": {
      "text/html": [
       "Tracking run with wandb version 0.19.9"
      ],
      "text/plain": [
       "<IPython.core.display.HTML object>"
      ]
     },
     "metadata": {},
     "output_type": "display_data"
    },
    {
     "data": {
      "text/html": [
       "Run data is saved locally in <code>/kaggle/working/wandb/run-20250518_134754-xg8m3aqe</code>"
      ],
      "text/plain": [
       "<IPython.core.display.HTML object>"
      ]
     },
     "metadata": {},
     "output_type": "display_data"
    },
    {
     "data": {
      "text/html": [
       "Syncing run <strong><a href='https://wandb.ai/cs24m019-iitm/DL_Assignment_3/runs/xg8m3aqe' target=\"_blank\">noble-sweep-39</a></strong> to <a href='https://wandb.ai/cs24m019-iitm/DL_Assignment_3' target=\"_blank\">Weights & Biases</a> (<a href='https://wandb.me/developer-guide' target=\"_blank\">docs</a>)<br>Sweep page: <a href='https://wandb.ai/cs24m019-iitm/DL_Assignment_3/sweeps/az4eniz8' target=\"_blank\">https://wandb.ai/cs24m019-iitm/DL_Assignment_3/sweeps/az4eniz8</a>"
      ],
      "text/plain": [
       "<IPython.core.display.HTML object>"
      ]
     },
     "metadata": {},
     "output_type": "display_data"
    },
    {
     "data": {
      "text/html": [
       " View project at <a href='https://wandb.ai/cs24m019-iitm/DL_Assignment_3' target=\"_blank\">https://wandb.ai/cs24m019-iitm/DL_Assignment_3</a>"
      ],
      "text/plain": [
       "<IPython.core.display.HTML object>"
      ]
     },
     "metadata": {},
     "output_type": "display_data"
    },
    {
     "data": {
      "text/html": [
       " View sweep at <a href='https://wandb.ai/cs24m019-iitm/DL_Assignment_3/sweeps/az4eniz8' target=\"_blank\">https://wandb.ai/cs24m019-iitm/DL_Assignment_3/sweeps/az4eniz8</a>"
      ],
      "text/plain": [
       "<IPython.core.display.HTML object>"
      ]
     },
     "metadata": {},
     "output_type": "display_data"
    },
    {
     "data": {
      "text/html": [
       " View run at <a href='https://wandb.ai/cs24m019-iitm/DL_Assignment_3/runs/xg8m3aqe' target=\"_blank\">https://wandb.ai/cs24m019-iitm/DL_Assignment_3/runs/xg8m3aqe</a>"
      ],
      "text/plain": [
       "<IPython.core.display.HTML object>"
      ]
     },
     "metadata": {},
     "output_type": "display_data"
    },
    {
     "name": "stdout",
     "output_type": "stream",
     "text": [
      "Seq2Seq(\n",
      "  (decoder): Decoder(\n",
      "    (dropout): Dropout(p=0.3, inplace=False)\n",
      "    (embedding): Embedding(29, 256)\n",
      "    (rnn): RNN(256, 512, num_layers=2, dropout=0.3, bidirectional=True)\n",
      "    (fc): Linear(in_features=1024, out_features=29, bias=True)\n",
      "    (log_softmax): LogSoftmax(dim=1)\n",
      "  )\n",
      "  (encoder): Encoder(\n",
      "    (dropout): Dropout(p=0.3, inplace=False)\n",
      "    (embedding): Embedding(66, 256)\n",
      "    (rnn): RNN(256, 512, num_layers=2, dropout=0.3, bidirectional=True)\n",
      "  )\n",
      ")\n",
      "Total Trainable Parameters: 4780829\n"
     ]
    },
    {
     "name": "stderr",
     "output_type": "stream",
     "text": [
      "100%|██████████| 1382/1382 [01:01<00:00, 22.38it/s]\n",
      "100%|██████████| 137/137 [00:01<00:00, 76.47it/s]\n",
      "100%|██████████| 4358/4358 [00:30<00:00, 145.26it/s]\n"
     ]
    },
    {
     "name": "stdout",
     "output_type": "stream",
     "text": [
      "Epoch 1 / 10 ===========================>\n",
      "Train Accuracy Char: 36.0528, Train Average Loss: 2.2909\n",
      "Validation Accuracy Char: 19.5277, Validation Average Loss: 2.9653\n",
      "Beam Val Word Accuracy: 0.0000 Correct Prediction : 0/4358\n"
     ]
    },
    {
     "name": "stderr",
     "output_type": "stream",
     "text": [
      "100%|██████████| 1382/1382 [01:01<00:00, 22.52it/s]\n",
      "100%|██████████| 137/137 [00:01<00:00, 77.51it/s]\n",
      "100%|██████████| 4358/4358 [00:32<00:00, 136.15it/s]\n"
     ]
    },
    {
     "name": "stdout",
     "output_type": "stream",
     "text": [
      "Epoch 2 / 10 ===========================>\n",
      "Train Accuracy Char: 37.9426, Train Average Loss: 2.1698\n",
      "Validation Accuracy Char: 22.6573, Validation Average Loss: 2.8637\n",
      "Beam Val Word Accuracy: 0.0229 Correct Prediction : 1/4358\n"
     ]
    },
    {
     "name": "stderr",
     "output_type": "stream",
     "text": [
      "100%|██████████| 1382/1382 [01:01<00:00, 22.49it/s]\n",
      "100%|██████████| 137/137 [00:01<00:00, 75.92it/s]\n",
      "100%|██████████| 4358/4358 [00:32<00:00, 134.89it/s]\n"
     ]
    },
    {
     "name": "stdout",
     "output_type": "stream",
     "text": [
      "Epoch 3 / 10 ===========================>\n",
      "Train Accuracy Char: 39.4764, Train Average Loss: 2.0944\n",
      "Validation Accuracy Char: 23.8084, Validation Average Loss: 2.8129\n",
      "Beam Val Word Accuracy: 0.0229 Correct Prediction : 1/4358\n"
     ]
    },
    {
     "name": "stderr",
     "output_type": "stream",
     "text": [
      "100%|██████████| 1382/1382 [01:01<00:00, 22.42it/s]\n",
      "100%|██████████| 137/137 [00:01<00:00, 76.24it/s]\n",
      "100%|██████████| 4358/4358 [00:32<00:00, 134.43it/s]\n"
     ]
    },
    {
     "name": "stdout",
     "output_type": "stream",
     "text": [
      "Epoch 4 / 10 ===========================>\n",
      "Train Accuracy Char: 40.9875, Train Average Loss: 2.0389\n",
      "Validation Accuracy Char: 27.1461, Validation Average Loss: 2.6865\n",
      "Beam Val Word Accuracy: 0.0459 Correct Prediction : 2/4358\n"
     ]
    },
    {
     "name": "stderr",
     "output_type": "stream",
     "text": [
      "100%|██████████| 1382/1382 [01:01<00:00, 22.42it/s]\n",
      "100%|██████████| 137/137 [00:01<00:00, 74.60it/s]\n",
      "100%|██████████| 4358/4358 [00:33<00:00, 132.04it/s]\n"
     ]
    },
    {
     "name": "stdout",
     "output_type": "stream",
     "text": [
      "Epoch 5 / 10 ===========================>\n",
      "Train Accuracy Char: 42.3201, Train Average Loss: 1.9890\n",
      "Validation Accuracy Char: 29.3635, Validation Average Loss: 2.5084\n",
      "Beam Val Word Accuracy: 0.0229 Correct Prediction : 1/4358\n"
     ]
    },
    {
     "name": "stderr",
     "output_type": "stream",
     "text": [
      "100%|██████████| 1382/1382 [01:01<00:00, 22.44it/s]\n",
      "100%|██████████| 137/137 [00:01<00:00, 75.87it/s]\n",
      "100%|██████████| 4358/4358 [00:33<00:00, 128.63it/s]\n"
     ]
    },
    {
     "name": "stdout",
     "output_type": "stream",
     "text": [
      "Epoch 6 / 10 ===========================>\n",
      "Train Accuracy Char: 43.7626, Train Average Loss: 1.9428\n",
      "Validation Accuracy Char: 31.8739, Validation Average Loss: 2.3876\n",
      "Beam Val Word Accuracy: 0.0459 Correct Prediction : 2/4358\n"
     ]
    },
    {
     "name": "stderr",
     "output_type": "stream",
     "text": [
      "100%|██████████| 1382/1382 [01:01<00:00, 22.48it/s]\n",
      "100%|██████████| 137/137 [00:01<00:00, 77.97it/s]\n",
      "100%|██████████| 4358/4358 [00:33<00:00, 130.69it/s]\n"
     ]
    },
    {
     "name": "stdout",
     "output_type": "stream",
     "text": [
      "Epoch 7 / 10 ===========================>\n",
      "Train Accuracy Char: 45.8661, Train Average Loss: 1.8746\n",
      "Validation Accuracy Char: 34.6617, Validation Average Loss: 2.2838\n",
      "Beam Val Word Accuracy: 0.0688 Correct Prediction : 3/4358\n"
     ]
    },
    {
     "name": "stderr",
     "output_type": "stream",
     "text": [
      "100%|██████████| 1382/1382 [01:01<00:00, 22.49it/s]\n",
      "100%|██████████| 137/137 [00:01<00:00, 76.12it/s]\n",
      "100%|██████████| 4358/4358 [00:33<00:00, 131.03it/s]\n"
     ]
    },
    {
     "name": "stdout",
     "output_type": "stream",
     "text": [
      "Epoch 8 / 10 ===========================>\n",
      "Train Accuracy Char: 47.3802, Train Average Loss: 1.8151\n",
      "Validation Accuracy Char: 37.1335, Validation Average Loss: 2.1726\n",
      "Beam Val Word Accuracy: 0.2295 Correct Prediction : 10/4358\n"
     ]
    },
    {
     "name": "stderr",
     "output_type": "stream",
     "text": [
      "100%|██████████| 1382/1382 [01:01<00:00, 22.51it/s]\n",
      "100%|██████████| 137/137 [00:01<00:00, 75.04it/s]\n",
      "100%|██████████| 4358/4358 [00:33<00:00, 129.52it/s]\n"
     ]
    },
    {
     "name": "stdout",
     "output_type": "stream",
     "text": [
      "Epoch 9 / 10 ===========================>\n",
      "Train Accuracy Char: 48.6715, Train Average Loss: 1.7553\n",
      "Validation Accuracy Char: 38.5981, Validation Average Loss: 2.1064\n",
      "Beam Val Word Accuracy: 0.2295 Correct Prediction : 10/4358\n"
     ]
    },
    {
     "name": "stderr",
     "output_type": "stream",
     "text": [
      "100%|██████████| 1382/1382 [01:01<00:00, 22.45it/s]\n",
      "100%|██████████| 137/137 [00:01<00:00, 76.77it/s]\n",
      "100%|██████████| 4358/4358 [00:34<00:00, 127.71it/s]"
     ]
    },
    {
     "name": "stdout",
     "output_type": "stream",
     "text": [
      "Epoch 10 / 10 ===========================>\n",
      "Train Accuracy Char: 50.0655, Train Average Loss: 1.7036\n",
      "Validation Accuracy Char: 41.5710, Validation Average Loss: 1.9949\n",
      "Beam Val Word Accuracy: 0.4360 Correct Prediction : 19/4358\n"
     ]
    },
    {
     "name": "stderr",
     "output_type": "stream",
     "text": [
      "\n"
     ]
    },
    {
     "data": {
      "text/html": [],
      "text/plain": [
       "<IPython.core.display.HTML object>"
      ]
     },
     "metadata": {},
     "output_type": "display_data"
    },
    {
     "data": {
      "text/html": [
       "<br>    <style><br>        .wandb-row {<br>            display: flex;<br>            flex-direction: row;<br>            flex-wrap: wrap;<br>            justify-content: flex-start;<br>            width: 100%;<br>        }<br>        .wandb-col {<br>            display: flex;<br>            flex-direction: column;<br>            flex-basis: 100%;<br>            flex: 1;<br>            padding: 10px;<br>        }<br>    </style><br><div class=\"wandb-row\"><div class=\"wandb-col\"><h3>Run history:</h3><br/><table class=\"wandb\"><tr><td>accuracy</td><td>▁</td></tr><tr><td>beam_val_accuracy_word</td><td>▁▁▁▂▁▂▂▅▅█</td></tr><tr><td>train_accuracy_char</td><td>▁▂▃▃▄▅▆▇▇█</td></tr><tr><td>train_loss</td><td>█▇▆▅▄▄▃▂▂▁</td></tr><tr><td>val_accuracy_char</td><td>▁▂▂▃▄▅▆▇▇█</td></tr><tr><td>val_loss</td><td>█▇▇▆▅▄▃▂▂▁</td></tr></table><br/></div><div class=\"wandb-col\"><h3>Run summary:</h3><br/><table class=\"wandb\"><tr><td>accuracy</td><td>0.43598</td></tr><tr><td>beam_val_accuracy_word</td><td>0.43598</td></tr><tr><td>train_accuracy_char</td><td>50.06554</td></tr><tr><td>train_loss</td><td>1.70356</td></tr><tr><td>val_accuracy_char</td><td>41.57096</td></tr><tr><td>val_loss</td><td>1.99493</td></tr></table><br/></div></div>"
      ],
      "text/plain": [
       "<IPython.core.display.HTML object>"
      ]
     },
     "metadata": {},
     "output_type": "display_data"
    },
    {
     "data": {
      "text/html": [
       " View run <strong style=\"color:#cdcd00\">cell_RNN_bs_32_ep_10_op_adagrad_drop_0.3_bsw_1_emb_256_hs_512_elayer_2_dlayer_2</strong> at: <a href='https://wandb.ai/cs24m019-iitm/DL_Assignment_3/runs/xg8m3aqe' target=\"_blank\">https://wandb.ai/cs24m019-iitm/DL_Assignment_3/runs/xg8m3aqe</a><br> View project at: <a href='https://wandb.ai/cs24m019-iitm/DL_Assignment_3' target=\"_blank\">https://wandb.ai/cs24m019-iitm/DL_Assignment_3</a><br>Synced 5 W&B file(s), 0 media file(s), 0 artifact file(s) and 0 other file(s)"
      ],
      "text/plain": [
       "<IPython.core.display.HTML object>"
      ]
     },
     "metadata": {},
     "output_type": "display_data"
    },
    {
     "data": {
      "text/html": [
       "Find logs at: <code>./wandb/run-20250518_134754-xg8m3aqe/logs</code>"
      ],
      "text/plain": [
       "<IPython.core.display.HTML object>"
      ]
     },
     "metadata": {},
     "output_type": "display_data"
    },
    {
     "name": "stderr",
     "output_type": "stream",
     "text": [
      "\u001b[34m\u001b[1mwandb\u001b[0m: Agent Starting Run: db99sekn with config:\n",
      "\u001b[34m\u001b[1mwandb\u001b[0m: \tbatch_size: 32\n",
      "\u001b[34m\u001b[1mwandb\u001b[0m: \tbeam_search_width: 4\n",
      "\u001b[34m\u001b[1mwandb\u001b[0m: \tbidirectional: True\n",
      "\u001b[34m\u001b[1mwandb\u001b[0m: \tcell_type: GRU\n",
      "\u001b[34m\u001b[1mwandb\u001b[0m: \tdropout: 0.3\n",
      "\u001b[34m\u001b[1mwandb\u001b[0m: \tembedding_size: 256\n",
      "\u001b[34m\u001b[1mwandb\u001b[0m: \thidden_size: 512\n",
      "\u001b[34m\u001b[1mwandb\u001b[0m: \tlearning_rate: 0.001\n",
      "\u001b[34m\u001b[1mwandb\u001b[0m: \tlength_penalty: 0.6\n",
      "\u001b[34m\u001b[1mwandb\u001b[0m: \tnum_epochs: 10\n",
      "\u001b[34m\u001b[1mwandb\u001b[0m: \tnum_layers: 2\n",
      "\u001b[34m\u001b[1mwandb\u001b[0m: \toptimizer: adagrad\n",
      "\u001b[34m\u001b[1mwandb\u001b[0m: \tteacher_forcing: 0.7\n"
     ]
    },
    {
     "data": {
      "text/html": [
       "Ignoring project 'DL_Assignment_3' when running a sweep."
      ],
      "text/plain": [
       "<IPython.core.display.HTML object>"
      ]
     },
     "metadata": {},
     "output_type": "display_data"
    },
    {
     "data": {
      "text/html": [
       "Tracking run with wandb version 0.19.9"
      ],
      "text/plain": [
       "<IPython.core.display.HTML object>"
      ]
     },
     "metadata": {},
     "output_type": "display_data"
    },
    {
     "data": {
      "text/html": [
       "Run data is saved locally in <code>/kaggle/working/wandb/run-20250518_140411-db99sekn</code>"
      ],
      "text/plain": [
       "<IPython.core.display.HTML object>"
      ]
     },
     "metadata": {},
     "output_type": "display_data"
    },
    {
     "data": {
      "text/html": [
       "Syncing run <strong><a href='https://wandb.ai/cs24m019-iitm/DL_Assignment_3/runs/db99sekn' target=\"_blank\">vibrant-sweep-40</a></strong> to <a href='https://wandb.ai/cs24m019-iitm/DL_Assignment_3' target=\"_blank\">Weights & Biases</a> (<a href='https://wandb.me/developer-guide' target=\"_blank\">docs</a>)<br>Sweep page: <a href='https://wandb.ai/cs24m019-iitm/DL_Assignment_3/sweeps/az4eniz8' target=\"_blank\">https://wandb.ai/cs24m019-iitm/DL_Assignment_3/sweeps/az4eniz8</a>"
      ],
      "text/plain": [
       "<IPython.core.display.HTML object>"
      ]
     },
     "metadata": {},
     "output_type": "display_data"
    },
    {
     "data": {
      "text/html": [
       " View project at <a href='https://wandb.ai/cs24m019-iitm/DL_Assignment_3' target=\"_blank\">https://wandb.ai/cs24m019-iitm/DL_Assignment_3</a>"
      ],
      "text/plain": [
       "<IPython.core.display.HTML object>"
      ]
     },
     "metadata": {},
     "output_type": "display_data"
    },
    {
     "data": {
      "text/html": [
       " View sweep at <a href='https://wandb.ai/cs24m019-iitm/DL_Assignment_3/sweeps/az4eniz8' target=\"_blank\">https://wandb.ai/cs24m019-iitm/DL_Assignment_3/sweeps/az4eniz8</a>"
      ],
      "text/plain": [
       "<IPython.core.display.HTML object>"
      ]
     },
     "metadata": {},
     "output_type": "display_data"
    },
    {
     "data": {
      "text/html": [
       " View run at <a href='https://wandb.ai/cs24m019-iitm/DL_Assignment_3/runs/db99sekn' target=\"_blank\">https://wandb.ai/cs24m019-iitm/DL_Assignment_3/runs/db99sekn</a>"
      ],
      "text/plain": [
       "<IPython.core.display.HTML object>"
      ]
     },
     "metadata": {},
     "output_type": "display_data"
    },
    {
     "name": "stdout",
     "output_type": "stream",
     "text": [
      "Seq2Seq(\n",
      "  (decoder): Decoder(\n",
      "    (dropout): Dropout(p=0.3, inplace=False)\n",
      "    (embedding): Embedding(29, 256)\n",
      "    (rnn): GRU(256, 512, num_layers=2, dropout=0.3, bidirectional=True)\n",
      "    (fc): Linear(in_features=1024, out_features=29, bias=True)\n",
      "    (log_softmax): LogSoftmax(dim=1)\n",
      "  )\n",
      "  (encoder): Encoder(\n",
      "    (dropout): Dropout(p=0.3, inplace=False)\n",
      "    (embedding): Embedding(66, 256)\n",
      "    (rnn): GRU(256, 512, num_layers=2, dropout=0.3, bidirectional=True)\n",
      "  )\n",
      ")\n",
      "Total Trainable Parameters: 14234397\n"
     ]
    },
    {
     "name": "stderr",
     "output_type": "stream",
     "text": [
      "100%|██████████| 1382/1382 [01:22<00:00, 16.75it/s]\n",
      "100%|██████████| 137/137 [00:01<00:00, 71.64it/s]\n",
      "100%|██████████| 4358/4358 [01:59<00:00, 36.35it/s]\n"
     ]
    },
    {
     "name": "stdout",
     "output_type": "stream",
     "text": [
      "Epoch 1 / 10 ===========================>\n",
      "Train Accuracy Char: 42.0385, Train Average Loss: 1.9965\n",
      "Validation Accuracy Char: 34.9546, Validation Average Loss: 2.1596\n",
      "Beam Val Word Accuracy: 0.3442 Correct Prediction : 15/4358\n"
     ]
    },
    {
     "name": "stderr",
     "output_type": "stream",
     "text": [
      "100%|██████████| 1382/1382 [01:22<00:00, 16.78it/s]\n",
      "100%|██████████| 137/137 [00:01<00:00, 72.45it/s]\n",
      "100%|██████████| 4358/4358 [01:59<00:00, 36.44it/s]\n"
     ]
    },
    {
     "name": "stdout",
     "output_type": "stream",
     "text": [
      "Epoch 2 / 10 ===========================>\n",
      "Train Accuracy Char: 50.6882, Train Average Loss: 1.6230\n",
      "Validation Accuracy Char: 42.6296, Validation Average Loss: 1.8514\n",
      "Beam Val Word Accuracy: 2.2946 Correct Prediction : 100/4358\n"
     ]
    },
    {
     "name": "stderr",
     "output_type": "stream",
     "text": [
      "100%|██████████| 1382/1382 [01:22<00:00, 16.74it/s]\n",
      "100%|██████████| 137/137 [00:01<00:00, 72.23it/s]\n",
      "100%|██████████| 4358/4358 [02:04<00:00, 35.09it/s]\n"
     ]
    },
    {
     "name": "stdout",
     "output_type": "stream",
     "text": [
      "Epoch 3 / 10 ===========================>\n",
      "Train Accuracy Char: 55.2860, Train Average Loss: 1.4689\n",
      "Validation Accuracy Char: 47.4241, Validation Average Loss: 1.6883\n",
      "Beam Val Word Accuracy: 5.6448 Correct Prediction : 246/4358\n"
     ]
    },
    {
     "name": "stderr",
     "output_type": "stream",
     "text": [
      "100%|██████████| 1382/1382 [01:22<00:00, 16.77it/s]\n",
      "100%|██████████| 137/137 [00:01<00:00, 72.66it/s]\n",
      "100%|██████████| 4358/4358 [02:05<00:00, 34.66it/s]\n"
     ]
    },
    {
     "name": "stdout",
     "output_type": "stream",
     "text": [
      "Epoch 4 / 10 ===========================>\n",
      "Train Accuracy Char: 58.0933, Train Average Loss: 1.3740\n",
      "Validation Accuracy Char: 51.1318, Validation Average Loss: 1.5647\n",
      "Beam Val Word Accuracy: 7.8017 Correct Prediction : 340/4358\n"
     ]
    },
    {
     "name": "stderr",
     "output_type": "stream",
     "text": [
      "100%|██████████| 1382/1382 [01:22<00:00, 16.81it/s]\n",
      "100%|██████████| 137/137 [00:01<00:00, 72.56it/s]\n",
      "100%|██████████| 4358/4358 [02:05<00:00, 34.73it/s]\n"
     ]
    },
    {
     "name": "stdout",
     "output_type": "stream",
     "text": [
      "Epoch 5 / 10 ===========================>\n",
      "Train Accuracy Char: 60.3117, Train Average Loss: 1.3067\n",
      "Validation Accuracy Char: 53.3416, Validation Average Loss: 1.4968\n",
      "Beam Val Word Accuracy: 9.5227 Correct Prediction : 415/4358\n"
     ]
    },
    {
     "name": "stderr",
     "output_type": "stream",
     "text": [
      "100%|██████████| 1382/1382 [01:22<00:00, 16.80it/s]\n",
      "100%|██████████| 137/137 [00:01<00:00, 72.24it/s]\n",
      "100%|██████████| 4358/4358 [02:07<00:00, 34.16it/s]\n"
     ]
    },
    {
     "name": "stdout",
     "output_type": "stream",
     "text": [
      "Epoch 6 / 10 ===========================>\n",
      "Train Accuracy Char: 61.8390, Train Average Loss: 1.2574\n",
      "Validation Accuracy Char: 55.1684, Validation Average Loss: 1.4495\n",
      "Beam Val Word Accuracy: 11.6567 Correct Prediction : 508/4358\n"
     ]
    },
    {
     "name": "stderr",
     "output_type": "stream",
     "text": [
      "100%|██████████| 1382/1382 [01:22<00:00, 16.81it/s]\n",
      "100%|██████████| 137/137 [00:01<00:00, 72.22it/s]\n",
      "100%|██████████| 4358/4358 [02:08<00:00, 34.01it/s]\n"
     ]
    },
    {
     "name": "stdout",
     "output_type": "stream",
     "text": [
      "Epoch 7 / 10 ===========================>\n",
      "Train Accuracy Char: 62.7167, Train Average Loss: 1.2262\n",
      "Validation Accuracy Char: 55.8699, Validation Average Loss: 1.4283\n",
      "Beam Val Word Accuracy: 13.4924 Correct Prediction : 588/4358\n"
     ]
    },
    {
     "name": "stderr",
     "output_type": "stream",
     "text": [
      "100%|██████████| 1382/1382 [01:22<00:00, 16.81it/s]\n",
      "100%|██████████| 137/137 [00:01<00:00, 72.34it/s]\n",
      "100%|██████████| 4358/4358 [02:08<00:00, 33.83it/s]\n"
     ]
    },
    {
     "name": "stdout",
     "output_type": "stream",
     "text": [
      "Epoch 8 / 10 ===========================>\n",
      "Train Accuracy Char: 63.9180, Train Average Loss: 1.1900\n",
      "Validation Accuracy Char: 58.2877, Validation Average Loss: 1.3471\n",
      "Beam Val Word Accuracy: 14.8463 Correct Prediction : 647/4358\n"
     ]
    },
    {
     "name": "stderr",
     "output_type": "stream",
     "text": [
      "100%|██████████| 1382/1382 [01:22<00:00, 16.79it/s]\n",
      "100%|██████████| 137/137 [00:01<00:00, 72.53it/s]\n",
      "100%|██████████| 4358/4358 [02:10<00:00, 33.30it/s]\n"
     ]
    },
    {
     "name": "stdout",
     "output_type": "stream",
     "text": [
      "Epoch 9 / 10 ===========================>\n",
      "Train Accuracy Char: 64.7882, Train Average Loss: 1.1622\n",
      "Validation Accuracy Char: 58.4984, Validation Average Loss: 1.3598\n",
      "Beam Val Word Accuracy: 15.8788 Correct Prediction : 692/4358\n"
     ]
    },
    {
     "name": "stderr",
     "output_type": "stream",
     "text": [
      "100%|██████████| 1382/1382 [01:22<00:00, 16.84it/s]\n",
      "100%|██████████| 137/137 [00:01<00:00, 71.88it/s]\n",
      "100%|██████████| 4358/4358 [02:11<00:00, 33.25it/s]"
     ]
    },
    {
     "name": "stdout",
     "output_type": "stream",
     "text": [
      "Epoch 10 / 10 ===========================>\n",
      "Train Accuracy Char: 65.4286, Train Average Loss: 1.1440\n",
      "Validation Accuracy Char: 58.5138, Validation Average Loss: 1.3454\n",
      "Beam Val Word Accuracy: 14.9380 Correct Prediction : 651/4358\n"
     ]
    },
    {
     "name": "stderr",
     "output_type": "stream",
     "text": [
      "\n"
     ]
    },
    {
     "data": {
      "text/html": [],
      "text/plain": [
       "<IPython.core.display.HTML object>"
      ]
     },
     "metadata": {},
     "output_type": "display_data"
    },
    {
     "data": {
      "text/html": [
       "<br>    <style><br>        .wandb-row {<br>            display: flex;<br>            flex-direction: row;<br>            flex-wrap: wrap;<br>            justify-content: flex-start;<br>            width: 100%;<br>        }<br>        .wandb-col {<br>            display: flex;<br>            flex-direction: column;<br>            flex-basis: 100%;<br>            flex: 1;<br>            padding: 10px;<br>        }<br>    </style><br><div class=\"wandb-row\"><div class=\"wandb-col\"><h3>Run history:</h3><br/><table class=\"wandb\"><tr><td>accuracy</td><td>▁</td></tr><tr><td>beam_val_accuracy_word</td><td>▁▂▃▄▅▆▇███</td></tr><tr><td>train_accuracy_char</td><td>▁▄▅▆▆▇▇███</td></tr><tr><td>train_loss</td><td>█▅▄▃▂▂▂▁▁▁</td></tr><tr><td>val_accuracy_char</td><td>▁▃▅▆▆▇▇███</td></tr><tr><td>val_loss</td><td>█▅▄▃▂▂▂▁▁▁</td></tr></table><br/></div><div class=\"wandb-col\"><h3>Run summary:</h3><br/><table class=\"wandb\"><tr><td>accuracy</td><td>14.93804</td></tr><tr><td>beam_val_accuracy_word</td><td>14.93804</td></tr><tr><td>train_accuracy_char</td><td>65.42859</td></tr><tr><td>train_loss</td><td>1.14402</td></tr><tr><td>val_accuracy_char</td><td>58.51384</td></tr><tr><td>val_loss</td><td>1.34536</td></tr></table><br/></div></div>"
      ],
      "text/plain": [
       "<IPython.core.display.HTML object>"
      ]
     },
     "metadata": {},
     "output_type": "display_data"
    },
    {
     "data": {
      "text/html": [
       " View run <strong style=\"color:#cdcd00\">cell_GRU_bs_32_ep_10_op_adagrad_drop_0.3_bsw_4_emb_256_hs_512_elayer_2_dlayer_2</strong> at: <a href='https://wandb.ai/cs24m019-iitm/DL_Assignment_3/runs/db99sekn' target=\"_blank\">https://wandb.ai/cs24m019-iitm/DL_Assignment_3/runs/db99sekn</a><br> View project at: <a href='https://wandb.ai/cs24m019-iitm/DL_Assignment_3' target=\"_blank\">https://wandb.ai/cs24m019-iitm/DL_Assignment_3</a><br>Synced 5 W&B file(s), 0 media file(s), 0 artifact file(s) and 0 other file(s)"
      ],
      "text/plain": [
       "<IPython.core.display.HTML object>"
      ]
     },
     "metadata": {},
     "output_type": "display_data"
    },
    {
     "data": {
      "text/html": [
       "Find logs at: <code>./wandb/run-20250518_140411-db99sekn/logs</code>"
      ],
      "text/plain": [
       "<IPython.core.display.HTML object>"
      ]
     },
     "metadata": {},
     "output_type": "display_data"
    },
    {
     "name": "stderr",
     "output_type": "stream",
     "text": [
      "\u001b[34m\u001b[1mwandb\u001b[0m: Agent Starting Run: f8r5vbep with config:\n",
      "\u001b[34m\u001b[1mwandb\u001b[0m: \tbatch_size: 32\n",
      "\u001b[34m\u001b[1mwandb\u001b[0m: \tbeam_search_width: 1\n",
      "\u001b[34m\u001b[1mwandb\u001b[0m: \tbidirectional: True\n",
      "\u001b[34m\u001b[1mwandb\u001b[0m: \tcell_type: GRU\n",
      "\u001b[34m\u001b[1mwandb\u001b[0m: \tdropout: 0.3\n",
      "\u001b[34m\u001b[1mwandb\u001b[0m: \tembedding_size: 256\n",
      "\u001b[34m\u001b[1mwandb\u001b[0m: \thidden_size: 256\n",
      "\u001b[34m\u001b[1mwandb\u001b[0m: \tlearning_rate: 0.01\n",
      "\u001b[34m\u001b[1mwandb\u001b[0m: \tlength_penalty: 0.6\n",
      "\u001b[34m\u001b[1mwandb\u001b[0m: \tnum_epochs: 10\n",
      "\u001b[34m\u001b[1mwandb\u001b[0m: \tnum_layers: 1\n",
      "\u001b[34m\u001b[1mwandb\u001b[0m: \toptimizer: adagrad\n",
      "\u001b[34m\u001b[1mwandb\u001b[0m: \tteacher_forcing: 0.7\n"
     ]
    },
    {
     "data": {
      "text/html": [
       "Ignoring project 'DL_Assignment_3' when running a sweep."
      ],
      "text/plain": [
       "<IPython.core.display.HTML object>"
      ]
     },
     "metadata": {},
     "output_type": "display_data"
    },
    {
     "data": {
      "text/html": [
       "Tracking run with wandb version 0.19.9"
      ],
      "text/plain": [
       "<IPython.core.display.HTML object>"
      ]
     },
     "metadata": {},
     "output_type": "display_data"
    },
    {
     "data": {
      "text/html": [
       "Run data is saved locally in <code>/kaggle/working/wandb/run-20250518_143934-f8r5vbep</code>"
      ],
      "text/plain": [
       "<IPython.core.display.HTML object>"
      ]
     },
     "metadata": {},
     "output_type": "display_data"
    },
    {
     "data": {
      "text/html": [
       "Syncing run <strong><a href='https://wandb.ai/cs24m019-iitm/DL_Assignment_3/runs/f8r5vbep' target=\"_blank\">denim-sweep-41</a></strong> to <a href='https://wandb.ai/cs24m019-iitm/DL_Assignment_3' target=\"_blank\">Weights & Biases</a> (<a href='https://wandb.me/developer-guide' target=\"_blank\">docs</a>)<br>Sweep page: <a href='https://wandb.ai/cs24m019-iitm/DL_Assignment_3/sweeps/az4eniz8' target=\"_blank\">https://wandb.ai/cs24m019-iitm/DL_Assignment_3/sweeps/az4eniz8</a>"
      ],
      "text/plain": [
       "<IPython.core.display.HTML object>"
      ]
     },
     "metadata": {},
     "output_type": "display_data"
    },
    {
     "data": {
      "text/html": [
       " View project at <a href='https://wandb.ai/cs24m019-iitm/DL_Assignment_3' target=\"_blank\">https://wandb.ai/cs24m019-iitm/DL_Assignment_3</a>"
      ],
      "text/plain": [
       "<IPython.core.display.HTML object>"
      ]
     },
     "metadata": {},
     "output_type": "display_data"
    },
    {
     "data": {
      "text/html": [
       " View sweep at <a href='https://wandb.ai/cs24m019-iitm/DL_Assignment_3/sweeps/az4eniz8' target=\"_blank\">https://wandb.ai/cs24m019-iitm/DL_Assignment_3/sweeps/az4eniz8</a>"
      ],
      "text/plain": [
       "<IPython.core.display.HTML object>"
      ]
     },
     "metadata": {},
     "output_type": "display_data"
    },
    {
     "data": {
      "text/html": [
       " View run at <a href='https://wandb.ai/cs24m019-iitm/DL_Assignment_3/runs/f8r5vbep' target=\"_blank\">https://wandb.ai/cs24m019-iitm/DL_Assignment_3/runs/f8r5vbep</a>"
      ],
      "text/plain": [
       "<IPython.core.display.HTML object>"
      ]
     },
     "metadata": {},
     "output_type": "display_data"
    },
    {
     "name": "stderr",
     "output_type": "stream",
     "text": [
      "/usr/local/lib/python3.11/dist-packages/torch/nn/modules/rnn.py:123: UserWarning: dropout option adds dropout after all but last recurrent layer, so non-zero dropout expects num_layers greater than 1, but got dropout=0.3 and num_layers=1\n",
      "  warnings.warn(\n"
     ]
    },
    {
     "name": "stdout",
     "output_type": "stream",
     "text": [
      "Seq2Seq(\n",
      "  (decoder): Decoder(\n",
      "    (dropout): Dropout(p=0.3, inplace=False)\n",
      "    (embedding): Embedding(29, 256)\n",
      "    (rnn): GRU(256, 256, dropout=0.3, bidirectional=True)\n",
      "    (fc): Linear(in_features=512, out_features=29, bias=True)\n",
      "    (log_softmax): LogSoftmax(dim=1)\n",
      "  )\n",
      "  (encoder): Encoder(\n",
      "    (dropout): Dropout(p=0.3, inplace=False)\n",
      "    (embedding): Embedding(66, 256)\n",
      "    (rnn): GRU(256, 256, dropout=0.3, bidirectional=True)\n",
      "  )\n",
      ")\n",
      "Total Trainable Parameters: 1618205\n"
     ]
    },
    {
     "name": "stderr",
     "output_type": "stream",
     "text": [
      "100%|██████████| 1382/1382 [00:51<00:00, 26.72it/s]\n",
      "100%|██████████| 137/137 [00:01<00:00, 93.63it/s]\n",
      "100%|██████████| 4358/4358 [00:29<00:00, 148.24it/s]\n"
     ]
    },
    {
     "name": "stdout",
     "output_type": "stream",
     "text": [
      "Epoch 1 / 10 ===========================>\n",
      "Train Accuracy Char: 54.5598, Train Average Loss: 1.4969\n",
      "Validation Accuracy Char: 51.8307, Validation Average Loss: 1.5464\n",
      "Beam Val Word Accuracy: 6.7462 Correct Prediction : 294/4358\n"
     ]
    },
    {
     "name": "stderr",
     "output_type": "stream",
     "text": [
      "100%|██████████| 1382/1382 [00:51<00:00, 26.72it/s]\n",
      "100%|██████████| 137/137 [00:01<00:00, 94.35it/s]\n",
      "100%|██████████| 4358/4358 [00:30<00:00, 145.02it/s]\n"
     ]
    },
    {
     "name": "stdout",
     "output_type": "stream",
     "text": [
      "Epoch 2 / 10 ===========================>\n",
      "Train Accuracy Char: 64.2895, Train Average Loss: 1.1668\n",
      "Validation Accuracy Char: 60.5488, Validation Average Loss: 1.2880\n",
      "Beam Val Word Accuracy: 14.7545 Correct Prediction : 643/4358\n"
     ]
    },
    {
     "name": "stderr",
     "output_type": "stream",
     "text": [
      "100%|██████████| 1382/1382 [00:51<00:00, 26.68it/s]\n",
      "100%|██████████| 137/137 [00:01<00:00, 95.28it/s]\n",
      "100%|██████████| 4358/4358 [00:30<00:00, 142.58it/s]\n"
     ]
    },
    {
     "name": "stdout",
     "output_type": "stream",
     "text": [
      "Epoch 3 / 10 ===========================>\n",
      "Train Accuracy Char: 68.1228, Train Average Loss: 1.0512\n",
      "Validation Accuracy Char: 65.1738, Validation Average Loss: 1.1435\n",
      "Beam Val Word Accuracy: 19.7109 Correct Prediction : 859/4358\n"
     ]
    },
    {
     "name": "stderr",
     "output_type": "stream",
     "text": [
      "100%|██████████| 1382/1382 [00:51<00:00, 26.61it/s]\n",
      "100%|██████████| 137/137 [00:01<00:00, 92.35it/s]\n",
      "100%|██████████| 4358/4358 [00:30<00:00, 141.45it/s]\n"
     ]
    },
    {
     "name": "stdout",
     "output_type": "stream",
     "text": [
      "Epoch 4 / 10 ===========================>\n",
      "Train Accuracy Char: 70.2593, Train Average Loss: 0.9822\n",
      "Validation Accuracy Char: 67.4529, Validation Average Loss: 1.0742\n",
      "Beam Val Word Accuracy: 23.9559 Correct Prediction : 1044/4358\n"
     ]
    },
    {
     "name": "stderr",
     "output_type": "stream",
     "text": [
      "100%|██████████| 1382/1382 [00:52<00:00, 26.50it/s]\n",
      "100%|██████████| 137/137 [00:01<00:00, 93.61it/s]\n",
      "100%|██████████| 4358/4358 [00:31<00:00, 140.51it/s]\n"
     ]
    },
    {
     "name": "stdout",
     "output_type": "stream",
     "text": [
      "Epoch 5 / 10 ===========================>\n",
      "Train Accuracy Char: 71.7222, Train Average Loss: 0.9393\n",
      "Validation Accuracy Char: 69.2644, Validation Average Loss: 1.0181\n",
      "Beam Val Word Accuracy: 27.1914 Correct Prediction : 1185/4358\n"
     ]
    },
    {
     "name": "stderr",
     "output_type": "stream",
     "text": [
      "100%|██████████| 1382/1382 [00:51<00:00, 26.61it/s]\n",
      "100%|██████████| 137/137 [00:01<00:00, 93.63it/s]\n",
      "100%|██████████| 4358/4358 [00:31<00:00, 140.16it/s]\n"
     ]
    },
    {
     "name": "stdout",
     "output_type": "stream",
     "text": [
      "Epoch 6 / 10 ===========================>\n",
      "Train Accuracy Char: 72.6608, Train Average Loss: 0.9072\n",
      "Validation Accuracy Char: 70.3949, Validation Average Loss: 0.9780\n",
      "Beam Val Word Accuracy: 28.8206 Correct Prediction : 1256/4358\n"
     ]
    },
    {
     "name": "stderr",
     "output_type": "stream",
     "text": [
      "100%|██████████| 1382/1382 [00:52<00:00, 26.54it/s]\n",
      "100%|██████████| 137/137 [00:01<00:00, 95.53it/s]\n",
      "100%|██████████| 4358/4358 [00:31<00:00, 139.95it/s]\n"
     ]
    },
    {
     "name": "stdout",
     "output_type": "stream",
     "text": [
      "Epoch 7 / 10 ===========================>\n",
      "Train Accuracy Char: 73.3432, Train Average Loss: 0.8853\n",
      "Validation Accuracy Char: 70.9833, Validation Average Loss: 0.9641\n",
      "Beam Val Word Accuracy: 30.6563 Correct Prediction : 1336/4358\n"
     ]
    },
    {
     "name": "stderr",
     "output_type": "stream",
     "text": [
      "100%|██████████| 1382/1382 [00:51<00:00, 26.58it/s]\n",
      "100%|██████████| 137/137 [00:01<00:00, 95.39it/s]\n",
      "100%|██████████| 4358/4358 [00:31<00:00, 139.64it/s]\n"
     ]
    },
    {
     "name": "stdout",
     "output_type": "stream",
     "text": [
      "Epoch 8 / 10 ===========================>\n",
      "Train Accuracy Char: 74.0633, Train Average Loss: 0.8604\n",
      "Validation Accuracy Char: 71.7285, Validation Average Loss: 0.9383\n",
      "Beam Val Word Accuracy: 31.4135 Correct Prediction : 1369/4358\n"
     ]
    },
    {
     "name": "stderr",
     "output_type": "stream",
     "text": [
      "100%|██████████| 1382/1382 [00:51<00:00, 26.64it/s]\n",
      "100%|██████████| 137/137 [00:01<00:00, 94.00it/s]\n",
      "100%|██████████| 4358/4358 [00:30<00:00, 140.62it/s]\n"
     ]
    },
    {
     "name": "stdout",
     "output_type": "stream",
     "text": [
      "Epoch 9 / 10 ===========================>\n",
      "Train Accuracy Char: 74.3065, Train Average Loss: 0.8523\n",
      "Validation Accuracy Char: 72.2218, Validation Average Loss: 0.9277\n",
      "Beam Val Word Accuracy: 32.4690 Correct Prediction : 1415/4358\n"
     ]
    },
    {
     "name": "stderr",
     "output_type": "stream",
     "text": [
      "100%|██████████| 1382/1382 [00:52<00:00, 26.55it/s]\n",
      "100%|██████████| 137/137 [00:01<00:00, 94.66it/s]\n",
      "100%|██████████| 4358/4358 [00:31<00:00, 139.91it/s]"
     ]
    },
    {
     "name": "stdout",
     "output_type": "stream",
     "text": [
      "Epoch 10 / 10 ===========================>\n",
      "Train Accuracy Char: 74.9240, Train Average Loss: 0.8313\n",
      "Validation Accuracy Char: 72.4196, Validation Average Loss: 0.9136\n",
      "Beam Val Word Accuracy: 33.0656 Correct Prediction : 1441/4358\n"
     ]
    },
    {
     "name": "stderr",
     "output_type": "stream",
     "text": [
      "\n"
     ]
    },
    {
     "data": {
      "text/html": [],
      "text/plain": [
       "<IPython.core.display.HTML object>"
      ]
     },
     "metadata": {},
     "output_type": "display_data"
    },
    {
     "data": {
      "text/html": [
       "<br>    <style><br>        .wandb-row {<br>            display: flex;<br>            flex-direction: row;<br>            flex-wrap: wrap;<br>            justify-content: flex-start;<br>            width: 100%;<br>        }<br>        .wandb-col {<br>            display: flex;<br>            flex-direction: column;<br>            flex-basis: 100%;<br>            flex: 1;<br>            padding: 10px;<br>        }<br>    </style><br><div class=\"wandb-row\"><div class=\"wandb-col\"><h3>Run history:</h3><br/><table class=\"wandb\"><tr><td>accuracy</td><td>▁</td></tr><tr><td>beam_val_accuracy_word</td><td>▁▃▄▆▆▇▇███</td></tr><tr><td>train_accuracy_char</td><td>▁▄▆▆▇▇▇███</td></tr><tr><td>train_loss</td><td>█▅▃▃▂▂▂▁▁▁</td></tr><tr><td>val_accuracy_char</td><td>▁▄▆▆▇▇████</td></tr><tr><td>val_loss</td><td>█▅▄▃▂▂▂▁▁▁</td></tr></table><br/></div><div class=\"wandb-col\"><h3>Run summary:</h3><br/><table class=\"wandb\"><tr><td>accuracy</td><td>33.06563</td></tr><tr><td>beam_val_accuracy_word</td><td>33.06563</td></tr><tr><td>train_accuracy_char</td><td>74.92395</td></tr><tr><td>train_loss</td><td>0.83127</td></tr><tr><td>val_accuracy_char</td><td>72.41964</td></tr><tr><td>val_loss</td><td>0.91364</td></tr></table><br/></div></div>"
      ],
      "text/plain": [
       "<IPython.core.display.HTML object>"
      ]
     },
     "metadata": {},
     "output_type": "display_data"
    },
    {
     "data": {
      "text/html": [
       " View run <strong style=\"color:#cdcd00\">cell_GRU_bs_32_ep_10_op_adagrad_drop_0.3_bsw_1_emb_256_hs_256_elayer_1_dlayer_1</strong> at: <a href='https://wandb.ai/cs24m019-iitm/DL_Assignment_3/runs/f8r5vbep' target=\"_blank\">https://wandb.ai/cs24m019-iitm/DL_Assignment_3/runs/f8r5vbep</a><br> View project at: <a href='https://wandb.ai/cs24m019-iitm/DL_Assignment_3' target=\"_blank\">https://wandb.ai/cs24m019-iitm/DL_Assignment_3</a><br>Synced 5 W&B file(s), 0 media file(s), 0 artifact file(s) and 0 other file(s)"
      ],
      "text/plain": [
       "<IPython.core.display.HTML object>"
      ]
     },
     "metadata": {},
     "output_type": "display_data"
    },
    {
     "data": {
      "text/html": [
       "Find logs at: <code>./wandb/run-20250518_143934-f8r5vbep/logs</code>"
      ],
      "text/plain": [
       "<IPython.core.display.HTML object>"
      ]
     },
     "metadata": {},
     "output_type": "display_data"
    },
    {
     "name": "stderr",
     "output_type": "stream",
     "text": [
      "\u001b[34m\u001b[1mwandb\u001b[0m: Agent Starting Run: 767i5hoe with config:\n",
      "\u001b[34m\u001b[1mwandb\u001b[0m: \tbatch_size: 32\n",
      "\u001b[34m\u001b[1mwandb\u001b[0m: \tbeam_search_width: 1\n",
      "\u001b[34m\u001b[1mwandb\u001b[0m: \tbidirectional: True\n",
      "\u001b[34m\u001b[1mwandb\u001b[0m: \tcell_type: LSTM\n",
      "\u001b[34m\u001b[1mwandb\u001b[0m: \tdropout: 0.3\n",
      "\u001b[34m\u001b[1mwandb\u001b[0m: \tembedding_size: 256\n",
      "\u001b[34m\u001b[1mwandb\u001b[0m: \thidden_size: 512\n",
      "\u001b[34m\u001b[1mwandb\u001b[0m: \tlearning_rate: 0.01\n",
      "\u001b[34m\u001b[1mwandb\u001b[0m: \tlength_penalty: 0.6\n",
      "\u001b[34m\u001b[1mwandb\u001b[0m: \tnum_epochs: 10\n",
      "\u001b[34m\u001b[1mwandb\u001b[0m: \tnum_layers: 2\n",
      "\u001b[34m\u001b[1mwandb\u001b[0m: \toptimizer: adagrad\n",
      "\u001b[34m\u001b[1mwandb\u001b[0m: \tteacher_forcing: 0.7\n"
     ]
    },
    {
     "data": {
      "text/html": [
       "Ignoring project 'DL_Assignment_3' when running a sweep."
      ],
      "text/plain": [
       "<IPython.core.display.HTML object>"
      ]
     },
     "metadata": {},
     "output_type": "display_data"
    },
    {
     "data": {
      "text/html": [
       "Tracking run with wandb version 0.19.9"
      ],
      "text/plain": [
       "<IPython.core.display.HTML object>"
      ]
     },
     "metadata": {},
     "output_type": "display_data"
    },
    {
     "data": {
      "text/html": [
       "Run data is saved locally in <code>/kaggle/working/wandb/run-20250518_145354-767i5hoe</code>"
      ],
      "text/plain": [
       "<IPython.core.display.HTML object>"
      ]
     },
     "metadata": {},
     "output_type": "display_data"
    },
    {
     "data": {
      "text/html": [
       "Syncing run <strong><a href='https://wandb.ai/cs24m019-iitm/DL_Assignment_3/runs/767i5hoe' target=\"_blank\">twilight-sweep-42</a></strong> to <a href='https://wandb.ai/cs24m019-iitm/DL_Assignment_3' target=\"_blank\">Weights & Biases</a> (<a href='https://wandb.me/developer-guide' target=\"_blank\">docs</a>)<br>Sweep page: <a href='https://wandb.ai/cs24m019-iitm/DL_Assignment_3/sweeps/az4eniz8' target=\"_blank\">https://wandb.ai/cs24m019-iitm/DL_Assignment_3/sweeps/az4eniz8</a>"
      ],
      "text/plain": [
       "<IPython.core.display.HTML object>"
      ]
     },
     "metadata": {},
     "output_type": "display_data"
    },
    {
     "data": {
      "text/html": [
       " View project at <a href='https://wandb.ai/cs24m019-iitm/DL_Assignment_3' target=\"_blank\">https://wandb.ai/cs24m019-iitm/DL_Assignment_3</a>"
      ],
      "text/plain": [
       "<IPython.core.display.HTML object>"
      ]
     },
     "metadata": {},
     "output_type": "display_data"
    },
    {
     "data": {
      "text/html": [
       " View sweep at <a href='https://wandb.ai/cs24m019-iitm/DL_Assignment_3/sweeps/az4eniz8' target=\"_blank\">https://wandb.ai/cs24m019-iitm/DL_Assignment_3/sweeps/az4eniz8</a>"
      ],
      "text/plain": [
       "<IPython.core.display.HTML object>"
      ]
     },
     "metadata": {},
     "output_type": "display_data"
    },
    {
     "data": {
      "text/html": [
       " View run at <a href='https://wandb.ai/cs24m019-iitm/DL_Assignment_3/runs/767i5hoe' target=\"_blank\">https://wandb.ai/cs24m019-iitm/DL_Assignment_3/runs/767i5hoe</a>"
      ],
      "text/plain": [
       "<IPython.core.display.HTML object>"
      ]
     },
     "metadata": {},
     "output_type": "display_data"
    },
    {
     "name": "stdout",
     "output_type": "stream",
     "text": [
      "Seq2Seq(\n",
      "  (decoder): Decoder(\n",
      "    (dropout): Dropout(p=0.3, inplace=False)\n",
      "    (embedding): Embedding(29, 256)\n",
      "    (rnn): LSTM(256, 512, num_layers=2, dropout=0.3, bidirectional=True)\n",
      "    (fc): Linear(in_features=1024, out_features=29, bias=True)\n",
      "    (log_softmax): LogSoftmax(dim=1)\n",
      "  )\n",
      "  (encoder): Encoder(\n",
      "    (dropout): Dropout(p=0.3, inplace=False)\n",
      "    (embedding): Embedding(66, 256)\n",
      "    (rnn): LSTM(256, 512, num_layers=2, dropout=0.3, bidirectional=True)\n",
      "  )\n",
      ")\n",
      "Total Trainable Parameters: 18961181\n"
     ]
    },
    {
     "name": "stderr",
     "output_type": "stream",
     "text": [
      "100%|██████████| 1382/1382 [01:32<00:00, 14.91it/s]\n",
      "100%|██████████| 137/137 [00:02<00:00, 63.35it/s]\n",
      "100%|██████████| 4358/4358 [00:37<00:00, 115.68it/s]\n"
     ]
    },
    {
     "name": "stdout",
     "output_type": "stream",
     "text": [
      "Epoch 1 / 10 ===========================>\n",
      "Train Accuracy Char: 50.3464, Train Average Loss: 1.7020\n",
      "Validation Accuracy Char: 50.1092, Validation Average Loss: 1.6934\n",
      "Beam Val Word Accuracy: 2.8912 Correct Prediction : 126/4358\n"
     ]
    },
    {
     "name": "stderr",
     "output_type": "stream",
     "text": [
      "100%|██████████| 1382/1382 [01:32<00:00, 14.96it/s]\n",
      "100%|██████████| 137/137 [00:02<00:00, 64.86it/s]\n",
      "100%|██████████| 4358/4358 [00:38<00:00, 112.53it/s]\n"
     ]
    },
    {
     "name": "stdout",
     "output_type": "stream",
     "text": [
      "Epoch 2 / 10 ===========================>\n",
      "Train Accuracy Char: 69.0813, Train Average Loss: 1.0258\n",
      "Validation Accuracy Char: 61.9749, Validation Average Loss: 1.2535\n",
      "Beam Val Word Accuracy: 13.5842 Correct Prediction : 592/4358\n"
     ]
    },
    {
     "name": "stderr",
     "output_type": "stream",
     "text": [
      " 53%|█████▎    | 738/1382 [00:49<00:48, 13.32it/s]"
     ]
    }
   ],
   "source": [
    "def main():\n",
    "    wandb.init(project='DL_Assignment_3')\n",
    "    config = wandb.config\n",
    "    wandb.run.name = 'cell_' + config.cell_type + '_bs_' + str(config.batch_size) + '_ep_' + str(config.num_epochs) + '_op_' + str(config.optimizer) + '_drop_' + str(config.dropout) + '_bsw_' + str(config.beam_search_width) +'_emb_' + str(config.embedding_size) + '_hs_' + str(config.hidden_size) + '_elayer_' + str(config.num_layers) + '_dlayer_' + str(config.num_layers)\n",
    "    \n",
    "    # Load Dataset\n",
    "    df_train, train_input_len, train_out_len = load_dataset('/kaggle/input/dakshina-dataset-ass-3/dakshina_dataset_v1.0/hi/lexicons/hi.translit.sampled.train.tsv')\n",
    "    df_val, val_input_len, val_out_len = load_dataset('/kaggle/input/dakshina-dataset-ass-3/dakshina_dataset_v1.0/hi/lexicons/hi.translit.sampled.dev.tsv')\n",
    "    df_test, test_input_len, test_out_len = load_dataset('/kaggle/input/dakshina-dataset-ass-3/dakshina_dataset_v1.0/hi/lexicons/hi.translit.sampled.test.tsv')\n",
    "\n",
    "    input_max_len = max(train_input_len, val_input_len, test_input_len)\n",
    "    output_max_len = max(train_out_len, val_out_len, test_out_len)\n",
    "    \n",
    "    max_length = max(input_max_len, output_max_len)\n",
    "\n",
    "    # Create Look Up Table\n",
    "    input_char_to_int, input_int_to_char = look_up_table(df_train[0], df_val[0], df_test[0])\n",
    "    output_char_to_int, output_int_to_char = look_up_table(df_train[1], df_val[1], df_test[1])\n",
    "\n",
    "    # Data Embedding and Converting them into Tensor\n",
    "    train_inputs, train_outputs = get_tensor_object(df_train, max_length, max_length, input_char_to_int, output_char_to_int)\n",
    "    val_inputs, val_outputs = get_tensor_object(df_val, max_length, max_length, input_char_to_int, output_char_to_int)\n",
    "    test_inputs, test_outputs = get_tensor_object(df_test, max_length, max_length, input_char_to_int, output_char_to_int)\n",
    "\n",
    "    # Transpose column wise\n",
    "    train_inputs, train_outputs = torch.transpose(train_inputs, 0, 1), torch.transpose(train_outputs, 0, 1)\n",
    "    val_inputs, val_outputs = torch.transpose(val_inputs, 0, 1), torch.transpose(val_outputs, 0, 1)\n",
    "    test_inputs, test_outputs = torch.transpose(test_inputs, 0, 1), torch.transpose(test_outputs, 0, 1)\n",
    "\n",
    "\n",
    "    # Initialize Hyperparameters\n",
    "    input_size = len(input_char_to_int)\n",
    "    output_size = len(output_char_to_int)\n",
    "    embedding_size = config.embedding_size\n",
    "    hidden_size = config.hidden_size\n",
    "    enc_num_layers = config.num_layers\n",
    "    dec_num_layers = config.num_layers\n",
    "    cell_type = config.cell_type\n",
    "    dropout = config.dropout\n",
    "    learning_rate = config.learning_rate\n",
    "    batch_size = config.batch_size\n",
    "    num_epochs = config.num_epochs  \n",
    "    optimizer = config.optimizer  \n",
    "    beam_width = config.beam_search_width\n",
    "    bidirectional = config.bidirectional\n",
    "    length_penalty = config.length_penalty\n",
    "    teacher_forcing = config.teacher_forcing\n",
    "    learning_rate = config.learning_rate\n",
    "\n",
    "    # Create train data batch\n",
    "    train_batch_x, train_batch_y = torch.split(train_inputs, batch_size, dim=1), torch.split(train_outputs, batch_size, dim=1)\n",
    "    # Validation data batch\n",
    "    val_batch_x, val_batch_y = torch.split(val_inputs, batch_size, dim=1), torch.split(val_outputs, batch_size, dim=1)\n",
    "\n",
    "\n",
    "    # Intialize encoder, decoder and seq2seq model\n",
    "    encoder = Encoder(input_size, embedding_size, hidden_size, enc_num_layers, dropout, bidirectional, cell_type).to(device)\n",
    "    decoder = Decoder(output_size, embedding_size, hidden_size, output_size, dec_num_layers, dropout, bidirectional, cell_type).to(device)  \n",
    "    model = Seq2Seq(encoder, decoder, output_char_to_int, teacher_forcing, cell_type).to(device)\n",
    "\n",
    "    # Print total number of parameters in the model\n",
    "    total_params = sum(p.numel() for p in model.parameters() if p.requires_grad)\n",
    "    print(model)\n",
    "    print(f'Total Trainable Parameters: {total_params}')\n",
    "\n",
    "\n",
    "    # Loss function and Optimizer\n",
    "    criterion = nn.CrossEntropyLoss()\n",
    "    if optimizer == 'adam':\n",
    "        optimizer = optim.Adam(model.parameters(), lr=learning_rate)\n",
    "    elif optimizer == 'sgd':\n",
    "        optimizer = optim.SGD(model.parameters(), lr=learning_rate)\n",
    "    elif optimizer == 'rmsprop':\n",
    "        optimizer = optim.RMSprop(model.parameters(), lr=learning_rate)\n",
    "    elif optimizer == 'nadam':\n",
    "        optimizer = optim.Adam(model.parameters(), lr=learning_rate)\n",
    "    elif optimizer == 'adagrad':\n",
    "        optimizer = optim.Adagrad(model.parameters(), lr=learning_rate)\n",
    "    else:\n",
    "        print(\"Incorrect Optmizer !!!!\")\n",
    "\n",
    "    # TRAINING\n",
    "    model, acc = train(model, num_epochs, criterion, optimizer, train_batch_x, train_batch_y, val_batch_x, val_batch_y, df_val, input_char_to_int, output_char_to_int, output_int_to_char, beam_width, length_penalty, cell_type, max_length, 1)\n",
    "    wandb.log({\n",
    "            \"accuracy\": acc,\n",
    "        })\n",
    "    \n",
    "# SWEEP CONFIG\n",
    "sweep_config = {\n",
    "    'name': 'sweep_2',\n",
    "    'method': 'bayes',  \n",
    "    'metric': {'name': 'accuracy', 'goal': 'maximize'},\n",
    "    'parameters': {\n",
    "        'embedding_size': {'values': [256]},  \n",
    "        'hidden_size': {'values': [256, 512, 1024]},\n",
    "        'num_layers': {'values': [1, 2]},  \n",
    "        'cell_type': {'values':['LSTM', \"GRU\", \"RNN\"]}, # RNN, LSTM, GRU\n",
    "        'dropout': {'values': [0.3]},\n",
    "        'learning_rate': {'values': [0.01, 0.001]},\n",
    "        'batch_size': {'values': [32]},\n",
    "        'num_epochs': {'values': [10]},\n",
    "        'optimizer': {'values': ['adagrad']}, # ['sgd', 'rmsprop', 'adam', 'nadam']\n",
    "        'beam_search_width': {'values': [1, 4]},\n",
    "        'length_penalty' : {'values': [0.6]},\n",
    "        'bidirectional': {'values': [True]},\n",
    "        'teacher_forcing': {'values': [0.7]}\n",
    "    }\n",
    "}\n",
    "\n",
    "# RUN SWEEP ID with agent\n",
    "# sweep_id = wandb.sweep(sweep_config, project = 'DL_Assignment_3')\n",
    "# wandb.agent(sweep_id, main, count = 30)\n",
    "# wandb.finish()\n",
    "\n",
    "sweep_id = wandb.sweep(sweep_config, project = 'DL_Assignment_3')\n",
    "wandb.agent('az4eniz8', main, count = 30)\n",
    "wandb.finish()"
   ]
  },
  {
   "cell_type": "markdown",
   "metadata": {},
   "source": [
    "## SWEEP CONFIGURATION"
   ]
  },
  {
   "cell_type": "code",
   "execution_count": 22,
   "metadata": {
    "execution": {
     "iopub.execute_input": "2025-05-18T18:00:00.043237Z",
     "iopub.status.busy": "2025-05-18T18:00:00.042592Z",
     "iopub.status.idle": "2025-05-18T18:37:01.085363Z",
     "shell.execute_reply": "2025-05-18T18:37:01.084646Z",
     "shell.execute_reply.started": "2025-05-18T18:00:00.043213Z"
    },
    "trusted": true
   },
   "outputs": [
    {
     "name": "stdout",
     "output_type": "stream",
     "text": [
      "Seq2Seq(\n",
      "  (decoder): Decoder(\n",
      "    (dropout): Dropout(p=0.3, inplace=False)\n",
      "    (embedding): Embedding(29, 256)\n",
      "    (rnn): GRU(256, 512, num_layers=2, dropout=0.3, bidirectional=True)\n",
      "    (fc): Linear(in_features=1024, out_features=29, bias=True)\n",
      "    (log_softmax): LogSoftmax(dim=1)\n",
      "  )\n",
      "  (encoder): Encoder(\n",
      "    (dropout): Dropout(p=0.3, inplace=False)\n",
      "    (embedding): Embedding(66, 256)\n",
      "    (rnn): GRU(256, 512, num_layers=2, dropout=0.3, bidirectional=True)\n",
      "  )\n",
      ")\n",
      "Total Trainable Parameters: 14234397\n"
     ]
    },
    {
     "name": "stderr",
     "output_type": "stream",
     "text": [
      "100%|██████████| 1382/1382 [01:23<00:00, 16.60it/s]\n",
      "100%|██████████| 137/137 [00:01<00:00, 72.83it/s]\n",
      "100%|██████████| 4358/4358 [02:10<00:00, 33.44it/s]\n"
     ]
    },
    {
     "name": "stdout",
     "output_type": "stream",
     "text": [
      "Epoch 1 / 10 ===========================>\n",
      "Train Accuracy Char: 55.4023, Train Average Loss: 1.5227\n",
      "Validation Accuracy Char: 56.2219, Validation Average Loss: 1.5318\n",
      "Beam Val Word Accuracy: 9.3162 Correct Prediction : 406/4358\n"
     ]
    },
    {
     "name": "stderr",
     "output_type": "stream",
     "text": [
      "100%|██████████| 1382/1382 [01:22<00:00, 16.66it/s]\n",
      "100%|██████████| 137/137 [00:01<00:00, 72.72it/s]\n",
      "100%|██████████| 4358/4358 [02:15<00:00, 32.20it/s]\n"
     ]
    },
    {
     "name": "stdout",
     "output_type": "stream",
     "text": [
      "Epoch 2 / 10 ===========================>\n",
      "Train Accuracy Char: 70.7786, Train Average Loss: 0.9655\n",
      "Validation Accuracy Char: 66.1065, Validation Average Loss: 1.1300\n",
      "Beam Val Word Accuracy: 22.1661 Correct Prediction : 966/4358\n"
     ]
    },
    {
     "name": "stderr",
     "output_type": "stream",
     "text": [
      "100%|██████████| 1382/1382 [01:22<00:00, 16.69it/s]\n",
      "100%|██████████| 137/137 [00:01<00:00, 72.54it/s]\n",
      "100%|██████████| 4358/4358 [02:17<00:00, 31.71it/s]\n"
     ]
    },
    {
     "name": "stdout",
     "output_type": "stream",
     "text": [
      "Epoch 3 / 10 ===========================>\n",
      "Train Accuracy Char: 74.5757, Train Average Loss: 0.8437\n",
      "Validation Accuracy Char: 71.6077, Validation Average Loss: 0.9478\n",
      "Beam Val Word Accuracy: 31.9642 Correct Prediction : 1393/4358\n"
     ]
    },
    {
     "name": "stderr",
     "output_type": "stream",
     "text": [
      "100%|██████████| 1382/1382 [01:22<00:00, 16.71it/s]\n",
      "100%|██████████| 137/137 [00:01<00:00, 72.75it/s]\n",
      "100%|██████████| 4358/4358 [02:17<00:00, 31.78it/s]\n"
     ]
    },
    {
     "name": "stdout",
     "output_type": "stream",
     "text": [
      "Epoch 4 / 10 ===========================>\n",
      "Train Accuracy Char: 76.4771, Train Average Loss: 0.7790\n",
      "Validation Accuracy Char: 74.0332, Validation Average Loss: 0.8657\n",
      "Beam Val Word Accuracy: 37.7926 Correct Prediction : 1647/4358\n"
     ]
    },
    {
     "name": "stderr",
     "output_type": "stream",
     "text": [
      "100%|██████████| 1382/1382 [01:23<00:00, 16.62it/s]\n",
      "100%|██████████| 137/137 [00:01<00:00, 72.98it/s]\n",
      "100%|██████████| 4358/4358 [02:17<00:00, 31.59it/s]\n"
     ]
    },
    {
     "name": "stdout",
     "output_type": "stream",
     "text": [
      "Epoch 5 / 10 ===========================>\n",
      "Train Accuracy Char: 77.5222, Train Average Loss: 0.7421\n",
      "Validation Accuracy Char: 74.9737, Validation Average Loss: 0.8302\n",
      "Beam Val Word Accuracy: 39.9036 Correct Prediction : 1739/4358\n"
     ]
    },
    {
     "name": "stderr",
     "output_type": "stream",
     "text": [
      "100%|██████████| 1382/1382 [01:23<00:00, 16.62it/s]\n",
      "100%|██████████| 137/137 [00:01<00:00, 72.39it/s]\n",
      "100%|██████████| 4358/4358 [02:18<00:00, 31.45it/s]\n"
     ]
    },
    {
     "name": "stdout",
     "output_type": "stream",
     "text": [
      "Epoch 6 / 10 ===========================>\n",
      "Train Accuracy Char: 78.2174, Train Average Loss: 0.7139\n",
      "Validation Accuracy Char: 75.8653, Validation Average Loss: 0.8052\n",
      "Beam Val Word Accuracy: 41.1886 Correct Prediction : 1795/4358\n"
     ]
    },
    {
     "name": "stderr",
     "output_type": "stream",
     "text": [
      "100%|██████████| 1382/1382 [01:22<00:00, 16.66it/s]\n",
      "100%|██████████| 137/137 [00:01<00:00, 72.88it/s]\n",
      "100%|██████████| 4358/4358 [02:18<00:00, 31.56it/s]\n"
     ]
    },
    {
     "name": "stdout",
     "output_type": "stream",
     "text": [
      "Epoch 7 / 10 ===========================>\n",
      "Train Accuracy Char: 78.9606, Train Average Loss: 0.6872\n",
      "Validation Accuracy Char: 76.3637, Validation Average Loss: 0.7925\n",
      "Beam Val Word Accuracy: 42.5425 Correct Prediction : 1854/4358\n"
     ]
    },
    {
     "name": "stderr",
     "output_type": "stream",
     "text": [
      "100%|██████████| 1382/1382 [01:22<00:00, 16.68it/s]\n",
      "100%|██████████| 137/137 [00:01<00:00, 72.70it/s]\n",
      "100%|██████████| 4358/4358 [02:17<00:00, 31.60it/s]\n"
     ]
    },
    {
     "name": "stdout",
     "output_type": "stream",
     "text": [
      "Epoch 8 / 10 ===========================>\n",
      "Train Accuracy Char: 79.3597, Train Average Loss: 0.6714\n",
      "Validation Accuracy Char: 76.3123, Validation Average Loss: 0.8012\n",
      "Beam Val Word Accuracy: 42.7490 Correct Prediction : 1863/4358\n"
     ]
    },
    {
     "name": "stderr",
     "output_type": "stream",
     "text": [
      "100%|██████████| 1382/1382 [01:22<00:00, 16.71it/s]\n",
      "100%|██████████| 137/137 [00:01<00:00, 72.90it/s]\n",
      "100%|██████████| 4358/4358 [02:18<00:00, 31.35it/s]\n"
     ]
    },
    {
     "name": "stdout",
     "output_type": "stream",
     "text": [
      "Epoch 9 / 10 ===========================>\n",
      "Train Accuracy Char: 79.7300, Train Average Loss: 0.6565\n",
      "Validation Accuracy Char: 76.9444, Validation Average Loss: 0.7762\n",
      "Beam Val Word Accuracy: 43.5750 Correct Prediction : 1899/4358\n"
     ]
    },
    {
     "name": "stderr",
     "output_type": "stream",
     "text": [
      "100%|██████████| 1382/1382 [01:22<00:00, 16.67it/s]\n",
      "100%|██████████| 137/137 [00:01<00:00, 73.28it/s]\n",
      "100%|██████████| 4358/4358 [02:18<00:00, 31.36it/s]"
     ]
    },
    {
     "name": "stdout",
     "output_type": "stream",
     "text": [
      "Epoch 10 / 10 ===========================>\n",
      "Train Accuracy Char: 79.9206, Train Average Loss: 0.6470\n",
      "Validation Accuracy Char: 76.5230, Validation Average Loss: 0.7920\n",
      "Beam Val Word Accuracy: 43.6668 Correct Prediction : 1903/4358\n"
     ]
    },
    {
     "name": "stderr",
     "output_type": "stream",
     "text": [
      "\n"
     ]
    }
   ],
   "source": [
    "# Load Dataset\n",
    "df_train, train_input_len, train_out_len = load_dataset('/kaggle/input/dakshina-dataset-ass-3/dakshina_dataset_v1.0/hi/lexicons/hi.translit.sampled.train.tsv')\n",
    "df_val, val_input_len, val_out_len = load_dataset('/kaggle/input/dakshina-dataset-ass-3/dakshina_dataset_v1.0/hi/lexicons/hi.translit.sampled.dev.tsv')\n",
    "df_test, test_input_len, test_out_len = load_dataset('/kaggle/input/dakshina-dataset-ass-3/dakshina_dataset_v1.0/hi/lexicons/hi.translit.sampled.test.tsv')\n",
    "\n",
    "input_max_len = max(train_input_len, val_input_len, test_input_len)\n",
    "output_max_len = max(train_out_len, val_out_len, test_out_len)\n",
    "\n",
    "max_length = max(input_max_len, output_max_len)\n",
    "\n",
    "# Create Look Up Table\n",
    "input_char_to_int, input_int_to_char = look_up_table(df_train[0], df_val[0], df_test[0])\n",
    "output_char_to_int, output_int_to_char = look_up_table(df_train[1], df_val[1], df_test[1])\n",
    "\n",
    "# NOW define parameters after lookup tables are created\n",
    "params = {\n",
    "    \"input_size\": len(input_char_to_int),\n",
    "    \"output_size\": len(output_char_to_int),\n",
    "    \"embedding_size\": 256,\n",
    "    \"hidden_size\": 512,\n",
    "    \"enc_num_layers\": 2,\n",
    "    \"dec_num_layers\": 2,\n",
    "    \"cell_type\": \"GRU\", # LSTM, GRU, RNN\n",
    "    \"dropout\": 0.3,\n",
    "    \"learning_rate\": 0.01,\n",
    "    \"batch_size\": 32,\n",
    "    \"num_epochs\": 10,\n",
    "    \"optimizer\": 'adagrad',  # ['sgd', 'rmsprop', 'adam', 'nadam']\n",
    "    \"beam_search_width\" : 4,\n",
    "    \"length_penalty\" : 0.6,\n",
    "    \"bidirectional\": True,\n",
    "    \"teacher_forcing\": 0.7,\n",
    "}\n",
    "\n",
    "# Data Embedding and Converting them into Tensor\n",
    "train_inputs, train_outputs = get_tensor_object(df_train, max_length, max_length, input_char_to_int, output_char_to_int)\n",
    "val_inputs, val_outputs = get_tensor_object(df_val, max_length, max_length, input_char_to_int, output_char_to_int)\n",
    "test_inputs, test_outputs = get_tensor_object(df_test, max_length, max_length, input_char_to_int, output_char_to_int)\n",
    "\n",
    "# Transpose column wise\n",
    "train_inputs, train_outputs = torch.transpose(train_inputs, 0, 1), torch.transpose(train_outputs, 0, 1)\n",
    "val_inputs, val_outputs = torch.transpose(val_inputs, 0, 1), torch.transpose(val_outputs, 0, 1)\n",
    "test_inputs, test_outputs = torch.transpose(test_inputs, 0, 1), torch.transpose(test_outputs, 0, 1)\n",
    "\n",
    "# Extract parameters from the params dictionary\n",
    "input_size = params['input_size']\n",
    "output_size = params['output_size']\n",
    "embedding_size = params['embedding_size']\n",
    "hidden_size = params['hidden_size']\n",
    "enc_num_layers = params['enc_num_layers'] \n",
    "dec_num_layers = params['dec_num_layers']  \n",
    "cell_type = params['cell_type']\n",
    "dropout = params['dropout']\n",
    "learning_rate = params['learning_rate']\n",
    "batch_size = params['batch_size']\n",
    "num_epochs = params['num_epochs']  \n",
    "optimizer = params['optimizer']  \n",
    "beam_width = params['beam_search_width']\n",
    "bidirectional = params['bidirectional']\n",
    "length_penalty = params['length_penalty']\n",
    "teacher_forcing = params['teacher_forcing']\n",
    "\n",
    "# Create train data batch\n",
    "train_batch_x, train_batch_y = torch.split(train_inputs, batch_size, dim=1), torch.split(train_outputs, batch_size, dim=1)\n",
    "# Validation data batch\n",
    "val_batch_x, val_batch_y = torch.split(val_inputs, batch_size, dim=1), torch.split(val_outputs, batch_size, dim=1)\n",
    "\n",
    "# Initialize encoder, decoder and seq2seq model\n",
    "encoder = Encoder(input_size, embedding_size, hidden_size, enc_num_layers, dropout, bidirectional, cell_type).to(device)\n",
    "decoder = Decoder(output_size, embedding_size, hidden_size, output_size, dec_num_layers, dropout, bidirectional, cell_type).to(device)  \n",
    "model = Seq2Seq(encoder, decoder, output_char_to_int, teacher_forcing, cell_type).to(device)\n",
    "\n",
    "# Print total number of parameters in the model\n",
    "total_params = sum(p.numel() for p in model.parameters() if p.requires_grad)\n",
    "print(model)\n",
    "print(f'Total Trainable Parameters: {total_params}')\n",
    "\n",
    "# Loss function and Optimizer\n",
    "criterion = nn.CrossEntropyLoss()\n",
    "if optimizer == 'adam':\n",
    "    optimizer = optim.Adam(model.parameters(), lr=learning_rate)\n",
    "elif optimizer == 'sgd':\n",
    "    optimizer = optim.SGD(model.parameters(), lr=learning_rate)\n",
    "elif optimizer == 'rmsprop':\n",
    "    optimizer = optim.RMSprop(model.parameters(), lr=learning_rate)\n",
    "elif optimizer == 'nadam':\n",
    "    optimizer = optim.Adam(model.parameters(), lr=learning_rate)\n",
    "elif optimizer == 'adagrad':\n",
    "    optimizer = optim.Adagrad(model.parameters(), lr=learning_rate)\n",
    "else:\n",
    "    print(\"Incorrect Optimizer !!!!\")\n",
    "\n",
    "# TRAINING\n",
    "model, acc = train(model, num_epochs, criterion, optimizer, train_batch_x, train_batch_y, val_batch_x, val_batch_y, df_val, input_char_to_int, output_char_to_int, output_int_to_char, beam_width, length_penalty, cell_type, max_length, 0)"
   ]
  },
  {
   "cell_type": "markdown",
   "metadata": {},
   "source": [
    "## TEST PREDICTON"
   ]
  },
  {
   "cell_type": "code",
   "execution_count": 23,
   "metadata": {
    "execution": {
     "iopub.execute_input": "2025-05-18T18:37:01.086970Z",
     "iopub.status.busy": "2025-05-18T18:37:01.086764Z",
     "iopub.status.idle": "2025-05-18T18:37:01.091778Z",
     "shell.execute_reply": "2025-05-18T18:37:01.091118Z",
     "shell.execute_reply.started": "2025-05-18T18:37:01.086954Z"
    },
    "trusted": true
   },
   "outputs": [],
   "source": [
    "def store_results(data_type, words, translations, predictions, results):\n",
    "    \"\"\"\n",
    "    This function saves the evaluation results to a CSV file.\n",
    "\n",
    "    Args:\n",
    "        data_type (str): The type of data used for evaluation (e.g., 'val', 'test').\n",
    "        words (list): List of source words (without start/end tokens).\n",
    "        translations (list): List of reference translations (without start/end tokens).\n",
    "        predictions (list): List of predicted translated sequences (without start/end tokens).\n",
    "        results (list): List of 'Yes' or 'No' indicating correct/incorrect predictions.\n",
    "    \"\"\"\n",
    "\n",
    "    # Create a dictionary to store the results in a structured format\n",
    "    log = {\n",
    "        'Word': words,\n",
    "        'Translation': translations,\n",
    "        'Prediction': predictions,\n",
    "        'Result': results  # 'Yes' for correct, 'No' for incorrect\n",
    "    }\n",
    "    \n",
    "    # Construct the file path for the CSV file\n",
    "    path = '/kaggle/working/predictions.csv'\n",
    "\n",
    "    # Create a Pandas DataFrame from the dictionary\n",
    "    data_frame = pd.DataFrame(log)\n",
    "\n",
    "    # Save the DataFrame to a CSV file (header=True includes column names, index=False excludes row index)\n",
    "    data_frame.to_csv(path, header=True, index=False)\n",
    "    \n",
    "    # Log to wandb\n",
    "    wandb.init(project='DL_Assignment_3', name='Prediction_Store')\n",
    "\n",
    "    wandb.log({'Prediction_table': wandb.Table(dataframe= data_frame)})\n",
    "\n",
    "    wandb.finish()"
   ]
  },
  {
   "cell_type": "code",
   "execution_count": 24,
   "metadata": {
    "execution": {
     "iopub.execute_input": "2025-05-18T18:37:01.092673Z",
     "iopub.status.busy": "2025-05-18T18:37:01.092448Z",
     "iopub.status.idle": "2025-05-18T18:39:22.481044Z",
     "shell.execute_reply": "2025-05-18T18:39:22.480396Z",
     "shell.execute_reply.started": "2025-05-18T18:37:01.092659Z"
    },
    "trusted": true
   },
   "outputs": [
    {
     "name": "stderr",
     "output_type": "stream",
     "text": [
      "100%|██████████| 4502/4502 [02:21<00:00, 31.85it/s]"
     ]
    },
    {
     "name": "stdout",
     "output_type": "stream",
     "text": [
      "Test Accuracy Word Level: 42.714349178143046, Correctly Predicted: 1923\n"
     ]
    },
    {
     "name": "stderr",
     "output_type": "stream",
     "text": [
      "\n"
     ]
    }
   ],
   "source": [
    "\n",
    "test_acc = 0\n",
    "correct_pred = 0\n",
    "words_test = [] \n",
    "translations_test = [] \n",
    "predictions_test = []\n",
    "results_test = []\n",
    "\n",
    "for i in tqdm(range(df_test.shape[0])):\n",
    "    input_seq = df_test.iloc[i, 0][:-1] \n",
    "    true_seq = df_test.iloc[i, 1][1:-1]\n",
    "    predicted_output = beam_search(model, input_seq, max_length, input_char_to_int, output_char_to_int, output_int_to_char, beam_width, length_penalty, cell_type)\n",
    "    words_test.append(input_seq)\n",
    "    translations_test.append(true_seq)\n",
    "    predictions_test.append(predicted_output[:-1])\n",
    "    if true_seq == predicted_output[:-1]:\n",
    "        correct_pred += 1\n",
    "        results_test.append('Yes')\n",
    "    else:\n",
    "        results_test.append('No')\n",
    "\n",
    "test_acc = 100 * correct_pred / df_test.shape[0]   \n",
    "\n",
    "print(f'Test Accuracy Word Level: {test_acc}, Correctly Predicted: {correct_pred}')\n",
    "#store_results('test', words_test, translations_test, predictions_test, results_test)"
   ]
  },
  {
   "cell_type": "markdown",
   "metadata": {},
   "source": [
    "## Prediction"
   ]
  }
 ],
 "metadata": {
  "kaggle": {
   "accelerator": "nvidiaTeslaT4",
   "dataSources": [
    {
     "datasetId": 7422871,
     "sourceId": 11817792,
     "sourceType": "datasetVersion"
    }
   ],
   "dockerImageVersionId": 31041,
   "isGpuEnabled": true,
   "isInternetEnabled": true,
   "language": "python",
   "sourceType": "notebook"
  },
  "kernelspec": {
   "display_name": "Python 3",
   "language": "python",
   "name": "python3"
  },
  "language_info": {
   "codemirror_mode": {
    "name": "ipython",
    "version": 3
   },
   "file_extension": ".py",
   "mimetype": "text/x-python",
   "name": "python",
   "nbconvert_exporter": "python",
   "pygments_lexer": "ipython3",
   "version": "3.11.11"
  }
 },
 "nbformat": 4,
 "nbformat_minor": 4
}
